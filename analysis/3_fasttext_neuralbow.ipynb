{
 "cells": [
  {
   "cell_type": "markdown",
   "metadata": {},
   "source": [
    "# 3) NeuralBOW & Facebook Fasttext"
   ]
  },
  {
   "cell_type": "markdown",
   "metadata": {},
   "source": [
    "## Load Dataset and Variables"
   ]
  },
  {
   "cell_type": "code",
   "execution_count": 2,
   "metadata": {},
   "outputs": [],
   "source": [
    "import pandas as pd\n",
    "import pickle"
   ]
  },
  {
   "cell_type": "code",
   "execution_count": 3,
   "metadata": {},
   "outputs": [
    {
     "data": {
      "text/plain": [
       "{'Rachel': 0, 'Ross': 1, 'Chandler': 2, 'Monica': 3, 'Joey': 4, 'Phoebe': 5}"
      ]
     },
     "execution_count": 3,
     "metadata": {},
     "output_type": "execute_result"
    }
   ],
   "source": [
    "# Load the data\n",
    "\n",
    "major_dialog_data = pd.read_pickle(\"./datasets/major_dialog_data.pkl\")\n",
    "all_dialog_data = pd.read_pickle(\"./datasets/all_dialog_data.pkl\")\n",
    "\n",
    "with open('./datasets/utterances.pkl', 'rb') as f:\n",
    "    utterances = pickle.load(f)\n",
    "    \n",
    "with open('./datasets/stop_words.pkl', 'rb') as f:\n",
    "    stop_words = pickle.load(f)\n",
    "\n",
    "# Pre-process the data similarly to workbook 0\n",
    "\n",
    "labels = major_dialog_data.speaker\n",
    "\n",
    "speaker_value_counts = all_dialog_data.speaker.value_counts()\n",
    "major_speaker_value_counts = speaker_value_counts[speaker_value_counts > 40]\n",
    "x, y = major_speaker_value_counts.index, major_speaker_value_counts.values\n",
    "\n",
    "num_major_characters = 6\n",
    "\n",
    "# a list of the top characters names\n",
    "major_characters = x[:num_major_characters]\n",
    "# a set of those same names\n",
    "major_characters_set = set(major_characters)\n",
    "\n",
    "# finally, dicts to and from class Ids and their respective names\n",
    "labels_to_ids = {}\n",
    "ids_to_labels = {}\n",
    "for i, major_character in enumerate(major_characters):\n",
    "    labels_to_ids[major_character] = i\n",
    "    ids_to_labels[i] = major_character\n",
    "labels_to_ids"
   ]
  },
  {
   "cell_type": "markdown",
   "metadata": {},
   "source": [
    "## Model - Facebook Fasttext\n",
    "[https://arxiv.org/abs/1607.01759](https://arxiv.org/abs/1607.01759)\n",
    "\n",
    "This is a simple model with a word embedding layer followed by one hidden fully-connected layer. For this model, we'll train our own embeddings with an embedding dimension of 10. By training the embeddings from scratch, we might achieve more tailored embeddings for this particular corpus. We also use our own vocabulary. We'll include all words that appear in the training corpus 3 or more times."
   ]
  },
  {
   "cell_type": "code",
   "execution_count": 31,
   "metadata": {},
   "outputs": [],
   "source": [
    "import math\n",
    "import models.fasttext as fasttext\n",
    "import numpy as np\n",
    "import re\n",
    "import string\n",
    "import tensorflow as tf\n",
    "\n",
    "from collections import Counter, defaultdict\n",
    "from datetime import datetime\n",
    "from importlib import reload\n",
    "from nltk.stem import PorterStemmer\n",
    "from sklearn.metrics import confusion_matrix, classification_report\n",
    "from util import shuffle, batch_iter, conf_matrix_plot\n",
    "\n",
    "reload(fasttext)"
   ]
  },
  {
   "cell_type": "code",
   "execution_count": 10,
   "metadata": {},
   "outputs": [],
   "source": [
    "counter = Counter()\n",
    "stemmer = PorterStemmer()\n",
    "\n",
    "# manully tokenize the sentences\n",
    "custom_tokenized = []\n",
    "for utterance in major_dialog_data.utterance:\n",
    "    words = re.findall(r\"[a-z0-9']+\", utterance.lower())\n",
    "    # remove dangling apostrophes and 's at the end of words\n",
    "    words = [re.sub(r\"'s?$\", \"\", stemmer.stem(word)) for word in words]\n",
    "    custom_tokenized.append(words)\n",
    "\n",
    "# count all the tokens\n",
    "for utterance in custom_tokenized:\n",
    "    counter.update(word for word in utterance if word not in string.punctuation)\n",
    "\n",
    "# filter to words of counts greater than 2\n",
    "vocab = [k for k, v in counter.most_common() if v > 2]\n",
    "\n",
    "# assign IDs to the words\n",
    "vocab_word_to_id = defaultdict(lambda: -1)\n",
    "vocab_id_to_word = {}\n",
    "for i, word in enumerate(vocab):\n",
    "    vocab_id_to_word[i] = word\n",
    "    vocab_word_to_id[word] = i"
   ]
  },
  {
   "cell_type": "code",
   "execution_count": 16,
   "metadata": {},
   "outputs": [],
   "source": [
    "train_cut = math.ceil(major_dialog_data.utterance.count() * 0.85)\n",
    "\n",
    "label_ids = np.array([labels_to_ids[label] for label in labels])\n",
    "train_x_fasttext = custom_tokenized[:train_cut]\n",
    "train_y_fasttext = label_ids[:train_cut]\n",
    "test_x_fasttext = custom_tokenized[train_cut:]\n",
    "test_y_fasttext = label_ids[train_cut:]\n",
    "\n",
    "train_x_fasttext = np.array([\" \".join(words) for words in train_x_fasttext])\n",
    "test_x_fasttext = np.array([\" \".join(words) for words in test_x_fasttext])"
   ]
  },
  {
   "cell_type": "code",
   "execution_count": 23,
   "metadata": {},
   "outputs": [],
   "source": [
    "tf.reset_default_graph()\n",
    "fasttext_model = fasttext.FastText(vocab, num_major_characters, regularize_coef=0.1)"
   ]
  },
  {
   "cell_type": "code",
   "execution_count": 28,
   "metadata": {},
   "outputs": [
    {
     "name": "stdout",
     "output_type": "stream",
     "text": [
      "2018-12-05 07:06:27.837096 epoch number: 1\n",
      "test accuracy = 0.1978\n",
      "2018-12-05 07:06:30.752671 epoch number: 2\n",
      "test accuracy = 0.1946\n",
      "2018-12-05 07:06:31.900275 epoch number: 3\n",
      "test accuracy = 0.1877\n",
      "2018-12-05 07:06:32.961372 epoch number: 4\n",
      "test accuracy = 0.1881\n",
      "2018-12-05 07:06:33.933658 epoch number: 5\n",
      "test accuracy = 0.1888\n",
      "2018-12-05 07:06:34.880034 epoch number: 6\n",
      "test accuracy = 0.1887\n",
      "2018-12-05 07:06:35.816147 epoch number: 7\n",
      "test accuracy = 0.1937\n",
      "2018-12-05 07:06:36.775008 epoch number: 8\n",
      "test accuracy = 0.1945\n",
      "2018-12-05 07:06:37.781838 epoch number: 9\n",
      "test accuracy = 0.2053\n",
      "2018-12-05 07:06:38.921675 epoch number: 10\n",
      "test accuracy = 0.2075\n",
      "2018-12-05 07:06:39.831132 epoch number: 11\n",
      "test accuracy = 0.2178\n",
      "2018-12-05 07:06:41.034571 epoch number: 12\n",
      "test accuracy = 0.2155\n",
      "2018-12-05 07:06:42.150120 epoch number: 13\n",
      "test accuracy = 0.2238\n",
      "2018-12-05 07:06:43.405399 epoch number: 14\n",
      "test accuracy = 0.2265\n",
      "2018-12-05 07:06:44.454517 epoch number: 15\n",
      "test accuracy = 0.2361\n",
      "2018-12-05 07:06:45.443697 epoch number: 16\n",
      "test accuracy = 0.2399\n",
      "2018-12-05 07:06:46.516885 epoch number: 17\n",
      "test accuracy = 0.2357\n",
      "2018-12-05 07:06:47.527353 epoch number: 18\n",
      "test accuracy = 0.2398\n",
      "2018-12-05 07:06:48.500501 epoch number: 19\n",
      "test accuracy = 0.2396\n",
      "2018-12-05 07:06:49.489578 epoch number: 20\n",
      "test accuracy = 0.2474\n",
      "2018-12-05 07:06:50.429014 epoch number: 21\n",
      "test accuracy = 0.2522\n",
      "2018-12-05 07:06:51.369482 epoch number: 22\n",
      "test accuracy = 0.2473\n",
      "2018-12-05 07:06:52.647199 epoch number: 23\n",
      "test accuracy = 0.2476\n",
      "2018-12-05 07:06:53.666674 epoch number: 24\n",
      "test accuracy = 0.2521\n",
      "2018-12-05 07:06:54.593370 epoch number: 25\n",
      "test accuracy = 0.2547\n",
      "2018-12-05 07:06:55.567895 epoch number: 26\n",
      "test accuracy = 0.2538\n",
      "2018-12-05 07:06:56.498241 epoch number: 27\n",
      "test accuracy = 0.2541\n",
      "2018-12-05 07:06:57.411921 epoch number: 28\n",
      "test accuracy = 0.2583\n",
      "2018-12-05 07:06:58.564437 epoch number: 29\n",
      "test accuracy = 0.2557\n",
      "2018-12-05 07:06:59.593257 epoch number: 30\n",
      "test accuracy = 0.2561\n",
      "2018-12-05 07:07:00.714528 epoch number: 31\n",
      "test accuracy = 0.2615\n",
      "2018-12-05 07:07:01.925129 epoch number: 32\n",
      "test accuracy = 0.2571\n",
      "2018-12-05 07:07:03.007921 epoch number: 33\n",
      "test accuracy = 0.2609\n",
      "2018-12-05 07:07:04.160928 epoch number: 34\n",
      "test accuracy = 0.2594\n",
      "2018-12-05 07:07:06.230287 epoch number: 35\n",
      "test accuracy = 0.2605\n",
      "2018-12-05 07:07:10.396346 epoch number: 36\n",
      "test accuracy = 0.2635\n",
      "2018-12-05 07:07:13.281439 epoch number: 37\n",
      "test accuracy = 0.2636\n",
      "2018-12-05 07:07:15.894117 epoch number: 38\n",
      "test accuracy = 0.2635\n",
      "2018-12-05 07:07:20.276130 epoch number: 39\n",
      "test accuracy = 0.2651\n",
      "2018-12-05 07:07:21.962673 epoch number: 40\n",
      "test accuracy = 0.2654\n"
     ]
    }
   ],
   "source": [
    "display_step = 20\n",
    "num_epochs = 40\n",
    "batch_size = 128\n",
    "\n",
    "train_writer = tf.summary.FileWriter(\"./fasttext-board/train\")\n",
    "test_writer = tf.summary.FileWriter(\"./fasttext-board/test\")\n",
    "saver = tf.train.Saver()\n",
    "\n",
    "with tf.Session() as sess:\n",
    "    sess.run(tf.global_variables_initializer())\n",
    "    sess.run(tf.tables_initializer())\n",
    "    train_writer.add_graph(sess.graph)\n",
    "    \n",
    "    global_step = 0\n",
    "    X = fasttext_model.X\n",
    "    Y = fasttext_model.Y\n",
    "\n",
    "    for epoch in range(num_epochs):\n",
    "        print(\"{} epoch number: {}\".format(datetime.now(), epoch + 1))\n",
    "        train_x_fasttext, train_y_fasttext = shuffle(train_x_fasttext, train_y_fasttext)\n",
    "        \n",
    "        for step, x_batch, y_batch in batch_iter(train_x_fasttext, train_y_fasttext, batch_size):\n",
    "            global_step += 1\n",
    "            sess.run(fasttext_model.train_op, feed_dict={ X: x_batch, Y: y_batch })\n",
    "\n",
    "            # every so often, report the progress of our loss and training accuracy\n",
    "            if step % display_step == 0:\n",
    "                summ = sess.run(fasttext_model.merged_summary, feed_dict={ X: x_batch, Y: y_batch })\n",
    "                train_writer.add_summary(summ, global_step=global_step)\n",
    "                train_writer.flush()\n",
    "\n",
    "        test_acc, summ = sess.run([fasttext_model.accuracy, fasttext_model.merged_summary], feed_dict={ X: test_x_fasttext, Y: test_y_fasttext })\n",
    "        test_writer.add_summary(summ, global_step=global_step)\n",
    "        test_writer.flush()\n",
    "        print(\"test accuracy = {:.4f}\".format(test_acc))\n",
    "    \n",
    "    # save the model to disk so we can load it up later for use by `./eval.py`\n",
    "    saver.save(sess, \"./fasttext-ckpt/model.ckpt\")"
   ]
  },
  {
   "cell_type": "markdown",
   "metadata": {},
   "source": [
    "This model is only slightly better. It looks like training embeddings from scratch doesn't help."
   ]
  },
  {
   "cell_type": "markdown",
   "metadata": {},
   "source": [
    "### FastText Evaluation"
   ]
  },
  {
   "cell_type": "code",
   "execution_count": 32,
   "metadata": {},
   "outputs": [
    {
     "name": "stdout",
     "output_type": "stream",
     "text": [
      "INFO:tensorflow:Restoring parameters from ./fasttext-ckpt/model.ckpt\n",
      "              precision    recall  f1-score   support\n",
      "\n",
      "      Rachel       0.27      0.48      0.35      1292\n",
      "        Ross       0.28      0.28      0.28      1290\n",
      "    Chandler       0.25      0.18      0.21      1173\n",
      "      Monica       0.23      0.27      0.25      1115\n",
      "        Joey       0.28      0.29      0.29      1081\n",
      "      Phoebe       0.28      0.02      0.03       960\n",
      "\n",
      "   micro avg       0.27      0.27      0.27      6911\n",
      "   macro avg       0.27      0.25      0.23      6911\n",
      "weighted avg       0.27      0.27      0.24      6911\n",
      "\n"
     ]
    },
    {
     "data": {
      "image/png": "[encoded data removed]",
      "text/plain": [
       "<Figure size 720x504 with 2 Axes>"
      ]
     },
     "metadata": {
      "needs_background": "light"
     },
     "output_type": "display_data"
    }
   ],
   "source": [
    "saver = tf.train.Saver()\n",
    "\n",
    "with tf.Session() as sess:\n",
    "    saver.restore(sess, \"./fasttext-ckpt/model.ckpt\")\n",
    "    sess.run(tf.tables_initializer())\n",
    "    fasttext_test_preds = sess.run(fasttext_model.predictions, feed_dict={ fasttext_model.X: test_x_fasttext })\n",
    "    \n",
    "print(classification_report(test_y_fasttext, fasttext_test_preds, target_names=major_characters))\n",
    "\n",
    "conf_matrix_plot(confusion_matrix(test_y_fasttext, fasttext_test_preds), major_characters)"
   ]
  },
  {
   "cell_type": "code",
   "execution_count": null,
   "metadata": {},
   "outputs": [],
   "source": []
  }
 ],
 "metadata": {
  "kernelspec": {
   "display_name": "Python 3",
   "language": "python",
   "name": "python3"
  },
  "language_info": {
   "codemirror_mode": {
    "name": "ipython",
    "version": 3
   },
   "file_extension": ".py",
   "mimetype": "text/x-python",
   "name": "python",
   "nbconvert_exporter": "python",
   "pygments_lexer": "ipython3",
   "version": "3.6.5"
  }
 },
 "nbformat": 4,
 "nbformat_minor": 2
}
