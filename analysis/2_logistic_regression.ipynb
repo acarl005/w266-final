{
 "cells": [
  {
   "cell_type": "markdown",
   "metadata": {},
   "source": [
    "# 2) Logistic Regression"
   ]
  },
  {
   "cell_type": "markdown",
   "metadata": {},
   "source": [
    "## Load Dataset and Variables"
   ]
  },
  {
   "cell_type": "code",
   "execution_count": 1,
   "metadata": {},
   "outputs": [],
   "source": [
    "import pandas as pd\n",
    "import pickle"
   ]
  },
  {
   "cell_type": "code",
   "execution_count": 8,
   "metadata": {},
   "outputs": [
    {
     "data": {
      "text/plain": [
       "{'Rachel': 0, 'Ross': 1, 'Chandler': 2, 'Monica': 3, 'Joey': 4, 'Phoebe': 5}"
      ]
     },
     "execution_count": 8,
     "metadata": {},
     "output_type": "execute_result"
    }
   ],
   "source": [
    "# Load the data\n",
    "\n",
    "major_dialog_data = pd.read_pickle(\"./datasets/major_dialog_data.pkl\")\n",
    "all_dialog_data = pd.read_pickle(\"./datasets/all_dialog_data.pkl\")\n",
    "\n",
    "with open('./datasets/utterances.pkl', 'rb') as f:\n",
    "    utterances = pickle.load(f)\n",
    "    \n",
    "with open('./datasets/stop_words.pkl', 'rb') as f:\n",
    "    stop_words = pickle.load(f)\n",
    "\n",
    "# Pre-process the data similarly to workbook 0\n",
    "\n",
    "labels = major_dialog_data.speaker\n",
    "\n",
    "speaker_value_counts = all_dialog_data.speaker.value_counts()\n",
    "major_speaker_value_counts = speaker_value_counts[speaker_value_counts > 40]\n",
    "x, y = major_speaker_value_counts.index, major_speaker_value_counts.values\n",
    "\n",
    "num_major_characters = 6\n",
    "\n",
    "# a list of the top characters names\n",
    "major_characters = x[:num_major_characters]\n",
    "# a set of those same names\n",
    "major_characters_set = set(major_characters)\n",
    "\n",
    "# finally, dicts to and from class Ids and their respective names\n",
    "labels_to_ids = {}\n",
    "ids_to_labels = {}\n",
    "for i, major_character in enumerate(major_characters):\n",
    "    labels_to_ids[major_character] = i\n",
    "    ids_to_labels[i] = major_character\n",
    "labels_to_ids"
   ]
  },
  {
   "cell_type": "markdown",
   "metadata": {},
   "source": [
    "## Logistic Regression over BOW\n",
    "\n",
    "Pretty much the next simplest model we could use. This will serve as a good baseline. It just uses pre-trained Word2Vec and its vocabulary.\n",
    "\n",
    "This is a \"bag of vectors\" model. That is, it converts the sequence to their embeddings and then averages them together to generate a fixed-length vector for each sequence. Then, the vector is passed to a one-vs-all logistic regression."
   ]
  },
  {
   "cell_type": "code",
   "execution_count": 3,
   "metadata": {},
   "outputs": [],
   "source": [
    "import math\n",
    "import numpy as np\n",
    "import os, sys\n",
    "import urllib.request\n",
    "\n",
    "from gensim.models import KeyedVectors\n",
    "from pathlib import Path\n",
    "from sklearn.linear_model import LogisticRegression\n",
    "from sklearn.metrics import confusion_matrix, classification_report\n",
    "from util import shuffle, batch_iter, conf_matrix_plot"
   ]
  },
  {
   "cell_type": "markdown",
   "metadata": {},
   "source": [
    "#### Load embeddings"
   ]
  },
  {
   "cell_type": "code",
   "execution_count": 4,
   "metadata": {},
   "outputs": [],
   "source": [
    "root_path = Path().resolve().joinpath(\"..\")\n",
    "\n",
    "embeddings_path = root_path.joinpath(\"embeddings\", \"newscrawl.300d.W.pos.vectors.gz\")\n",
    "embeddings_url = \"https://www.dropbox.com/s/kguufyc2xcdi8yk/lexvec.enwiki%2Bnewscrawl.300d.W.pos.vectors.gz?dl=1\"\n",
    "\n",
    "# downloads the Word2Vec embeddings (only need to run once)\n",
    "if not os.path.isfile(embeddings_path):\n",
    "    print(\"downloading embeddings...\")\n",
    "    urllib.request.urlretrieve(embeddings_url, embeddings_path)\n",
    "\n",
    "# Uncomment below to unzip file\n",
    "# !gunzip {str(embeddings_path)}"
   ]
  },
  {
   "cell_type": "code",
   "execution_count": 5,
   "metadata": {},
   "outputs": [],
   "source": [
    "# load the vocabulary with the embeddings\n",
    "embeddings = KeyedVectors.load_word2vec_format(root_path.joinpath(\"embeddings\", \"newscrawl.300d.W.pos.vectors\"), binary=False)"
   ]
  },
  {
   "cell_type": "markdown",
   "metadata": {},
   "source": [
    "#### Train Model"
   ]
  },
  {
   "cell_type": "code",
   "execution_count": 9,
   "metadata": {},
   "outputs": [
    {
     "name": "stdout",
     "output_type": "stream",
     "text": [
      "(39168, 300) (4217, 300)\n"
     ]
    }
   ],
   "source": [
    "non_empty_utterances = []\n",
    "non_empty_utterance_labels = []\n",
    "\n",
    "for i, utterance in enumerate(utterances):\n",
    "    words = [word for word in utterance if word in embeddings.vocab and word not in stop_words]\n",
    "    if len(words) > 0:\n",
    "        non_empty_utterances.append(words)\n",
    "        non_empty_utterance_labels.append(labels.iloc[i])\n",
    "\n",
    "bags = np.zeros((len(non_empty_utterances), embeddings.vector_size))\n",
    "\n",
    "for i, utterance in enumerate(non_empty_utterances):\n",
    "    words = [word for word in utterance if word in embeddings.vocab]\n",
    "    vectors = np.zeros((len(words), embeddings.vector_size))\n",
    "    for j, word in enumerate(words):\n",
    "        vectors[j, :] = embeddings.word_vec(word)\n",
    "    bag = np.mean(vectors, axis=0)\n",
    "    bags[i, :] = bag\n",
    "\n",
    "train_cut = math.ceil(major_dialog_data.utterance.count() * 0.85)\n",
    "train_x = bags[0:train_cut]\n",
    "train_y = non_empty_utterance_labels[0:train_cut]\n",
    "test_x = bags[train_cut:]\n",
    "test_y = non_empty_utterance_labels[train_cut:]\n",
    "\n",
    "print(train_x.shape, test_x.shape)"
   ]
  },
  {
   "cell_type": "code",
   "execution_count": 10,
   "metadata": {},
   "outputs": [
    {
     "name": "stderr",
     "output_type": "stream",
     "text": [
      "/opt/conda/lib/python3.6/site-packages/sklearn/linear_model/logistic.py:432: FutureWarning: Default solver will be changed to 'lbfgs' in 0.22. Specify a solver to silence this warning.\n",
      "  FutureWarning)\n"
     ]
    },
    {
     "name": "stdout",
     "output_type": "stream",
     "text": [
      "0.276731004902\n"
     ]
    }
   ],
   "source": [
    "model = LogisticRegression(multi_class=\"ovr\")\n",
    "model.fit(train_x, train_y)\n",
    "print(model.score(train_x, train_y))"
   ]
  },
  {
   "cell_type": "code",
   "execution_count": 11,
   "metadata": {},
   "outputs": [
    {
     "name": "stdout",
     "output_type": "stream",
     "text": [
      "0.255869101257\n",
      "              precision    recall  f1-score   support\n",
      "\n",
      "    Chandler       0.26      0.24      0.25       704\n",
      "        Joey       0.25      0.26      0.25       676\n",
      "      Monica       0.23      0.22      0.23       689\n",
      "      Phoebe       0.25      0.10      0.14       610\n",
      "      Rachel       0.27      0.43      0.33       757\n",
      "        Ross       0.26      0.25      0.25       781\n",
      "\n",
      "   micro avg       0.26      0.26      0.26      4217\n",
      "   macro avg       0.25      0.25      0.24      4217\n",
      "weighted avg       0.25      0.26      0.25      4217\n",
      "\n"
     ]
    },
    {
     "data": {
      "image/png": "[encoded data removed]",
      "text/plain": [
       "<Figure size 720x504 with 2 Axes>"
      ]
     },
     "metadata": {
      "needs_background": "light"
     },
     "output_type": "display_data"
    }
   ],
   "source": [
    "base_test_preds = model.predict(test_x)\n",
    "print(np.mean(base_test_preds == test_y))\n",
    "print(classification_report(test_y, base_test_preds))\n",
    "conf_matrix_plot(confusion_matrix(test_y, base_test_preds), major_characters)"
   ]
  },
  {
   "cell_type": "code",
   "execution_count": null,
   "metadata": {},
   "outputs": [],
   "source": []
  }
 ],
 "metadata": {
  "kernelspec": {
   "display_name": "Python 3",
   "language": "python",
   "name": "python3"
  },
  "language_info": {
   "codemirror_mode": {
    "name": "ipython",
    "version": 3
   },
   "file_extension": ".py",
   "mimetype": "text/x-python",
   "name": "python",
   "nbconvert_exporter": "python",
   "pygments_lexer": "ipython3",
   "version": "3.6.5"
  }
 },
 "nbformat": 4,
 "nbformat_minor": 2
}
