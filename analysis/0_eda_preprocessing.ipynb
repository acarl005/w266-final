{
 "cells": [
  {
   "cell_type": "markdown",
   "metadata": {},
   "source": [
    "# 0) EDA"
   ]
  },
  {
   "cell_type": "markdown",
   "metadata": {},
   "source": [
    "## Load Dataset"
   ]
  },
  {
   "cell_type": "code",
   "execution_count": 1,
   "metadata": {},
   "outputs": [],
   "source": [
    "import nltk\n",
    "import os, sys\n",
    "import pandas as pd\n",
    "import pickle\n",
    "\n",
    "from matplotlib import pyplot as plt\n",
    "from nltk.corpus import stopwords\n",
    "from pathlib import Path"
   ]
  },
  {
   "cell_type": "code",
   "execution_count": 2,
   "metadata": {},
   "outputs": [],
   "source": [
    "tv_show = \"friends\""
   ]
  },
  {
   "cell_type": "code",
   "execution_count": 3,
   "metadata": {},
   "outputs": [
    {
     "name": "stdout",
     "output_type": "stream",
     "text": [
      "[nltk_data] Downloading package punkt to /home/ec2-user/nltk_data...\n",
      "[nltk_data]   Unzipping tokenizers/punkt.zip.\n",
      "[nltk_data] Downloading package stopwords to\n",
      "[nltk_data]     /home/ec2-user/nltk_data...\n",
      "[nltk_data]   Unzipping corpora/stopwords.zip.\n"
     ]
    }
   ],
   "source": [
    "nltk.download('punkt')\n",
    "nltk.download('stopwords')\n",
    "\n",
    "root_path = Path().resolve().joinpath(\"..\")\n",
    "show_data_path = root_path.joinpath(\"scrape\", \"data\", tv_show, \"parsed\")\n",
    "\n",
    "stop_words = set(stopwords.words('english'))"
   ]
  },
  {
   "cell_type": "markdown",
   "metadata": {},
   "source": [
    "## Load the Training Data"
   ]
  },
  {
   "cell_type": "code",
   "execution_count": 4,
   "metadata": {},
   "outputs": [],
   "source": [
    "dialog_datas = []\n",
    "\n",
    "# take all the separate CSV files and put them together into a single dataframe\n",
    "for filename in os.listdir(show_data_path):\n",
    "    dialog_data = pd.read_csv(show_data_path.joinpath(filename), header=None, names=(\"speaker\", \"utterance\"))\n",
    "    dialog_data[\"episode\"] = filename.split(\".\")[0]\n",
    "    dialog_datas.append(dialog_data)\n",
    "    \n",
    "all_dialog_data = pd.concat(dialog_datas) \\\n",
    "                    .dropna() \\\n",
    "                    .sample(frac=1) \\\n",
    "                    .reset_index(drop=True)"
   ]
  },
  {
   "cell_type": "code",
   "execution_count": 5,
   "metadata": {},
   "outputs": [
    {
     "name": "stdout",
     "output_type": "stream",
     "text": [
      "speaker      55025\n",
      "utterance    55025\n",
      "episode      55025\n",
      "dtype: int64\n"
     ]
    },
    {
     "data": {
      "text/html": [
       "<div>\n",
       "<style scoped>\n",
       "    .dataframe tbody tr th:only-of-type {\n",
       "        vertical-align: middle;\n",
       "    }\n",
       "\n",
       "    .dataframe tbody tr th {\n",
       "        vertical-align: top;\n",
       "    }\n",
       "\n",
       "    .dataframe thead th {\n",
       "        text-align: right;\n",
       "    }\n",
       "</style>\n",
       "<table border=\"1\" class=\"dataframe\">\n",
       "  <thead>\n",
       "    <tr style=\"text-align: right;\">\n",
       "      <th></th>\n",
       "      <th>speaker</th>\n",
       "      <th>utterance</th>\n",
       "      <th>episode</th>\n",
       "    </tr>\n",
       "  </thead>\n",
       "  <tbody>\n",
       "    <tr>\n",
       "      <th>0</th>\n",
       "      <td>Phoebe</td>\n",
       "      <td>Not that often!</td>\n",
       "      <td>0624</td>\n",
       "    </tr>\n",
       "    <tr>\n",
       "      <th>1</th>\n",
       "      <td>Monica</td>\n",
       "      <td>Okay, all right, I think you’re great, I think...</td>\n",
       "      <td>0401</td>\n",
       "    </tr>\n",
       "    <tr>\n",
       "      <th>2</th>\n",
       "      <td>Chandler</td>\n",
       "      <td>By then, the cheesecake may have gone bad. We ...</td>\n",
       "      <td>0711</td>\n",
       "    </tr>\n",
       "    <tr>\n",
       "      <th>3</th>\n",
       "      <td>Zack</td>\n",
       "      <td>No...</td>\n",
       "      <td>0922</td>\n",
       "    </tr>\n",
       "    <tr>\n",
       "      <th>4</th>\n",
       "      <td>Morse</td>\n",
       "      <td>Well maybe you can cut me some slack. I’m sort...</td>\n",
       "      <td>0718</td>\n",
       "    </tr>\n",
       "  </tbody>\n",
       "</table>\n",
       "</div>"
      ],
      "text/plain": [
       "    speaker                                          utterance episode\n",
       "0    Phoebe                                    Not that often!    0624\n",
       "1    Monica  Okay, all right, I think you’re great, I think...    0401\n",
       "2  Chandler  By then, the cheesecake may have gone bad. We ...    0711\n",
       "3      Zack                                              No...    0922\n",
       "4     Morse  Well maybe you can cut me some slack. I’m sort...    0718"
      ]
     },
     "execution_count": 5,
     "metadata": {},
     "output_type": "execute_result"
    }
   ],
   "source": [
    "print(all_dialog_data.count())\n",
    "all_dialog_data.head()"
   ]
  },
  {
   "cell_type": "markdown",
   "metadata": {},
   "source": [
    "## Data Pre-processing and Minor Analysis\n",
    "\n",
    "We'll count how many lines of dialog each character has. We need to subset the number of classes, taking only the top $n$ most common."
   ]
  },
  {
   "cell_type": "code",
   "execution_count": 6,
   "metadata": {},
   "outputs": [
    {
     "data": {
      "image/png": "[encoded data removed]",
      "text/plain": [
       "<Figure size 1080x360 with 1 Axes>"
      ]
     },
     "metadata": {},
     "output_type": "display_data"
    }
   ],
   "source": [
    "speaker_value_counts = all_dialog_data.speaker.value_counts()\n",
    "major_speaker_value_counts = speaker_value_counts[speaker_value_counts > 40]\n",
    "x, y = major_speaker_value_counts.index, major_speaker_value_counts.values\n",
    "\n",
    "fig = plt.figure(figsize=(15, 5))\n",
    "sub = fig.add_subplot(111)\n",
    "sub.bar(x, y)\n",
    "for tick in sub.get_xticklabels():\n",
    "    tick.set_rotation(90)\n",
    "plt.title(\"Number of Utterances per Character\")\n",
    "plt.show()"
   ]
  },
  {
   "cell_type": "markdown",
   "metadata": {},
   "source": [
    "The number of characters will be in the `num_major_characters` variable, and can be changed."
   ]
  },
  {
   "cell_type": "code",
   "execution_count": 7,
   "metadata": {},
   "outputs": [
    {
     "data": {
      "text/plain": [
       "{'Rachel': 0, 'Ross': 1, 'Chandler': 2, 'Monica': 3, 'Joey': 4, 'Phoebe': 5}"
      ]
     },
     "execution_count": 7,
     "metadata": {},
     "output_type": "execute_result"
    }
   ],
   "source": [
    "num_major_characters = 6\n",
    "\n",
    "# a list of the top characters names\n",
    "major_characters = x[:num_major_characters]\n",
    "# a set of those same names\n",
    "major_characters_set = set(major_characters)\n",
    "\n",
    "# finally, dicts to and from class Ids and their respective names\n",
    "labels_to_ids = {}\n",
    "ids_to_labels = {}\n",
    "for i, major_character in enumerate(major_characters):\n",
    "    labels_to_ids[major_character] = i\n",
    "    ids_to_labels[i] = major_character\n",
    "labels_to_ids"
   ]
  },
  {
   "cell_type": "markdown",
   "metadata": {},
   "source": [
    "Cut the data to only the major characters"
   ]
  },
  {
   "cell_type": "code",
   "execution_count": 8,
   "metadata": {},
   "outputs": [
    {
     "name": "stdout",
     "output_type": "stream",
     "text": [
      "speaker      46079\n",
      "utterance    46079\n",
      "episode      46079\n",
      "dtype: int64\n"
     ]
    }
   ],
   "source": [
    "major_dialog_data = all_dialog_data[all_dialog_data.speaker.isin(major_characters_set)]\n",
    "print(major_dialog_data.count())"
   ]
  },
  {
   "cell_type": "code",
   "execution_count": 9,
   "metadata": {},
   "outputs": [],
   "source": [
    "tokenizer = nltk.tokenize.TreebankWordTokenizer()\n",
    "\n",
    "labels = major_dialog_data.speaker\n",
    "\n",
    "# tokenize the data into a nested list\n",
    "utterances = [tokenizer.tokenize(utter.lower()) for utter in major_dialog_data.utterance]"
   ]
  },
  {
   "cell_type": "code",
   "execution_count": 10,
   "metadata": {},
   "outputs": [
    {
     "data": {
      "text/plain": [
       "Text(0.5,1,'Histogram of Utterance lengths')"
      ]
     },
     "execution_count": 10,
     "metadata": {},
     "output_type": "execute_result"
    },
    {
     "data": {
      "image/png": "[encoded data removed]",
      "text/plain": [
       "<Figure size 432x288 with 1 Axes>"
      ]
     },
     "metadata": {},
     "output_type": "display_data"
    }
   ],
   "source": [
    "plt.hist([len(words) for words in utterances], bins=60)\n",
    "plt.title(\"Histogram of Utterance lengths\")"
   ]
  },
  {
   "cell_type": "markdown",
   "metadata": {},
   "source": [
    "### Save dataset for other notebooks"
   ]
  },
  {
   "cell_type": "code",
   "execution_count": 11,
   "metadata": {},
   "outputs": [],
   "source": [
    "!mkdir -p datasets\n",
    "\n",
    "major_dialog_data.to_pickle(\"./datasets/major_dialog_data.pkl\")\n",
    "all_dialog_data.to_pickle(\"./datasets/all_dialog_data.pkl\")\n",
    "\n",
    "with open('./datasets/utterances.pkl', 'wb') as f:  \n",
    "    pickle.dump(utterances, f)\n",
    "    \n",
    "with open('./datasets/stop_words.pkl', 'wb') as f:\n",
    "    pickle.dump(stop_words, f)"
   ]
  },
  {
   "cell_type": "code",
   "execution_count": null,
   "metadata": {},
   "outputs": [],
   "source": []
  }
 ],
 "metadata": {
  "kernelspec": {
   "display_name": "conda_tensorflow_p36",
   "language": "python",
   "name": "conda_tensorflow_p36"
  },
  "language_info": {
   "codemirror_mode": {
    "name": "ipython",
    "version": 3
   },
   "file_extension": ".py",
   "mimetype": "text/x-python",
   "name": "python",
   "nbconvert_exporter": "python",
   "pygments_lexer": "ipython3",
   "version": "3.6.5"
  }
 },
 "nbformat": 4,
 "nbformat_minor": 2
}
