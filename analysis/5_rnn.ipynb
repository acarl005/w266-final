{
 "cells": [
  {
   "cell_type": "markdown",
   "metadata": {},
   "source": [
    "# 5) RNN"
   ]
  },
  {
   "cell_type": "markdown",
   "metadata": {},
   "source": [
    "## Model - RNN\n",
    "\n",
    "[http://www.aclweb.org/anthology/P16-2034](http://www.aclweb.org/anthology/P16-2034)\n",
    "\n",
    "Finally, a bidirectional RNN with attention. RNNs are nice for how they model sequences, but are very hard to interpret. This is why attention is useful. It adds some interpretability to these models, as the attention coefficients indicate the important parts of the input."
   ]
  },
  {
   "cell_type": "code",
   "execution_count": null,
   "metadata": {},
   "outputs": [],
   "source": [
    "max_seq_len = 32\n",
    "\n",
    "def embed_and_pad(utterances, embeddings, max_len):\n",
    "    embedded = np.zeros((utterances.shape[0], max_len, embeddings.vector_size))\n",
    "\n",
    "    for i, utterance in enumerate(utterances):\n",
    "        tokens = utterance.split(\" \")\n",
    "        for j in range(max_len):\n",
    "            if j < len(tokens) and tokens[j] in embeddings.vocab:\n",
    "                embedded[i, j, :] = embeddings.get_vector(tokens[j])\n",
    "            else:\n",
    "                embedded[i, j, :] = np.zeros((embeddings.vector_size))\n",
    "    return embedded\n",
    "\n",
    "train_x_rnn = embed_and_pad(train_x_cnn, embeddings, max_seq_len)\n",
    "test_x_rnn = embed_and_pad(test_x_cnn, embeddings, max_seq_len)"
   ]
  },
  {
   "cell_type": "code",
   "execution_count": null,
   "metadata": {},
   "outputs": [],
   "source": [
    "reload(rnn)\n",
    "tf.reset_default_graph()\n",
    "\n",
    "rnn_model = rnn.RNN(embeddings, num_major_characters, hidden_size=64, max_len=max_seq_len)"
   ]
  },
  {
   "cell_type": "code",
   "execution_count": null,
   "metadata": {},
   "outputs": [],
   "source": [
    "display_step = 20\n",
    "num_epochs = 10\n",
    "batch_size = 128\n",
    "\n",
    "train_writer = tf.summary.FileWriter(\"./rnn-board/train\")\n",
    "test_writer = tf.summary.FileWriter(\"./rnn-board/test\")\n",
    "saver = tf.train.Saver()\n",
    "\n",
    "with tf.Session() as sess:\n",
    "    sess.run(tf.global_variables_initializer())\n",
    "    train_writer.add_graph(sess.graph)\n",
    "    \n",
    "    global_step = 0\n",
    "    X = rnn_model.X\n",
    "    Y = rnn_model.Y\n",
    "    keep_prob = rnn_model.keep_prob\n",
    "\n",
    "    for epoch in range(num_epochs):\n",
    "        print(\"{} epoch number: {}\".format(datetime.now(), epoch + 1))\n",
    "        train_x_rnn, train_y_cnn = shuffle(train_x_rnn, train_y_cnn)\n",
    "        \n",
    "        for step, x_batch, y_batch in batch_iter(train_x_rnn, train_y_cnn, batch_size):\n",
    "            global_step += 1\n",
    "            sess.run(rnn_model.train_op, feed_dict={ X: x_batch, Y: y_batch, keep_prob: 1 })\n",
    "\n",
    "            # every so often, report the progress of our loss and training accuracy\n",
    "            if step % display_step == 0:\n",
    "                summ = sess.run(rnn_model.merged_summary, feed_dict={ X: x_batch, Y: y_batch })\n",
    "                train_writer.add_summary(summ, global_step=global_step)\n",
    "                train_writer.flush()\n",
    "\n",
    "        test_acc, summ = sess.run([rnn_model.accuracy, rnn_model.merged_summary], feed_dict={ X: test_x_rnn, Y: test_y_cnn })\n",
    "        test_writer.add_summary(summ, global_step=global_step)\n",
    "        test_writer.flush()\n",
    "        print(\"test accuracy = {:.4f}\".format(test_acc))\n",
    "    \n",
    "    # save the model to disk so we can load it up later for use by `./eval.py`\n",
    "    saver.save(sess, \"./rnn-ckpt/model.ckpt\")"
   ]
  },
  {
   "cell_type": "markdown",
   "metadata": {},
   "source": [
    "### RNN Evaluation"
   ]
  },
  {
   "cell_type": "code",
   "execution_count": null,
   "metadata": {},
   "outputs": [],
   "source": [
    "saver = tf.train.Saver()\n",
    "\n",
    "with tf.Session() as sess:\n",
    "    saver.restore(sess, \"./rnn-ckpt/model.ckpt\")\n",
    "    rnn_test_attn, rnn_test_predictions = sess.run((rnn_model.alpha, rnn_model.predictions), feed_dict={ rnn_model.X: test_x_rnn })\n",
    "    \n",
    "print(classification_report(test_y_cnn, rnn_test_predictions, target_names=major_characters))\n",
    "\n",
    "conf_matrix_plot(confusion_matrix(test_y_cnn, rnn_test_predictions), major_characters)"
   ]
  },
  {
   "cell_type": "code",
   "execution_count": null,
   "metadata": {},
   "outputs": [],
   "source": [
    "def visualize_attention(sentence, attn, max_len=None):\n",
    "    attn = attn / np.max(attn)\n",
    "    tagged_sentence = []\n",
    "    for i, word in enumerate(sentence):\n",
    "        opacity = attn[i] if i < len(attn) else 0\n",
    "        tagged_sentence.append(f'<span style=\"background-color: rgba(100, 200, 255, {opacity});\">{word}</span>')\n",
    "        if max_len and i == max_len - 1:\n",
    "            tagged_sentence.append('<span style=\"color: red;\">|</span>')\n",
    "    display(Markdown(\" \".join(tagged_sentence)))"
   ]
  },
  {
   "cell_type": "code",
   "execution_count": null,
   "metadata": {},
   "outputs": [],
   "source": [
    "user_input_to_classify = \"i love you chandler do you want to go to the restaurant\"\n",
    "\n",
    "rnn_user_input_x = embed_and_pad(np.array([user_input_to_classify]), embeddings, max_seq_len)\n",
    "\n",
    "with tf.Session() as sess:\n",
    "    saver.restore(sess, \"./rnn-ckpt/model.ckpt\")\n",
    "\n",
    "    rnn_user_attention, (rnn_user_input_pred,) = sess.run((rnn_model.alpha, rnn_model.predictions), feed_dict={ rnn_model.X: rnn_user_input_x })\n",
    "    \n",
    "print(major_characters[rnn_user_input_pred])\n",
    "visualize_attention(user_input_to_classify.split(\" \"), rnn_user_attention[0], max_len=max_seq_len)"
   ]
  },
  {
   "cell_type": "code",
   "execution_count": null,
   "metadata": {},
   "outputs": [],
   "source": [
    "utterances_to_plot = []\n",
    "attentions_to_plot = []\n",
    "original_indices = []\n",
    "\n",
    "for i in range(num_major_characters):\n",
    "    display(Markdown(\"## \" + major_characters[i]))\n",
    "    correct_predictions_i = np.where(np.logical_and(test_y_cnn == i, rnn_test_predictions == i))\n",
    "    for j in correct_predictions_i[0][:200]:\n",
    "        sentence = test_x_cnn[j].split(\" \")\n",
    "        if len(sentence) > 1:\n",
    "            visualize_attention(sentence, rnn_test_attn[j], max_len=max_seq_len)"
   ]
  }
 ],
 "metadata": {
  "kernelspec": {
   "display_name": "Python 3",
   "language": "python",
   "name": "python3"
  },
  "language_info": {
   "codemirror_mode": {
    "name": "ipython",
    "version": 3
   },
   "file_extension": ".py",
   "mimetype": "text/x-python",
   "name": "python",
   "nbconvert_exporter": "python",
   "pygments_lexer": "ipython3",
   "version": "3.6.6"
  }
 },
 "nbformat": 4,
 "nbformat_minor": 2
}
