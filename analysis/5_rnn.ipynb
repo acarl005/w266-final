{
 "cells": [
  {
   "cell_type": "markdown",
   "metadata": {},
   "source": [
    "# 5) RNN"
   ]
  },
  {
   "cell_type": "markdown",
   "metadata": {},
   "source": [
    "## Load Dataset and Variables"
   ]
  },
  {
   "cell_type": "code",
   "execution_count": 1,
   "metadata": {},
   "outputs": [],
   "source": [
    "import pandas as pd\n",
    "import pickle"
   ]
  },
  {
   "cell_type": "code",
   "execution_count": 2,
   "metadata": {},
   "outputs": [
    {
     "data": {
      "text/plain": [
       "{'Rachel': 0, 'Ross': 1, 'Chandler': 2, 'Monica': 3, 'Joey': 4, 'Phoebe': 5}"
      ]
     },
     "execution_count": 2,
     "metadata": {},
     "output_type": "execute_result"
    }
   ],
   "source": [
    "# Load the data\n",
    "\n",
    "major_dialog_data = pd.read_pickle(\"./datasets/major_dialog_data.pkl\")\n",
    "all_dialog_data = pd.read_pickle(\"./datasets/all_dialog_data.pkl\")\n",
    "\n",
    "with open('./datasets/utterances.pkl', 'rb') as f:\n",
    "    utterances = pickle.load(f)\n",
    "    \n",
    "with open('./datasets/stop_words.pkl', 'rb') as f:\n",
    "    stop_words = pickle.load(f)\n",
    "\n",
    "# Pre-process the data similarly to workbook 0\n",
    "\n",
    "labels = major_dialog_data.speaker\n",
    "\n",
    "speaker_value_counts = all_dialog_data.speaker.value_counts()\n",
    "major_speaker_value_counts = speaker_value_counts[speaker_value_counts > 40]\n",
    "x, y = major_speaker_value_counts.index, major_speaker_value_counts.values\n",
    "\n",
    "num_major_characters = 6\n",
    "\n",
    "# a list of the top characters names\n",
    "major_characters = x[:num_major_characters]\n",
    "# a set of those same names\n",
    "major_characters_set = set(major_characters)\n",
    "\n",
    "# finally, dicts to and from class Ids and their respective names\n",
    "labels_to_ids = {}\n",
    "ids_to_labels = {}\n",
    "for i, major_character in enumerate(major_characters):\n",
    "    labels_to_ids[major_character] = i\n",
    "    ids_to_labels[i] = major_character\n",
    "labels_to_ids"
   ]
  },
  {
   "cell_type": "markdown",
   "metadata": {},
   "source": [
    "## Model - RNN\n",
    "\n",
    "[http://www.aclweb.org/anthology/P16-2034](http://www.aclweb.org/anthology/P16-2034)\n",
    "\n",
    "Finally, a bidirectional RNN with attention. RNNs are nice for how they model sequences, but are very hard to interpret. This is why attention is useful. It adds some interpretability to these models, as the attention coefficients indicate the important parts of the input."
   ]
  },
  {
   "cell_type": "code",
   "execution_count": 3,
   "metadata": {},
   "outputs": [
    {
     "data": {
      "text/plain": [
       "<module 'models.rnn' from '/home/ec2-user/SageMaker/w266-final/analysis/models/rnn.py'>"
      ]
     },
     "execution_count": 3,
     "metadata": {},
     "output_type": "execute_result"
    }
   ],
   "source": [
    "import math\n",
    "import models.rnn as rnn\n",
    "import numpy as np\n",
    "import os, sys\n",
    "import re\n",
    "import tensorflow as tf\n",
    "import urllib.request\n",
    "\n",
    "from datetime import datetime\n",
    "from gensim.models import KeyedVectors\n",
    "from importlib import reload\n",
    "from IPython.display import display, Markdown\n",
    "from pathlib import Path\n",
    "from sklearn.metrics import confusion_matrix, classification_report\n",
    "from util import shuffle, batch_iter, conf_matrix_plot\n",
    "\n",
    "reload(rnn)"
   ]
  },
  {
   "cell_type": "markdown",
   "metadata": {},
   "source": [
    "#### Load embeddings"
   ]
  },
  {
   "cell_type": "code",
   "execution_count": 4,
   "metadata": {},
   "outputs": [],
   "source": [
    "root_path = Path().resolve().joinpath(\"..\")\n",
    "\n",
    "embeddings_path = root_path.joinpath(\"embeddings\", \"newscrawl.300d.W.pos.vectors.gz\")\n",
    "embeddings_url = \"https://www.dropbox.com/s/kguufyc2xcdi8yk/lexvec.enwiki%2Bnewscrawl.300d.W.pos.vectors.gz?dl=1\"\n",
    "\n",
    "# downloads the Word2Vec embeddings (only need to run once)\n",
    "if not os.path.isfile(embeddings_path):\n",
    "    print(\"downloading embeddings...\")\n",
    "    urllib.request.urlretrieve(embeddings_url, embeddings_path)\n",
    "\n",
    "# Uncomment below to unzip file\n",
    "# !gunzip {str(embeddings_path)}"
   ]
  },
  {
   "cell_type": "code",
   "execution_count": 5,
   "metadata": {},
   "outputs": [],
   "source": [
    "# load the vocabulary with the embeddings\n",
    "embeddings = KeyedVectors.load_word2vec_format(root_path.joinpath(\"embeddings\", \"newscrawl.300d.W.pos.vectors\"), binary=False)"
   ]
  },
  {
   "cell_type": "code",
   "execution_count": 6,
   "metadata": {},
   "outputs": [],
   "source": [
    "train_cut = math.ceil(major_dialog_data.utterance.count() * 0.85)\n",
    "label_ids = np.array([labels_to_ids[label] for label in labels])\n",
    "\n",
    "cnn_tokenized = []\n",
    "for utterance in major_dialog_data.utterance:\n",
    "    words = re.findall(r\"[a-z0-9']+\", utterance.lower())\n",
    "    # remove dangling apostrophes and 's at the end of words\n",
    "    words = [re.sub(r\"'s?$\", \"\", word) for word in words]\n",
    "    words = [re.sub(r\"'\", \"\", word) for word in words]\n",
    "    cnn_tokenized.append(words)\n",
    "\n",
    "train_x_cnn = cnn_tokenized[:train_cut]\n",
    "train_y_cnn = label_ids[:train_cut]\n",
    "test_x_cnn = cnn_tokenized[train_cut:]\n",
    "test_y_cnn = label_ids[train_cut:]\n",
    "\n",
    "train_x_cnn = np.array([\" \".join(words) for words in train_x_cnn])\n",
    "test_x_cnn = np.array([\" \".join(words) for words in test_x_cnn])"
   ]
  },
  {
   "cell_type": "code",
   "execution_count": 7,
   "metadata": {},
   "outputs": [],
   "source": [
    "max_seq_len = 32\n",
    "\n",
    "def embed_and_pad(utterances, embeddings, max_len):\n",
    "    embedded = np.zeros((utterances.shape[0], max_len, embeddings.vector_size))\n",
    "\n",
    "    for i, utterance in enumerate(utterances):\n",
    "        tokens = utterance.split(\" \")\n",
    "        for j in range(max_len):\n",
    "            if j < len(tokens) and tokens[j] in embeddings.vocab:\n",
    "                embedded[i, j, :] = embeddings.get_vector(tokens[j])\n",
    "            else:\n",
    "                embedded[i, j, :] = np.zeros((embeddings.vector_size))\n",
    "    return embedded\n",
    "\n",
    "train_x_rnn = embed_and_pad(train_x_cnn, embeddings, max_seq_len)\n",
    "test_x_rnn = embed_and_pad(test_x_cnn, embeddings, max_seq_len)"
   ]
  },
  {
   "cell_type": "code",
   "execution_count": 8,
   "metadata": {},
   "outputs": [],
   "source": [
    "tf.reset_default_graph()\n",
    "\n",
    "rnn_model = rnn.RNN(embeddings, num_major_characters, hidden_size=64, max_len=max_seq_len)"
   ]
  },
  {
   "cell_type": "code",
   "execution_count": null,
   "metadata": {},
   "outputs": [
    {
     "name": "stdout",
     "output_type": "stream",
     "text": [
      "2018-12-06 06:15:47.267599 epoch number: 1\n",
      "test accuracy = 0.2353\n",
      "2018-12-06 06:16:20.590965 epoch number: 2\n",
      "test accuracy = 0.2512\n",
      "2018-12-06 06:16:53.573399 epoch number: 3\n",
      "test accuracy = 0.2606\n",
      "2018-12-06 06:17:25.355112 epoch number: 4\n",
      "test accuracy = 0.2715\n",
      "2018-12-06 06:17:57.044740 epoch number: 5\n",
      "test accuracy = 0.2693\n",
      "2018-12-06 06:18:28.963989 epoch number: 6\n",
      "test accuracy = 0.2769\n",
      "2018-12-06 06:19:00.989941 epoch number: 7\n",
      "test accuracy = 0.2784\n",
      "2018-12-06 06:19:32.642808 epoch number: 8\n",
      "test accuracy = 0.2785\n",
      "2018-12-06 06:20:05.507517 epoch number: 9\n",
      "test accuracy = 0.2769\n",
      "2018-12-06 06:20:37.620968 epoch number: 10\n",
      "test accuracy = 0.2785\n",
      "2018-12-06 06:21:09.198598 epoch number: 11\n",
      "test accuracy = 0.2778\n",
      "2018-12-06 06:21:41.108115 epoch number: 12\n",
      "test accuracy = 0.2796\n",
      "2018-12-06 06:22:12.910973 epoch number: 13\n",
      "test accuracy = 0.2845\n",
      "2018-12-06 06:22:46.082538 epoch number: 14\n",
      "test accuracy = 0.2811\n",
      "2018-12-06 06:23:17.858510 epoch number: 15\n",
      "test accuracy = 0.2827\n",
      "2018-12-06 06:23:49.916030 epoch number: 16\n",
      "test accuracy = 0.2839\n",
      "2018-12-06 06:24:21.532989 epoch number: 17\n",
      "test accuracy = 0.2810\n",
      "2018-12-06 06:24:53.514128 epoch number: 18\n",
      "test accuracy = 0.2785\n",
      "2018-12-06 06:25:25.655467 epoch number: 19\n",
      "test accuracy = 0.2801\n",
      "2018-12-06 06:25:58.668665 epoch number: 20\n",
      "test accuracy = 0.2810\n",
      "2018-12-06 06:26:30.542149 epoch number: 21\n",
      "test accuracy = 0.2755\n",
      "2018-12-06 06:39:39.286719 epoch number: 25\n",
      "test accuracy = 0.2767\n",
      "2018-12-06 06:40:39.428612 epoch number: 26\n",
      "test accuracy = 0.2742\n",
      "2018-12-06 06:45:18.399118 epoch number: 27\n",
      "test accuracy = 0.2756\n",
      "2018-12-06 06:48:07.797320 epoch number: 28\n",
      "test accuracy = 0.2804\n",
      "2018-12-06 06:50:30.395914 epoch number: 29\n",
      "test accuracy = 0.2775\n",
      "2018-12-06 06:55:13.127419 epoch number: 30\n",
      "test accuracy = 0.2736\n",
      "2018-12-06 06:57:04.797095 epoch number: 31\n",
      "test accuracy = 0.2751\n",
      "2018-12-06 07:00:25.696352 epoch number: 32\n",
      "test accuracy = 0.2793\n",
      "2018-12-06 07:04:46.857738 epoch number: 33\n",
      "test accuracy = 0.2668\n",
      "2018-12-06 07:05:41.137729 epoch number: 34\n",
      "test accuracy = 0.2700\n",
      "2018-12-06 07:10:19.072501 epoch number: 35\n",
      "test accuracy = 0.2704\n",
      "2018-12-06 07:13:21.815562 epoch number: 36\n",
      "test accuracy = 0.2713\n",
      "2018-12-06 07:15:31.503430 epoch number: 37\n"
     ]
    }
   ],
   "source": [
    "display_step = 20\n",
    "num_epochs = 40\n",
    "batch_size = 128\n",
    "\n",
    "train_writer = tf.summary.FileWriter(\"./rnn-board/train\")\n",
    "test_writer = tf.summary.FileWriter(\"./rnn-board/test\")\n",
    "saver = tf.train.Saver()\n",
    "\n",
    "with tf.Session() as sess:\n",
    "    sess.run(tf.global_variables_initializer())\n",
    "    train_writer.add_graph(sess.graph)\n",
    "    \n",
    "    global_step = 0\n",
    "    X = rnn_model.X\n",
    "    Y = rnn_model.Y\n",
    "    keep_prob = rnn_model.keep_prob\n",
    "\n",
    "    for epoch in range(num_epochs):\n",
    "        print(\"{} epoch number: {}\".format(datetime.now(), epoch + 1))\n",
    "        train_x_rnn, train_y_cnn = shuffle(train_x_rnn, train_y_cnn)\n",
    "        \n",
    "        for step, x_batch, y_batch in batch_iter(train_x_rnn, train_y_cnn, batch_size):\n",
    "            global_step += 1\n",
    "            sess.run(rnn_model.train_op, feed_dict={ X: x_batch, Y: y_batch, keep_prob: 1 })\n",
    "\n",
    "            # every so often, report the progress of our loss and training accuracy\n",
    "            if step % display_step == 0:\n",
    "                summ = sess.run(rnn_model.merged_summary, feed_dict={ X: x_batch, Y: y_batch })\n",
    "                train_writer.add_summary(summ, global_step=global_step)\n",
    "                train_writer.flush()\n",
    "\n",
    "        test_acc, summ = sess.run([rnn_model.accuracy, rnn_model.merged_summary], feed_dict={ X: test_x_rnn, Y: test_y_cnn })\n",
    "        test_writer.add_summary(summ, global_step=global_step)\n",
    "        test_writer.flush()\n",
    "        print(\"test accuracy = {:.4f}\".format(test_acc))\n",
    "    \n",
    "    # save the model to disk so we can load it up later for use by `./eval.py`\n",
    "    saver.save(sess, \"./rnn-ckpt/model.ckpt\")"
   ]
  },
  {
   "cell_type": "markdown",
   "metadata": {},
   "source": [
    "### RNN Evaluation"
   ]
  },
  {
   "cell_type": "code",
   "execution_count": 14,
   "metadata": {},
   "outputs": [
    {
     "name": "stdout",
     "output_type": "stream",
     "text": [
      "INFO:tensorflow:Restoring parameters from ./rnn-ckpt/model.ckpt\n",
      "             precision    recall  f1-score   support\n",
      "\n",
      "     Rachel       0.29      0.32      0.30      1296\n",
      "       Ross       0.31      0.24      0.27      1193\n",
      "   Chandler       0.25      0.22      0.23      1195\n",
      "     Monica       0.24      0.26      0.25      1146\n",
      "       Joey       0.26      0.31      0.28      1092\n",
      "     Phoebe       0.26      0.22      0.24       989\n",
      "\n",
      "avg / total       0.27      0.26      0.26      6911\n",
      "\n"
     ]
    },
    {
     "data": {
      "image/png": "[encoded data removed]",
      "text/plain": [
       "<Figure size 720x504 with 2 Axes>"
      ]
     },
     "metadata": {},
     "output_type": "display_data"
    }
   ],
   "source": [
    "saver = tf.train.Saver()\n",
    "\n",
    "with tf.Session() as sess:\n",
    "    saver.restore(sess, \"./rnn-ckpt/model.ckpt\")\n",
    "    rnn_test_attn, rnn_test_predictions = sess.run((rnn_model.alpha, rnn_model.predictions), feed_dict={ rnn_model.X: test_x_rnn })\n",
    "    \n",
    "print(classification_report(test_y_cnn, rnn_test_predictions, target_names=major_characters))\n",
    "\n",
    "conf_matrix_plot(confusion_matrix(test_y_cnn, rnn_test_predictions), major_characters)"
   ]
  },
  {
   "cell_type": "code",
   "execution_count": 15,
   "metadata": {},
   "outputs": [],
   "source": [
    "def visualize_attention(sentence, attn, max_len=None):\n",
    "    attn = attn / np.max(attn)\n",
    "    tagged_sentence = []\n",
    "    for i, word in enumerate(sentence):\n",
    "        opacity = attn[i] if i < len(attn) else 0\n",
    "        tagged_sentence.append(f'<span style=\"background-color: rgba(100, 200, 255, {opacity});\">{word}</span>')\n",
    "        if max_len and i == max_len - 1:\n",
    "            tagged_sentence.append('<span style=\"color: red;\">|</span>')\n",
    "    display(Markdown(\" \".join(tagged_sentence)))"
   ]
  },
  {
   "cell_type": "code",
   "execution_count": 16,
   "metadata": {},
   "outputs": [
    {
     "name": "stdout",
     "output_type": "stream",
     "text": [
      "INFO:tensorflow:Restoring parameters from ./rnn-ckpt/model.ckpt\n",
      "Monica\n"
     ]
    },
    {
     "data": {
      "text/markdown": [
       "<span style=\"background-color: rgba(100, 200, 255, 0.005751455668359995);\">i</span> <span style=\"background-color: rgba(100, 200, 255, 0.041484396904706955);\">love</span> <span style=\"background-color: rgba(100, 200, 255, 0.0033502671867609024);\">you</span> <span style=\"background-color: rgba(100, 200, 255, 1.0);\">chandler</span> <span style=\"background-color: rgba(100, 200, 255, 2.172294261981733e-05);\">do</span> <span style=\"background-color: rgba(100, 200, 255, 2.6078034807142103e-06);\">you</span> <span style=\"background-color: rgba(100, 200, 255, 8.488871117151575e-07);\">want</span> <span style=\"background-color: rgba(100, 200, 255, 1.6601289587470092e-07);\">to</span> <span style=\"background-color: rgba(100, 200, 255, 7.320209647332376e-07);\">go</span> <span style=\"background-color: rgba(100, 200, 255, 6.449385381301909e-08);\">to</span> <span style=\"background-color: rgba(100, 200, 255, 2.591874590507359e-07);\">the</span> <span style=\"background-color: rgba(100, 200, 255, 4.750590233015828e-05);\">restaurant</span>"
      ],
      "text/plain": [
       "<IPython.core.display.Markdown object>"
      ]
     },
     "metadata": {},
     "output_type": "display_data"
    }
   ],
   "source": [
    "user_input_to_classify = \"i love you chandler do you want to go to the restaurant\"\n",
    "\n",
    "rnn_user_input_x = embed_and_pad(np.array([user_input_to_classify]), embeddings, max_seq_len)\n",
    "\n",
    "with tf.Session() as sess:\n",
    "    saver.restore(sess, \"./rnn-ckpt/model.ckpt\")\n",
    "\n",
    "    rnn_user_attention, (rnn_user_input_pred,) = sess.run((rnn_model.alpha, rnn_model.predictions), feed_dict={ rnn_model.X: rnn_user_input_x })\n",
    "    \n",
    "print(major_characters[rnn_user_input_pred])\n",
    "visualize_attention(user_input_to_classify.split(\" \"), rnn_user_attention[0], max_len=max_seq_len)"
   ]
  },
  {
   "cell_type": "code",
   "execution_count": 17,
   "metadata": {},
   "outputs": [
    {
     "data": {
      "text/markdown": [
       "## Rachel"
      ],
      "text/plain": [
       "<IPython.core.display.Markdown object>"
      ]
     },
     "metadata": {},
     "output_type": "display_data"
    },
    {
     "data": {
      "text/markdown": [
       "<span style=\"background-color: rgba(100, 200, 255, 0.014428137801587582);\">no</span> <span style=\"background-color: rgba(100, 200, 255, 0.4519900977611542);\">seriously</span> <span style=\"background-color: rgba(100, 200, 255, 1.0);\">y</span> <span style=\"background-color: rgba(100, 200, 255, 0.18880051374435425);\">know</span> <span style=\"background-color: rgba(100, 200, 255, 0.29598477482795715);\">the</span> <span style=\"background-color: rgba(100, 200, 255, 0.17079328000545502);\">contracts</span> <span style=\"background-color: rgba(100, 200, 255, 0.0011913042981177568);\">i</span> <span style=\"background-color: rgba(100, 200, 255, 0.00456550158560276);\">gave</span> <span style=\"background-color: rgba(100, 200, 255, 0.0015749455196782947);\">you</span> <span style=\"background-color: rgba(100, 200, 255, 0.002588920295238495);\">did</span> <span style=\"background-color: rgba(100, 200, 255, 0.0007168558076955378);\">you</span> <span style=\"background-color: rgba(100, 200, 255, 0.0025453020352870226);\">overnight</span> <span style=\"background-color: rgba(100, 200, 255, 0.0030574253760278225);\">them</span>"
      ],
      "text/plain": [
       "<IPython.core.display.Markdown object>"
      ]
     },
     "metadata": {},
     "output_type": "display_data"
    },
    {
     "data": {
      "text/markdown": [
       "<span style=\"background-color: rgba(100, 200, 255, 1.0);\">ross</span> <span style=\"background-color: rgba(100, 200, 255, 0.00034436487476341426);\">thank</span> <span style=\"background-color: rgba(100, 200, 255, 7.940407522255555e-05);\">you</span> <span style=\"background-color: rgba(100, 200, 255, 0.00045136307016946375);\">hey</span> <span style=\"background-color: rgba(100, 200, 255, 0.00026753218844532967);\">do</span> <span style=\"background-color: rgba(100, 200, 255, 5.395073094405234e-05);\">you</span> <span style=\"background-color: rgba(100, 200, 255, 0.00026096522924490273);\">guys</span> <span style=\"background-color: rgba(100, 200, 255, 1.2745524145429954e-05);\">wanna</span> <span style=\"background-color: rgba(100, 200, 255, 1.6544345271540806e-05);\">go</span> <span style=\"background-color: rgba(100, 200, 255, 3.554769818947534e-06);\">see</span> <span style=\"background-color: rgba(100, 200, 255, 1.144297812061268e-06);\">a</span> <span style=\"background-color: rgba(100, 200, 255, 8.857302600517869e-05);\">movie</span>"
      ],
      "text/plain": [
       "<IPython.core.display.Markdown object>"
      ]
     },
     "metadata": {},
     "output_type": "display_data"
    },
    {
     "data": {
      "text/markdown": [
       "<span style=\"background-color: rgba(100, 200, 255, 0.016975145787000656);\">huh</span> <span style=\"background-color: rgba(100, 200, 255, 0.5999919772148132);\">wow</span> <span style=\"background-color: rgba(100, 200, 255, 0.11170891672372818);\">so</span> <span style=\"background-color: rgba(100, 200, 255, 0.04190417006611824);\">he</span> <span style=\"background-color: rgba(100, 200, 255, 1.0);\">gotta</span> <span style=\"background-color: rgba(100, 200, 255, 0.004285943694412708);\">be</span>"
      ],
      "text/plain": [
       "<IPython.core.display.Markdown object>"
      ]
     },
     "metadata": {},
     "output_type": "display_data"
    },
    {
     "data": {
      "text/markdown": [
       "<span style=\"background-color: rgba(100, 200, 255, 0.8555876612663269);\">no</span> <span style=\"background-color: rgba(100, 200, 255, 1.0);\">phoebe</span> <span style=\"background-color: rgba(100, 200, 255, 0.002505469135940075);\">i</span> <span style=\"background-color: rgba(100, 200, 255, 0.002951250644400716);\">just</span> <span style=\"background-color: rgba(100, 200, 255, 0.019824519753456116);\">need</span> <span style=\"background-color: rgba(100, 200, 255, 0.023895490914583206);\">you</span> <span style=\"background-color: rgba(100, 200, 255, 0.0663667768239975);\">there</span> <span style=\"background-color: rgba(100, 200, 255, 0.07635673135519028);\">for</span> <span style=\"background-color: rgba(100, 200, 255, 0.2214554101228714);\">support</span> <span style=\"background-color: rgba(100, 200, 255, 0.014358961954712868);\">i</span> <span style=\"background-color: rgba(100, 200, 255, 0.009622419252991676);\">haven</span> <span style=\"background-color: rgba(100, 200, 255, 0.015591522678732872);\">t</span> <span style=\"background-color: rgba(100, 200, 255, 0.021684104576706886);\">told</span> <span style=\"background-color: rgba(100, 200, 255, 0.006566611584275961);\">him</span> <span style=\"background-color: rgba(100, 200, 255, 0.007460888009518385);\">i</span> <span style=\"background-color: rgba(100, 200, 255, 0.0016738256672397256);\">m</span> <span style=\"background-color: rgba(100, 200, 255, 0.0006392940995283425);\">pregnant</span> <span style=\"background-color: rgba(100, 200, 255, 0.00011381845979485661);\">yet</span>"
      ],
      "text/plain": [
       "<IPython.core.display.Markdown object>"
      ]
     },
     "metadata": {},
     "output_type": "display_data"
    },
    {
     "data": {
      "text/markdown": [
       "<span style=\"background-color: rgba(100, 200, 255, 0.04123113304376602);\">oh</span> <span style=\"background-color: rgba(100, 200, 255, 0.5600433945655823);\">right</span> <span style=\"background-color: rgba(100, 200, 255, 1.0);\">sorry</span> <span style=\"background-color: rgba(100, 200, 255, 0.0558638870716095);\">but</span> <span style=\"background-color: rgba(100, 200, 255, 0.10922238230705261);\">tag</span> <span style=\"background-color: rgba(100, 200, 255, 0.0037547696847468615);\">not</span> <span style=\"background-color: rgba(100, 200, 255, 0.022401632741093636);\">coming</span> <span style=\"background-color: rgba(100, 200, 255, 0.0008560115238651633);\">his</span> <span style=\"background-color: rgba(100, 200, 255, 0.004858660511672497);\">girlfriend</span> <span style=\"background-color: rgba(100, 200, 255, 8.994841664389241e-06);\">came</span> <span style=\"background-color: rgba(100, 200, 255, 9.469329597777687e-06);\">into</span> <span style=\"background-color: rgba(100, 200, 255, 0.00011844097753055394);\">town</span> <span style=\"background-color: rgba(100, 200, 255, 0.00011448938312241808);\">so</span> <span style=\"background-color: rgba(100, 200, 255, 0.00010192593617830426);\">he</span> <span style=\"background-color: rgba(100, 200, 255, 3.934424603357911e-05);\">spending</span> <span style=\"background-color: rgba(100, 200, 255, 4.690783953265054e-06);\">thanksgiving</span> <span style=\"background-color: rgba(100, 200, 255, 1.5407722457894124e-05);\">with</span> <span style=\"background-color: rgba(100, 200, 255, 7.45972793083638e-05);\">her</span>"
      ],
      "text/plain": [
       "<IPython.core.display.Markdown object>"
      ]
     },
     "metadata": {},
     "output_type": "display_data"
    },
    {
     "data": {
      "text/markdown": [
       "<span style=\"background-color: rgba(100, 200, 255, 0.0018535894341766834);\">oh</span> <span style=\"background-color: rgba(100, 200, 255, 1.0);\">joey</span> <span style=\"background-color: rgba(100, 200, 255, 0.008148008026182652);\">i</span> <span style=\"background-color: rgba(100, 200, 255, 0.0032713788095861673);\">m</span> <span style=\"background-color: rgba(100, 200, 255, 0.00015225987590383738);\">so</span> <span style=\"background-color: rgba(100, 200, 255, 0.0011802699882537127);\">happy</span> <span style=\"background-color: rgba(100, 200, 255, 0.0006013191887177527);\">things</span> <span style=\"background-color: rgba(100, 200, 255, 0.0023537096567451954);\">worked</span> <span style=\"background-color: rgba(100, 200, 255, 0.0003381762362550944);\">out</span> <span style=\"background-color: rgba(100, 200, 255, 0.0009979449678212404);\">for</span> <span style=\"background-color: rgba(100, 200, 255, 0.0020884794648736715);\">us</span> <span style=\"background-color: rgba(100, 200, 255, 0.0007585877901874483);\">that</span> <span style=\"background-color: rgba(100, 200, 255, 0.0014990753261372447);\">we</span> <span style=\"background-color: rgba(100, 200, 255, 0.0007091531297191978);\">re</span> <span style=\"background-color: rgba(100, 200, 255, 0.00011702984920702875);\">having</span> <span style=\"background-color: rgba(100, 200, 255, 3.092872066190466e-05);\">this</span> <span style=\"background-color: rgba(100, 200, 255, 0.00029543889104388654);\">baby</span> <span style=\"background-color: rgba(100, 200, 255, 0.00010885985830100253);\">together</span> <span style=\"background-color: rgba(100, 200, 255, 0.0004518939240369946);\">i</span> <span style=\"background-color: rgba(100, 200, 255, 0.0004972224705852568);\">love</span> <span style=\"background-color: rgba(100, 200, 255, 0.0005691061378456652);\">you</span> <span style=\"background-color: rgba(100, 200, 255, 0.0004983822582289577);\">so</span> <span style=\"background-color: rgba(100, 200, 255, 0.0006860106368549168);\">much</span>"
      ],
      "text/plain": [
       "<IPython.core.display.Markdown object>"
      ]
     },
     "metadata": {},
     "output_type": "display_data"
    },
    {
     "data": {
      "text/markdown": [
       "<span style=\"background-color: rgba(100, 200, 255, 1.0);\">yes</span> <span style=\"background-color: rgba(100, 200, 255, 0.3541862368583679);\">you</span> <span style=\"background-color: rgba(100, 200, 255, 0.4707246720790863);\">did</span>"
      ],
      "text/plain": [
       "<IPython.core.display.Markdown object>"
      ]
     },
     "metadata": {},
     "output_type": "display_data"
    },
    {
     "data": {
      "text/markdown": [
       "<span style=\"background-color: rgba(100, 200, 255, 6.887425115564838e-05);\">okay</span> <span style=\"background-color: rgba(100, 200, 255, 1.0);\">honey</span> <span style=\"background-color: rgba(100, 200, 255, 0.00915079191327095);\">i</span> <span style=\"background-color: rgba(100, 200, 255, 0.009074442088603973);\">would</span> <span style=\"background-color: rgba(100, 200, 255, 0.018612520769238472);\">love</span> <span style=\"background-color: rgba(100, 200, 255, 0.011832448653876781);\">for</span> <span style=\"background-color: rgba(100, 200, 255, 0.0015630730194970965);\">you</span> <span style=\"background-color: rgba(100, 200, 255, 0.0009913259418681264);\">to</span> <span style=\"background-color: rgba(100, 200, 255, 0.006797551177442074);\">go</span> <span style=\"background-color: rgba(100, 200, 255, 0.0011729382677003741);\">with</span> <span style=\"background-color: rgba(100, 200, 255, 0.0028390793595463037);\">me</span> <span style=\"background-color: rgba(100, 200, 255, 0.00332045485265553);\">what</span>"
      ],
      "text/plain": [
       "<IPython.core.display.Markdown object>"
      ]
     },
     "metadata": {},
     "output_type": "display_data"
    },
    {
     "data": {
      "text/markdown": [
       "<span style=\"background-color: rgba(100, 200, 255, 0.002353476360440254);\">oh</span> <span style=\"background-color: rgba(100, 200, 255, 0.20539654791355133);\">wow</span> <span style=\"background-color: rgba(100, 200, 255, 0.0057601723819971085);\">you</span> <span style=\"background-color: rgba(100, 200, 255, 0.025243759155273438);\">are</span> <span style=\"background-color: rgba(100, 200, 255, 0.0045307110995054245);\">really</span> <span style=\"background-color: rgba(100, 200, 255, 0.005686704535037279);\">youre</span> <span style=\"background-color: rgba(100, 200, 255, 0.006127611733973026);\">really</span> <span style=\"background-color: rgba(100, 200, 255, 0.0014632527017965913);\">a</span> <span style=\"background-color: rgba(100, 200, 255, 1.0);\">creep</span>"
      ],
      "text/plain": [
       "<IPython.core.display.Markdown object>"
      ]
     },
     "metadata": {},
     "output_type": "display_data"
    },
    {
     "data": {
      "text/markdown": [
       "<span style=\"background-color: rgba(100, 200, 255, 0.004281950183212757);\">yeah</span> <span style=\"background-color: rgba(100, 200, 255, 0.006069000344723463);\">it</span> <span style=\"background-color: rgba(100, 200, 255, 0.034796856343746185);\">sure</span> <span style=\"background-color: rgba(100, 200, 255, 0.0625951737165451);\">is</span>"
      ],
      "text/plain": [
       "<IPython.core.display.Markdown object>"
      ]
     },
     "metadata": {},
     "output_type": "display_data"
    },
    {
     "data": {
      "text/markdown": [
       "<span style=\"background-color: rgba(100, 200, 255, 0.0788424164056778);\">op</span> <span style=\"background-color: rgba(100, 200, 255, 0.02988056093454361);\">op</span> <span style=\"background-color: rgba(100, 200, 255, 0.009766463190317154);\">car</span> <span style=\"background-color: rgba(100, 200, 255, 0.01750594563782215);\">car</span> <span style=\"background-color: rgba(100, 200, 255, 0.44950711727142334);\">ugh</span>"
      ],
      "text/plain": [
       "<IPython.core.display.Markdown object>"
      ]
     },
     "metadata": {},
     "output_type": "display_data"
    },
    {
     "data": {
      "text/markdown": [
       "<span style=\"background-color: rgba(100, 200, 255, 0.013492507860064507);\">well</span> <span style=\"background-color: rgba(100, 200, 255, 0.026619428768754005);\">so</span> <span style=\"background-color: rgba(100, 200, 255, 0.06720693409442902);\">now</span> <span style=\"background-color: rgba(100, 200, 255, 0.4113937318325043);\">do</span> <span style=\"background-color: rgba(100, 200, 255, 0.08707223832607269);\">you</span> <span style=\"background-color: rgba(100, 200, 255, 1.0);\">guys</span> <span style=\"background-color: rgba(100, 200, 255, 0.0019792786333709955);\">have</span> <span style=\"background-color: rgba(100, 200, 255, 0.00015427565085701644);\">a</span> <span style=\"background-color: rgba(100, 200, 255, 0.00320329237729311);\">lot</span> <span style=\"background-color: rgba(100, 200, 255, 0.0001378487067995593);\">of</span> <span style=\"background-color: rgba(100, 200, 255, 0.0004742055607493967);\">big</span> <span style=\"background-color: rgba(100, 200, 255, 7.713215381954797e-06);\">plans</span>"
      ],
      "text/plain": [
       "<IPython.core.display.Markdown object>"
      ]
     },
     "metadata": {},
     "output_type": "display_data"
    },
    {
     "data": {
      "text/markdown": [
       "<span style=\"background-color: rgba(100, 200, 255, 0.011980222538113594);\">yeah</span> <span style=\"background-color: rgba(100, 200, 255, 0.008207294158637524);\">that</span> <span style=\"background-color: rgba(100, 200, 255, 0.006547695025801659);\">s</span> <span style=\"background-color: rgba(100, 200, 255, 0.7604653835296631);\">daddy</span>"
      ],
      "text/plain": [
       "<IPython.core.display.Markdown object>"
      ]
     },
     "metadata": {},
     "output_type": "display_data"
    },
    {
     "data": {
      "text/markdown": [
       "<span style=\"background-color: rgba(100, 200, 255, 0.02539750561118126);\">youre</span> <span style=\"background-color: rgba(100, 200, 255, 0.2839958369731903);\">fly</span> <span style=\"background-color: rgba(100, 200, 255, 0.11194193363189697);\">is</span> <span style=\"background-color: rgba(100, 200, 255, 0.10745164752006531);\">open</span> <span style=\"background-color: rgba(100, 200, 255, 1.0);\">geller</span>"
      ],
      "text/plain": [
       "<IPython.core.display.Markdown object>"
      ]
     },
     "metadata": {},
     "output_type": "display_data"
    },
    {
     "data": {
      "text/markdown": [
       "<span style=\"background-color: rgba(100, 200, 255, 0.07374873757362366);\">oh</span> <span style=\"background-color: rgba(100, 200, 255, 0.8289904594421387);\">oh</span> <span style=\"background-color: rgba(100, 200, 255, 1.0);\">and</span> <span style=\"background-color: rgba(100, 200, 255, 0.7224826812744141);\">emma</span> <span style=\"background-color: rgba(100, 200, 255, 0.00012619717745110393);\">look</span> <span style=\"background-color: rgba(100, 200, 255, 9.372432941745501e-06);\">at</span> <span style=\"background-color: rgba(100, 200, 255, 5.3725971156382e-06);\">your</span> <span style=\"background-color: rgba(100, 200, 255, 2.731869426497724e-05);\">stuffed</span> <span style=\"background-color: rgba(100, 200, 255, 4.1323386312797084e-07);\">animals</span> <span style=\"background-color: rgba(100, 200, 255, 2.997537080773327e-07);\">lined</span> <span style=\"background-color: rgba(100, 200, 255, 6.859768291178625e-07);\">up</span> <span style=\"background-color: rgba(100, 200, 255, 2.7237877020525048e-06);\">so</span> <span style=\"background-color: rgba(100, 200, 255, 7.803809239703696e-06);\">neatly</span>"
      ],
      "text/plain": [
       "<IPython.core.display.Markdown object>"
      ]
     },
     "metadata": {},
     "output_type": "display_data"
    },
    {
     "data": {
      "text/markdown": [
       "<span style=\"background-color: rgba(100, 200, 255, 0.006114095449447632);\">oh</span> <span style=\"background-color: rgba(100, 200, 255, 0.06354647129774094);\">yeah</span> <span style=\"background-color: rgba(100, 200, 255, 0.19615356624126434);\">fine</span>"
      ],
      "text/plain": [
       "<IPython.core.display.Markdown object>"
      ]
     },
     "metadata": {},
     "output_type": "display_data"
    },
    {
     "data": {
      "text/markdown": [
       "<span style=\"background-color: rgba(100, 200, 255, 1.0);\">ross</span> <span style=\"background-color: rgba(100, 200, 255, 0.0006014946848154068);\">oh</span> <span style=\"background-color: rgba(100, 200, 255, 0.002196291461586952);\">my</span> <span style=\"background-color: rgba(100, 200, 255, 0.27113547921180725);\">ugh</span> <span style=\"background-color: rgba(100, 200, 255, 0.002825818955898285);\">you</span> <span style=\"background-color: rgba(100, 200, 255, 0.009395536966621876);\">kept</span> <span style=\"background-color: rgba(100, 200, 255, 0.0042762840166687965);\">count</span> <span style=\"background-color: rgba(100, 200, 255, 0.0004552454047370702);\">you</span> <span style=\"background-color: rgba(100, 200, 255, 0.00017975382797885686);\">are</span> <span style=\"background-color: rgba(100, 200, 255, 0.00014517022646032274);\">such</span> <span style=\"background-color: rgba(100, 200, 255, 0.0001005343219731003);\">a</span> <span style=\"background-color: rgba(100, 200, 255, 0.00507978443056345);\">loser</span>"
      ],
      "text/plain": [
       "<IPython.core.display.Markdown object>"
      ]
     },
     "metadata": {},
     "output_type": "display_data"
    },
    {
     "data": {
      "text/markdown": [
       "<span style=\"background-color: rgba(100, 200, 255, 0.1466868817806244);\">has</span> <span style=\"background-color: rgba(100, 200, 255, 0.08005288243293762);\">your</span> <span style=\"background-color: rgba(100, 200, 255, 1.0);\">girlfriend</span> <span style=\"background-color: rgba(100, 200, 255, 0.0007801781175658107);\">got</span> <span style=\"background-color: rgba(100, 200, 255, 1.1028763765352778e-05);\">the</span> <span style=\"background-color: rgba(100, 200, 255, 0.00396313751116395);\">butt</span>"
      ],
      "text/plain": [
       "<IPython.core.display.Markdown object>"
      ]
     },
     "metadata": {},
     "output_type": "display_data"
    },
    {
     "data": {
      "text/markdown": [
       "<span style=\"background-color: rgba(100, 200, 255, 0.0022894199937582016);\">well</span> <span style=\"background-color: rgba(100, 200, 255, 0.00830934289842844);\">better</span> <span style=\"background-color: rgba(100, 200, 255, 0.01975601352751255);\">than</span> <span style=\"background-color: rgba(100, 200, 255, 0.0011853155447170138);\">you</span> <span style=\"background-color: rgba(100, 200, 255, 0.0063176811672747135);\">but</span> <span style=\"background-color: rgba(100, 200, 255, 1.0);\">y</span> <span style=\"background-color: rgba(100, 200, 255, 0.013726998120546341);\">know</span> <span style=\"background-color: rgba(100, 200, 255, 0.021046830341219902);\">still</span> <span style=\"background-color: rgba(100, 200, 255, 0.018290294334292412);\">not</span> <span style=\"background-color: rgba(100, 200, 255, 0.09077190607786179);\">what</span> <span style=\"background-color: rgba(100, 200, 255, 0.023683974519371986);\">you</span> <span style=\"background-color: rgba(100, 200, 255, 0.02498575486242771);\">want</span>"
      ],
      "text/plain": [
       "<IPython.core.display.Markdown object>"
      ]
     },
     "metadata": {},
     "output_type": "display_data"
    },
    {
     "data": {
      "text/markdown": [
       "<span style=\"background-color: rgba(100, 200, 255, 0.00018862306023947895);\">i</span> <span style=\"background-color: rgba(100, 200, 255, 0.00017224469047505409);\">m</span> <span style=\"background-color: rgba(100, 200, 255, 0.00013908484834246337);\">sorry</span> <span style=\"background-color: rgba(100, 200, 255, 1.0);\">honey</span> <span style=\"background-color: rgba(100, 200, 255, 0.001072337501682341);\">i</span> <span style=\"background-color: rgba(100, 200, 255, 0.00012453818635549396);\">m</span> <span style=\"background-color: rgba(100, 200, 255, 1.4620900401496328e-05);\">just</span> <span style=\"background-color: rgba(100, 200, 255, 6.733443296980113e-05);\">having</span> <span style=\"background-color: rgba(100, 200, 255, 4.278802407498006e-06);\">a</span> <span style=\"background-color: rgba(100, 200, 255, 1.5733518011984415e-05);\">having</span> <span style=\"background-color: rgba(100, 200, 255, 1.1694404520312673e-06);\">a</span> <span style=\"background-color: rgba(100, 200, 255, 2.6634777896106243e-05);\">rough</span> <span style=\"background-color: rgba(100, 200, 255, 9.105562639888376e-05);\">day</span>"
      ],
      "text/plain": [
       "<IPython.core.display.Markdown object>"
      ]
     },
     "metadata": {},
     "output_type": "display_data"
    },
    {
     "data": {
      "text/markdown": [
       "<span style=\"background-color: rgba(100, 200, 255, 1.0);\">honey</span> <span style=\"background-color: rgba(100, 200, 255, 0.048814643174409866);\">this</span> <span style=\"background-color: rgba(100, 200, 255, 0.005124004557728767);\">really</span> <span style=\"background-color: rgba(100, 200, 255, 0.014876222237944603);\">is</span> <span style=\"background-color: rgba(100, 200, 255, 0.019967438653111458);\">an</span> <span style=\"background-color: rgba(100, 200, 255, 0.8743472099304199);\">incredible</span> <span style=\"background-color: rgba(100, 200, 255, 0.06388891488313675);\">thing</span> <span style=\"background-color: rgba(100, 200, 255, 0.04472392052412033);\">to</span> <span style=\"background-color: rgba(100, 200, 255, 0.09941273927688599);\">do</span> <span style=\"background-color: rgba(100, 200, 255, 0.2206200212240219);\">for</span> <span style=\"background-color: rgba(100, 200, 255, 0.07345844805240631);\">them</span> <span style=\"background-color: rgba(100, 200, 255, 0.1005404144525528);\">but</span> <span style=\"background-color: rgba(100, 200, 255, 0.15632367134094238);\">there</span> <span style=\"background-color: rgba(100, 200, 255, 0.12286859005689621);\">are</span> <span style=\"background-color: rgba(100, 200, 255, 0.2744426429271698);\">things</span> <span style=\"background-color: rgba(100, 200, 255, 0.0920659676194191);\">to</span> <span style=\"background-color: rgba(100, 200, 255, 0.1709013134241104);\">think</span> <span style=\"background-color: rgba(100, 200, 255, 0.05489650368690491);\">about</span>"
      ],
      "text/plain": [
       "<IPython.core.display.Markdown object>"
      ]
     },
     "metadata": {},
     "output_type": "display_data"
    },
    {
     "data": {
      "text/markdown": [
       "<span style=\"background-color: rgba(100, 200, 255, 0.0015544198686257005);\">come</span> <span style=\"background-color: rgba(100, 200, 255, 0.003996994812041521);\">on</span> <span style=\"background-color: rgba(100, 200, 255, 1.0);\">joey</span> <span style=\"background-color: rgba(100, 200, 255, 0.000560750428121537);\">i</span> <span style=\"background-color: rgba(100, 200, 255, 0.0004564576083794236);\">did</span> <span style=\"background-color: rgba(100, 200, 255, 8.466468716505915e-05);\">it</span> <span style=\"background-color: rgba(100, 200, 255, 0.0006181413191370666);\">and</span> <span style=\"background-color: rgba(100, 200, 255, 3.0705832614330575e-05);\">it</span> <span style=\"background-color: rgba(100, 200, 255, 3.9070619095582515e-05);\">was</span> <span style=\"background-color: rgba(100, 200, 255, 1.0222892342426348e-05);\">fine</span>"
      ],
      "text/plain": [
       "<IPython.core.display.Markdown object>"
      ]
     },
     "metadata": {},
     "output_type": "display_data"
    },
    {
     "data": {
      "text/markdown": [
       "<span style=\"background-color: rgba(100, 200, 255, 0.09786836057901382);\">how</span> <span style=\"background-color: rgba(100, 200, 255, 0.12187670171260834);\">is</span> <span style=\"background-color: rgba(100, 200, 255, 0.030850593000650406);\">you</span> <span style=\"background-color: rgba(100, 200, 255, 1.0);\">drinking</span> <span style=\"background-color: rgba(100, 200, 255, 0.008097211830317974);\">helping</span> <span style=\"background-color: rgba(100, 200, 255, 0.0010197790106758475);\">the</span> <span style=\"background-color: rgba(100, 200, 255, 0.01355824712663889);\">kids</span>"
      ],
      "text/plain": [
       "<IPython.core.display.Markdown object>"
      ]
     },
     "metadata": {},
     "output_type": "display_data"
    },
    {
     "data": {
      "text/markdown": [
       "<span style=\"background-color: rgba(100, 200, 255, 0.005497757811099291);\">my</span> <span style=\"background-color: rgba(100, 200, 255, 1.0);\">boss</span> <span style=\"background-color: rgba(100, 200, 255, 0.0102884816005826);\">wants</span> <span style=\"background-color: rgba(100, 200, 255, 0.0005694978171959519);\">to</span> <span style=\"background-color: rgba(100, 200, 255, 7.503644155804068e-05);\">buy</span> <span style=\"background-color: rgba(100, 200, 255, 5.702651833416894e-06);\">my</span> <span style=\"background-color: rgba(100, 200, 255, 6.421274156309664e-05);\">baby</span>"
      ],
      "text/plain": [
       "<IPython.core.display.Markdown object>"
      ]
     },
     "metadata": {},
     "output_type": "display_data"
    },
    {
     "data": {
      "text/markdown": [
       "<span style=\"background-color: rgba(100, 200, 255, 0.0028764300514012575);\">no</span> <span style=\"background-color: rgba(100, 200, 255, 0.17981229722499847);\">shoot</span> <span style=\"background-color: rgba(100, 200, 255, 1.0);\">dr</span> <span style=\"background-color: rgba(100, 200, 255, 0.08372976630926132);\">schiff</span> <span style=\"background-color: rgba(100, 200, 255, 9.03080144780688e-05);\">what</span> <span style=\"background-color: rgba(100, 200, 255, 6.121843762230128e-05);\">kind</span> <span style=\"background-color: rgba(100, 200, 255, 7.583129627164453e-05);\">of</span> <span style=\"background-color: rgba(100, 200, 255, 0.00016114840400405228);\">question</span> <span style=\"background-color: rgba(100, 200, 255, 2.3462374883820303e-05);\">is</span> <span style=\"background-color: rgba(100, 200, 255, 1.9059049009229057e-05);\">that</span>"
      ],
      "text/plain": [
       "<IPython.core.display.Markdown object>"
      ]
     },
     "metadata": {},
     "output_type": "display_data"
    },
    {
     "data": {
      "text/markdown": [
       "<span style=\"background-color: rgba(100, 200, 255, 0.0595046803355217);\">well</span> <span style=\"background-color: rgba(100, 200, 255, 0.06406615674495697);\">just</span> <span style=\"background-color: rgba(100, 200, 255, 0.38711926341056824);\">ask</span> <span style=\"background-color: rgba(100, 200, 255, 1.0);\">mona</span> <span style=\"background-color: rgba(100, 200, 255, 8.536778477719054e-05);\">to</span> <span style=\"background-color: rgba(100, 200, 255, 7.165567512856796e-05);\">give</span> <span style=\"background-color: rgba(100, 200, 255, 2.1176367226871662e-05);\">it</span> <span style=\"background-color: rgba(100, 200, 255, 2.4141723770298995e-05);\">back</span>"
      ],
      "text/plain": [
       "<IPython.core.display.Markdown object>"
      ]
     },
     "metadata": {},
     "output_type": "display_data"
    },
    {
     "data": {
      "text/markdown": [
       "<span style=\"background-color: rgba(100, 200, 255, 0.0044372971169650555);\">all</span> <span style=\"background-color: rgba(100, 200, 255, 0.056537263095378876);\">right</span> <span style=\"background-color: rgba(100, 200, 255, 0.028118154034018517);\">fine</span>"
      ],
      "text/plain": [
       "<IPython.core.display.Markdown object>"
      ]
     },
     "metadata": {},
     "output_type": "display_data"
    },
    {
     "data": {
      "text/markdown": [
       "<span style=\"background-color: rgba(100, 200, 255, 0.0019020691979676485);\">yeah</span> <span style=\"background-color: rgba(100, 200, 255, 0.002750204410403967);\">actually</span> <span style=\"background-color: rgba(100, 200, 255, 0.27390438318252563);\">daddy</span> <span style=\"background-color: rgba(100, 200, 255, 1.0);\">ross</span> <span style=\"background-color: rgba(100, 200, 255, 8.607922609371599e-06);\">is</span> <span style=\"background-color: rgba(100, 200, 255, 4.9429731916461606e-06);\">allergic</span> <span style=\"background-color: rgba(100, 200, 255, 9.832961040956434e-07);\">to</span> <span style=\"background-color: rgba(100, 200, 255, 9.909940672514495e-07);\">lobster</span>"
      ],
      "text/plain": [
       "<IPython.core.display.Markdown object>"
      ]
     },
     "metadata": {},
     "output_type": "display_data"
    },
    {
     "data": {
      "text/markdown": [
       "<span style=\"background-color: rgba(100, 200, 255, 0.0006387569010257721);\">oh</span> <span style=\"background-color: rgba(100, 200, 255, 0.0024210168048739433);\">yeah</span> <span style=\"background-color: rgba(100, 200, 255, 0.0050664604641497135);\">nothing</span> <span style=\"background-color: rgba(100, 200, 255, 0.007511685136705637);\">these</span> <span style=\"background-color: rgba(100, 200, 255, 0.00579464714974165);\">are</span> <span style=\"background-color: rgba(100, 200, 255, 0.04919533431529999);\">happy</span> <span style=\"background-color: rgba(100, 200, 255, 1.0);\">tears</span> <span style=\"background-color: rgba(100, 200, 255, 0.08256800472736359);\">this</span> <span style=\"background-color: rgba(100, 200, 255, 0.11494605243206024);\">is</span> <span style=\"background-color: rgba(100, 200, 255, 0.465115487575531);\">just</span> <span style=\"background-color: rgba(100, 200, 255, 0.4180504083633423);\">what</span> <span style=\"background-color: rgba(100, 200, 255, 0.09330610185861588);\">i</span> <span style=\"background-color: rgba(100, 200, 255, 0.10933837294578552);\">wanted</span>"
      ],
      "text/plain": [
       "<IPython.core.display.Markdown object>"
      ]
     },
     "metadata": {},
     "output_type": "display_data"
    },
    {
     "data": {
      "text/markdown": [
       "<span style=\"background-color: rgba(100, 200, 255, 0.0002603969187475741);\">okay</span> <span style=\"background-color: rgba(100, 200, 255, 0.01818002201616764);\">well</span> <span style=\"background-color: rgba(100, 200, 255, 1.0);\">ross</span> <span style=\"background-color: rgba(100, 200, 255, 2.5562070732121356e-05);\">stop</span> <span style=\"background-color: rgba(100, 200, 255, 3.525060208176001e-07);\">it</span> <span style=\"background-color: rgba(100, 200, 255, 3.569797399904928e-07);\">please</span> <span style=\"background-color: rgba(100, 200, 255, 5.044352064942359e-07);\">wait</span> <span style=\"background-color: rgba(100, 200, 255, 8.397861961384478e-08);\">a</span> <span style=\"background-color: rgba(100, 200, 255, 2.1988744265399873e-06);\">minute</span>"
      ],
      "text/plain": [
       "<IPython.core.display.Markdown object>"
      ]
     },
     "metadata": {},
     "output_type": "display_data"
    },
    {
     "data": {
      "text/markdown": [
       "<span style=\"background-color: rgba(100, 200, 255, 0.4687070846557617);\">hi</span> <span style=\"background-color: rgba(100, 200, 255, 1.0);\">joey</span> <span style=\"background-color: rgba(100, 200, 255, 0.007682679686695337);\">what</span> <span style=\"background-color: rgba(100, 200, 255, 0.014940955676138401);\">are</span> <span style=\"background-color: rgba(100, 200, 255, 0.005390804726630449);\">you</span> <span style=\"background-color: rgba(100, 200, 255, 0.015349872410297394);\">doing</span> <span style=\"background-color: rgba(100, 200, 255, 0.005725941155105829);\">here</span>"
      ],
      "text/plain": [
       "<IPython.core.display.Markdown object>"
      ]
     },
     "metadata": {},
     "output_type": "display_data"
    },
    {
     "data": {
      "text/markdown": [
       "<span style=\"background-color: rgba(100, 200, 255, 0.006414223928004503);\">oh</span> <span style=\"background-color: rgba(100, 200, 255, 0.0176861472427845);\">my</span> <span style=\"background-color: rgba(100, 200, 255, 0.10977280139923096);\">god</span> <span style=\"background-color: rgba(100, 200, 255, 0.00648970901966095);\">what</span> <span style=\"background-color: rgba(100, 200, 255, 0.04880295321345329);\">s</span> <span style=\"background-color: rgba(100, 200, 255, 0.0036420428659766912);\">he</span> <span style=\"background-color: rgba(100, 200, 255, 0.013174657709896564);\">gonna</span> <span style=\"background-color: rgba(100, 200, 255, 0.015076834708452225);\">do</span> <span style=\"background-color: rgba(100, 200, 255, 0.02633698657155037);\">now</span> <span style=\"background-color: rgba(100, 200, 255, 0.0022284667938947678);\">i</span> <span style=\"background-color: rgba(100, 200, 255, 0.0021912576630711555);\">can</span> <span style=\"background-color: rgba(100, 200, 255, 0.0021293500903993845);\">t</span> <span style=\"background-color: rgba(100, 200, 255, 0.002941410755738616);\">watch</span> <span style=\"background-color: rgba(100, 200, 255, 0.009809266775846481);\">oh</span> <span style=\"background-color: rgba(100, 200, 255, 0.4852861762046814);\">seriously</span> <span style=\"background-color: rgba(100, 200, 255, 0.02917792648077011);\">how</span> <span style=\"background-color: rgba(100, 200, 255, 0.03020300716161728);\">can</span> <span style=\"background-color: rgba(100, 200, 255, 0.008871412836015224);\">you</span> <span style=\"background-color: rgba(100, 200, 255, 0.16017162799835205);\">watch</span> <span style=\"background-color: rgba(100, 200, 255, 0.04566313698887825);\">this</span> <span style=\"background-color: rgba(100, 200, 255, 0.0824153870344162);\">aren</span> <span style=\"background-color: rgba(100, 200, 255, 0.3778926134109497);\">t</span> <span style=\"background-color: rgba(100, 200, 255, 0.281912237405777);\">you</span> <span style=\"background-color: rgba(100, 200, 255, 1.0);\">scared</span>"
      ],
      "text/plain": [
       "<IPython.core.display.Markdown object>"
      ]
     },
     "metadata": {},
     "output_type": "display_data"
    },
    {
     "data": {
      "text/markdown": [
       "<span style=\"background-color: rgba(100, 200, 255, 0.07582349330186844);\">oh</span> <span style=\"background-color: rgba(100, 200, 255, 1.0);\">god</span> <span style=\"background-color: rgba(100, 200, 255, 0.7196759581565857);\">come</span> <span style=\"background-color: rgba(100, 200, 255, 0.536285400390625);\">on</span> <span style=\"background-color: rgba(100, 200, 255, 0.004770785104483366);\">you</span> <span style=\"background-color: rgba(100, 200, 255, 0.13070636987686157);\">guys</span> <span style=\"background-color: rgba(100, 200, 255, 0.0021861563436686993);\">is</span> <span style=\"background-color: rgba(100, 200, 255, 0.0010460726916790009);\">this</span> <span style=\"background-color: rgba(100, 200, 255, 0.0015797005034983158);\">really</span> <span style=\"background-color: rgba(100, 200, 255, 0.00456799054518342);\">necessary</span> <span style=\"background-color: rgba(100, 200, 255, 0.0017708931118249893);\">i</span> <span style=\"background-color: rgba(100, 200, 255, 0.0030967711936682463);\">mean</span> <span style=\"background-color: rgba(100, 200, 255, 0.0019217106746509671);\">i</span> <span style=\"background-color: rgba(100, 200, 255, 0.00032915122574195266);\">can</span> <span style=\"background-color: rgba(100, 200, 255, 0.0011524794390425086);\">stop</span> <span style=\"background-color: rgba(100, 200, 255, 0.0017435485497117043);\">charging</span> <span style=\"background-color: rgba(100, 200, 255, 0.0015628680121153593);\">anytime</span> <span style=\"background-color: rgba(100, 200, 255, 0.00027055596001446247);\">i</span> <span style=\"background-color: rgba(100, 200, 255, 3.559785909601487e-05);\">want</span>"
      ],
      "text/plain": [
       "<IPython.core.display.Markdown object>"
      ]
     },
     "metadata": {},
     "output_type": "display_data"
    },
    {
     "data": {
      "text/markdown": [
       "<span style=\"background-color: rgba(100, 200, 255, 6.414749805117026e-05);\">i</span> <span style=\"background-color: rgba(100, 200, 255, 0.00753314234316349);\">uh</span> <span style=\"background-color: rgba(100, 200, 255, 0.00011532188364071772);\">i</span> <span style=\"background-color: rgba(100, 200, 255, 0.002078443532809615);\">have</span> <span style=\"background-color: rgba(100, 200, 255, 0.004993457347154617);\">two</span> <span style=\"background-color: rgba(100, 200, 255, 0.09313791990280151);\">tickets</span> <span style=\"background-color: rgba(100, 200, 255, 0.023026037961244583);\">to</span> <span style=\"background-color: rgba(100, 200, 255, 0.03810527175664902);\">the</span> <span style=\"background-color: rgba(100, 200, 255, 1.0);\">knicks</span> <span style=\"background-color: rgba(100, 200, 255, 0.0027520109433680773);\">game</span> <span style=\"background-color: rgba(100, 200, 255, 0.0012384550645947456);\">tonight</span> <span style=\"background-color: rgba(100, 200, 255, 0.00014288767124526203);\">if</span> <span style=\"background-color: rgba(100, 200, 255, 8.620365406386554e-05);\">you</span> <span style=\"background-color: rgba(100, 200, 255, 2.3155618691816926e-05);\">re</span> <span style=\"background-color: rgba(100, 200, 255, 1.4303907846624497e-05);\">interested</span> <span style=\"background-color: rgba(100, 200, 255, 2.0189197869058262e-07);\">just</span> <span style=\"background-color: rgba(100, 200, 255, 3.055035051602317e-07);\">as</span> <span style=\"background-color: rgba(100, 200, 255, 3.9552853081659123e-07);\">a</span> <span style=\"background-color: rgba(100, 200, 255, 4.636417543224525e-06);\">thank</span> <span style=\"background-color: rgba(100, 200, 255, 9.801185569813242e-07);\">you</span> <span style=\"background-color: rgba(100, 200, 255, 5.047857484896667e-06);\">for</span> <span style=\"background-color: rgba(100, 200, 255, 2.2045835521566914e-06);\">this</span> <span style=\"background-color: rgba(100, 200, 255, 3.817510332737584e-06);\">week</span>"
      ],
      "text/plain": [
       "<IPython.core.display.Markdown object>"
      ]
     },
     "metadata": {},
     "output_type": "display_data"
    },
    {
     "data": {
      "text/markdown": [
       "<span style=\"background-color: rgba(100, 200, 255, 0.008005348965525627);\">oh</span> <span style=\"background-color: rgba(100, 200, 255, 0.002141459146514535);\">my</span> <span style=\"background-color: rgba(100, 200, 255, 0.006734105292707682);\">god</span> <span style=\"background-color: rgba(100, 200, 255, 0.0012993214186280966);\">i</span> <span style=\"background-color: rgba(100, 200, 255, 0.0008776879403740168);\">cannot</span> <span style=\"background-color: rgba(100, 200, 255, 0.0015323610277846456);\">keep</span> <span style=\"background-color: rgba(100, 200, 255, 0.00045244782813824713);\">having</span> <span style=\"background-color: rgba(100, 200, 255, 2.353857780690305e-05);\">this</span> <span style=\"background-color: rgba(100, 200, 255, 0.00013534720346797258);\">same</span> <span style=\"background-color: rgba(100, 200, 255, 0.007509858813136816);\">fight</span> <span style=\"background-color: rgba(100, 200, 255, 0.004024045076221228);\">with</span> <span style=\"background-color: rgba(100, 200, 255, 0.00814437959343195);\">you</span> <span style=\"background-color: rgba(100, 200, 255, 1.0);\">ross</span> <span style=\"background-color: rgba(100, 200, 255, 6.438634591177106e-05);\">look</span> <span style=\"background-color: rgba(100, 200, 255, 0.00013502335059456527);\">urrgh</span> <span style=\"background-color: rgba(100, 200, 255, 3.813367948168889e-05);\">maybe</span> <span style=\"background-color: rgba(100, 200, 255, 3.7640227674273774e-05);\">we</span> <span style=\"background-color: rgba(100, 200, 255, 6.870280230941717e-06);\">should</span> <span style=\"background-color: rgba(100, 200, 255, 1.0236062735202722e-05);\">take</span> <span style=\"background-color: rgba(100, 200, 255, 1.6159947335836478e-06);\">a</span> <span style=\"background-color: rgba(100, 200, 255, 1.367984623357188e-05);\">break</span>"
      ],
      "text/plain": [
       "<IPython.core.display.Markdown object>"
      ]
     },
     "metadata": {},
     "output_type": "display_data"
    },
    {
     "data": {
      "text/markdown": [
       "<span style=\"background-color: rgba(100, 200, 255, 0.3228308856487274);\">i</span> <span style=\"background-color: rgba(100, 200, 255, 0.6178691387176514);\">don</span> <span style=\"background-color: rgba(100, 200, 255, 0.1885058879852295);\">t</span> <span style=\"background-color: rgba(100, 200, 255, 1.0);\">care</span> <span style=\"background-color: rgba(100, 200, 255, 0.0017588639166206121);\">the</span> <span style=\"background-color: rgba(100, 200, 255, 0.01762491837143898);\">wires</span> <span style=\"background-color: rgba(100, 200, 255, 5.740764026995748e-05);\">have</span> <span style=\"background-color: rgba(100, 200, 255, 4.8878158850129694e-05);\">come</span> <span style=\"background-color: rgba(100, 200, 255, 0.0001439092302462086);\">loose</span> <span style=\"background-color: rgba(100, 200, 255, 1.2550430028568371e-06);\">in</span> <span style=\"background-color: rgba(100, 200, 255, 3.1667186703998595e-05);\">your</span> <span style=\"background-color: rgba(100, 200, 255, 0.0008176668779924512);\">head</span>"
      ],
      "text/plain": [
       "<IPython.core.display.Markdown object>"
      ]
     },
     "metadata": {},
     "output_type": "display_data"
    },
    {
     "data": {
      "text/markdown": [
       "<span style=\"background-color: rgba(100, 200, 255, 0.0030703754164278507);\">february</span> <span style=\"background-color: rgba(100, 200, 255, 0.006586835719645023);\">2nd</span>"
      ],
      "text/plain": [
       "<IPython.core.display.Markdown object>"
      ]
     },
     "metadata": {},
     "output_type": "display_data"
    },
    {
     "data": {
      "text/markdown": [
       "<span style=\"background-color: rgba(100, 200, 255, 0.05533500388264656);\">y</span> <span style=\"background-color: rgba(100, 200, 255, 0.00820220448076725);\">know</span> <span style=\"background-color: rgba(100, 200, 255, 0.06624636054039001);\">who</span> <span style=\"background-color: rgba(100, 200, 255, 0.0012904973700642586);\">doesn</span> <span style=\"background-color: rgba(100, 200, 255, 0.0010291828075423837);\">t</span> <span style=\"background-color: rgba(100, 200, 255, 0.003165846224874258);\">even</span> <span style=\"background-color: rgba(100, 200, 255, 0.0054557910189032555);\">like</span> <span style=\"background-color: rgba(100, 200, 255, 0.05469413846731186);\">dirty</span> <span style=\"background-color: rgba(100, 200, 255, 1.0);\">movies</span> <span style=\"background-color: rgba(100, 200, 255, 0.19639086723327637);\">my</span> <span style=\"background-color: rgba(100, 200, 255, 0.9593332409858704);\">new</span> <span style=\"background-color: rgba(100, 200, 255, 0.6947365999221802);\">boyfriend</span> <span style=\"background-color: rgba(100, 200, 255, 0.7607965469360352);\">joshua</span>"
      ],
      "text/plain": [
       "<IPython.core.display.Markdown object>"
      ]
     },
     "metadata": {},
     "output_type": "display_data"
    },
    {
     "data": {
      "text/markdown": [
       "<span style=\"background-color: rgba(100, 200, 255, 8.698803139850497e-05);\">come</span> <span style=\"background-color: rgba(100, 200, 255, 0.0006317744264379144);\">on</span> <span style=\"background-color: rgba(100, 200, 255, 1.0);\">ross</span> <span style=\"background-color: rgba(100, 200, 255, 7.047989129205234e-06);\">you</span> <span style=\"background-color: rgba(100, 200, 255, 6.88158834236674e-05);\">said</span> <span style=\"background-color: rgba(100, 200, 255, 2.742934157140553e-06);\">you</span> <span style=\"background-color: rgba(100, 200, 255, 7.12151359039126e-06);\">wanted</span> <span style=\"background-color: rgba(100, 200, 255, 2.4136579668265767e-06);\">to</span> <span style=\"background-color: rgba(100, 200, 255, 3.948273842979688e-06);\">talk</span> <span style=\"background-color: rgba(100, 200, 255, 7.613465641043149e-06);\">about</span> <span style=\"background-color: rgba(100, 200, 255, 2.1044288587290794e-06);\">it</span> <span style=\"background-color: rgba(100, 200, 255, 5.317631348589202e-06);\">let</span> <span style=\"background-color: rgba(100, 200, 255, 3.651754695965792e-06);\">s</span> <span style=\"background-color: rgba(100, 200, 255, 6.246697921596933e-06);\">talk</span> <span style=\"background-color: rgba(100, 200, 255, 5.297288680594647e-06);\">about</span> <span style=\"background-color: rgba(100, 200, 255, 1.4270055999077158e-06);\">it</span> <span style=\"background-color: rgba(100, 200, 255, 1.012646134768147e-05);\">how</span> <span style=\"background-color: rgba(100, 200, 255, 3.015685933860368e-06);\">was</span> <span style=\"background-color: rgba(100, 200, 255, 4.720591277873609e-06);\">she</span>"
      ],
      "text/plain": [
       "<IPython.core.display.Markdown object>"
      ]
     },
     "metadata": {},
     "output_type": "display_data"
    },
    {
     "data": {
      "text/markdown": [
       "<span style=\"background-color: rgba(100, 200, 255, 0.001844359328970313);\">all</span> <span style=\"background-color: rgba(100, 200, 255, 0.02271684817969799);\">right</span> <span style=\"background-color: rgba(100, 200, 255, 0.012650958262383938);\">listen</span> <span style=\"background-color: rgba(100, 200, 255, 1.0);\">smirky</span> <span style=\"background-color: rgba(100, 200, 255, 0.01266363263130188);\">if</span> <span style=\"background-color: rgba(100, 200, 255, 0.004138300195336342);\">it</span> <span style=\"background-color: rgba(100, 200, 255, 0.0263209231197834);\">wasnt</span> <span style=\"background-color: rgba(100, 200, 255, 0.036954350769519806);\">for</span> <span style=\"background-color: rgba(100, 200, 255, 0.007754190359264612);\">you</span> <span style=\"background-color: rgba(100, 200, 255, 0.013067008927464485);\">and</span> <span style=\"background-color: rgba(100, 200, 255, 0.001201977371238172);\">your</span> <span style=\"background-color: rgba(100, 200, 255, 0.002296973718330264);\">stupid</span> <span style=\"background-color: rgba(100, 200, 255, 0.01768399588763714);\">balloon</span> <span style=\"background-color: rgba(100, 200, 255, 2.638065097926301e-06);\">i</span> <span style=\"background-color: rgba(100, 200, 255, 5.087310341878037e-07);\">would</span> <span style=\"background-color: rgba(100, 200, 255, 2.858620007373247e-07);\">be</span> <span style=\"background-color: rgba(100, 200, 255, 3.803530290724666e-08);\">on</span> <span style=\"background-color: rgba(100, 200, 255, 1.1070535066437515e-07);\">a</span> <span style=\"background-color: rgba(100, 200, 255, 3.018115535269317e-07);\">plane</span> <span style=\"background-color: rgba(100, 200, 255, 3.2200307487073587e-07);\">watching</span> <span style=\"background-color: rgba(100, 200, 255, 3.882387602516246e-07);\">a</span> <span style=\"background-color: rgba(100, 200, 255, 2.897928425227292e-06);\">woman</span> <span style=\"background-color: rgba(100, 200, 255, 3.446087504244133e-08);\">do</span> <span style=\"background-color: rgba(100, 200, 255, 2.0411738432812854e-07);\">this</span> <span style=\"background-color: rgba(100, 200, 255, 1.9898791379091563e-06);\">right</span> <span style=\"background-color: rgba(100, 200, 255, 7.463812039532058e-07);\">now</span> <span style=\"background-color: rgba(100, 200, 255, 1.2828843409806723e-06);\">but</span> <span style=\"background-color: rgba(100, 200, 255, 7.433986866089981e-06);\">im</span> <span style=\"background-color: rgba(100, 200, 255, 6.878241833874199e-07);\">not</span>"
      ],
      "text/plain": [
       "<IPython.core.display.Markdown object>"
      ]
     },
     "metadata": {},
     "output_type": "display_data"
    },
    {
     "data": {
      "text/markdown": [
       "## Ross"
      ],
      "text/plain": [
       "<IPython.core.display.Markdown object>"
      ]
     },
     "metadata": {},
     "output_type": "display_data"
    },
    {
     "data": {
      "text/markdown": [
       "<span style=\"background-color: rgba(100, 200, 255, 0.07703255861997604);\">he</span> <span style=\"background-color: rgba(100, 200, 255, 0.044536788016557693);\">does</span> <span style=\"background-color: rgba(100, 200, 255, 0.0390160009264946);\">not</span> <span style=\"background-color: rgba(100, 200, 255, 0.06760749220848083);\">look</span> <span style=\"background-color: rgba(100, 200, 255, 0.13482093811035156);\">happy</span>"
      ],
      "text/plain": [
       "<IPython.core.display.Markdown object>"
      ]
     },
     "metadata": {},
     "output_type": "display_data"
    },
    {
     "data": {
      "text/markdown": [
       "<span style=\"background-color: rgba(100, 200, 255, 0.14332197606563568);\">listen</span> <span style=\"background-color: rgba(100, 200, 255, 0.45521384477615356);\">im</span> <span style=\"background-color: rgba(100, 200, 255, 0.05489939823746681);\">in</span> <span style=\"background-color: rgba(100, 200, 255, 1.0);\">elizabeth</span> <span style=\"background-color: rgba(100, 200, 255, 0.0004488420963753015);\">bathroom</span>"
      ],
      "text/plain": [
       "<IPython.core.display.Markdown object>"
      ]
     },
     "metadata": {},
     "output_type": "display_data"
    },
    {
     "data": {
      "text/markdown": [
       "<span style=\"background-color: rgba(100, 200, 255, 0.027300529181957245);\">yeah</span> <span style=\"background-color: rgba(100, 200, 255, 0.1714341938495636);\">yeah</span>"
      ],
      "text/plain": [
       "<IPython.core.display.Markdown object>"
      ]
     },
     "metadata": {},
     "output_type": "display_data"
    },
    {
     "data": {
      "text/markdown": [
       "<span style=\"background-color: rgba(100, 200, 255, 0.003739031031727791);\">that</span> <span style=\"background-color: rgba(100, 200, 255, 0.015747765079140663);\">right</span> <span style=\"background-color: rgba(100, 200, 255, 1.0);\">uh</span> <span style=\"background-color: rgba(100, 200, 255, 0.8682045936584473);\">elizabeth</span> <span style=\"background-color: rgba(100, 200, 255, 0.016592159867286682);\">hornswoggle</span>"
      ],
      "text/plain": [
       "<IPython.core.display.Markdown object>"
      ]
     },
     "metadata": {},
     "output_type": "display_data"
    },
    {
     "data": {
      "text/markdown": [
       "<span style=\"background-color: rgba(100, 200, 255, 0.18519306182861328);\">thanks</span> <span style=\"background-color: rgba(100, 200, 255, 1.0);\">thank</span> <span style=\"background-color: rgba(100, 200, 255, 0.20602764189243317);\">you</span>"
      ],
      "text/plain": [
       "<IPython.core.display.Markdown object>"
      ]
     },
     "metadata": {},
     "output_type": "display_data"
    },
    {
     "data": {
      "text/markdown": [
       "<span style=\"background-color: rgba(100, 200, 255, 0.7531822323799133);\">when</span> <span style=\"background-color: rgba(100, 200, 255, 0.37148717045783997);\">when</span> <span style=\"background-color: rgba(100, 200, 255, 0.43317580223083496);\">were</span> <span style=\"background-color: rgba(100, 200, 255, 0.050514884293079376);\">you</span> <span style=\"background-color: rgba(100, 200, 255, 0.19360581040382385);\">under</span> <span style=\"background-color: rgba(100, 200, 255, 0.07893803715705872);\">me</span>"
      ],
      "text/plain": [
       "<IPython.core.display.Markdown object>"
      ]
     },
     "metadata": {},
     "output_type": "display_data"
    },
    {
     "data": {
      "text/markdown": [
       "<span style=\"background-color: rgba(100, 200, 255, 0.019217079505324364);\">now</span> <span style=\"background-color: rgba(100, 200, 255, 0.011263429187238216);\">hold</span> <span style=\"background-color: rgba(100, 200, 255, 0.0018683616071939468);\">on</span> <span style=\"background-color: rgba(100, 200, 255, 0.001765105640515685);\">hold</span> <span style=\"background-color: rgba(100, 200, 255, 0.002729624742642045);\">on</span> <span style=\"background-color: rgba(100, 200, 255, 0.005713967606425285);\">look</span> <span style=\"background-color: rgba(100, 200, 255, 0.004736295435577631);\">look</span> <span style=\"background-color: rgba(100, 200, 255, 0.010145123116672039);\">your</span> <span style=\"background-color: rgba(100, 200, 255, 0.11204534769058228);\">daughter</span> <span style=\"background-color: rgba(100, 200, 255, 0.0003013394889421761);\">and</span> <span style=\"background-color: rgba(100, 200, 255, 8.691708899277728e-06);\">i</span> <span style=\"background-color: rgba(100, 200, 255, 1.994784179260023e-05);\">are</span> <span style=\"background-color: rgba(100, 200, 255, 4.448037088877754e-06);\">supposed</span> <span style=\"background-color: rgba(100, 200, 255, 6.895118076499784e-06);\">to</span> <span style=\"background-color: rgba(100, 200, 255, 4.921399522572756e-05);\">leave</span> <span style=\"background-color: rgba(100, 200, 255, 0.00013753632083535194);\">tonight</span> <span style=\"background-color: rgba(100, 200, 255, 0.0004346590139903128);\">for</span> <span style=\"background-color: rgba(100, 200, 255, 0.012906597927212715);\">our</span> <span style=\"background-color: rgba(100, 200, 255, 1.0);\">honeymoon</span> <span style=\"background-color: rgba(100, 200, 255, 0.002936427015811205);\">now</span> <span style=\"background-color: rgba(100, 200, 255, 0.004918260965496302);\">now</span> <span style=\"background-color: rgba(100, 200, 255, 0.002196111250668764);\">you</span> <span style=\"background-color: rgba(100, 200, 255, 0.0030682063661515713);\">you</span> <span style=\"background-color: rgba(100, 200, 255, 0.010644731111824512);\">tell</span> <span style=\"background-color: rgba(100, 200, 255, 0.0878535807132721);\">her</span> <span style=\"background-color: rgba(100, 200, 255, 0.004609192721545696);\">that</span> <span style=\"background-color: rgba(100, 200, 255, 0.004478776827454567);\">i</span> <span style=\"background-color: rgba(100, 200, 255, 0.022522583603858948);\">m</span> <span style=\"background-color: rgba(100, 200, 255, 0.003340324154123664);\">gonna</span> <span style=\"background-color: rgba(100, 200, 255, 0.0008319853222928941);\">be</span> <span style=\"background-color: rgba(100, 200, 255, 9.22187973628752e-05);\">at</span> <span style=\"background-color: rgba(100, 200, 255, 0.00020358756592031568);\">that</span> <span style=\"color: red;\">|</span> <span style=\"background-color: rgba(100, 200, 255, 0);\">airport</span> <span style=\"background-color: rgba(100, 200, 255, 0);\">and</span> <span style=\"background-color: rgba(100, 200, 255, 0);\">i</span> <span style=\"background-color: rgba(100, 200, 255, 0);\">hope</span> <span style=\"background-color: rgba(100, 200, 255, 0);\">that</span> <span style=\"background-color: rgba(100, 200, 255, 0);\">she</span> <span style=\"background-color: rgba(100, 200, 255, 0);\">ll</span> <span style=\"background-color: rgba(100, 200, 255, 0);\">be</span> <span style=\"background-color: rgba(100, 200, 255, 0);\">there</span> <span style=\"background-color: rgba(100, 200, 255, 0);\">too</span> <span style=\"background-color: rgba(100, 200, 255, 0);\">oh</span> <span style=\"background-color: rgba(100, 200, 255, 0);\">yeah</span> <span style=\"background-color: rgba(100, 200, 255, 0);\">i</span> <span style=\"background-color: rgba(100, 200, 255, 0);\">said</span> <span style=\"background-color: rgba(100, 200, 255, 0);\">rachel</span> <span style=\"background-color: rgba(100, 200, 255, 0);\">s</span> <span style=\"background-color: rgba(100, 200, 255, 0);\">name</span> <span style=\"background-color: rgba(100, 200, 255, 0);\">but</span> <span style=\"background-color: rgba(100, 200, 255, 0);\">it</span> <span style=\"background-color: rgba(100, 200, 255, 0);\">didn</span> <span style=\"background-color: rgba(100, 200, 255, 0);\">t</span> <span style=\"background-color: rgba(100, 200, 255, 0);\">mean</span> <span style=\"background-color: rgba(100, 200, 255, 0);\">anything</span> <span style=\"background-color: rgba(100, 200, 255, 0);\">okay</span> <span style=\"background-color: rgba(100, 200, 255, 0);\">she</span> <span style=\"background-color: rgba(100, 200, 255, 0);\">s</span> <span style=\"background-color: rgba(100, 200, 255, 0);\">she</span> <span style=\"background-color: rgba(100, 200, 255, 0);\">s</span> <span style=\"background-color: rgba(100, 200, 255, 0);\">just</span> <span style=\"background-color: rgba(100, 200, 255, 0);\">a</span> <span style=\"background-color: rgba(100, 200, 255, 0);\">friend</span> <span style=\"background-color: rgba(100, 200, 255, 0);\">and</span> <span style=\"background-color: rgba(100, 200, 255, 0);\">that</span> <span style=\"background-color: rgba(100, 200, 255, 0);\">s</span> <span style=\"background-color: rgba(100, 200, 255, 0);\">all</span> <span style=\"background-color: rgba(100, 200, 255, 0);\">that</span> <span style=\"background-color: rgba(100, 200, 255, 0);\">s</span> <span style=\"background-color: rgba(100, 200, 255, 0);\">all</span> <span style=\"background-color: rgba(100, 200, 255, 0);\">now</span> <span style=\"background-color: rgba(100, 200, 255, 0);\">just</span> <span style=\"background-color: rgba(100, 200, 255, 0);\">tell</span> <span style=\"background-color: rgba(100, 200, 255, 0);\">emily</span> <span style=\"background-color: rgba(100, 200, 255, 0);\">that</span> <span style=\"background-color: rgba(100, 200, 255, 0);\">i</span> <span style=\"background-color: rgba(100, 200, 255, 0);\">love</span> <span style=\"background-color: rgba(100, 200, 255, 0);\">her</span> <span style=\"background-color: rgba(100, 200, 255, 0);\">and</span> <span style=\"background-color: rgba(100, 200, 255, 0);\">that</span> <span style=\"background-color: rgba(100, 200, 255, 0);\">i</span> <span style=\"background-color: rgba(100, 200, 255, 0);\">can</span> <span style=\"background-color: rgba(100, 200, 255, 0);\">t</span> <span style=\"background-color: rgba(100, 200, 255, 0);\">imagine</span> <span style=\"background-color: rgba(100, 200, 255, 0);\">spending</span> <span style=\"background-color: rgba(100, 200, 255, 0);\">my</span> <span style=\"background-color: rgba(100, 200, 255, 0);\">life</span> <span style=\"background-color: rgba(100, 200, 255, 0);\">with</span> <span style=\"background-color: rgba(100, 200, 255, 0);\">anyone</span> <span style=\"background-color: rgba(100, 200, 255, 0);\">else</span> <span style=\"background-color: rgba(100, 200, 255, 0);\">please</span> <span style=\"background-color: rgba(100, 200, 255, 0);\">promise</span> <span style=\"background-color: rgba(100, 200, 255, 0);\">me</span> <span style=\"background-color: rgba(100, 200, 255, 0);\">that</span> <span style=\"background-color: rgba(100, 200, 255, 0);\">you</span> <span style=\"background-color: rgba(100, 200, 255, 0);\">ll</span> <span style=\"background-color: rgba(100, 200, 255, 0);\">tell</span> <span style=\"background-color: rgba(100, 200, 255, 0);\">her</span> <span style=\"background-color: rgba(100, 200, 255, 0);\">that</span>"
      ],
      "text/plain": [
       "<IPython.core.display.Markdown object>"
      ]
     },
     "metadata": {},
     "output_type": "display_data"
    },
    {
     "data": {
      "text/markdown": [
       "<span style=\"background-color: rgba(100, 200, 255, 0.01022968627512455);\">what</span> <span style=\"background-color: rgba(100, 200, 255, 1.0);\">rach</span>"
      ],
      "text/plain": [
       "<IPython.core.display.Markdown object>"
      ]
     },
     "metadata": {},
     "output_type": "display_data"
    },
    {
     "data": {
      "text/markdown": [
       "<span style=\"background-color: rgba(100, 200, 255, 0.00965914037078619);\">oh</span> <span style=\"background-color: rgba(100, 200, 255, 1.0);\">hi</span> <span style=\"background-color: rgba(100, 200, 255, 0.3595210313796997);\">hello</span> <span style=\"background-color: rgba(100, 200, 255, 0.6137773990631104);\">uh</span> <span style=\"background-color: rgba(100, 200, 255, 0.09454847872257233);\">have</span> <span style=\"background-color: rgba(100, 200, 255, 0.017581559717655182);\">you</span> <span style=\"background-color: rgba(100, 200, 255, 0.02372807078063488);\">come</span> <span style=\"background-color: rgba(100, 200, 255, 0.002605823799967766);\">to</span> <span style=\"background-color: rgba(100, 200, 255, 0.00295836734585464);\">ask</span> <span style=\"background-color: rgba(100, 200, 255, 0.00368168274872005);\">me</span> <span style=\"background-color: rgba(100, 200, 255, 0.0007468390977010131);\">some</span> <span style=\"background-color: rgba(100, 200, 255, 0.00016329882782883942);\">more</span> <span style=\"background-color: rgba(100, 200, 255, 0.0002736770547926426);\">paleontology</span> <span style=\"background-color: rgba(100, 200, 255, 3.124165232293308e-05);\">related</span> <span style=\"background-color: rgba(100, 200, 255, 0.00011661551252473146);\">questions</span> <span style=\"background-color: rgba(100, 200, 255, 7.2326056397287175e-06);\">uhm</span> <span style=\"background-color: rgba(100, 200, 255, 5.078059530205792e-06);\">your</span> <span style=\"background-color: rgba(100, 200, 255, 8.361664072253916e-07);\">grandmother</span> <span style=\"background-color: rgba(100, 200, 255, 4.4259553533265716e-07);\">nickname</span> <span style=\"background-color: rgba(100, 200, 255, 1.0640395657901536e-06);\">perhaps</span> <span style=\"background-color: rgba(100, 200, 255, 1.8026528891823546e-07);\">aunt</span> <span style=\"background-color: rgba(100, 200, 255, 1.1325501958481254e-07);\">margaret</span> <span style=\"background-color: rgba(100, 200, 255, 3.273850381901866e-07);\">pants</span> <span style=\"background-color: rgba(100, 200, 255, 5.437293566501467e-07);\">size</span>"
      ],
      "text/plain": [
       "<IPython.core.display.Markdown object>"
      ]
     },
     "metadata": {},
     "output_type": "display_data"
    },
    {
     "data": {
      "text/markdown": [
       "<span style=\"background-color: rgba(100, 200, 255, 0.027608107775449753);\">okay</span> <span style=\"background-color: rgba(100, 200, 255, 1.0);\">look</span> <span style=\"background-color: rgba(100, 200, 255, 0.04392049089074135);\">i</span> <span style=\"background-color: rgba(100, 200, 255, 0.025602756068110466);\">i</span> <span style=\"background-color: rgba(100, 200, 255, 0.1577392816543579);\">know</span> <span style=\"background-color: rgba(100, 200, 255, 0.03360207378864288);\">what</span> <span style=\"background-color: rgba(100, 200, 255, 0.0049329642206430435);\">you</span> <span style=\"background-color: rgba(100, 200, 255, 0.12652620673179626);\">guys</span> <span style=\"background-color: rgba(100, 200, 255, 0.00045738706830888987);\">are</span> <span style=\"background-color: rgba(100, 200, 255, 0.000307369336951524);\">going</span> <span style=\"background-color: rgba(100, 200, 255, 2.4535867851227522e-05);\">to</span> <span style=\"background-color: rgba(100, 200, 255, 2.3782386051607318e-05);\">say</span>"
      ],
      "text/plain": [
       "<IPython.core.display.Markdown object>"
      ]
     },
     "metadata": {},
     "output_type": "display_data"
    },
    {
     "data": {
      "text/markdown": [
       "<span style=\"background-color: rgba(100, 200, 255, 6.850015779491514e-05);\">the</span> <span style=\"background-color: rgba(100, 200, 255, 0.00017091094923671335);\">eyes</span> <span style=\"background-color: rgba(100, 200, 255, 0.00035772117553278804);\">did</span> <span style=\"background-color: rgba(100, 200, 255, 0.0004750486114062369);\">still</span> <span style=\"background-color: rgba(100, 200, 255, 1.0);\">sparkle</span>"
      ],
      "text/plain": [
       "<IPython.core.display.Markdown object>"
      ]
     },
     "metadata": {},
     "output_type": "display_data"
    },
    {
     "data": {
      "text/markdown": [
       "<span style=\"background-color: rgba(100, 200, 255, 0.14243271946907043);\">no</span> <span style=\"background-color: rgba(100, 200, 255, 0.1963709443807602);\">she</span> <span style=\"background-color: rgba(100, 200, 255, 0.0546233244240284);\">was</span> <span style=\"background-color: rgba(100, 200, 255, 0.013964046724140644);\">definitely</span> <span style=\"background-color: rgba(100, 200, 255, 0.006529714446514845);\">on</span> <span style=\"background-color: rgba(100, 200, 255, 0.0044373925775289536);\">my</span> <span style=\"background-color: rgba(100, 200, 255, 0.07030864804983139);\">bed</span>"
      ],
      "text/plain": [
       "<IPython.core.display.Markdown object>"
      ]
     },
     "metadata": {},
     "output_type": "display_data"
    },
    {
     "data": {
      "text/markdown": [
       "<span style=\"background-color: rgba(100, 200, 255, 0.014448592439293861);\">hey</span> <span style=\"background-color: rgba(100, 200, 255, 1.0);\">uh</span> <span style=\"background-color: rgba(100, 200, 255, 0.00541296973824501);\">i</span> <span style=\"background-color: rgba(100, 200, 255, 0.011038461700081825);\">thought</span> <span style=\"background-color: rgba(100, 200, 255, 0.001993578625842929);\">i</span> <span style=\"background-color: rgba(100, 200, 255, 0.005702024791389704);\">thought</span> <span style=\"background-color: rgba(100, 200, 255, 0.0011052697664126754);\">you</span> <span style=\"background-color: rgba(100, 200, 255, 0.025894884020090103);\">were</span> <span style=\"background-color: rgba(100, 200, 255, 0.0017397664487361908);\">at</span> <span style=\"background-color: rgba(100, 200, 255, 0.015228049829602242);\">table</span> <span style=\"background-color: rgba(100, 200, 255, 0.0004500274080783129);\">six</span>"
      ],
      "text/plain": [
       "<IPython.core.display.Markdown object>"
      ]
     },
     "metadata": {},
     "output_type": "display_data"
    },
    {
     "data": {
      "text/markdown": [
       "<span style=\"background-color: rgba(100, 200, 255, 0.009988709352910519);\">youve</span> <span style=\"background-color: rgba(100, 200, 255, 0.0033358740620315075);\">tasted</span> <span style=\"background-color: rgba(100, 200, 255, 0.011045674793422222);\">it</span> <span style=\"background-color: rgba(100, 200, 255, 0.050672776997089386);\">youve</span> <span style=\"background-color: rgba(100, 200, 255, 0.03490229696035385);\">tasted</span> <span style=\"background-color: rgba(100, 200, 255, 0.043698180466890335);\">it</span>"
      ],
      "text/plain": [
       "<IPython.core.display.Markdown object>"
      ]
     },
     "metadata": {},
     "output_type": "display_data"
    },
    {
     "data": {
      "text/markdown": [
       "<span style=\"background-color: rgba(100, 200, 255, 0.004402988590300083);\">that</span> <span style=\"background-color: rgba(100, 200, 255, 0.01930381916463375);\">said</span> <span style=\"background-color: rgba(100, 200, 255, 0.00559264374896884);\">it</span> <span style=\"background-color: rgba(100, 200, 255, 0.0038196847308427095);\">was</span> <span style=\"background-color: rgba(100, 200, 255, 0.006692464463412762);\">my</span> <span style=\"background-color: rgba(100, 200, 255, 1.0);\">sandwich</span>"
      ],
      "text/plain": [
       "<IPython.core.display.Markdown object>"
      ]
     },
     "metadata": {},
     "output_type": "display_data"
    },
    {
     "data": {
      "text/markdown": [
       "<span style=\"background-color: rgba(100, 200, 255, 1.0);\">dude</span> <span style=\"background-color: rgba(100, 200, 255, 4.0119361074175686e-05);\">i</span> <span style=\"background-color: rgba(100, 200, 255, 2.3302092813537456e-05);\">need</span> <span style=\"background-color: rgba(100, 200, 255, 1.9563256046239985e-06);\">to</span> <span style=\"background-color: rgba(100, 200, 255, 1.7636448319535702e-06);\">talk</span> <span style=\"background-color: rgba(100, 200, 255, 7.842791660550574e-08);\">to</span> <span style=\"background-color: rgba(100, 200, 255, 1.931067004079523e-07);\">you</span> <span style=\"background-color: rgba(100, 200, 255, 1.9057948108525125e-08);\">a</span> <span style=\"background-color: rgba(100, 200, 255, 9.640342568673077e-08);\">sec</span>"
      ],
      "text/plain": [
       "<IPython.core.display.Markdown object>"
      ]
     },
     "metadata": {},
     "output_type": "display_data"
    },
    {
     "data": {
      "text/markdown": [
       "<span style=\"background-color: rgba(100, 200, 255, 1.0);\">susan</span> <span style=\"background-color: rgba(100, 200, 255, 0.0006369420443661511);\">go</span> <span style=\"background-color: rgba(100, 200, 255, 0.0002113898954121396);\">deep</span>"
      ],
      "text/plain": [
       "<IPython.core.display.Markdown object>"
      ]
     },
     "metadata": {},
     "output_type": "display_data"
    },
    {
     "data": {
      "text/markdown": [
       "<span style=\"background-color: rgba(100, 200, 255, 0.5190059542655945);\">the</span> <span style=\"background-color: rgba(100, 200, 255, 1.0);\">physical</span> <span style=\"background-color: rgba(100, 200, 255, 0.39485669136047363);\">act</span> <span style=\"background-color: rgba(100, 200, 255, 0.06305179744958878);\">of</span> <span style=\"background-color: rgba(100, 200, 255, 0.09519021213054657);\">love</span>"
      ],
      "text/plain": [
       "<IPython.core.display.Markdown object>"
      ]
     },
     "metadata": {},
     "output_type": "display_data"
    },
    {
     "data": {
      "text/markdown": [
       "<span style=\"background-color: rgba(100, 200, 255, 1.0);\">all</span> <span style=\"background-color: rgba(100, 200, 255, 0.23708081245422363);\">i</span> <span style=\"background-color: rgba(100, 200, 255, 0.2699214816093445);\">m</span> <span style=\"background-color: rgba(100, 200, 255, 0.03687068447470665);\">saying</span> <span style=\"background-color: rgba(100, 200, 255, 0.039731498807668686);\">is</span> <span style=\"background-color: rgba(100, 200, 255, 0.01054671872407198);\">it</span> <span style=\"background-color: rgba(100, 200, 255, 0.014009780250489712);\">s</span> <span style=\"background-color: rgba(100, 200, 255, 0.013805106282234192);\">one</span> <span style=\"background-color: rgba(100, 200, 255, 0.003241512458771467);\">thing</span> <span style=\"background-color: rgba(100, 200, 255, 0.0032947922591120005);\">being</span> <span style=\"background-color: rgba(100, 200, 255, 0.0021809192840009928);\">prepared</span> <span style=\"background-color: rgba(100, 200, 255, 0.001259219367057085);\">for</span> <span style=\"background-color: rgba(100, 200, 255, 0.0009986823424696922);\">an</span> <span style=\"background-color: rgba(100, 200, 255, 0.00021377218945417553);\">attack</span> <span style=\"background-color: rgba(100, 200, 255, 0.00024484642199240625);\">against</span> <span style=\"background-color: rgba(100, 200, 255, 1.0379988452768885e-05);\">like</span> <span style=\"background-color: rgba(100, 200, 255, 6.3353099903906696e-06);\">each</span> <span style=\"background-color: rgba(100, 200, 255, 3.1029658202896826e-06);\">other</span> <span style=\"background-color: rgba(100, 200, 255, 2.3563822537653323e-07);\">whole</span> <span style=\"background-color: rgba(100, 200, 255, 9.953173218946176e-08);\">another</span> <span style=\"background-color: rgba(100, 200, 255, 3.107267048108042e-07);\">story</span> <span style=\"background-color: rgba(100, 200, 255, 1.745320901136438e-07);\">being</span> <span style=\"background-color: rgba(100, 200, 255, 1.980601211926114e-07);\">prepared</span> <span style=\"background-color: rgba(100, 200, 255, 6.45801719656447e-07);\">for</span> <span style=\"background-color: rgba(100, 200, 255, 1.750782985254773e-06);\">an</span> <span style=\"background-color: rgba(100, 200, 255, 2.3626230358786415e-06);\">attack</span> <span style=\"background-color: rgba(100, 200, 255, 6.515611516988429e-07);\">i</span> <span style=\"background-color: rgba(100, 200, 255, 6.621784791605023e-07);\">don</span> <span style=\"background-color: rgba(100, 200, 255, 2.831044980666775e-07);\">t</span> <span style=\"background-color: rgba(100, 200, 255, 1.4220407251741563e-07);\">know</span> <span style=\"background-color: rgba(100, 200, 255, 1.0364576752408539e-07);\">like</span> <span style=\"background-color: rgba(100, 200, 255, 6.063908131181961e-08);\">a</span> <span style=\"color: red;\">|</span> <span style=\"background-color: rgba(100, 200, 255, 0);\">surprise</span>"
      ],
      "text/plain": [
       "<IPython.core.display.Markdown object>"
      ]
     },
     "metadata": {},
     "output_type": "display_data"
    },
    {
     "data": {
      "text/markdown": [
       "<span style=\"background-color: rgba(100, 200, 255, 1.0);\">come</span> <span style=\"background-color: rgba(100, 200, 255, 0.8240702152252197);\">on</span> <span style=\"background-color: rgba(100, 200, 255, 0.8210609555244446);\">i</span> <span style=\"background-color: rgba(100, 200, 255, 0.18379846215248108);\">m</span> <span style=\"background-color: rgba(100, 200, 255, 0.0074569545686244965);\">your</span> <span style=\"background-color: rgba(100, 200, 255, 0.028122659772634506);\">older</span> <span style=\"background-color: rgba(100, 200, 255, 0.002459945622831583);\">brother</span> <span style=\"background-color: rgba(100, 200, 255, 6.856600066384999e-06);\">ask</span> <span style=\"background-color: rgba(100, 200, 255, 2.053587195405271e-06);\">me</span>"
      ],
      "text/plain": [
       "<IPython.core.display.Markdown object>"
      ]
     },
     "metadata": {},
     "output_type": "display_data"
    },
    {
     "data": {
      "text/markdown": [
       "<span style=\"background-color: rgba(100, 200, 255, 0.4208779036998749);\">no</span> <span style=\"background-color: rgba(100, 200, 255, 0.49462464451789856);\">i</span> <span style=\"background-color: rgba(100, 200, 255, 0.28427842259407043);\">ll</span> <span style=\"background-color: rgba(100, 200, 255, 0.08230175077915192);\">be</span> <span style=\"background-color: rgba(100, 200, 255, 1.0);\">right</span> <span style=\"background-color: rgba(100, 200, 255, 0.6414570212364197);\">back</span>"
      ],
      "text/plain": [
       "<IPython.core.display.Markdown object>"
      ]
     },
     "metadata": {},
     "output_type": "display_data"
    },
    {
     "data": {
      "text/markdown": [
       "<span style=\"background-color: rgba(100, 200, 255, 0.13234549760818481);\">we</span> <span style=\"background-color: rgba(100, 200, 255, 0.11891782283782959);\">got</span> <span style=\"background-color: rgba(100, 200, 255, 0.4327295124530792);\">honourable</span> <span style=\"background-color: rgba(100, 200, 255, 0.01951453648507595);\">mention</span> <span style=\"background-color: rgba(100, 200, 255, 0.027820253744721413);\">in</span> <span style=\"background-color: rgba(100, 200, 255, 0.02006281167268753);\">the</span> <span style=\"background-color: rgba(100, 200, 255, 1.0);\">brother</span> <span style=\"background-color: rgba(100, 200, 255, 0.1137780100107193);\">sister</span> <span style=\"background-color: rgba(100, 200, 255, 0.006942378357052803);\">dance</span> <span style=\"background-color: rgba(100, 200, 255, 0.007717708125710487);\">category</span> <span style=\"background-color: rgba(100, 200, 255, 0.00024375002249144018);\">look</span> <span style=\"background-color: rgba(100, 200, 255, 5.568486812990159e-05);\">it</span> <span style=\"background-color: rgba(100, 200, 255, 1.2803086065105163e-05);\">s</span> <span style=\"background-color: rgba(100, 200, 255, 1.2728554793284275e-05);\">almost</span> <span style=\"background-color: rgba(100, 200, 255, 9.078915468307969e-07);\">fake</span> <span style=\"background-color: rgba(100, 200, 255, 1.6561812117288355e-06);\">midnight</span> <span style=\"background-color: rgba(100, 200, 255, 2.4177909381251084e-06);\">do</span> <span style=\"background-color: rgba(100, 200, 255, 9.268940630136058e-06);\">we</span> <span style=\"background-color: rgba(100, 200, 255, 5.1447973419271875e-06);\">really</span> <span style=\"background-color: rgba(100, 200, 255, 1.5057277778396383e-05);\">have</span> <span style=\"background-color: rgba(100, 200, 255, 9.934870831784792e-06);\">any</span> <span style=\"background-color: rgba(100, 200, 255, 6.246182601898909e-05);\">other</span> <span style=\"background-color: rgba(100, 200, 255, 8.512949716532603e-05);\">choice</span>"
      ],
      "text/plain": [
       "<IPython.core.display.Markdown object>"
      ]
     },
     "metadata": {},
     "output_type": "display_data"
    },
    {
     "data": {
      "text/markdown": [
       "<span style=\"background-color: rgba(100, 200, 255, 0.14621089398860931);\">no</span> <span style=\"background-color: rgba(100, 200, 255, 0.4593612849712372);\">no</span> <span style=\"background-color: rgba(100, 200, 255, 1.0);\">no</span> <span style=\"background-color: rgba(100, 200, 255, 0.32282379269599915);\">you</span> <span style=\"background-color: rgba(100, 200, 255, 0.07755155861377716);\">cannot</span> <span style=\"background-color: rgba(100, 200, 255, 0.17681235074996948);\">go</span> <span style=\"background-color: rgba(100, 200, 255, 0.004962310194969177);\">to</span> <span style=\"background-color: rgba(100, 200, 255, 0.04398598521947861);\">dinner</span> <span style=\"background-color: rgba(100, 200, 255, 0.0003478529106359929);\">with</span> <span style=\"background-color: rgba(100, 200, 255, 0.00152678438462317);\">him</span>"
      ],
      "text/plain": [
       "<IPython.core.display.Markdown object>"
      ]
     },
     "metadata": {},
     "output_type": "display_data"
    },
    {
     "data": {
      "text/markdown": [
       "<span style=\"background-color: rgba(100, 200, 255, 0.001223502098582685);\">ok</span> <span style=\"background-color: rgba(100, 200, 255, 1.0);\">gentlemen</span> <span style=\"background-color: rgba(100, 200, 255, 0.07436583936214447);\">please</span> <span style=\"background-color: rgba(100, 200, 255, 0.08648712933063507);\">arent</span> <span style=\"background-color: rgba(100, 200, 255, 0.0009373997454531491);\">we</span> <span style=\"background-color: rgba(100, 200, 255, 0.0005905361613258719);\">a</span> <span style=\"background-color: rgba(100, 200, 255, 0.005116772837936878);\">little</span> <span style=\"background-color: rgba(100, 200, 255, 0.01846182532608509);\">old</span> <span style=\"background-color: rgba(100, 200, 255, 0.0001599472452653572);\">for</span> <span style=\"background-color: rgba(100, 200, 255, 1.8877215552493e-05);\">this</span> <span style=\"background-color: rgba(100, 200, 255, 1.510761308054498e-06);\">i</span> <span style=\"background-color: rgba(100, 200, 255, 2.467270974193525e-07);\">mean</span> <span style=\"background-color: rgba(100, 200, 255, 2.5471388198639033e-06);\">were</span> <span style=\"background-color: rgba(100, 200, 255, 4.047636139148381e-06);\">scientists</span> <span style=\"background-color: rgba(100, 200, 255, 1.9880287993601087e-07);\">right</span> <span style=\"background-color: rgba(100, 200, 255, 2.99408299042625e-07);\">were</span> <span style=\"background-color: rgba(100, 200, 255, 4.6273422071863024e-07);\">academics</span> <span style=\"background-color: rgba(100, 200, 255, 7.824309022907983e-08);\">and</span> <span style=\"background-color: rgba(100, 200, 255, 1.4080009691497253e-07);\">most</span> <span style=\"background-color: rgba(100, 200, 255, 3.4451858255124534e-07);\">importantly</span> <span style=\"background-color: rgba(100, 200, 255, 1.219052165879475e-07);\">i</span> <span style=\"background-color: rgba(100, 200, 255, 1.2841053376178024e-07);\">you</span> <span style=\"background-color: rgba(100, 200, 255, 1.2528634840691666e-07);\">you</span> <span style=\"background-color: rgba(100, 200, 255, 6.701686743326718e-07);\">will</span> <span style=\"background-color: rgba(100, 200, 255, 1.323645392403705e-06);\">have</span> <span style=\"background-color: rgba(100, 200, 255, 6.485723815785605e-07);\">to</span> <span style=\"background-color: rgba(100, 200, 255, 3.641182956926059e-06);\">catch</span> <span style=\"background-color: rgba(100, 200, 255, 1.8396819712052093e-07);\">us</span> <span style=\"background-color: rgba(100, 200, 255, 4.46642971496658e-08);\">first</span> <span style=\"background-color: rgba(100, 200, 255, 9.868786321476364e-08);\">go</span> <span style=\"background-color: rgba(100, 200, 255, 9.46407467949939e-08);\">go</span> <span style=\"background-color: rgba(100, 200, 255, 1.0860387078537315e-07);\">go</span> <span style=\"color: red;\">|</span>"
      ],
      "text/plain": [
       "<IPython.core.display.Markdown object>"
      ]
     },
     "metadata": {},
     "output_type": "display_data"
    },
    {
     "data": {
      "text/markdown": [
       "<span style=\"background-color: rgba(100, 200, 255, 1.0);\">maybe</span> <span style=\"background-color: rgba(100, 200, 255, 0.15351372957229614);\">i</span> <span style=\"background-color: rgba(100, 200, 255, 0.03488093242049217);\">should</span> <span style=\"background-color: rgba(100, 200, 255, 0.11662366986274719);\">stand</span> <span style=\"background-color: rgba(100, 200, 255, 0.016954494640231133);\">on</span> <span style=\"background-color: rgba(100, 200, 255, 0.02478889934718609);\">your</span> <span style=\"background-color: rgba(100, 200, 255, 0.7837663888931274);\">feet</span>"
      ],
      "text/plain": [
       "<IPython.core.display.Markdown object>"
      ]
     },
     "metadata": {},
     "output_type": "display_data"
    },
    {
     "data": {
      "text/markdown": [
       "<span style=\"background-color: rgba(100, 200, 255, 1.0);\">eh</span> <span style=\"background-color: rgba(100, 200, 255, 0.030520010739564896);\">i</span> <span style=\"background-color: rgba(100, 200, 255, 0.284629762172699);\">mean</span> <span style=\"background-color: rgba(100, 200, 255, 0.07851425558328629);\">i</span> <span style=\"background-color: rgba(100, 200, 255, 0.45346659421920776);\">mena</span> <span style=\"background-color: rgba(100, 200, 255, 0.029203468933701515);\">she</span> <span style=\"background-color: rgba(100, 200, 255, 0.00797693058848381);\">not</span> <span style=\"background-color: rgba(100, 200, 255, 0.044161953032016754);\">unattractive</span> <span style=\"background-color: rgba(100, 200, 255, 0.011117708869278431);\">but</span> <span style=\"background-color: rgba(100, 200, 255, 0.3771826922893524);\">hot</span> <span style=\"background-color: rgba(100, 200, 255, 0.015083522535860538);\">i</span>"
      ],
      "text/plain": [
       "<IPython.core.display.Markdown object>"
      ]
     },
     "metadata": {},
     "output_type": "display_data"
    },
    {
     "data": {
      "text/markdown": [
       "<span style=\"background-color: rgba(100, 200, 255, 0.1503087282180786);\">no</span> <span style=\"background-color: rgba(100, 200, 255, 0.5384551882743835);\">when</span> <span style=\"background-color: rgba(100, 200, 255, 0.15846587717533112);\">he</span> <span style=\"background-color: rgba(100, 200, 255, 0.22100847959518433);\">called</span> <span style=\"background-color: rgba(100, 200, 255, 0.02406485378742218);\">i</span> <span style=\"background-color: rgba(100, 200, 255, 0.012417055666446686);\">i</span> <span style=\"background-color: rgba(100, 200, 255, 1.0);\">threw</span> <span style=\"background-color: rgba(100, 200, 255, 0.0002607308852020651);\">the</span> <span style=\"background-color: rgba(100, 200, 255, 0.00047916319454088807);\">message</span> <span style=\"background-color: rgba(100, 200, 255, 0.0004213852225802839);\">away</span>"
      ],
      "text/plain": [
       "<IPython.core.display.Markdown object>"
      ]
     },
     "metadata": {},
     "output_type": "display_data"
    },
    {
     "data": {
      "text/markdown": [
       "<span style=\"background-color: rgba(100, 200, 255, 0.002287832088768482);\">youre</span> <span style=\"background-color: rgba(100, 200, 255, 0.007313665468245745);\">wrong</span>"
      ],
      "text/plain": [
       "<IPython.core.display.Markdown object>"
      ]
     },
     "metadata": {},
     "output_type": "display_data"
    },
    {
     "data": {
      "text/markdown": [
       "<span style=\"background-color: rgba(100, 200, 255, 0.011614936403930187);\">nobody</span> <span style=\"background-color: rgba(100, 200, 255, 0.6833168268203735);\">likes</span> <span style=\"background-color: rgba(100, 200, 255, 0.15373171865940094);\">change</span>"
      ],
      "text/plain": [
       "<IPython.core.display.Markdown object>"
      ]
     },
     "metadata": {},
     "output_type": "display_data"
    },
    {
     "data": {
      "text/markdown": [
       "<span style=\"background-color: rgba(100, 200, 255, 0.03499779850244522);\">yeah</span> <span style=\"background-color: rgba(100, 200, 255, 0.01993878185749054);\">no</span> <span style=\"background-color: rgba(100, 200, 255, 0.2717514634132385);\">problem</span>"
      ],
      "text/plain": [
       "<IPython.core.display.Markdown object>"
      ]
     },
     "metadata": {},
     "output_type": "display_data"
    },
    {
     "data": {
      "text/markdown": [
       "<span style=\"background-color: rgba(100, 200, 255, 0.8439669013023376);\">and</span> <span style=\"background-color: rgba(100, 200, 255, 1.0);\">break</span>"
      ],
      "text/plain": [
       "<IPython.core.display.Markdown object>"
      ]
     },
     "metadata": {},
     "output_type": "display_data"
    },
    {
     "data": {
      "text/markdown": [
       "<span style=\"background-color: rgba(100, 200, 255, 1.0);\">well</span> <span style=\"background-color: rgba(100, 200, 255, 0.21087023615837097);\">i</span> <span style=\"background-color: rgba(100, 200, 255, 0.2504274845123291);\">ll</span> <span style=\"background-color: rgba(100, 200, 255, 0.10283592343330383);\">i</span> <span style=\"background-color: rgba(100, 200, 255, 0.08186867833137512);\">ll</span> <span style=\"background-color: rgba(100, 200, 255, 0.023907776921987534);\">be</span> <span style=\"background-color: rgba(100, 200, 255, 0.016325727105140686);\">there</span> <span style=\"background-color: rgba(100, 200, 255, 0.0034265026915818453);\">i</span> <span style=\"background-color: rgba(100, 200, 255, 0.003465390531346202);\">mean</span> <span style=\"background-color: rgba(100, 200, 255, 0.0004176648217253387);\">i</span> <span style=\"background-color: rgba(100, 200, 255, 0.00023051303287502378);\">have</span> <span style=\"background-color: rgba(100, 200, 255, 3.151035707560368e-05);\">to</span> <span style=\"background-color: rgba(100, 200, 255, 1.3806191418552771e-05);\">wear</span> <span style=\"background-color: rgba(100, 200, 255, 3.288048219474149e-06);\">a</span> <span style=\"background-color: rgba(100, 200, 255, 0.001514355419203639);\">costume</span> <span style=\"background-color: rgba(100, 200, 255, 3.857040155708091e-06);\">to</span> <span style=\"background-color: rgba(100, 200, 255, 1.4671883036498912e-05);\">all</span> <span style=\"background-color: rgba(100, 200, 255, 3.951181497541256e-06);\">my</span> <span style=\"background-color: rgba(100, 200, 255, 7.039109277684474e-06);\">classes</span> <span style=\"background-color: rgba(100, 200, 255, 1.4598647624097794e-07);\">that</span> <span style=\"background-color: rgba(100, 200, 255, 6.020739533596497e-07);\">day</span> <span style=\"background-color: rgba(100, 200, 255, 4.606372883131371e-08);\">anyway</span> <span style=\"background-color: rgba(100, 200, 255, 8.263155848453607e-08);\">so</span>"
      ],
      "text/plain": [
       "<IPython.core.display.Markdown object>"
      ]
     },
     "metadata": {},
     "output_type": "display_data"
    },
    {
     "data": {
      "text/markdown": [
       "<span style=\"background-color: rgba(100, 200, 255, 0.0005396967171691358);\">yeah</span> <span style=\"background-color: rgba(100, 200, 255, 0.0019281799905002117);\">so</span> <span style=\"background-color: rgba(100, 200, 255, 0.010562688112258911);\">um</span> <span style=\"background-color: rgba(100, 200, 255, 0.002122005680575967);\">i</span> <span style=\"background-color: rgba(100, 200, 255, 0.00043392967199906707);\">i</span> <span style=\"background-color: rgba(100, 200, 255, 0.0020299148745834827);\">heard</span> <span style=\"background-color: rgba(100, 200, 255, 0.00021276582265272737);\">about</span> <span style=\"background-color: rgba(100, 200, 255, 4.2258627217961475e-05);\">this</span> <span style=\"background-color: rgba(100, 200, 255, 0.018336795270442963);\">ah</span> <span style=\"background-color: rgba(100, 200, 255, 0.006086008623242378);\">mark</span> <span style=\"background-color: rgba(100, 200, 255, 0.041332654654979706);\">guy</span> <span style=\"background-color: rgba(100, 200, 255, 0.004442496690899134);\">that</span> <span style=\"background-color: rgba(100, 200, 255, 1.0);\">ah</span> <span style=\"background-color: rgba(100, 200, 255, 0.007000742480158806);\">rachel</span> <span style=\"background-color: rgba(100, 200, 255, 6.304237558651948e-07);\">met</span> <span style=\"background-color: rgba(100, 200, 255, 2.792838358800509e-06);\">today</span>"
      ],
      "text/plain": [
       "<IPython.core.display.Markdown object>"
      ]
     },
     "metadata": {},
     "output_type": "display_data"
    },
    {
     "data": {
      "text/markdown": [
       "<span style=\"background-color: rgba(100, 200, 255, 1.0);\">professor</span> <span style=\"background-color: rgba(100, 200, 255, 0.002811120357364416);\">sherman</span> <span style=\"background-color: rgba(100, 200, 255, 0.0005979207344353199);\">yeah</span> <span style=\"background-color: rgba(100, 200, 255, 0.00027777854120358825);\">ive</span> <span style=\"background-color: rgba(100, 200, 255, 0.00011607017950154841);\">a</span> <span style=\"background-color: rgba(100, 200, 255, 0.0001478900812799111);\">meeting</span> <span style=\"background-color: rgba(100, 200, 255, 1.2691379197349306e-05);\">with</span> <span style=\"background-color: rgba(100, 200, 255, 1.2787259947799612e-05);\">him</span> <span style=\"background-color: rgba(100, 200, 255, 2.145824510080274e-06);\">today</span>"
      ],
      "text/plain": [
       "<IPython.core.display.Markdown object>"
      ]
     },
     "metadata": {},
     "output_type": "display_data"
    },
    {
     "data": {
      "text/markdown": [
       "<span style=\"background-color: rgba(100, 200, 255, 0.0028007575310766697);\">hey</span> <span style=\"background-color: rgba(100, 200, 255, 0.027775008231401443);\">y</span> <span style=\"background-color: rgba(100, 200, 255, 0.2975976765155792);\">know</span> <span style=\"background-color: rgba(100, 200, 255, 0.07793617248535156);\">what</span> <span style=\"background-color: rgba(100, 200, 255, 1.0);\">nickname</span> <span style=\"background-color: rgba(100, 200, 255, 0.0003840491990558803);\">never</span> <span style=\"background-color: rgba(100, 200, 255, 0.00023657642304897308);\">caught</span> <span style=\"background-color: rgba(100, 200, 255, 9.331171168014407e-05);\">on</span> <span style=\"background-color: rgba(100, 200, 255, 0.0009021147270686924);\">the</span> <span style=\"background-color: rgba(100, 200, 255, 0.0015894315438345075);\">ross</span> <span style=\"background-color: rgba(100, 200, 255, 3.759323590202257e-05);\">a</span> <span style=\"background-color: rgba(100, 200, 255, 0.00010449041292304173);\">tron</span>"
      ],
      "text/plain": [
       "<IPython.core.display.Markdown object>"
      ]
     },
     "metadata": {},
     "output_type": "display_data"
    },
    {
     "data": {
      "text/markdown": [
       "<span style=\"background-color: rgba(100, 200, 255, 0.013330579735338688);\">okay</span> <span style=\"background-color: rgba(100, 200, 255, 0.04558344930410385);\">okay</span> <span style=\"background-color: rgba(100, 200, 255, 1.0);\">y</span> <span style=\"background-color: rgba(100, 200, 255, 0.3071574866771698);\">know</span> <span style=\"background-color: rgba(100, 200, 255, 0.04184959456324577);\">what</span> <span style=\"background-color: rgba(100, 200, 255, 0.010990158654749393);\">if</span> <span style=\"background-color: rgba(100, 200, 255, 0.0060347034595906734);\">you</span> <span style=\"background-color: rgba(100, 200, 255, 0.004837561398744583);\">want</span> <span style=\"background-color: rgba(100, 200, 255, 0.0019140461226925254);\">to</span> <span style=\"background-color: rgba(100, 200, 255, 0.003930929582566023);\">we</span> <span style=\"background-color: rgba(100, 200, 255, 0.0021306867711246014);\">can</span> <span style=\"background-color: rgba(100, 200, 255, 0.008105984888970852);\">do</span> <span style=\"background-color: rgba(100, 200, 255, 0.00423094816505909);\">it</span> <span style=\"background-color: rgba(100, 200, 255, 0.05579579994082451);\">one</span> <span style=\"background-color: rgba(100, 200, 255, 0.011602685786783695);\">more</span> <span style=\"background-color: rgba(100, 200, 255, 0.07027177512645721);\">time</span> <span style=\"background-color: rgba(100, 200, 255, 0.023778848350048065);\">i</span> <span style=\"background-color: rgba(100, 200, 255, 0.030979853123426437);\">mean</span> <span style=\"background-color: rgba(100, 200, 255, 0.019084973260760307);\">i</span> <span style=\"background-color: rgba(100, 200, 255, 0.10795026272535324);\">d</span> <span style=\"background-color: rgba(100, 200, 255, 0.00480254553258419);\">i</span> <span style=\"background-color: rgba(100, 200, 255, 0.011213361285626888);\">d</span> <span style=\"background-color: rgba(100, 200, 255, 0.002033879514783621);\">be</span> <span style=\"background-color: rgba(100, 200, 255, 0.00942998006939888);\">okay</span> <span style=\"background-color: rgba(100, 200, 255, 0.006925888825207949);\">with</span> <span style=\"background-color: rgba(100, 200, 255, 0.009094277396798134);\">that</span> <span style=\"background-color: rgba(100, 200, 255, 0.022250711917877197);\">in</span> <span style=\"background-color: rgba(100, 200, 255, 0.021748840808868408);\">fact</span> <span style=\"background-color: rgba(100, 200, 255, 0.10226058214902878);\">i</span> <span style=\"background-color: rgba(100, 200, 255, 0.04911156743764877);\">have</span> <span style=\"background-color: rgba(100, 200, 255, 0.01926807314157486);\">some</span> <span style=\"background-color: rgba(100, 200, 255, 0.04609571024775505);\">time</span> <span style=\"color: red;\">|</span> <span style=\"background-color: rgba(100, 200, 255, 0);\">right</span> <span style=\"background-color: rgba(100, 200, 255, 0);\">now</span>"
      ],
      "text/plain": [
       "<IPython.core.display.Markdown object>"
      ]
     },
     "metadata": {},
     "output_type": "display_data"
    },
    {
     "data": {
      "text/markdown": [
       "<span style=\"background-color: rgba(100, 200, 255, 1.0);\">maybe</span> <span style=\"background-color: rgba(100, 200, 255, 0.6332203149795532);\">but</span> <span style=\"background-color: rgba(100, 200, 255, 0.16715267300605774);\">it</span> <span style=\"background-color: rgba(100, 200, 255, 0.3480986952781677);\">wouldn</span> <span style=\"background-color: rgba(100, 200, 255, 0.10392031818628311);\">t</span> <span style=\"background-color: rgba(100, 200, 255, 0.3634764552116394);\">hurt</span> <span style=\"background-color: rgba(100, 200, 255, 0.0007130412850528955);\">to</span> <span style=\"background-color: rgba(100, 200, 255, 0.0002753402222879231);\">have</span> <span style=\"background-color: rgba(100, 200, 255, 4.104938489035703e-05);\">a</span> <span style=\"background-color: rgba(100, 200, 255, 0.041278619319200516);\">backup</span> <span style=\"background-color: rgba(100, 200, 255, 0.00031367773772217333);\">you</span> <span style=\"background-color: rgba(100, 200, 255, 0.0001842761121224612);\">know</span> <span style=\"background-color: rgba(100, 200, 255, 0.012412307783961296);\">uh</span> <span style=\"background-color: rgba(100, 200, 255, 0.3422923982143402);\">rach</span> <span style=\"background-color: rgba(100, 200, 255, 0.4054458737373352);\">rach</span> <span style=\"background-color: rgba(100, 200, 255, 0.003969878423959017);\">what</span> <span style=\"background-color: rgba(100, 200, 255, 0.0008932337514124811);\">were</span> <span style=\"background-color: rgba(100, 200, 255, 0.0004558726795949042);\">you</span> <span style=\"background-color: rgba(100, 200, 255, 0.0001880328927654773);\">thinking</span>"
      ],
      "text/plain": [
       "<IPython.core.display.Markdown object>"
      ]
     },
     "metadata": {},
     "output_type": "display_data"
    },
    {
     "data": {
      "text/markdown": [
       "<span style=\"background-color: rgba(100, 200, 255, 0.0074309431947767735);\">oh</span> <span style=\"background-color: rgba(100, 200, 255, 0.029751934111118317);\">great</span> <span style=\"background-color: rgba(100, 200, 255, 0.17634761333465576);\">hey</span> <span style=\"background-color: rgba(100, 200, 255, 1.0);\">hey</span> <span style=\"background-color: rgba(100, 200, 255, 0.185090109705925);\">joey</span> <span style=\"background-color: rgba(100, 200, 255, 0.007101236376911402);\">do</span> <span style=\"background-color: rgba(100, 200, 255, 0.0015005156164988875);\">you</span> <span style=\"background-color: rgba(100, 200, 255, 0.0013048970140516758);\">want</span> <span style=\"background-color: rgba(100, 200, 255, 0.0009069492225535214);\">to</span> <span style=\"background-color: rgba(100, 200, 255, 0.003831372130662203);\">check</span> <span style=\"background-color: rgba(100, 200, 255, 0.003241807920858264);\">out</span> <span style=\"background-color: rgba(100, 200, 255, 0.03030860610306263);\">pictures</span> <span style=\"background-color: rgba(100, 200, 255, 0.004245106130838394);\">of</span> <span style=\"background-color: rgba(100, 200, 255, 0.035880498588085175);\">me</span> <span style=\"background-color: rgba(100, 200, 255, 0.002527422970160842);\">and</span> <span style=\"background-color: rgba(100, 200, 255, 0.0010775878326967359);\">mona</span> <span style=\"background-color: rgba(100, 200, 255, 0.0002408326108707115);\">ice</span> <span style=\"background-color: rgba(100, 200, 255, 0.0002368908899370581);\">skating</span>"
      ],
      "text/plain": [
       "<IPython.core.display.Markdown object>"
      ]
     },
     "metadata": {},
     "output_type": "display_data"
    },
    {
     "data": {
      "text/markdown": [
       "<span style=\"background-color: rgba(100, 200, 255, 0.34359508752822876);\">why</span> <span style=\"background-color: rgba(100, 200, 255, 0.21851231157779694);\">what</span>"
      ],
      "text/plain": [
       "<IPython.core.display.Markdown object>"
      ]
     },
     "metadata": {},
     "output_type": "display_data"
    },
    {
     "data": {
      "text/markdown": [
       "<span style=\"background-color: rgba(100, 200, 255, 1.0);\">i</span> <span style=\"background-color: rgba(100, 200, 255, 0.15963678061962128);\">made</span> <span style=\"background-color: rgba(100, 200, 255, 0.08545210212469101);\">her</span> <span style=\"background-color: rgba(100, 200, 255, 0.3995695412158966);\">favorite</span> <span style=\"background-color: rgba(100, 200, 255, 0.18324200809001923);\">tuna</span> <span style=\"background-color: rgba(100, 200, 255, 0.11637255549430847);\">salad</span> <span style=\"background-color: rgba(100, 200, 255, 0.006784594617784023);\">with</span> <span style=\"background-color: rgba(100, 200, 255, 0.2071487009525299);\">pickles</span>"
      ],
      "text/plain": [
       "<IPython.core.display.Markdown object>"
      ]
     },
     "metadata": {},
     "output_type": "display_data"
    },
    {
     "data": {
      "text/markdown": [
       "<span style=\"background-color: rgba(100, 200, 255, 0.17336797714233398);\">no</span> <span style=\"background-color: rgba(100, 200, 255, 0.7722888588905334);\">no</span> <span style=\"background-color: rgba(100, 200, 255, 0.8139010667800903);\">we</span> <span style=\"background-color: rgba(100, 200, 255, 0.64030522108078);\">want</span> <span style=\"background-color: rgba(100, 200, 255, 0.18526488542556763);\">to</span> <span style=\"background-color: rgba(100, 200, 255, 0.23577313125133514);\">wait</span> <span style=\"background-color: rgba(100, 200, 255, 0.7008474469184875);\">right</span>"
      ],
      "text/plain": [
       "<IPython.core.display.Markdown object>"
      ]
     },
     "metadata": {},
     "output_type": "display_data"
    },
    {
     "data": {
      "text/markdown": [
       "<span style=\"background-color: rgba(100, 200, 255, 1.0);\">the</span> <span style=\"background-color: rgba(100, 200, 255, 0.1121179535984993);\">carbon</span> <span style=\"background-color: rgba(100, 200, 255, 0.08338647335767746);\">it</span> <span style=\"background-color: rgba(100, 200, 255, 0.04797249287366867);\">s</span> <span style=\"background-color: rgba(100, 200, 255, 0.27862969040870667);\">messy</span> <span style=\"background-color: rgba(100, 200, 255, 0.00807152595371008);\">i</span> <span style=\"background-color: rgba(100, 200, 255, 0.0021590483374893665);\">mean</span> <span style=\"background-color: rgba(100, 200, 255, 0.000665886967908591);\">it</span> <span style=\"background-color: rgba(100, 200, 255, 0.004135818686336279);\">gets</span> <span style=\"background-color: rgba(100, 200, 255, 0.001077412161976099);\">on</span> <span style=\"background-color: rgba(100, 200, 255, 0.0013269466580823064);\">your</span> <span style=\"background-color: rgba(100, 200, 255, 0.09738677740097046);\">fingers</span> <span style=\"background-color: rgba(100, 200, 255, 0.042484089732170105);\">and</span> <span style=\"background-color: rgba(100, 200, 255, 0.06560102105140686);\">causes</span> <span style=\"background-color: rgba(100, 200, 255, 0.005395739804953337);\">the</span> <span style=\"background-color: rgba(100, 200, 255, 0.004821756388992071);\">the</span> <span style=\"background-color: rgba(100, 200, 255, 0.5857590436935425);\">ah</span> <span style=\"background-color: rgba(100, 200, 255, 0.0008417326607741416);\">night</span> <span style=\"background-color: rgba(100, 200, 255, 0.0009598836186341941);\">blindness</span>"
      ],
      "text/plain": [
       "<IPython.core.display.Markdown object>"
      ]
     },
     "metadata": {},
     "output_type": "display_data"
    },
    {
     "data": {
      "text/markdown": [
       "<span style=\"background-color: rgba(100, 200, 255, 0.9507580995559692);\">huh</span> <span style=\"background-color: rgba(100, 200, 255, 0.27647504210472107);\">i</span> <span style=\"background-color: rgba(100, 200, 255, 0.5741794109344482);\">took</span> <span style=\"background-color: rgba(100, 200, 255, 0.04517591744661331);\">a</span> <span style=\"background-color: rgba(100, 200, 255, 1.0);\">shot</span> <span style=\"background-color: rgba(100, 200, 255, 0.06549008190631866);\">there</span>"
      ],
      "text/plain": [
       "<IPython.core.display.Markdown object>"
      ]
     },
     "metadata": {},
     "output_type": "display_data"
    },
    {
     "data": {
      "text/markdown": [
       "<span style=\"background-color: rgba(100, 200, 255, 0.007909352891147137);\">wait</span> <span style=\"background-color: rgba(100, 200, 255, 0.0006264225230552256);\">a</span> <span style=\"background-color: rgba(100, 200, 255, 0.00041216297540813684);\">minute</span> <span style=\"background-color: rgba(100, 200, 255, 1.0270413440593984e-05);\">i</span> <span style=\"background-color: rgba(100, 200, 255, 3.899826879205648e-06);\">saw</span> <span style=\"background-color: rgba(100, 200, 255, 1.7281347481912235e-06);\">that</span> <span style=\"background-color: rgba(100, 200, 255, 5.395856987888692e-06);\">on</span> <span style=\"background-color: rgba(100, 200, 255, 1.2653647900151554e-05);\">the</span> <span style=\"background-color: rgba(100, 200, 255, 0.0001815015566535294);\">discovery</span> <span style=\"background-color: rgba(100, 200, 255, 6.785918230889365e-05);\">channel</span> <span style=\"background-color: rgba(100, 200, 255, 7.20470052328892e-05);\">yeah</span> <span style=\"background-color: rgba(100, 200, 255, 0.00015208369586616755);\">about</span> <span style=\"background-color: rgba(100, 200, 255, 0.0025505968369543552);\">jellyfish</span> <span style=\"background-color: rgba(100, 200, 255, 0.010761752724647522);\">and</span> <span style=\"background-color: rgba(100, 200, 255, 0.006655660457909107);\">how</span> <span style=\"background-color: rgba(100, 200, 255, 0.005911523476243019);\">if</span> <span style=\"background-color: rgba(100, 200, 255, 0.0040307799354195595);\">you</span> <span style=\"background-color: rgba(100, 200, 255, 0.017621202394366264);\">ewwww</span> <span style=\"background-color: rgba(100, 200, 255, 0.0017838184721767902);\">you</span> <span style=\"background-color: rgba(100, 200, 255, 1.0);\">peed</span> <span style=\"background-color: rgba(100, 200, 255, 0.0019017471931874752);\">on</span> <span style=\"background-color: rgba(100, 200, 255, 0.006789511069655418);\">yourself</span>"
      ],
      "text/plain": [
       "<IPython.core.display.Markdown object>"
      ]
     },
     "metadata": {},
     "output_type": "display_data"
    },
    {
     "data": {
      "text/markdown": [
       "<span style=\"background-color: rgba(100, 200, 255, 1.0);\">hi</span> <span style=\"background-color: rgba(100, 200, 255, 0.13075630366802216);\">is</span> <span style=\"background-color: rgba(100, 200, 255, 0.05604955926537514);\">uh</span> <span style=\"background-color: rgba(100, 200, 255, 0.3035121262073517);\">is</span> <span style=\"background-color: rgba(100, 200, 255, 0.24317827820777893);\">carol</span> <span style=\"background-color: rgba(100, 200, 255, 0.0038859627675265074);\">here</span>"
      ],
      "text/plain": [
       "<IPython.core.display.Markdown object>"
      ]
     },
     "metadata": {},
     "output_type": "display_data"
    },
    {
     "data": {
      "text/markdown": [
       "<span style=\"background-color: rgba(100, 200, 255, 0.11215045303106308);\">okay</span> <span style=\"background-color: rgba(100, 200, 255, 0.5476428866386414);\">each</span> <span style=\"background-color: rgba(100, 200, 255, 1.0);\">team</span> <span style=\"background-color: rgba(100, 200, 255, 0.014582891948521137);\">will</span> <span style=\"background-color: rgba(100, 200, 255, 0.03791438415646553);\">answer</span> <span style=\"background-color: rgba(100, 200, 255, 0.022308945655822754);\">ten</span> <span style=\"background-color: rgba(100, 200, 255, 0.003807283006608486);\">questions</span> <span style=\"background-color: rgba(100, 200, 255, 0.0003854668466374278);\">the</span> <span style=\"background-color: rgba(100, 200, 255, 0.00013708519691135734);\">first</span> <span style=\"background-color: rgba(100, 200, 255, 1.7659262084634975e-05);\">team</span> <span style=\"background-color: rgba(100, 200, 255, 1.2137987823734875e-06);\">that</span> <span style=\"background-color: rgba(100, 200, 255, 7.745534844616486e-07);\">answers</span> <span style=\"background-color: rgba(100, 200, 255, 5.06785397647036e-07);\">the</span> <span style=\"background-color: rgba(100, 200, 255, 1.2568012834890396e-06);\">most</span> <span style=\"background-color: rgba(100, 200, 255, 1.752002390276175e-06);\">questions</span> <span style=\"background-color: rgba(100, 200, 255, 7.002945068279587e-08);\">wins</span> <span style=\"background-color: rgba(100, 200, 255, 1.685817885288543e-08);\">okay</span> <span style=\"background-color: rgba(100, 200, 255, 4.2439051384235427e-08);\">the</span> <span style=\"background-color: rgba(100, 200, 255, 1.6360924348646222e-07);\">categories</span> <span style=\"background-color: rgba(100, 200, 255, 4.4782186847669436e-08);\">are</span> <span style=\"background-color: rgba(100, 200, 255, 6.001898356089441e-08);\">fears</span> <span style=\"background-color: rgba(100, 200, 255, 3.196180742293109e-08);\">and</span> <span style=\"background-color: rgba(100, 200, 255, 2.495899487087172e-09);\">pet</span> <span style=\"background-color: rgba(100, 200, 255, 7.226992693176726e-08);\">peeves</span> <span style=\"background-color: rgba(100, 200, 255, 7.322189077285657e-08);\">ancient</span> <span style=\"background-color: rgba(100, 200, 255, 2.1979968778396142e-07);\">history</span> <span style=\"background-color: rgba(100, 200, 255, 8.75696741786669e-07);\">literature</span> <span style=\"background-color: rgba(100, 200, 255, 1.8862458261992288e-07);\">and</span> <span style=\"background-color: rgba(100, 200, 255, 1.6558472282213188e-07);\">it</span> <span style=\"background-color: rgba(100, 200, 255, 5.3070724703729866e-08);\">s</span> <span style=\"background-color: rgba(100, 200, 255, 2.5588678909116425e-07);\">all</span> <span style=\"background-color: rgba(100, 200, 255, 3.7732525015599094e-07);\">relative</span> <span style=\"color: red;\">|</span> <span style=\"background-color: rgba(100, 200, 255, 0);\">now</span> <span style=\"background-color: rgba(100, 200, 255, 0);\">the</span> <span style=\"background-color: rgba(100, 200, 255, 0);\">coin</span> <span style=\"background-color: rgba(100, 200, 255, 0);\">toss</span> <span style=\"background-color: rgba(100, 200, 255, 0);\">to</span> <span style=\"background-color: rgba(100, 200, 255, 0);\">see</span> <span style=\"background-color: rgba(100, 200, 255, 0);\">who</span> <span style=\"background-color: rgba(100, 200, 255, 0);\">goes</span> <span style=\"background-color: rgba(100, 200, 255, 0);\">first</span> <span style=\"background-color: rgba(100, 200, 255, 0);\">okay</span> <span style=\"background-color: rgba(100, 200, 255, 0);\">somebody</span> <span style=\"background-color: rgba(100, 200, 255, 0);\">call</span> <span style=\"background-color: rgba(100, 200, 255, 0);\">it</span> <span style=\"background-color: rgba(100, 200, 255, 0);\">this</span> <span style=\"background-color: rgba(100, 200, 255, 0);\">time</span>"
      ],
      "text/plain": [
       "<IPython.core.display.Markdown object>"
      ]
     },
     "metadata": {},
     "output_type": "display_data"
    },
    {
     "data": {
      "text/markdown": [
       "<span style=\"background-color: rgba(100, 200, 255, 0.528052806854248);\">it</span> <span style=\"background-color: rgba(100, 200, 255, 1.0);\">took</span> <span style=\"background-color: rgba(100, 200, 255, 0.40084075927734375);\">two</span> <span style=\"background-color: rgba(100, 200, 255, 0.200667604804039);\">people</span> <span style=\"background-color: rgba(100, 200, 255, 0.007196083199232817);\">to</span> <span style=\"background-color: rgba(100, 200, 255, 0.04481589421629906);\">break</span> <span style=\"background-color: rgba(100, 200, 255, 0.0011929505271837115);\">up</span> <span style=\"background-color: rgba(100, 200, 255, 0.0008338603074662387);\">this</span> <span style=\"background-color: rgba(100, 200, 255, 0.006398000754415989);\">relationship</span>"
      ],
      "text/plain": [
       "<IPython.core.display.Markdown object>"
      ]
     },
     "metadata": {},
     "output_type": "display_data"
    },
    {
     "data": {
      "text/markdown": [
       "<span style=\"background-color: rgba(100, 200, 255, 0.03745407238602638);\">umm</span> <span style=\"background-color: rgba(100, 200, 255, 0.48663055896759033);\">say</span> <span style=\"background-color: rgba(100, 200, 255, 0.2278200089931488);\">i</span> <span style=\"background-color: rgba(100, 200, 255, 0.08262308686971664);\">i</span> <span style=\"background-color: rgba(100, 200, 255, 1.0);\">opened</span> <span style=\"background-color: rgba(100, 200, 255, 0.09212180972099304);\">this</span> <span style=\"background-color: rgba(100, 200, 255, 0.7103526592254639);\">earlier</span> <span style=\"background-color: rgba(100, 200, 255, 0.13391761481761932);\">but</span> <span style=\"background-color: rgba(100, 200, 255, 0.02511444501578808);\">let</span> <span style=\"background-color: rgba(100, 200, 255, 0.02048557437956333);\">me</span> <span style=\"background-color: rgba(100, 200, 255, 0.03845392167568207);\">give</span> <span style=\"background-color: rgba(100, 200, 255, 0.019289199262857437);\">you</span> <span style=\"background-color: rgba(100, 200, 255, 0.15720781683921814);\">guys</span> <span style=\"background-color: rgba(100, 200, 255, 0.012775273993611336);\">some</span> <span style=\"background-color: rgba(100, 200, 255, 0.1466069519519806);\">privacy</span>"
      ],
      "text/plain": [
       "<IPython.core.display.Markdown object>"
      ]
     },
     "metadata": {},
     "output_type": "display_data"
    },
    {
     "data": {
      "text/markdown": [
       "## Chandler"
      ],
      "text/plain": [
       "<IPython.core.display.Markdown object>"
      ]
     },
     "metadata": {},
     "output_type": "display_data"
    },
    {
     "data": {
      "text/markdown": [
       "<span style=\"background-color: rgba(100, 200, 255, 1.0);\">were</span> <span style=\"background-color: rgba(100, 200, 255, 0.05857189744710922);\">not</span> <span style=\"background-color: rgba(100, 200, 255, 0.7862294316291809);\">were</span> <span style=\"background-color: rgba(100, 200, 255, 0.08106785267591476);\">not</span> <span style=\"background-color: rgba(100, 200, 255, 0.05031224712729454);\">saying</span> <span style=\"background-color: rgba(100, 200, 255, 0.2533881962299347);\">anything</span>"
      ],
      "text/plain": [
       "<IPython.core.display.Markdown object>"
      ]
     },
     "metadata": {},
     "output_type": "display_data"
    },
    {
     "data": {
      "text/markdown": [
       "<span style=\"background-color: rgba(100, 200, 255, 0.2910729944705963);\">what</span> <span style=\"background-color: rgba(100, 200, 255, 0.4590176045894623);\">happened</span>"
      ],
      "text/plain": [
       "<IPython.core.display.Markdown object>"
      ]
     },
     "metadata": {},
     "output_type": "display_data"
    },
    {
     "data": {
      "text/markdown": [
       "<span style=\"background-color: rgba(100, 200, 255, 0.39905980229377747);\">all</span> <span style=\"background-color: rgba(100, 200, 255, 0.05389523506164551);\">my</span> <span style=\"background-color: rgba(100, 200, 255, 0.47528180480003357);\">energy</span> <span style=\"background-color: rgba(100, 200, 255, 0.011411560699343681);\">is</span> <span style=\"background-color: rgba(100, 200, 255, 0.0179742518812418);\">going</span> <span style=\"background-color: rgba(100, 200, 255, 0.4804621934890747);\">into</span> <span style=\"background-color: rgba(100, 200, 255, 0.018424928188323975);\">not</span> <span style=\"background-color: rgba(100, 200, 255, 0.13134923577308655);\">asking</span> <span style=\"background-color: rgba(100, 200, 255, 0.0274188369512558);\">that</span> <span style=\"background-color: rgba(100, 200, 255, 0.28249233961105347);\">question</span> <span style=\"background-color: rgba(100, 200, 255, 0.015785183757543564);\">i</span> <span style=\"background-color: rgba(100, 200, 255, 0.030324731022119522);\">can</span> <span style=\"background-color: rgba(100, 200, 255, 0.017947666347026825);\">t</span> <span style=\"background-color: rgba(100, 200, 255, 0.0320516973733902);\">believe</span> <span style=\"background-color: rgba(100, 200, 255, 0.02664933167397976);\">i</span> <span style=\"background-color: rgba(100, 200, 255, 1.0);\">screwed</span> <span style=\"background-color: rgba(100, 200, 255, 0.0026950386818498373);\">this</span> <span style=\"background-color: rgba(100, 200, 255, 0.013011908158659935);\">up</span>"
      ],
      "text/plain": [
       "<IPython.core.display.Markdown object>"
      ]
     },
     "metadata": {},
     "output_type": "display_data"
    },
    {
     "data": {
      "text/markdown": [
       "<span style=\"background-color: rgba(100, 200, 255, 0.001700717257335782);\">i</span> <span style=\"background-color: rgba(100, 200, 255, 0.0007396295550279319);\">can</span> <span style=\"background-color: rgba(100, 200, 255, 0.0008313896250911057);\">explain</span> <span style=\"background-color: rgba(100, 200, 255, 1.0);\">joey</span>"
      ],
      "text/plain": [
       "<IPython.core.display.Markdown object>"
      ]
     },
     "metadata": {},
     "output_type": "display_data"
    },
    {
     "data": {
      "text/markdown": [
       "<span style=\"background-color: rgba(100, 200, 255, 0.30724039673805237);\">im</span> <span style=\"background-color: rgba(100, 200, 255, 0.07609936594963074);\">so</span> <span style=\"background-color: rgba(100, 200, 255, 0.48895299434661865);\">sorry</span> <span style=\"background-color: rgba(100, 200, 255, 0.07385818660259247);\">but</span> <span style=\"background-color: rgba(100, 200, 255, 0.017556244507431984);\">you</span> <span style=\"background-color: rgba(100, 200, 255, 0.0036909477785229683);\">should</span> <span style=\"background-color: rgba(100, 200, 255, 0.0048326109535992146);\">have</span> <span style=\"background-color: rgba(100, 200, 255, 0.0018993709236383438);\">a</span> <span style=\"background-color: rgba(100, 200, 255, 0.012608620338141918);\">sign</span> <span style=\"background-color: rgba(100, 200, 255, 0.00472266087308526);\">out</span> <span style=\"background-color: rgba(100, 200, 255, 0.02501518465578556);\">there</span> <span style=\"background-color: rgba(100, 200, 255, 0.08717325329780579);\">or</span> <span style=\"background-color: rgba(100, 200, 255, 0.08045456558465958);\">something</span> <span style=\"background-color: rgba(100, 200, 255, 0.18172313272953033);\">or</span> <span style=\"background-color: rgba(100, 200, 255, 0.04691603407263756);\">at</span> <span style=\"background-color: rgba(100, 200, 255, 0.08917829394340515);\">least</span> <span style=\"background-color: rgba(100, 200, 255, 1.0);\">whisper</span> <span style=\"background-color: rgba(100, 200, 255, 0.03712861239910126);\">it</span> <span style=\"background-color: rgba(100, 200, 255, 0.0045927600003778934);\">to</span> <span style=\"background-color: rgba(100, 200, 255, 0.005863284692168236);\">people</span> <span style=\"background-color: rgba(100, 200, 255, 0.00020677228167187423);\">when</span> <span style=\"background-color: rgba(100, 200, 255, 6.076036243030103e-06);\">they</span> <span style=\"background-color: rgba(100, 200, 255, 5.493619482876966e-06);\">come</span> <span style=\"background-color: rgba(100, 200, 255, 2.6480170163267758e-06);\">in</span> <span style=\"background-color: rgba(100, 200, 255, 5.51045786778559e-06);\">the</span> <span style=\"background-color: rgba(100, 200, 255, 2.1931664377916604e-05);\">door</span> <span style=\"background-color: rgba(100, 200, 255, 0.00011975761299254373);\">owen</span> <span style=\"background-color: rgba(100, 200, 255, 1.7612522640320094e-07);\">doesnt</span> <span style=\"background-color: rgba(100, 200, 255, 2.943371839592146e-07);\">know</span> <span style=\"background-color: rgba(100, 200, 255, 2.5837612156465184e-06);\">he</span> <span style=\"background-color: rgba(100, 200, 255, 2.4054116920524393e-07);\">adopted</span> <span style=\"background-color: rgba(100, 200, 255, 1.0041846962849377e-06);\">and</span> <span style=\"color: red;\">|</span> <span style=\"background-color: rgba(100, 200, 255, 0);\">he</span> <span style=\"background-color: rgba(100, 200, 255, 0);\">also</span> <span style=\"background-color: rgba(100, 200, 255, 0);\">thinks</span> <span style=\"background-color: rgba(100, 200, 255, 0);\">that</span> <span style=\"background-color: rgba(100, 200, 255, 0);\">santa</span> <span style=\"background-color: rgba(100, 200, 255, 0);\">is</span> <span style=\"background-color: rgba(100, 200, 255, 0);\">real</span>"
      ],
      "text/plain": [
       "<IPython.core.display.Markdown object>"
      ]
     },
     "metadata": {},
     "output_type": "display_data"
    },
    {
     "data": {
      "text/markdown": [
       "<span style=\"background-color: rgba(100, 200, 255, 1.0);\">david</span> <span style=\"background-color: rgba(100, 200, 255, 0.0001602439151611179);\">is</span> <span style=\"background-color: rgba(100, 200, 255, 1.77272468135925e-05);\">going</span> <span style=\"background-color: rgba(100, 200, 255, 8.599623129157408e-07);\">to</span> <span style=\"background-color: rgba(100, 200, 255, 2.2184536874192418e-07);\">propose</span> <span style=\"background-color: rgba(100, 200, 255, 6.961593612686556e-08);\">to</span> <span style=\"background-color: rgba(100, 200, 255, 2.9750256089755567e-06);\">phoebe</span>"
      ],
      "text/plain": [
       "<IPython.core.display.Markdown object>"
      ]
     },
     "metadata": {},
     "output_type": "display_data"
    },
    {
     "data": {
      "text/markdown": [
       "<span style=\"background-color: rgba(100, 200, 255, 0.21589742600917816);\">okay</span> <span style=\"background-color: rgba(100, 200, 255, 0.3195442259311676);\">but</span> <span style=\"background-color: rgba(100, 200, 255, 0.7814959287643433);\">after</span> <span style=\"background-color: rgba(100, 200, 255, 0.079421766102314);\">that</span> <span style=\"background-color: rgba(100, 200, 255, 0.062464114278554916);\">we</span> <span style=\"background-color: rgba(100, 200, 255, 0.0410178117454052);\">re</span> <span style=\"background-color: rgba(100, 200, 255, 1.0);\">shootin</span> <span style=\"background-color: rgba(100, 200, 255, 0.0007497360347770154);\">some</span> <span style=\"background-color: rgba(100, 200, 255, 0.005207578651607037);\">pool</span>"
      ],
      "text/plain": [
       "<IPython.core.display.Markdown object>"
      ]
     },
     "metadata": {},
     "output_type": "display_data"
    },
    {
     "data": {
      "text/markdown": [
       "<span style=\"background-color: rgba(100, 200, 255, 1.0);\">janice</span> <span style=\"background-color: rgba(100, 200, 255, 0.00576369185000658);\">hi</span> <span style=\"background-color: rgba(100, 200, 255, 0.0049626389518380165);\">janice</span> <span style=\"background-color: rgba(100, 200, 255, 1.3169167232263135e-06);\">ok</span> <span style=\"background-color: rgba(100, 200, 255, 2.0155348465777934e-06);\">here</span> <span style=\"background-color: rgba(100, 200, 255, 2.1461396499944385e-06);\">we</span> <span style=\"background-color: rgba(100, 200, 255, 1.0919398846453987e-05);\">go</span> <span style=\"background-color: rgba(100, 200, 255, 2.6647517188393977e-06);\">i</span> <span style=\"background-color: rgba(100, 200, 255, 2.103401584463427e-06);\">dont</span> <span style=\"background-color: rgba(100, 200, 255, 1.3649769243784249e-05);\">think</span> <span style=\"background-color: rgba(100, 200, 255, 1.8953449398395605e-05);\">we</span> <span style=\"background-color: rgba(100, 200, 255, 2.921481836892781e-06);\">should</span> <span style=\"background-color: rgba(100, 200, 255, 4.8677386075723916e-05);\">go</span> <span style=\"background-color: rgba(100, 200, 255, 5.952026549493894e-05);\">out</span> <span style=\"background-color: rgba(100, 200, 255, 0.0002991062356159091);\">anymore</span> <span style=\"background-color: rgba(100, 200, 255, 0.002529396675527096);\">janice</span>"
      ],
      "text/plain": [
       "<IPython.core.display.Markdown object>"
      ]
     },
     "metadata": {},
     "output_type": "display_data"
    },
    {
     "data": {
      "text/markdown": [
       "<span style=\"background-color: rgba(100, 200, 255, 0.4575631618499756);\">well</span> <span style=\"background-color: rgba(100, 200, 255, 0.6085254549980164);\">those</span> <span style=\"background-color: rgba(100, 200, 255, 0.23210756480693817);\">were</span> <span style=\"background-color: rgba(100, 200, 255, 0.8595372438430786);\">seals</span> <span style=\"background-color: rgba(100, 200, 255, 1.0);\">man</span>"
      ],
      "text/plain": [
       "<IPython.core.display.Markdown object>"
      ]
     },
     "metadata": {},
     "output_type": "display_data"
    },
    {
     "data": {
      "text/markdown": [
       "<span style=\"background-color: rgba(100, 200, 255, 0.3114165663719177);\">did</span> <span style=\"background-color: rgba(100, 200, 255, 0.08569499105215073);\">your</span> <span style=\"background-color: rgba(100, 200, 255, 1.0);\">dad</span> <span style=\"background-color: rgba(100, 200, 255, 0.015378693118691444);\">ever</span> <span style=\"background-color: rgba(100, 200, 255, 0.004809216130524874);\">dress</span> <span style=\"background-color: rgba(100, 200, 255, 0.0003248817811254412);\">up</span> <span style=\"background-color: rgba(100, 200, 255, 3.431803634157404e-05);\">like</span> <span style=\"background-color: rgba(100, 200, 255, 4.4099026126787066e-05);\">santa</span>"
      ],
      "text/plain": [
       "<IPython.core.display.Markdown object>"
      ]
     },
     "metadata": {},
     "output_type": "display_data"
    },
    {
     "data": {
      "text/markdown": [
       "<span style=\"background-color: rgba(100, 200, 255, 0.2150377780199051);\">well</span> <span style=\"background-color: rgba(100, 200, 255, 0.04174958914518356);\">you</span> <span style=\"background-color: rgba(100, 200, 255, 0.11566151678562164);\">proved</span> <span style=\"background-color: rgba(100, 200, 255, 0.18894363939762115);\">them</span> <span style=\"background-color: rgba(100, 200, 255, 0.1486806869506836);\">wrong</span>"
      ],
      "text/plain": [
       "<IPython.core.display.Markdown object>"
      ]
     },
     "metadata": {},
     "output_type": "display_data"
    },
    {
     "data": {
      "text/markdown": [
       "<span style=\"background-color: rgba(100, 200, 255, 0.0006544495699927211);\">shovely</span> <span style=\"background-color: rgba(100, 200, 255, 1.0);\">joe</span>"
      ],
      "text/plain": [
       "<IPython.core.display.Markdown object>"
      ]
     },
     "metadata": {},
     "output_type": "display_data"
    },
    {
     "data": {
      "text/markdown": [
       "<span style=\"background-color: rgba(100, 200, 255, 0.00019471901759970933);\">y</span> <span style=\"background-color: rgba(100, 200, 255, 0.0038412832655012608);\">know</span> <span style=\"background-color: rgba(100, 200, 255, 0.0005565622705034912);\">that</span> <span style=\"background-color: rgba(100, 200, 255, 0.002768638776615262);\">thing</span> <span style=\"background-color: rgba(100, 200, 255, 0.0005418268265202641);\">that</span> <span style=\"background-color: rgba(100, 200, 255, 1.0);\">ross</span> <span style=\"background-color: rgba(100, 200, 255, 5.5223237723112106e-05);\">was</span> <span style=\"background-color: rgba(100, 200, 255, 1.1192169040441513e-05);\">gonna</span> <span style=\"background-color: rgba(100, 200, 255, 8.59324154589558e-06);\">do</span> <span style=\"background-color: rgba(100, 200, 255, 6.364000910252798e-06);\">at</span> <span style=\"background-color: rgba(100, 200, 255, 2.165615114790853e-05);\">our</span> <span style=\"background-color: rgba(100, 200, 255, 1.829323264246341e-05);\">wedding</span> <span style=\"background-color: rgba(100, 200, 255, 1.3981895108372555e-06);\">he</span> <span style=\"background-color: rgba(100, 200, 255, 2.4040724611040787e-07);\">was</span> <span style=\"background-color: rgba(100, 200, 255, 1.0748555041573127e-06);\">hanging</span> <span style=\"background-color: rgba(100, 200, 255, 4.778577931574546e-06);\">out</span> <span style=\"background-color: rgba(100, 200, 255, 1.6525360479135998e-05);\">with</span> <span style=\"background-color: rgba(100, 200, 255, 4.0267819713335484e-05);\">me</span> <span style=\"background-color: rgba(100, 200, 255, 3.5739671147894114e-05);\">yesterday</span> <span style=\"background-color: rgba(100, 200, 255, 5.906772275920957e-05);\">and</span> <span style=\"background-color: rgba(100, 200, 255, 5.946988312643953e-05);\">he</span> <span style=\"background-color: rgba(100, 200, 255, 1.9202871044399217e-05);\">turned</span> <span style=\"background-color: rgba(100, 200, 255, 6.858049164293334e-05);\">to</span> <span style=\"background-color: rgba(100, 200, 255, 7.146247662603855e-05);\">me</span> <span style=\"background-color: rgba(100, 200, 255, 0.00010360619489802048);\">and</span> <span style=\"background-color: rgba(100, 200, 255, 6.034329271642491e-05);\">said</span> <span style=\"background-color: rgba(100, 200, 255, 5.884978600079194e-05);\">you</span> <span style=\"background-color: rgba(100, 200, 255, 1.6357946151401848e-05);\">re</span> <span style=\"background-color: rgba(100, 200, 255, 2.661262442416046e-06);\">half</span> <span style=\"background-color: rgba(100, 200, 255, 7.311711556212686e-07);\">scottish</span> <span style=\"background-color: rgba(100, 200, 255, 1.6530632365174824e-06);\">right</span>"
      ],
      "text/plain": [
       "<IPython.core.display.Markdown object>"
      ]
     },
     "metadata": {},
     "output_type": "display_data"
    },
    {
     "data": {
      "text/markdown": [
       "<span style=\"background-color: rgba(100, 200, 255, 0.004023335408419371);\">very</span> <span style=\"background-color: rgba(100, 200, 255, 0.017544889822602272);\">very</span> <span style=\"background-color: rgba(100, 200, 255, 0.22995075583457947);\">funny</span> <span style=\"background-color: rgba(100, 200, 255, 0.2746939957141876);\">but</span> <span style=\"background-color: rgba(100, 200, 255, 0.15798723697662354);\">dont</span> <span style=\"background-color: rgba(100, 200, 255, 0.03631530702114105);\">say</span> <span style=\"background-color: rgba(100, 200, 255, 0.04416307061910629);\">things</span> <span style=\"background-color: rgba(100, 200, 255, 0.04487253725528717);\">like</span> <span style=\"background-color: rgba(100, 200, 255, 0.0021002988796681166);\">that</span> <span style=\"background-color: rgba(100, 200, 255, 0.004348509944975376);\">in</span> <span style=\"background-color: rgba(100, 200, 255, 0.0156394150108099);\">front</span> <span style=\"background-color: rgba(100, 200, 255, 0.008690420538187027);\">of</span> <span style=\"background-color: rgba(100, 200, 255, 1.0);\">monica</span> <span style=\"background-color: rgba(100, 200, 255, 0.0001645668817218393);\">i</span> <span style=\"background-color: rgba(100, 200, 255, 2.643935295054689e-05);\">dont</span> <span style=\"background-color: rgba(100, 200, 255, 2.898044385801768e-06);\">want</span> <span style=\"background-color: rgba(100, 200, 255, 1.6086909226942225e-06);\">you</span> <span style=\"background-color: rgba(100, 200, 255, 1.0735442401710316e-06);\">putting</span> <span style=\"background-color: rgba(100, 200, 255, 3.141107356441353e-07);\">any</span> <span style=\"background-color: rgba(100, 200, 255, 1.3735574100337544e-07);\">ideas</span> <span style=\"background-color: rgba(100, 200, 255, 1.6682763614994656e-08);\">in</span> <span style=\"background-color: rgba(100, 200, 255, 3.4070701815380744e-08);\">her</span> <span style=\"background-color: rgba(100, 200, 255, 6.037790711843627e-08);\">head</span>"
      ],
      "text/plain": [
       "<IPython.core.display.Markdown object>"
      ]
     },
     "metadata": {},
     "output_type": "display_data"
    },
    {
     "data": {
      "text/markdown": [
       "<span style=\"background-color: rgba(100, 200, 255, 0.1128004789352417);\">that</span> <span style=\"background-color: rgba(100, 200, 255, 0.0344545915722847);\">not</span> <span style=\"background-color: rgba(100, 200, 255, 0.04291114956140518);\">funny</span>"
      ],
      "text/plain": [
       "<IPython.core.display.Markdown object>"
      ]
     },
     "metadata": {},
     "output_type": "display_data"
    },
    {
     "data": {
      "text/markdown": [
       "<span style=\"background-color: rgba(100, 200, 255, 0.014702510088682175);\">or</span> <span style=\"background-color: rgba(100, 200, 255, 1.0);\">casey</span>"
      ],
      "text/plain": [
       "<IPython.core.display.Markdown object>"
      ]
     },
     "metadata": {},
     "output_type": "display_data"
    },
    {
     "data": {
      "text/markdown": [
       "<span style=\"background-color: rgba(100, 200, 255, 1.0);\">ah</span> <span style=\"background-color: rgba(100, 200, 255, 0.0016450876137241721);\">let</span> <span style=\"background-color: rgba(100, 200, 255, 0.002636031014844775);\">see</span> <span style=\"background-color: rgba(100, 200, 255, 0.000604324450250715);\">what</span> <span style=\"background-color: rgba(100, 200, 255, 0.0015474060783162713);\">next</span> <span style=\"background-color: rgba(100, 200, 255, 0.03977310657501221);\">blow</span> <span style=\"background-color: rgba(100, 200, 255, 0.0016629259334877133);\">a</span> <span style=\"background-color: rgba(100, 200, 255, 0.013601438142359257);\">bubble</span> <span style=\"background-color: rgba(100, 200, 255, 0.0007084477692842484);\">a</span> <span style=\"background-color: rgba(100, 200, 255, 0.004930515773594379);\">bubble</span> <span style=\"background-color: rgba(100, 200, 255, 0.0007527809939347208);\">good</span> <span style=\"background-color: rgba(100, 200, 255, 0.0011321454076096416);\">it</span> <span style=\"background-color: rgba(100, 200, 255, 0.0017307358793914318);\">got</span> <span style=\"background-color: rgba(100, 200, 255, 0.0007359328446909785);\">a</span> <span style=\"background-color: rgba(100, 200, 255, 0.010654359124600887);\">boyish</span> <span style=\"background-color: rgba(100, 200, 255, 0.01652984507381916);\">charm</span> <span style=\"background-color: rgba(100, 200, 255, 0.005130419973284006);\">it</span> <span style=\"background-color: rgba(100, 200, 255, 0.31768980622291565);\">impish</span> <span style=\"background-color: rgba(100, 200, 255, 0.0008196319686248899);\">here</span> <span style=\"background-color: rgba(100, 200, 255, 0.0002483457210473716);\">we</span> <span style=\"background-color: rgba(100, 200, 255, 0.0006732663605362177);\">go</span>"
      ],
      "text/plain": [
       "<IPython.core.display.Markdown object>"
      ]
     },
     "metadata": {},
     "output_type": "display_data"
    },
    {
     "data": {
      "text/markdown": [
       "<span style=\"background-color: rgba(100, 200, 255, 0.029199542477726936);\">no</span> <span style=\"background-color: rgba(100, 200, 255, 0.01491684652864933);\">i</span> <span style=\"background-color: rgba(100, 200, 255, 0.028948890045285225);\">don</span> <span style=\"background-color: rgba(100, 200, 255, 0.041672009974718094);\">t</span> <span style=\"background-color: rgba(100, 200, 255, 0.06372984498739243);\">want</span> <span style=\"background-color: rgba(100, 200, 255, 0.08710930496454239);\">to</span> <span style=\"background-color: rgba(100, 200, 255, 0.19299626350402832);\">tell</span> <span style=\"background-color: rgba(100, 200, 255, 0.24505142867565155);\">anybody</span> <span style=\"background-color: rgba(100, 200, 255, 0.47903287410736084);\">else</span> <span style=\"background-color: rgba(100, 200, 255, 0.5159651637077332);\">because</span> <span style=\"background-color: rgba(100, 200, 255, 0.15301421284675598);\">i</span> <span style=\"background-color: rgba(100, 200, 255, 0.09753748774528503);\">don</span> <span style=\"background-color: rgba(100, 200, 255, 0.018653541803359985);\">t</span> <span style=\"background-color: rgba(100, 200, 255, 0.002814843785017729);\">want</span> <span style=\"background-color: rgba(100, 200, 255, 1.0);\">monica</span> <span style=\"background-color: rgba(100, 200, 255, 7.096387889760081e-06);\">to</span> <span style=\"background-color: rgba(100, 200, 255, 2.395402361798915e-06);\">find</span> <span style=\"background-color: rgba(100, 200, 255, 1.0545853001531214e-05);\">out</span>"
      ],
      "text/plain": [
       "<IPython.core.display.Markdown object>"
      ]
     },
     "metadata": {},
     "output_type": "display_data"
    },
    {
     "data": {
      "text/markdown": [
       "<span style=\"background-color: rgba(100, 200, 255, 0.011654503643512726);\">yeah</span> <span style=\"background-color: rgba(100, 200, 255, 1.0);\">or</span> <span style=\"background-color: rgba(100, 200, 255, 0.057211365550756454);\">you</span> <span style=\"background-color: rgba(100, 200, 255, 0.05730150267481804);\">can</span> <span style=\"background-color: rgba(100, 200, 255, 0.03654327988624573);\">do</span> <span style=\"background-color: rgba(100, 200, 255, 0.026663415133953094);\">the</span> <span style=\"background-color: rgba(100, 200, 255, 0.011159045621752739);\">easy</span> <span style=\"background-color: rgba(100, 200, 255, 0.002305996837094426);\">thing</span> <span style=\"background-color: rgba(100, 200, 255, 0.005336532834917307);\">and</span> <span style=\"background-color: rgba(100, 200, 255, 0.019345438107848167);\">smoke</span>"
      ],
      "text/plain": [
       "<IPython.core.display.Markdown object>"
      ]
     },
     "metadata": {},
     "output_type": "display_data"
    },
    {
     "data": {
      "text/markdown": [
       "<span style=\"background-color: rgba(100, 200, 255, 0.020441079512238503);\">look</span> <span style=\"background-color: rgba(100, 200, 255, 0.01826324313879013);\">were</span> <span style=\"background-color: rgba(100, 200, 255, 0.0034488877281546593);\">not</span> <span style=\"background-color: rgba(100, 200, 255, 0.01029810681939125);\">just</span> <span style=\"background-color: rgba(100, 200, 255, 1.0);\">messing</span> <span style=\"background-color: rgba(100, 200, 255, 0.0001478654012316838);\">around</span> <span style=\"background-color: rgba(100, 200, 255, 6.536087312269956e-05);\">i</span> <span style=\"background-color: rgba(100, 200, 255, 6.4670930441934615e-06);\">love</span> <span style=\"background-color: rgba(100, 200, 255, 1.43530792229285e-06);\">her</span> <span style=\"background-color: rgba(100, 200, 255, 3.5430323350738036e-06);\">okay</span> <span style=\"background-color: rgba(100, 200, 255, 2.5851761620288016e-06);\">im</span> <span style=\"background-color: rgba(100, 200, 255, 4.685548304905751e-08);\">in</span> <span style=\"background-color: rgba(100, 200, 255, 3.9155047204531e-08);\">love</span> <span style=\"background-color: rgba(100, 200, 255, 2.3459701736783245e-08);\">with</span> <span style=\"background-color: rgba(100, 200, 255, 1.352217893213492e-08);\">her</span>"
      ],
      "text/plain": [
       "<IPython.core.display.Markdown object>"
      ]
     },
     "metadata": {},
     "output_type": "display_data"
    },
    {
     "data": {
      "text/markdown": [
       "<span style=\"background-color: rgba(100, 200, 255, 0.00021344400011003017);\">buy</span> <span style=\"background-color: rgba(100, 200, 255, 9.85906990536023e-06);\">it</span> <span style=\"background-color: rgba(100, 200, 255, 4.022019129479304e-05);\">for</span> <span style=\"background-color: rgba(100, 200, 255, 1.0);\">ya</span> <span style=\"background-color: rgba(100, 200, 255, 0.001571801956743002);\">or</span> <span style=\"background-color: rgba(100, 200, 255, 0.00039457218372263014);\">win</span> <span style=\"background-color: rgba(100, 200, 255, 6.620329259021673e-06);\">it</span> <span style=\"background-color: rgba(100, 200, 255, 1.1584629646677058e-05);\">for</span> <span style=\"background-color: rgba(100, 200, 255, 0.11579445004463196);\">ya</span>"
      ],
      "text/plain": [
       "<IPython.core.display.Markdown object>"
      ]
     },
     "metadata": {},
     "output_type": "display_data"
    },
    {
     "data": {
      "text/markdown": [
       "<span style=\"background-color: rgba(100, 200, 255, 0.01833317056298256);\">you</span> <span style=\"background-color: rgba(100, 200, 255, 0.043998122215270996);\">okay</span>"
      ],
      "text/plain": [
       "<IPython.core.display.Markdown object>"
      ]
     },
     "metadata": {},
     "output_type": "display_data"
    },
    {
     "data": {
      "text/markdown": [
       "<span style=\"background-color: rgba(100, 200, 255, 1.0);\">bye</span> <span style=\"background-color: rgba(100, 200, 255, 0.012281548231840134);\">i</span> <span style=\"background-color: rgba(100, 200, 255, 0.0017558254767209291);\">can</span> <span style=\"background-color: rgba(100, 200, 255, 0.0030360561795532703);\">t</span> <span style=\"background-color: rgba(100, 200, 255, 0.005950352642685175);\">stand</span> <span style=\"background-color: rgba(100, 200, 255, 0.0038092590402811766);\">the</span> <span style=\"background-color: rgba(100, 200, 255, 0.04213354364037514);\">woman</span>"
      ],
      "text/plain": [
       "<IPython.core.display.Markdown object>"
      ]
     },
     "metadata": {},
     "output_type": "display_data"
    },
    {
     "data": {
      "text/markdown": [
       "<span style=\"background-color: rgba(100, 200, 255, 0.00034408451756462455);\">no</span> <span style=\"background-color: rgba(100, 200, 255, 0.0006319379899650812);\">no</span> <span style=\"background-color: rgba(100, 200, 255, 0.0008843705290928483);\">no</span> <span style=\"background-color: rgba(100, 200, 255, 0.001140229171141982);\">no</span> <span style=\"background-color: rgba(100, 200, 255, 0.030056405812501907);\">were</span> <span style=\"background-color: rgba(100, 200, 255, 0.07120206952095032);\">done</span>"
      ],
      "text/plain": [
       "<IPython.core.display.Markdown object>"
      ]
     },
     "metadata": {},
     "output_type": "display_data"
    },
    {
     "data": {
      "text/markdown": [
       "<span style=\"background-color: rgba(100, 200, 255, 0.013710991479456425);\">oh</span> <span style=\"background-color: rgba(100, 200, 255, 0.019749542698264122);\">no</span> <span style=\"background-color: rgba(100, 200, 255, 0.013035818003118038);\">no</span> <span style=\"background-color: rgba(100, 200, 255, 0.006283944007009268);\">no</span> <span style=\"background-color: rgba(100, 200, 255, 0.0019885485526174307);\">no</span> <span style=\"background-color: rgba(100, 200, 255, 0.0008190553053282201);\">no</span> <span style=\"background-color: rgba(100, 200, 255, 0.0006070244708098471);\">no</span> <span style=\"background-color: rgba(100, 200, 255, 0.320781409740448);\">vomit</span> <span style=\"background-color: rgba(100, 200, 255, 0.49565577507019043);\">tux</span> <span style=\"background-color: rgba(100, 200, 255, 0.006520399358123541);\">no</span> <span style=\"background-color: rgba(100, 200, 255, 0.010922498069703579);\">no</span> <span style=\"background-color: rgba(100, 200, 255, 1.0);\">vomit</span> <span style=\"background-color: rgba(100, 200, 255, 0.6253741383552551);\">tux</span>"
      ],
      "text/plain": [
       "<IPython.core.display.Markdown object>"
      ]
     },
     "metadata": {},
     "output_type": "display_data"
    },
    {
     "data": {
      "text/markdown": [
       "<span style=\"background-color: rgba(100, 200, 255, 0.04905461519956589);\">right</span> <span style=\"background-color: rgba(100, 200, 255, 0.023138215765357018);\">here</span>"
      ],
      "text/plain": [
       "<IPython.core.display.Markdown object>"
      ]
     },
     "metadata": {},
     "output_type": "display_data"
    },
    {
     "data": {
      "text/markdown": [
       "<span style=\"background-color: rgba(100, 200, 255, 0.0017132955836132169);\">yeah</span> <span style=\"background-color: rgba(100, 200, 255, 0.001958246575668454);\">i</span> <span style=\"background-color: rgba(100, 200, 255, 0.0020304881036281586);\">think</span> <span style=\"background-color: rgba(100, 200, 255, 0.015739215537905693);\">for</span> <span style=\"background-color: rgba(100, 200, 255, 0.025884371250867844);\">us</span> <span style=\"background-color: rgba(100, 200, 255, 1.0);\">kissing</span> <span style=\"background-color: rgba(100, 200, 255, 0.02337672747671604);\">is</span> <span style=\"background-color: rgba(100, 200, 255, 0.01661408320069313);\">pretty</span> <span style=\"background-color: rgba(100, 200, 255, 0.07730220258235931);\">much</span> <span style=\"background-color: rgba(100, 200, 255, 0.05067707225680351);\">like</span> <span style=\"background-color: rgba(100, 200, 255, 0.002163297263905406);\">an</span> <span style=\"background-color: rgba(100, 200, 255, 0.008142822422087193);\">opening</span> <span style=\"background-color: rgba(100, 200, 255, 0.0037990191485732794);\">act</span> <span style=\"background-color: rgba(100, 200, 255, 0.0026023120153695345);\">yknow</span> <span style=\"background-color: rgba(100, 200, 255, 0.0017148131737485528);\">i</span> <span style=\"background-color: rgba(100, 200, 255, 0.0006250321166589856);\">mean</span> <span style=\"background-color: rgba(100, 200, 255, 0.00034629524452611804);\">it</span> <span style=\"background-color: rgba(100, 200, 255, 0.0008913777419365942);\">like</span> <span style=\"background-color: rgba(100, 200, 255, 0.0006363965221680701);\">the</span> <span style=\"background-color: rgba(100, 200, 255, 0.003065729048103094);\">stand</span> <span style=\"background-color: rgba(100, 200, 255, 0.0012785322032868862);\">up</span> <span style=\"background-color: rgba(100, 200, 255, 0.280493825674057);\">comedian</span> <span style=\"background-color: rgba(100, 200, 255, 1.3207760275690816e-05);\">you</span> <span style=\"background-color: rgba(100, 200, 255, 2.0628962374757975e-05);\">have</span> <span style=\"background-color: rgba(100, 200, 255, 4.895307483820943e-07);\">to</span> <span style=\"background-color: rgba(100, 200, 255, 3.3937874377443222e-06);\">sit</span> <span style=\"background-color: rgba(100, 200, 255, 5.9637255617417395e-05);\">through</span> <span style=\"background-color: rgba(100, 200, 255, 0.0011401199735701084);\">before</span> <span style=\"background-color: rgba(100, 200, 255, 0.0171493012458086);\">pink</span> <span style=\"background-color: rgba(100, 200, 255, 0.12202102690935135);\">floyd</span> <span style=\"background-color: rgba(100, 200, 255, 0.0001796782307792455);\">comes</span> <span style=\"background-color: rgba(100, 200, 255, 0.0002547884650994092);\">out</span> <span style=\"color: red;\">|</span>"
      ],
      "text/plain": [
       "<IPython.core.display.Markdown object>"
      ]
     },
     "metadata": {},
     "output_type": "display_data"
    },
    {
     "data": {
      "text/markdown": [
       "<span style=\"background-color: rgba(100, 200, 255, 0.07096957415342331);\">hey</span> <span style=\"background-color: rgba(100, 200, 255, 1.0);\">caitlin</span> <span style=\"background-color: rgba(100, 200, 255, 0.00014653544349130243);\">somebody</span> <span style=\"background-color: rgba(100, 200, 255, 5.3360083256848156e-05);\">got</span> <span style=\"background-color: rgba(100, 200, 255, 1.987923496926669e-06);\">a</span> <span style=\"background-color: rgba(100, 200, 255, 0.00010520684736547992);\">haircut</span>"
      ],
      "text/plain": [
       "<IPython.core.display.Markdown object>"
      ]
     },
     "metadata": {},
     "output_type": "display_data"
    },
    {
     "data": {
      "text/markdown": [
       "<span style=\"background-color: rgba(100, 200, 255, 0.03815408796072006);\">that</span> <span style=\"background-color: rgba(100, 200, 255, 0.07865174114704132);\">great</span>"
      ],
      "text/plain": [
       "<IPython.core.display.Markdown object>"
      ]
     },
     "metadata": {},
     "output_type": "display_data"
    },
    {
     "data": {
      "text/markdown": [
       "<span style=\"background-color: rgba(100, 200, 255, 1.0);\">phoebe</span> <span style=\"background-color: rgba(100, 200, 255, 0.07616883516311646);\">i</span> <span style=\"background-color: rgba(100, 200, 255, 0.044713765382766724);\">asked</span> <span style=\"background-color: rgba(100, 200, 255, 0.013489729724824429);\">you</span> <span style=\"background-color: rgba(100, 200, 255, 0.004151815548539162);\">to</span> <span style=\"background-color: rgba(100, 200, 255, 0.003399150213226676);\">guard</span> <span style=\"background-color: rgba(100, 200, 255, 0.00032142247073352337);\">the</span> <span style=\"background-color: rgba(100, 200, 255, 0.008658145554363728);\">ring</span>"
      ],
      "text/plain": [
       "<IPython.core.display.Markdown object>"
      ]
     },
     "metadata": {},
     "output_type": "display_data"
    },
    {
     "data": {
      "text/markdown": [
       "<span style=\"background-color: rgba(100, 200, 255, 0.09158509969711304);\">hey</span> <span style=\"background-color: rgba(100, 200, 255, 1.0);\">monica</span> <span style=\"background-color: rgba(100, 200, 255, 0.00021175893198233098);\">can</span> <span style=\"background-color: rgba(100, 200, 255, 2.6288196750101633e-05);\">i</span> <span style=\"background-color: rgba(100, 200, 255, 4.691945287049748e-05);\">ask</span> <span style=\"background-color: rgba(100, 200, 255, 9.895034054352436e-06);\">you</span> <span style=\"background-color: rgba(100, 200, 255, 4.518497007666156e-06);\">a</span> <span style=\"background-color: rgba(100, 200, 255, 0.006426089908927679);\">cooking</span> <span style=\"background-color: rgba(100, 200, 255, 0.00014764713705517352);\">question</span>"
      ],
      "text/plain": [
       "<IPython.core.display.Markdown object>"
      ]
     },
     "metadata": {},
     "output_type": "display_data"
    },
    {
     "data": {
      "text/markdown": [
       "<span style=\"background-color: rgba(100, 200, 255, 0.028550133109092712);\">all</span> <span style=\"background-color: rgba(100, 200, 255, 1.0);\">right</span> <span style=\"background-color: rgba(100, 200, 255, 0.2091534435749054);\">but</span> <span style=\"background-color: rgba(100, 200, 255, 0.07399249076843262);\">you</span> <span style=\"background-color: rgba(100, 200, 255, 0.16137823462486267);\">can</span> <span style=\"background-color: rgba(100, 200, 255, 0.14006642997264862);\">t</span> <span style=\"background-color: rgba(100, 200, 255, 0.47985920310020447);\">use</span> <span style=\"background-color: rgba(100, 200, 255, 0.029593251645565033);\">that</span> <span style=\"background-color: rgba(100, 200, 255, 0.11629722267389297);\">again</span> <span style=\"background-color: rgba(100, 200, 255, 0.12307818979024887);\">for</span> <span style=\"background-color: rgba(100, 200, 255, 0.07284502685070038);\">a</span> <span style=\"background-color: rgba(100, 200, 255, 0.43988746404647827);\">whole</span> <span style=\"background-color: rgba(100, 200, 255, 0.18032275140285492);\">year</span> <span style=\"background-color: rgba(100, 200, 255, 0.0023415694013237953);\">i</span> <span style=\"background-color: rgba(100, 200, 255, 0.0003194047894794494);\">m</span> <span style=\"background-color: rgba(100, 200, 255, 0.0006534435669891536);\">in</span>"
      ],
      "text/plain": [
       "<IPython.core.display.Markdown object>"
      ]
     },
     "metadata": {},
     "output_type": "display_data"
    },
    {
     "data": {
      "text/markdown": [
       "<span style=\"background-color: rgba(100, 200, 255, 0.002880694577470422);\">im</span> <span style=\"background-color: rgba(100, 200, 255, 0.000814718019682914);\">im</span> <span style=\"background-color: rgba(100, 200, 255, 0.000664357328787446);\">okay</span>"
      ],
      "text/plain": [
       "<IPython.core.display.Markdown object>"
      ]
     },
     "metadata": {},
     "output_type": "display_data"
    },
    {
     "data": {
      "text/markdown": [
       "<span style=\"background-color: rgba(100, 200, 255, 1.0);\">well</span> <span style=\"background-color: rgba(100, 200, 255, 0.040707726031541824);\">my</span> <span style=\"background-color: rgba(100, 200, 255, 0.4546128511428833);\">secretary</span> <span style=\"background-color: rgba(100, 200, 255, 0.007329284679144621);\">is</span> <span style=\"background-color: rgba(100, 200, 255, 0.03854605183005333);\">gonna</span> <span style=\"background-color: rgba(100, 200, 255, 0.006284112110733986);\">be</span> <span style=\"background-color: rgba(100, 200, 255, 0.009606258943676949);\">out</span> <span style=\"background-color: rgba(100, 200, 255, 0.014695893041789532);\">for</span> <span style=\"background-color: rgba(100, 200, 255, 0.0008475799695588648);\">a</span> <span style=\"background-color: rgba(100, 200, 255, 0.009570568799972534);\">couple</span> <span style=\"background-color: rgba(100, 200, 255, 0.00024409730394836515);\">of</span> <span style=\"background-color: rgba(100, 200, 255, 0.004189395811408758);\">weeks</span> <span style=\"background-color: rgba(100, 200, 255, 0.00037324384902603924);\">she</span> <span style=\"background-color: rgba(100, 200, 255, 8.465079736197367e-05);\">is</span> <span style=\"background-color: rgba(100, 200, 255, 0.00017898609803523868);\">having</span> <span style=\"background-color: rgba(100, 200, 255, 8.820251423458103e-06);\">one</span> <span style=\"background-color: rgba(100, 200, 255, 6.582693458767608e-06);\">of</span> <span style=\"background-color: rgba(100, 200, 255, 1.657052598602604e-05);\">her</span> <span style=\"background-color: rgba(100, 200, 255, 0.0001881783828139305);\">boobs</span> <span style=\"background-color: rgba(100, 200, 255, 2.132438930857461e-05);\">redused</span> <span style=\"background-color: rgba(100, 200, 255, 4.0808608900988474e-06);\">it</span> <span style=\"background-color: rgba(100, 200, 255, 2.783287527563516e-06);\">a</span> <span style=\"background-color: rgba(100, 200, 255, 8.15211114968406e-06);\">whole</span> <span style=\"background-color: rgba(100, 200, 255, 8.084768523985986e-06);\">big</span> <span style=\"background-color: rgba(100, 200, 255, 1.3315604519448243e-05);\">boob</span> <span style=\"background-color: rgba(100, 200, 255, 1.6643847402519896e-06);\">story</span>"
      ],
      "text/plain": [
       "<IPython.core.display.Markdown object>"
      ]
     },
     "metadata": {},
     "output_type": "display_data"
    },
    {
     "data": {
      "text/markdown": [
       "<span style=\"background-color: rgba(100, 200, 255, 0.1718236356973648);\">but</span> <span style=\"background-color: rgba(100, 200, 255, 0.11242412030696869);\">if</span> <span style=\"background-color: rgba(100, 200, 255, 0.03487596660852432);\">we</span> <span style=\"background-color: rgba(100, 200, 255, 1.0);\">win</span> <span style=\"background-color: rgba(100, 200, 255, 0.004466779995709658);\">we</span> <span style=\"background-color: rgba(100, 200, 255, 0.0032978509552776814);\">get</span> <span style=\"background-color: rgba(100, 200, 255, 0.0002568000345490873);\">your</span> <span style=\"background-color: rgba(100, 200, 255, 0.0003585976373869926);\">apartment</span>"
      ],
      "text/plain": [
       "<IPython.core.display.Markdown object>"
      ]
     },
     "metadata": {},
     "output_type": "display_data"
    },
    {
     "data": {
      "text/markdown": [
       "<span style=\"background-color: rgba(100, 200, 255, 1.0);\">dangerous</span> <span style=\"background-color: rgba(100, 200, 255, 0.9423184394836426);\">liaisons</span>"
      ],
      "text/plain": [
       "<IPython.core.display.Markdown object>"
      ]
     },
     "metadata": {},
     "output_type": "display_data"
    },
    {
     "data": {
      "text/markdown": [
       "<span style=\"background-color: rgba(100, 200, 255, 0.00829581543803215);\">ahh</span> <span style=\"background-color: rgba(100, 200, 255, 0.0019956149626523256);\">so</span> <span style=\"background-color: rgba(100, 200, 255, 0.0037884998600929976);\">how</span> <span style=\"background-color: rgba(100, 200, 255, 0.017153587192296982);\">many</span> <span style=\"background-color: rgba(100, 200, 255, 1.0);\">cameras</span> <span style=\"background-color: rgba(100, 200, 255, 0.02326766401529312);\">are</span> <span style=\"background-color: rgba(100, 200, 255, 0.019030580297112465);\">actually</span> <span style=\"background-color: rgba(100, 200, 255, 0.010958347469568253);\">on</span> <span style=\"background-color: rgba(100, 200, 255, 0.021928539499640465);\">you</span>"
      ],
      "text/plain": [
       "<IPython.core.display.Markdown object>"
      ]
     },
     "metadata": {},
     "output_type": "display_data"
    },
    {
     "data": {
      "text/markdown": [
       "<span style=\"background-color: rgba(100, 200, 255, 0.07584225386381149);\">no</span> <span style=\"background-color: rgba(100, 200, 255, 0.0676460936665535);\">i</span> <span style=\"background-color: rgba(100, 200, 255, 0.05999625101685524);\">wasn</span> <span style=\"background-color: rgba(100, 200, 255, 0.08040370792150497);\">t</span> <span style=\"background-color: rgba(100, 200, 255, 1.0);\">gonna</span> <span style=\"background-color: rgba(100, 200, 255, 0.6092483401298523);\">ask</span> <span style=\"background-color: rgba(100, 200, 255, 0.04504882171750069);\">you</span> <span style=\"background-color: rgba(100, 200, 255, 0.012371229939162731);\">that</span> <span style=\"background-color: rgba(100, 200, 255, 0.010064402595162392);\">no</span>"
      ],
      "text/plain": [
       "<IPython.core.display.Markdown object>"
      ]
     },
     "metadata": {},
     "output_type": "display_data"
    },
    {
     "data": {
      "text/markdown": [
       "<span style=\"background-color: rgba(100, 200, 255, 0.013944551348686218);\">oh</span> <span style=\"background-color: rgba(100, 200, 255, 0.2388758361339569);\">yeah</span>"
      ],
      "text/plain": [
       "<IPython.core.display.Markdown object>"
      ]
     },
     "metadata": {},
     "output_type": "display_data"
    },
    {
     "data": {
      "text/markdown": [
       "<span style=\"background-color: rgba(100, 200, 255, 0.6022543907165527);\">now</span> <span style=\"background-color: rgba(100, 200, 255, 1.0);\">monica</span> <span style=\"background-color: rgba(100, 200, 255, 0.0012748599983751774);\">i</span> <span style=\"background-color: rgba(100, 200, 255, 0.004380453377962112);\">know</span> <span style=\"background-color: rgba(100, 200, 255, 0.002135644434019923);\">you</span> <span style=\"background-color: rgba(100, 200, 255, 0.009386853314936161);\">re</span> <span style=\"background-color: rgba(100, 200, 255, 0.024719422683119774);\">upset</span> <span style=\"background-color: rgba(100, 200, 255, 0.0012134615099057555);\">but</span> <span style=\"background-color: rgba(100, 200, 255, 0.0012525321217253804);\">don</span> <span style=\"background-color: rgba(100, 200, 255, 0.0007974621839821339);\">t</span> <span style=\"background-color: rgba(100, 200, 255, 0.006094355136156082);\">forget</span> <span style=\"background-color: rgba(100, 200, 255, 0.0007827732479199767);\">there</span> <span style=\"background-color: rgba(100, 200, 255, 0.0005913240020163357);\">is</span> <span style=\"background-color: rgba(100, 200, 255, 8.098029502434656e-05);\">going</span> <span style=\"background-color: rgba(100, 200, 255, 3.363575160619803e-05);\">to</span> <span style=\"background-color: rgba(100, 200, 255, 2.4605296857771464e-05);\">be</span> <span style=\"background-color: rgba(100, 200, 255, 9.641528777137864e-06);\">a</span> <span style=\"background-color: rgba(100, 200, 255, 0.0001210399204865098);\">wedding</span> <span style=\"background-color: rgba(100, 200, 255, 1.7035278006005683e-06);\">you</span> <span style=\"background-color: rgba(100, 200, 255, 1.5392689647342195e-06);\">are</span> <span style=\"background-color: rgba(100, 200, 255, 1.0417102203064132e-06);\">going</span> <span style=\"background-color: rgba(100, 200, 255, 2.0085024061700096e-06);\">to</span> <span style=\"background-color: rgba(100, 200, 255, 2.7009795303456485e-05);\">throw</span> <span style=\"background-color: rgba(100, 200, 255, 5.66156302284071e-07);\">the</span> <span style=\"background-color: rgba(100, 200, 255, 3.2050968457042472e-06);\">bouquet</span> <span style=\"background-color: rgba(100, 200, 255, 1.7759008187567815e-05);\">and</span> <span style=\"background-color: rgba(100, 200, 255, 1.965412957360968e-05);\">then</span> <span style=\"background-color: rgba(100, 200, 255, 1.3041928468737751e-05);\">there</span> <span style=\"background-color: rgba(100, 200, 255, 1.788689405657351e-05);\">s</span> <span style=\"background-color: rgba(100, 200, 255, 1.566130231367424e-05);\">going</span> <span style=\"background-color: rgba(100, 200, 255, 1.321232230111491e-05);\">to</span> <span style=\"background-color: rgba(100, 200, 255, 9.173036232823506e-06);\">be</span> <span style=\"color: red;\">|</span> <span style=\"background-color: rgba(100, 200, 255, 0);\">a</span> <span style=\"background-color: rgba(100, 200, 255, 0);\">honeymoon</span> <span style=\"background-color: rgba(100, 200, 255, 0);\">maybe</span> <span style=\"background-color: rgba(100, 200, 255, 0);\">in</span> <span style=\"background-color: rgba(100, 200, 255, 0);\">paris</span>"
      ],
      "text/plain": [
       "<IPython.core.display.Markdown object>"
      ]
     },
     "metadata": {},
     "output_type": "display_data"
    },
    {
     "data": {
      "text/markdown": [
       "<span style=\"background-color: rgba(100, 200, 255, 0.01889353059232235);\">well</span> <span style=\"background-color: rgba(100, 200, 255, 0.005592542700469494);\">i</span> <span style=\"background-color: rgba(100, 200, 255, 0.003708726027980447);\">think</span> <span style=\"background-color: rgba(100, 200, 255, 0.006722286343574524);\">i</span> <span style=\"background-color: rgba(100, 200, 255, 0.030848819762468338);\">judged</span> <span style=\"background-color: rgba(100, 200, 255, 0.004283959977328777);\">her</span> <span style=\"background-color: rgba(100, 200, 255, 0.0067268009297549725);\">too</span> <span style=\"background-color: rgba(100, 200, 255, 0.22043505311012268);\">quickly</span> <span style=\"background-color: rgba(100, 200, 255, 1.0);\">and</span> <span style=\"background-color: rgba(100, 200, 255, 0.08496008068323135);\">this</span> <span style=\"background-color: rgba(100, 200, 255, 0.4211530387401581);\">time</span> <span style=\"background-color: rgba(100, 200, 255, 0.02163427136838436);\">we</span> <span style=\"background-color: rgba(100, 200, 255, 0.021746231243014336);\">were</span> <span style=\"background-color: rgba(100, 200, 255, 0.0053300634026527405);\">able</span> <span style=\"background-color: rgba(100, 200, 255, 0.00027959165163338184);\">to</span> <span style=\"background-color: rgba(100, 200, 255, 0.0006575529114343226);\">take</span> <span style=\"background-color: rgba(100, 200, 255, 6.614060112042353e-05);\">the</span> <span style=\"background-color: rgba(100, 200, 255, 0.00010672612552298233);\">relationship</span> <span style=\"background-color: rgba(100, 200, 255, 4.1996997879323317e-07);\">to</span> <span style=\"background-color: rgba(100, 200, 255, 2.890336645577918e-07);\">the</span> <span style=\"background-color: rgba(100, 200, 255, 4.69049524554066e-07);\">next</span> <span style=\"background-color: rgba(100, 200, 255, 2.1463729353854433e-06);\">level</span>"
      ],
      "text/plain": [
       "<IPython.core.display.Markdown object>"
      ]
     },
     "metadata": {},
     "output_type": "display_data"
    },
    {
     "data": {
      "text/markdown": [
       "<span style=\"background-color: rgba(100, 200, 255, 0.0007846974767744541);\">i</span> <span style=\"background-color: rgba(100, 200, 255, 0.0052582439966499805);\">talked</span> <span style=\"background-color: rgba(100, 200, 255, 0.0004958282224833965);\">to</span> <span style=\"background-color: rgba(100, 200, 255, 1.0);\">janice</span>"
      ],
      "text/plain": [
       "<IPython.core.display.Markdown object>"
      ]
     },
     "metadata": {},
     "output_type": "display_data"
    },
    {
     "data": {
      "text/markdown": [
       "<span style=\"background-color: rgba(100, 200, 255, 0.09190243482589722);\">okay</span> <span style=\"background-color: rgba(100, 200, 255, 0.16279244422912598);\">is</span> <span style=\"background-color: rgba(100, 200, 255, 0.008948152884840965);\">this</span> <span style=\"background-color: rgba(100, 200, 255, 1.0);\">lamp</span> <span style=\"background-color: rgba(100, 200, 255, 0.01899772323668003);\">in</span> <span style=\"background-color: rgba(100, 200, 255, 0.0017513043712824583);\">the</span> <span style=\"background-color: rgba(100, 200, 255, 0.0007681485149078071);\">same</span> <span style=\"background-color: rgba(100, 200, 255, 0.0006660378421656787);\">place</span>"
      ],
      "text/plain": [
       "<IPython.core.display.Markdown object>"
      ]
     },
     "metadata": {},
     "output_type": "display_data"
    },
    {
     "data": {
      "text/markdown": [
       "<span style=\"background-color: rgba(100, 200, 255, 0.07997501641511917);\">you</span> <span style=\"background-color: rgba(100, 200, 255, 0.10149657726287842);\">re</span> <span style=\"background-color: rgba(100, 200, 255, 1.0);\">right</span> <span style=\"background-color: rgba(100, 200, 255, 0.041178759187459946);\">i</span> <span style=\"background-color: rgba(100, 200, 255, 0.18552546203136444);\">have</span> <span style=\"background-color: rgba(100, 200, 255, 0.03748210519552231);\">no</span> <span style=\"background-color: rgba(100, 200, 255, 0.23832957446575165);\">excuses</span> <span style=\"background-color: rgba(100, 200, 255, 0.004730215296149254);\">i</span> <span style=\"background-color: rgba(100, 200, 255, 0.004104292951524258);\">was</span> <span style=\"background-color: rgba(100, 200, 255, 0.0004172073968220502);\">totally</span> <span style=\"background-color: rgba(100, 200, 255, 0.0008349031559191644);\">over</span> <span style=\"background-color: rgba(100, 200, 255, 0.00020172272343188524);\">the</span> <span style=\"background-color: rgba(100, 200, 255, 0.000794026767835021);\">line</span>"
      ],
      "text/plain": [
       "<IPython.core.display.Markdown object>"
      ]
     },
     "metadata": {},
     "output_type": "display_data"
    },
    {
     "data": {
      "text/markdown": [
       "<span style=\"background-color: rgba(100, 200, 255, 0.002550944685935974);\">oh</span> <span style=\"background-color: rgba(100, 200, 255, 0.026683760806918144);\">yeah</span> <span style=\"background-color: rgba(100, 200, 255, 0.053790830075740814);\">totally</span>"
      ],
      "text/plain": [
       "<IPython.core.display.Markdown object>"
      ]
     },
     "metadata": {},
     "output_type": "display_data"
    },
    {
     "data": {
      "text/markdown": [
       "<span style=\"background-color: rgba(100, 200, 255, 0.00723068555817008);\">as</span> <span style=\"background-color: rgba(100, 200, 255, 0.026961402967572212);\">in</span> <span style=\"background-color: rgba(100, 200, 255, 1.0);\">barbara</span> <span style=\"background-color: rgba(100, 200, 255, 0.05161111056804657);\">streisand</span> <span style=\"background-color: rgba(100, 200, 255, 0.03814232349395752);\">s</span> <span style=\"background-color: rgba(100, 200, 255, 0.03241262212395668);\">husband</span> <span style=\"background-color: rgba(100, 200, 255, 0.015632497146725655);\">james</span> <span style=\"background-color: rgba(100, 200, 255, 0.003018164774402976);\">brolin</span>"
      ],
      "text/plain": [
       "<IPython.core.display.Markdown object>"
      ]
     },
     "metadata": {},
     "output_type": "display_data"
    },
    {
     "data": {
      "text/markdown": [
       "<span style=\"background-color: rgba(100, 200, 255, 1.0);\">what</span> <span style=\"background-color: rgba(100, 200, 255, 0.8935803771018982);\">is</span> <span style=\"background-color: rgba(100, 200, 255, 0.4170139729976654);\">the</span> <span style=\"background-color: rgba(100, 200, 255, 0.5626237988471985);\">point</span> <span style=\"background-color: rgba(100, 200, 255, 0.2550910413265228);\">of</span> <span style=\"background-color: rgba(100, 200, 255, 0.06713704764842987);\">having</span> <span style=\"background-color: rgba(100, 200, 255, 0.028180724009871483);\">them</span> <span style=\"background-color: rgba(100, 200, 255, 0.08824766427278519);\">if</span> <span style=\"background-color: rgba(100, 200, 255, 0.030174611136317253);\">we</span> <span style=\"background-color: rgba(100, 200, 255, 0.03246145322918892);\">never</span> <span style=\"background-color: rgba(100, 200, 255, 0.010198111645877361);\">use</span> <span style=\"background-color: rgba(100, 200, 255, 0.007886121049523354);\">them</span>"
      ],
      "text/plain": [
       "<IPython.core.display.Markdown object>"
      ]
     },
     "metadata": {},
     "output_type": "display_data"
    },
    {
     "data": {
      "text/markdown": [
       "<span style=\"background-color: rgba(100, 200, 255, 0.27108123898506165);\">okay</span> <span style=\"background-color: rgba(100, 200, 255, 0.2932937443256378);\">that</span> <span style=\"background-color: rgba(100, 200, 255, 0.42525288462638855);\">s</span> <span style=\"background-color: rgba(100, 200, 255, 0.2003844529390335);\">like</span> <span style=\"background-color: rgba(100, 200, 255, 0.09188195317983627);\">the</span> <span style=\"background-color: rgba(100, 200, 255, 0.08171919733285904);\">least</span> <span style=\"background-color: rgba(100, 200, 255, 1.0);\">fun</span> <span style=\"background-color: rgba(100, 200, 255, 0.3056448996067047);\">game</span> <span style=\"background-color: rgba(100, 200, 255, 0.07684645801782608);\">ever</span>"
      ],
      "text/plain": [
       "<IPython.core.display.Markdown object>"
      ]
     },
     "metadata": {},
     "output_type": "display_data"
    },
    {
     "data": {
      "text/markdown": [
       "<span style=\"background-color: rgba(100, 200, 255, 0.02067246288061142);\">i</span> <span style=\"background-color: rgba(100, 200, 255, 0.023674236610531807);\">found</span> <span style=\"background-color: rgba(100, 200, 255, 0.00429017236456275);\">a</span> <span style=\"background-color: rgba(100, 200, 255, 1.0);\">dried</span> <span style=\"background-color: rgba(100, 200, 255, 0.0006437578122131526);\">up</span> <span style=\"background-color: rgba(100, 200, 255, 0.005590540356934071);\">seashores</span>"
      ],
      "text/plain": [
       "<IPython.core.display.Markdown object>"
      ]
     },
     "metadata": {},
     "output_type": "display_data"
    },
    {
     "data": {
      "text/markdown": [
       "<span style=\"background-color: rgba(100, 200, 255, 0.0009470467921346426);\">no</span> <span style=\"background-color: rgba(100, 200, 255, 0.002035280456766486);\">no</span> <span style=\"background-color: rgba(100, 200, 255, 0.004028111230581999);\">no</span> <span style=\"background-color: rgba(100, 200, 255, 0.009107469581067562);\">no</span> <span style=\"background-color: rgba(100, 200, 255, 0.03176741674542427);\">no</span> <span style=\"background-color: rgba(100, 200, 255, 0.04658088460564613);\">you</span> <span style=\"background-color: rgba(100, 200, 255, 1.0);\">cant</span>"
      ],
      "text/plain": [
       "<IPython.core.display.Markdown object>"
      ]
     },
     "metadata": {},
     "output_type": "display_data"
    },
    {
     "data": {
      "text/markdown": [
       "## Monica"
      ],
      "text/plain": [
       "<IPython.core.display.Markdown object>"
      ]
     },
     "metadata": {},
     "output_type": "display_data"
    },
    {
     "data": {
      "text/markdown": [
       "<span style=\"background-color: rgba(100, 200, 255, 2.1190568588735914e-07);\">remember</span> <span style=\"background-color: rgba(100, 200, 255, 1.7949915331882949e-07);\">that</span> <span style=\"background-color: rgba(100, 200, 255, 7.1694257712806575e-06);\">guy</span> <span style=\"background-color: rgba(100, 200, 255, 8.293943392345682e-05);\">from</span> <span style=\"background-color: rgba(100, 200, 255, 1.0);\">cooking</span> <span style=\"background-color: rgba(100, 200, 255, 5.6307584600290284e-05);\">school</span> <span style=\"background-color: rgba(100, 200, 255, 2.6411942855020243e-08);\">i</span> <span style=\"background-color: rgba(100, 200, 255, 9.864843386608868e-10);\">told</span> <span style=\"background-color: rgba(100, 200, 255, 1.850250092028105e-10);\">you</span> <span style=\"background-color: rgba(100, 200, 255, 1.6275510106300572e-10);\">about</span> <span style=\"background-color: rgba(100, 200, 255, 2.371114415922193e-10);\">that</span> <span style=\"background-color: rgba(100, 200, 255, 5.223264598619437e-10);\">put</span> <span style=\"background-color: rgba(100, 200, 255, 1.0968911823283634e-07);\">cilantro</span> <span style=\"background-color: rgba(100, 200, 255, 2.4748694760212686e-10);\">with</span> <span style=\"background-color: rgba(100, 200, 255, 4.5028469841668084e-10);\">everything</span>"
      ],
      "text/plain": [
       "<IPython.core.display.Markdown object>"
      ]
     },
     "metadata": {},
     "output_type": "display_data"
    },
    {
     "data": {
      "text/markdown": [
       "<span style=\"background-color: rgba(100, 200, 255, 0.10427167266607285);\">he</span> <span style=\"background-color: rgba(100, 200, 255, 0.045881178230047226);\">doesnt</span> <span style=\"background-color: rgba(100, 200, 255, 0.5201829671859741);\">have</span> <span style=\"background-color: rgba(100, 200, 255, 0.2104571908712387);\">anyone</span>"
      ],
      "text/plain": [
       "<IPython.core.display.Markdown object>"
      ]
     },
     "metadata": {},
     "output_type": "display_data"
    },
    {
     "data": {
      "text/markdown": [
       "<span style=\"background-color: rgba(100, 200, 255, 0.23388560116291046);\">what</span> <span style=\"background-color: rgba(100, 200, 255, 0.48837757110595703);\">are</span> <span style=\"background-color: rgba(100, 200, 255, 0.1579638421535492);\">you</span> <span style=\"background-color: rgba(100, 200, 255, 0.39952948689460754);\">doing</span>"
      ],
      "text/plain": [
       "<IPython.core.display.Markdown object>"
      ]
     },
     "metadata": {},
     "output_type": "display_data"
    },
    {
     "data": {
      "text/markdown": [
       "<span style=\"background-color: rgba(100, 200, 255, 0.0001224911247845739);\">how</span> <span style=\"background-color: rgba(100, 200, 255, 6.506912177428603e-05);\">does</span> <span style=\"background-color: rgba(100, 200, 255, 6.661994120804593e-05);\">that</span> <span style=\"background-color: rgba(100, 200, 255, 0.0008713578572496772);\">laugh</span> <span style=\"background-color: rgba(100, 200, 255, 0.0003290535823907703);\">not</span> <span style=\"background-color: rgba(100, 200, 255, 0.0016422753687947989);\">give</span> <span style=\"background-color: rgba(100, 200, 255, 0.0009481809684075415);\">you</span> <span style=\"background-color: rgba(100, 200, 255, 0.000201408241991885);\">a</span> <span style=\"background-color: rgba(100, 200, 255, 1.0);\">headache</span>"
      ],
      "text/plain": [
       "<IPython.core.display.Markdown object>"
      ]
     },
     "metadata": {},
     "output_type": "display_data"
    },
    {
     "data": {
      "text/markdown": [
       "<span style=\"background-color: rgba(100, 200, 255, 0.14967112243175507);\">and</span> <span style=\"background-color: rgba(100, 200, 255, 0.06836637109518051);\">then</span> <span style=\"background-color: rgba(100, 200, 255, 0.016735192388296127);\">we</span> <span style=\"background-color: rgba(100, 200, 255, 0.7330536246299744);\">throw</span> <span style=\"background-color: rgba(100, 200, 255, 0.0020981086418032646);\">your</span> <span style=\"background-color: rgba(100, 200, 255, 0.021447226405143738);\">body</span> <span style=\"background-color: rgba(100, 200, 255, 0.00024430552730336785);\">in</span> <span style=\"background-color: rgba(100, 200, 255, 0.00048400458763353527);\">the</span> <span style=\"background-color: rgba(100, 200, 255, 0.014776673167943954);\">water</span> <span style=\"background-color: rgba(100, 200, 255, 0.3415795564651489);\">gee</span> <span style=\"background-color: rgba(100, 200, 255, 0.005143686663359404);\">that</span> <span style=\"background-color: rgba(100, 200, 255, 0.017601467669010162);\">does</span> <span style=\"background-color: rgba(100, 200, 255, 0.06784464418888092);\">sound</span> <span style=\"background-color: rgba(100, 200, 255, 1.0);\">fun</span>"
      ],
      "text/plain": [
       "<IPython.core.display.Markdown object>"
      ]
     },
     "metadata": {},
     "output_type": "display_data"
    },
    {
     "data": {
      "text/markdown": [
       "<span style=\"background-color: rgba(100, 200, 255, 0.6120132803916931);\">alright</span> <span style=\"background-color: rgba(100, 200, 255, 1.0);\">let</span> <span style=\"background-color: rgba(100, 200, 255, 0.6659838557243347);\">see</span>"
      ],
      "text/plain": [
       "<IPython.core.display.Markdown object>"
      ]
     },
     "metadata": {},
     "output_type": "display_data"
    },
    {
     "data": {
      "text/markdown": [
       "<span style=\"background-color: rgba(100, 200, 255, 0.024375444278120995);\">i</span> <span style=\"background-color: rgba(100, 200, 255, 0.02369261533021927);\">need</span> <span style=\"background-color: rgba(100, 200, 255, 0.05474068969488144);\">two</span> <span style=\"background-color: rgba(100, 200, 255, 0.0032288627699017525);\">i</span> <span style=\"background-color: rgba(100, 200, 255, 0.0015860404819250107);\">m</span> <span style=\"background-color: rgba(100, 200, 255, 0.0011457573855295777);\">bringing</span> <span style=\"background-color: rgba(100, 200, 255, 1.0);\">pete</span> <span style=\"background-color: rgba(100, 200, 255, 0.010106616653501987);\">my</span> <span style=\"background-color: rgba(100, 200, 255, 0.0026235803961753845);\">boyfriend</span> <span style=\"background-color: rgba(100, 200, 255, 4.888223884336185e-06);\">i</span> <span style=\"background-color: rgba(100, 200, 255, 1.36628250402282e-06);\">have</span> <span style=\"background-color: rgba(100, 200, 255, 7.116859137568099e-07);\">a</span> <span style=\"background-color: rgba(100, 200, 255, 4.4515932131616864e-06);\">boyfriend</span> <span style=\"background-color: rgba(100, 200, 255, 1.7014486486388591e-09);\">now</span>"
      ],
      "text/plain": [
       "<IPython.core.display.Markdown object>"
      ]
     },
     "metadata": {},
     "output_type": "display_data"
    },
    {
     "data": {
      "text/markdown": [
       "<span style=\"background-color: rgba(100, 200, 255, 1.0);\">phoebe</span> <span style=\"background-color: rgba(100, 200, 255, 0.0020807122346013784);\">you</span> <span style=\"background-color: rgba(100, 200, 255, 0.004178032744675875);\">were</span> <span style=\"background-color: rgba(100, 200, 255, 0.0005972094950266182);\">supposed</span> <span style=\"background-color: rgba(100, 200, 255, 0.0008821749943308532);\">to</span> <span style=\"background-color: rgba(100, 200, 255, 0.005656757857650518);\">take</span> <span style=\"background-color: rgba(100, 200, 255, 0.006472603417932987);\">that</span> <span style=\"background-color: rgba(100, 200, 255, 0.01065036654472351);\">back</span>"
      ],
      "text/plain": [
       "<IPython.core.display.Markdown object>"
      ]
     },
     "metadata": {},
     "output_type": "display_data"
    },
    {
     "data": {
      "text/markdown": [
       "<span style=\"background-color: rgba(100, 200, 255, 1.0);\">phoebe</span> <span style=\"background-color: rgba(100, 200, 255, 0.00515563553199172);\">you</span> <span style=\"background-color: rgba(100, 200, 255, 0.001794126583263278);\">kinda</span> <span style=\"background-color: rgba(100, 200, 255, 0.025082364678382874);\">caught</span> <span style=\"background-color: rgba(100, 200, 255, 0.0004263064474798739);\">me</span> <span style=\"background-color: rgba(100, 200, 255, 0.0004893816658295691);\">at</span> <span style=\"background-color: rgba(100, 200, 255, 0.0018102072644978762);\">a</span> <span style=\"background-color: rgba(100, 200, 255, 0.0014903336996212602);\">bad</span> <span style=\"background-color: rgba(100, 200, 255, 0.001025462755933404);\">time</span>"
      ],
      "text/plain": [
       "<IPython.core.display.Markdown object>"
      ]
     },
     "metadata": {},
     "output_type": "display_data"
    },
    {
     "data": {
      "text/markdown": [
       "<span style=\"background-color: rgba(100, 200, 255, 0.0005871955654583871);\">this</span> <span style=\"background-color: rgba(100, 200, 255, 0.0004273436206858605);\">is</span> <span style=\"background-color: rgba(100, 200, 255, 0.002929156646132469);\">different</span> <span style=\"background-color: rgba(100, 200, 255, 1.0);\">greg</span> <span style=\"background-color: rgba(100, 200, 255, 0.0014756766613572836);\">and</span> <span style=\"background-color: rgba(100, 200, 255, 0.00031322307768277824);\">jenny</span> <span style=\"background-color: rgba(100, 200, 255, 6.549983027070994e-07);\">are</span> <span style=\"background-color: rgba(100, 200, 255, 3.968838768741989e-07);\">in</span> <span style=\"background-color: rgba(100, 200, 255, 1.1566099828996812e-06);\">a</span> <span style=\"background-color: rgba(100, 200, 255, 5.740700999012915e-06);\">relationship</span>"
      ],
      "text/plain": [
       "<IPython.core.display.Markdown object>"
      ]
     },
     "metadata": {},
     "output_type": "display_data"
    },
    {
     "data": {
      "text/markdown": [
       "<span style=\"background-color: rgba(100, 200, 255, 0.018689533695578575);\">ill</span> <span style=\"background-color: rgba(100, 200, 255, 0.01150542963296175);\">be</span> <span style=\"background-color: rgba(100, 200, 255, 0.1851556897163391);\">right</span> <span style=\"background-color: rgba(100, 200, 255, 0.0351017601788044);\">there</span>"
      ],
      "text/plain": [
       "<IPython.core.display.Markdown object>"
      ]
     },
     "metadata": {},
     "output_type": "display_data"
    },
    {
     "data": {
      "text/markdown": [
       "<span style=\"background-color: rgba(100, 200, 255, 0.012643596157431602);\">there</span> <span style=\"background-color: rgba(100, 200, 255, 0.03569253534078598);\">nothing</span> <span style=\"background-color: rgba(100, 200, 255, 0.06329003721475601);\">to</span> <span style=\"background-color: rgba(100, 200, 255, 0.15310709178447723);\">tell</span> <span style=\"background-color: rgba(100, 200, 255, 0.15671882033348083);\">he</span> <span style=\"background-color: rgba(100, 200, 255, 0.08612614870071411);\">just</span> <span style=\"background-color: rgba(100, 200, 255, 0.08571667224168777);\">some</span> <span style=\"background-color: rgba(100, 200, 255, 1.0);\">guy</span> <span style=\"background-color: rgba(100, 200, 255, 0.013336258009076118);\">i</span> <span style=\"background-color: rgba(100, 200, 255, 0.002647570101544261);\">work</span> <span style=\"background-color: rgba(100, 200, 255, 0.0005056518712081015);\">with</span>"
      ],
      "text/plain": [
       "<IPython.core.display.Markdown object>"
      ]
     },
     "metadata": {},
     "output_type": "display_data"
    },
    {
     "data": {
      "text/markdown": [
       "<span style=\"background-color: rgba(100, 200, 255, 0.001021775184199214);\">see</span> <span style=\"background-color: rgba(100, 200, 255, 7.821016333764419e-05);\">that</span> <span style=\"background-color: rgba(100, 200, 255, 6.123694765847176e-05);\">s</span> <span style=\"background-color: rgba(100, 200, 255, 3.9450478652725e-06);\">what</span> <span style=\"background-color: rgba(100, 200, 255, 5.724936045226059e-07);\">i</span> <span style=\"background-color: rgba(100, 200, 255, 2.9228026505734306e-06);\">mean</span> <span style=\"background-color: rgba(100, 200, 255, 5.271000986795116e-07);\">i</span> <span style=\"background-color: rgba(100, 200, 255, 3.8966963984421454e-06);\">mean</span> <span style=\"background-color: rgba(100, 200, 255, 1.3177025721233804e-05);\">that</span> <span style=\"background-color: rgba(100, 200, 255, 2.289416443090886e-05);\">that</span> <span style=\"background-color: rgba(100, 200, 255, 4.931924195261672e-05);\">s</span> <span style=\"background-color: rgba(100, 200, 255, 0.0001765322667779401);\">great</span> <span style=\"background-color: rgba(100, 200, 255, 0.0002928235044237226);\">but</span> <span style=\"background-color: rgba(100, 200, 255, 0.00014736986486241221);\">i</span> <span style=\"background-color: rgba(100, 200, 255, 0.0001717820850899443);\">wouldn</span> <span style=\"background-color: rgba(100, 200, 255, 0.00018264913524035364);\">t</span> <span style=\"background-color: rgba(100, 200, 255, 0.0005856103962287307);\">trade</span> <span style=\"background-color: rgba(100, 200, 255, 0.0026166250463575125);\">in</span> <span style=\"background-color: rgba(100, 200, 255, 0.0011892570182681084);\">what</span> <span style=\"background-color: rgba(100, 200, 255, 0.0006685773259960115);\">i</span> <span style=\"background-color: rgba(100, 200, 255, 0.0019584891851991415);\">have</span> <span style=\"background-color: rgba(100, 200, 255, 0.007033825386315584);\">for</span> <span style=\"background-color: rgba(100, 200, 255, 0.0016143482644110918);\">that</span> <span style=\"background-color: rgba(100, 200, 255, 0.0014622302260249853);\">i</span> <span style=\"background-color: rgba(100, 200, 255, 0.003896435024216771);\">mean</span> <span style=\"background-color: rgba(100, 200, 255, 0.0026599280536174774);\">i</span> <span style=\"background-color: rgba(100, 200, 255, 0.005662643816322088);\">m</span> <span style=\"background-color: rgba(100, 200, 255, 0.0007378221489489079);\">gonna</span> <span style=\"background-color: rgba(100, 200, 255, 0.000607544556260109);\">be</span> <span style=\"background-color: rgba(100, 200, 255, 0.0013522031949833035);\">with</span> <span style=\"background-color: rgba(100, 200, 255, 1.0);\">chandler</span> <span style=\"background-color: rgba(100, 200, 255, 2.3441891244146973e-05);\">for</span> <span style=\"color: red;\">|</span> <span style=\"background-color: rgba(100, 200, 255, 0);\">the</span> <span style=\"background-color: rgba(100, 200, 255, 0);\">rest</span> <span style=\"background-color: rgba(100, 200, 255, 0);\">of</span> <span style=\"background-color: rgba(100, 200, 255, 0);\">my</span> <span style=\"background-color: rgba(100, 200, 255, 0);\">life</span> <span style=\"background-color: rgba(100, 200, 255, 0);\">and</span> <span style=\"background-color: rgba(100, 200, 255, 0);\">that</span> <span style=\"background-color: rgba(100, 200, 255, 0);\">s</span> <span style=\"background-color: rgba(100, 200, 255, 0);\">what</span> <span style=\"background-color: rgba(100, 200, 255, 0);\">makes</span> <span style=\"background-color: rgba(100, 200, 255, 0);\">me</span> <span style=\"background-color: rgba(100, 200, 255, 0);\">happy</span> <span style=\"background-color: rgba(100, 200, 255, 0);\">hey</span> <span style=\"background-color: rgba(100, 200, 255, 0);\">sweetie</span> <span style=\"background-color: rgba(100, 200, 255, 0);\">come</span> <span style=\"background-color: rgba(100, 200, 255, 0);\">here</span> <span style=\"background-color: rgba(100, 200, 255, 0);\">come</span> <span style=\"background-color: rgba(100, 200, 255, 0);\">sit</span> <span style=\"background-color: rgba(100, 200, 255, 0);\">down</span> <span style=\"background-color: rgba(100, 200, 255, 0);\">hey</span> <span style=\"background-color: rgba(100, 200, 255, 0);\">phoebe</span> <span style=\"background-color: rgba(100, 200, 255, 0);\">and</span> <span style=\"background-color: rgba(100, 200, 255, 0);\">i</span> <span style=\"background-color: rgba(100, 200, 255, 0);\">were</span> <span style=\"background-color: rgba(100, 200, 255, 0);\">just</span> <span style=\"background-color: rgba(100, 200, 255, 0);\">talking</span> <span style=\"background-color: rgba(100, 200, 255, 0);\">about</span> <span style=\"background-color: rgba(100, 200, 255, 0);\">how</span> <span style=\"background-color: rgba(100, 200, 255, 0);\">our</span> <span style=\"background-color: rgba(100, 200, 255, 0);\">relationship</span> <span style=\"background-color: rgba(100, 200, 255, 0);\">is</span> <span style=\"background-color: rgba(100, 200, 255, 0);\">deep</span> <span style=\"background-color: rgba(100, 200, 255, 0);\">and</span> <span style=\"background-color: rgba(100, 200, 255, 0);\">meaningful</span> <span style=\"background-color: rgba(100, 200, 255, 0);\">it</span> <span style=\"background-color: rgba(100, 200, 255, 0);\">really</span> <span style=\"background-color: rgba(100, 200, 255, 0);\">is</span> <span style=\"background-color: rgba(100, 200, 255, 0);\">don</span> <span style=\"background-color: rgba(100, 200, 255, 0);\">t</span> <span style=\"background-color: rgba(100, 200, 255, 0);\">you</span> <span style=\"background-color: rgba(100, 200, 255, 0);\">think</span>"
      ],
      "text/plain": [
       "<IPython.core.display.Markdown object>"
      ]
     },
     "metadata": {},
     "output_type": "display_data"
    },
    {
     "data": {
      "text/markdown": [
       "<span style=\"background-color: rgba(100, 200, 255, 0.000887105765286833);\">no</span> <span style=\"background-color: rgba(100, 200, 255, 0.193199023604393);\">joey</span> <span style=\"background-color: rgba(100, 200, 255, 0.13563627004623413);\">and</span> <span style=\"background-color: rgba(100, 200, 255, 1.0);\">ross</span> <span style=\"background-color: rgba(100, 200, 255, 0.00033867344609461725);\">don</span> <span style=\"background-color: rgba(100, 200, 255, 0.00027620996115729213);\">t</span> <span style=\"background-color: rgba(100, 200, 255, 0.0008050015894696116);\">know</span> <span style=\"background-color: rgba(100, 200, 255, 0.0026157929096370935);\">anything</span> <span style=\"background-color: rgba(100, 200, 255, 0.032213244587183);\">and</span> <span style=\"background-color: rgba(100, 200, 255, 0.22412677109241486);\">chandler</span> <span style=\"background-color: rgba(100, 200, 255, 0.00021234784799162298);\">still</span> <span style=\"background-color: rgba(100, 200, 255, 0.0009600122575648129);\">thinks</span> <span style=\"background-color: rgba(100, 200, 255, 0.0008101331768557429);\">that</span> <span style=\"background-color: rgba(100, 200, 255, 0.0021546599455177784);\">phoebe</span> <span style=\"background-color: rgba(100, 200, 255, 0.0011360672069713473);\">s</span> <span style=\"background-color: rgba(100, 200, 255, 0.0008094466174952686);\">pregnant</span>"
      ],
      "text/plain": [
       "<IPython.core.display.Markdown object>"
      ]
     },
     "metadata": {},
     "output_type": "display_data"
    },
    {
     "data": {
      "text/markdown": [
       "<span style=\"background-color: rgba(100, 200, 255, 0.09019230306148529);\">i</span> <span style=\"background-color: rgba(100, 200, 255, 0.13579510152339935);\">know</span>"
      ],
      "text/plain": [
       "<IPython.core.display.Markdown object>"
      ]
     },
     "metadata": {},
     "output_type": "display_data"
    },
    {
     "data": {
      "text/markdown": [
       "<span style=\"background-color: rgba(100, 200, 255, 1.0);\">im</span> <span style=\"background-color: rgba(100, 200, 255, 0.04719487205147743);\">really</span> <span style=\"background-color: rgba(100, 200, 255, 0.2628379762172699);\">getting</span> <span style=\"background-color: rgba(100, 200, 255, 0.0650196298956871);\">tired</span> <span style=\"background-color: rgba(100, 200, 255, 0.002373430645093322);\">of</span> <span style=\"background-color: rgba(100, 200, 255, 0.013092068955302238);\">sneaking</span> <span style=\"background-color: rgba(100, 200, 255, 0.00039296940667554736);\">around</span>"
      ],
      "text/plain": [
       "<IPython.core.display.Markdown object>"
      ]
     },
     "metadata": {},
     "output_type": "display_data"
    },
    {
     "data": {
      "text/markdown": [
       "<span style=\"background-color: rgba(100, 200, 255, 0.21690183877944946);\">you</span> <span style=\"background-color: rgba(100, 200, 255, 0.5819845199584961);\">just</span> <span style=\"background-color: rgba(100, 200, 255, 1.0);\">asked</span> <span style=\"background-color: rgba(100, 200, 255, 0.06488592177629471);\">me</span>"
      ],
      "text/plain": [
       "<IPython.core.display.Markdown object>"
      ]
     },
     "metadata": {},
     "output_type": "display_data"
    },
    {
     "data": {
      "text/markdown": [
       "<span style=\"background-color: rgba(100, 200, 255, 0.004588119685649872);\">it</span> <span style=\"background-color: rgba(100, 200, 255, 0.008905930444598198);\">so</span> <span style=\"background-color: rgba(100, 200, 255, 0.03833900764584541);\">good</span> <span style=\"background-color: rgba(100, 200, 255, 0.18366456031799316);\">isnt</span> <span style=\"background-color: rgba(100, 200, 255, 0.17239050567150116);\">it</span>"
      ],
      "text/plain": [
       "<IPython.core.display.Markdown object>"
      ]
     },
     "metadata": {},
     "output_type": "display_data"
    },
    {
     "data": {
      "text/markdown": [
       "<span style=\"background-color: rgba(100, 200, 255, 0.0015205071540549397);\">all</span> <span style=\"background-color: rgba(100, 200, 255, 0.01349493395537138);\">right</span> <span style=\"background-color: rgba(100, 200, 255, 0.2092854231595993);\">look</span> <span style=\"background-color: rgba(100, 200, 255, 0.02050165645778179);\">if</span> <span style=\"background-color: rgba(100, 200, 255, 0.03378661721944809);\">i</span> <span style=\"background-color: rgba(100, 200, 255, 0.016770197078585625);\">take</span> <span style=\"background-color: rgba(100, 200, 255, 1.0);\">chandler</span> <span style=\"background-color: rgba(100, 200, 255, 1.2323978808126412e-05);\">out</span> <span style=\"background-color: rgba(100, 200, 255, 1.4906598153174855e-05);\">of</span> <span style=\"background-color: rgba(100, 200, 255, 9.628646694181953e-06);\">the</span> <span style=\"background-color: rgba(100, 200, 255, 1.9407265426707454e-05);\">running</span> <span style=\"background-color: rgba(100, 200, 255, 1.1691728332152707e-06);\">will</span> <span style=\"background-color: rgba(100, 200, 255, 7.493488851650909e-07);\">you</span> <span style=\"background-color: rgba(100, 200, 255, 1.826027045126466e-07);\">be</span> <span style=\"background-color: rgba(100, 200, 255, 3.260990126818797e-07);\">able</span> <span style=\"background-color: rgba(100, 200, 255, 5.370396820580936e-07);\">to</span> <span style=\"background-color: rgba(100, 200, 255, 3.35447589350224e-06);\">focus</span>"
      ],
      "text/plain": [
       "<IPython.core.display.Markdown object>"
      ]
     },
     "metadata": {},
     "output_type": "display_data"
    },
    {
     "data": {
      "text/markdown": [
       "<span style=\"background-color: rgba(100, 200, 255, 0.056762151420116425);\">all</span> <span style=\"background-color: rgba(100, 200, 255, 0.7670950293540955);\">right</span> <span style=\"background-color: rgba(100, 200, 255, 0.05575178563594818);\">you</span> <span style=\"background-color: rgba(100, 200, 255, 1.0);\">and</span> <span style=\"background-color: rgba(100, 200, 255, 0.03713609278202057);\">me</span> <span style=\"background-color: rgba(100, 200, 255, 0.037233855575323105);\">let</span> <span style=\"background-color: rgba(100, 200, 255, 0.01830001175403595);\">s</span> <span style=\"background-color: rgba(100, 200, 255, 0.056204769760370255);\">go</span> <span style=\"background-color: rgba(100, 200, 255, 0.16580206155776978);\">right</span> <span style=\"background-color: rgba(100, 200, 255, 0.07252493500709534);\">now</span>"
      ],
      "text/plain": [
       "<IPython.core.display.Markdown object>"
      ]
     },
     "metadata": {},
     "output_type": "display_data"
    },
    {
     "data": {
      "text/markdown": [
       "<span style=\"background-color: rgba(100, 200, 255, 0.009517064318060875);\">you</span> <span style=\"background-color: rgba(100, 200, 255, 0.08246460556983948);\">promised</span> <span style=\"background-color: rgba(100, 200, 255, 1.0);\">dr</span> <span style=\"background-color: rgba(100, 200, 255, 0.0008325813105329871);\">weinburg</span> <span style=\"background-color: rgba(100, 200, 255, 2.937208591902163e-05);\">you</span> <span style=\"background-color: rgba(100, 200, 255, 6.0678918089251965e-05);\">d</span> <span style=\"background-color: rgba(100, 200, 255, 8.659606464789249e-06);\">never</span> <span style=\"background-color: rgba(100, 200, 255, 7.70894348534057e-06);\">use</span> <span style=\"background-color: rgba(100, 200, 255, 7.754925718472805e-06);\">that</span> <span style=\"background-color: rgba(100, 200, 255, 2.5475092115812004e-05);\">phrase</span>"
      ],
      "text/plain": [
       "<IPython.core.display.Markdown object>"
      ]
     },
     "metadata": {},
     "output_type": "display_data"
    },
    {
     "data": {
      "text/markdown": [
       "<span style=\"background-color: rgba(100, 200, 255, 0.003505576169118285);\">that</span> <span style=\"background-color: rgba(100, 200, 255, 0.002643421059474349);\">s</span> <span style=\"background-color: rgba(100, 200, 255, 0.0006758334347978234);\">a</span> <span style=\"background-color: rgba(100, 200, 255, 0.000608829315751791);\">good</span> <span style=\"background-color: rgba(100, 200, 255, 0.012422907166182995);\">question</span> <span style=\"background-color: rgba(100, 200, 255, 0.035257432609796524);\">look</span> <span style=\"background-color: rgba(100, 200, 255, 1.0);\">umm</span> <span style=\"background-color: rgba(100, 200, 255, 0.0020412500016391277);\">last</span> <span style=\"background-color: rgba(100, 200, 255, 7.293096859939396e-05);\">night</span> <span style=\"background-color: rgba(100, 200, 255, 5.329696364242409e-07);\">we</span> <span style=\"background-color: rgba(100, 200, 255, 2.2795100562689186e-07);\">let</span> <span style=\"background-color: rgba(100, 200, 255, 9.753770200404688e-07);\">the</span> <span style=\"background-color: rgba(100, 200, 255, 1.646897362661548e-05);\">dice</span> <span style=\"background-color: rgba(100, 200, 255, 3.7075744785397546e-06);\">decide</span> <span style=\"background-color: rgba(100, 200, 255, 1.1051447472709697e-06);\">maybe</span> <span style=\"background-color: rgba(100, 200, 255, 1.5537372064500232e-06);\">we</span> <span style=\"background-color: rgba(100, 200, 255, 6.03343096372555e-07);\">should</span> <span style=\"background-color: rgba(100, 200, 255, 4.877836659034074e-07);\">leave</span> <span style=\"background-color: rgba(100, 200, 255, 8.476570911852832e-08);\">it</span> <span style=\"background-color: rgba(100, 200, 255, 1.9887038149590808e-07);\">up</span> <span style=\"background-color: rgba(100, 200, 255, 9.259871376343654e-07);\">to</span> <span style=\"background-color: rgba(100, 200, 255, 2.886995207518339e-05);\">fate</span> <span style=\"background-color: rgba(100, 200, 255, 7.2159673436544836e-06);\">again</span> <span style=\"background-color: rgba(100, 200, 255, 3.5058214962191414e-06);\">i</span> <span style=\"background-color: rgba(100, 200, 255, 1.289509964408353e-05);\">love</span> <span style=\"background-color: rgba(100, 200, 255, 2.786646109598223e-05);\">you</span>"
      ],
      "text/plain": [
       "<IPython.core.display.Markdown object>"
      ]
     },
     "metadata": {},
     "output_type": "display_data"
    },
    {
     "data": {
      "text/markdown": [
       "<span style=\"background-color: rgba(100, 200, 255, 0.04585570842027664);\">it</span> <span style=\"background-color: rgba(100, 200, 255, 0.02483223006129265);\">worked</span> <span style=\"background-color: rgba(100, 200, 255, 0.8047497272491455);\">ooh</span> <span style=\"background-color: rgba(100, 200, 255, 1.0);\">baby</span> <span style=\"background-color: rgba(100, 200, 255, 0.09511357545852661);\">baby</span> <span style=\"background-color: rgba(100, 200, 255, 0.012350753881037235);\">baby</span> <span style=\"background-color: rgba(100, 200, 255, 0.704669177532196);\">ooh</span> <span style=\"background-color: rgba(100, 200, 255, 0.5113877058029175);\">baby</span> <span style=\"background-color: rgba(100, 200, 255, 0.07453414052724838);\">baby</span> <span style=\"background-color: rgba(100, 200, 255, 0.026530852541327477);\">baby</span>"
      ],
      "text/plain": [
       "<IPython.core.display.Markdown object>"
      ]
     },
     "metadata": {},
     "output_type": "display_data"
    },
    {
     "data": {
      "text/markdown": [
       "<span style=\"background-color: rgba(100, 200, 255, 0.26694297790527344);\">well</span> <span style=\"background-color: rgba(100, 200, 255, 1.0);\">phoebe</span> <span style=\"background-color: rgba(100, 200, 255, 0.017370011657476425);\">doesn</span> <span style=\"background-color: rgba(100, 200, 255, 0.016140004619956017);\">t</span> <span style=\"background-color: rgba(100, 200, 255, 0.03968793898820877);\">eat</span> <span style=\"background-color: rgba(100, 200, 255, 0.07612606137990952);\">turkey</span>"
      ],
      "text/plain": [
       "<IPython.core.display.Markdown object>"
      ]
     },
     "metadata": {},
     "output_type": "display_data"
    },
    {
     "data": {
      "text/markdown": [
       "<span style=\"background-color: rgba(100, 200, 255, 0.00411683926358819);\">wow</span> <span style=\"background-color: rgba(100, 200, 255, 0.002384440740570426);\">that</span> <span style=\"background-color: rgba(100, 200, 255, 0.0008264764910563827);\">is</span> <span style=\"background-color: rgba(100, 200, 255, 0.0002040026884060353);\">a</span> <span style=\"background-color: rgba(100, 200, 255, 0.014062171801924706);\">great</span> <span style=\"background-color: rgba(100, 200, 255, 1.0);\">picture</span>"
      ],
      "text/plain": [
       "<IPython.core.display.Markdown object>"
      ]
     },
     "metadata": {},
     "output_type": "display_data"
    },
    {
     "data": {
      "text/markdown": [
       "<span style=\"background-color: rgba(100, 200, 255, 0.06653204560279846);\">what</span> <span style=\"background-color: rgba(100, 200, 255, 0.04973820969462395);\">kind</span> <span style=\"background-color: rgba(100, 200, 255, 0.03479903191328049);\">of</span> <span style=\"background-color: rgba(100, 200, 255, 1.0);\">karate</span> <span style=\"background-color: rgba(100, 200, 255, 0.006449536886066198);\">is</span> <span style=\"background-color: rgba(100, 200, 255, 0.0019114586757496);\">that</span>"
      ],
      "text/plain": [
       "<IPython.core.display.Markdown object>"
      ]
     },
     "metadata": {},
     "output_type": "display_data"
    },
    {
     "data": {
      "text/markdown": [
       "<span style=\"background-color: rgba(100, 200, 255, 0.2513926327228546);\">come</span> <span style=\"background-color: rgba(100, 200, 255, 1.0);\">in</span> <span style=\"background-color: rgba(100, 200, 255, 0.9227253198623657);\">ive</span> <span style=\"background-color: rgba(100, 200, 255, 0.7710418701171875);\">been</span> <span style=\"background-color: rgba(100, 200, 255, 0.36342257261276245);\">waiting</span> <span style=\"background-color: rgba(100, 200, 255, 0.11838334798812866);\">for</span> <span style=\"background-color: rgba(100, 200, 255, 0.16483236849308014);\">you</span>"
      ],
      "text/plain": [
       "<IPython.core.display.Markdown object>"
      ]
     },
     "metadata": {},
     "output_type": "display_data"
    },
    {
     "data": {
      "text/markdown": [
       "<span style=\"background-color: rgba(100, 200, 255, 0.09850706905126572);\">i</span> <span style=\"background-color: rgba(100, 200, 255, 0.3917790353298187);\">love</span> <span style=\"background-color: rgba(100, 200, 255, 0.10196490585803986);\">you</span>"
      ],
      "text/plain": [
       "<IPython.core.display.Markdown object>"
      ]
     },
     "metadata": {},
     "output_type": "display_data"
    },
    {
     "data": {
      "text/markdown": [
       "<span style=\"background-color: rgba(100, 200, 255, 0.5310510396957397);\">they</span> <span style=\"background-color: rgba(100, 200, 255, 0.11541271954774857);\">re</span> <span style=\"background-color: rgba(100, 200, 255, 0.026022372767329216);\">my</span> <span style=\"background-color: rgba(100, 200, 255, 1.0);\">pants</span>"
      ],
      "text/plain": [
       "<IPython.core.display.Markdown object>"
      ]
     },
     "metadata": {},
     "output_type": "display_data"
    },
    {
     "data": {
      "text/markdown": [
       "<span style=\"background-color: rgba(100, 200, 255, 0.03352462872862816);\">i</span> <span style=\"background-color: rgba(100, 200, 255, 0.20099832117557526);\">dont</span> <span style=\"background-color: rgba(100, 200, 255, 0.15217384696006775);\">know</span> <span style=\"background-color: rgba(100, 200, 255, 0.08424924314022064);\">how</span> <span style=\"background-color: rgba(100, 200, 255, 0.22511407732963562);\">about</span> <span style=\"background-color: rgba(100, 200, 255, 0.081875741481781);\">the</span> <span style=\"background-color: rgba(100, 200, 255, 1.0);\">idiot</span> <span style=\"background-color: rgba(100, 200, 255, 0.17770862579345703);\">who</span> <span style=\"background-color: rgba(100, 200, 255, 0.008740673772990704);\">thought</span> <span style=\"background-color: rgba(100, 200, 255, 0.005328553728759289);\">he</span> <span style=\"background-color: rgba(100, 200, 255, 0.0008958548423834145);\">could</span> <span style=\"background-color: rgba(100, 200, 255, 0.003998380620032549);\">drive</span> <span style=\"background-color: rgba(100, 200, 255, 0.002389499917626381);\">from</span> <span style=\"background-color: rgba(100, 200, 255, 0.005982675589621067);\">albany</span> <span style=\"background-color: rgba(100, 200, 255, 0.00015635731688234955);\">to</span> <span style=\"background-color: rgba(100, 200, 255, 0.00030040551791898906);\">canada</span> <span style=\"background-color: rgba(100, 200, 255, 6.737589956173906e-06);\">on</span> <span style=\"background-color: rgba(100, 200, 255, 5.35161052539479e-06);\">a</span> <span style=\"background-color: rgba(100, 200, 255, 3.302765435364563e-06);\">half</span> <span style=\"background-color: rgba(100, 200, 255, 2.612815706015681e-07);\">a</span> <span style=\"background-color: rgba(100, 200, 255, 3.424832755172247e-07);\">tank</span> <span style=\"background-color: rgba(100, 200, 255, 3.21845590178782e-07);\">of</span> <span style=\"background-color: rgba(100, 200, 255, 2.523903731344035e-06);\">gas</span>"
      ],
      "text/plain": [
       "<IPython.core.display.Markdown object>"
      ]
     },
     "metadata": {},
     "output_type": "display_data"
    },
    {
     "data": {
      "text/markdown": [
       "<span style=\"background-color: rgba(100, 200, 255, 0.19890551269054413);\">okay</span> <span style=\"background-color: rgba(100, 200, 255, 0.19436977803707123);\">i</span> <span style=\"background-color: rgba(100, 200, 255, 0.3530196249485016);\">m</span> <span style=\"background-color: rgba(100, 200, 255, 0.07844121009111404);\">gonna</span> <span style=\"background-color: rgba(100, 200, 255, 0.09250485897064209);\">be</span> <span style=\"background-color: rgba(100, 200, 255, 0.20332737267017365);\">the</span> <span style=\"background-color: rgba(100, 200, 255, 1.0);\">mom</span> <span style=\"background-color: rgba(100, 200, 255, 0.0027934059035032988);\">that</span> <span style=\"background-color: rgba(100, 200, 255, 0.0005459527601487935);\">makes</span> <span style=\"background-color: rgba(100, 200, 255, 2.003290683205705e-05);\">the</span> <span style=\"background-color: rgba(100, 200, 255, 2.3579872504342347e-05);\">world</span> <span style=\"background-color: rgba(100, 200, 255, 5.392467272713475e-08);\">s</span> <span style=\"background-color: rgba(100, 200, 255, 2.172882460627079e-07);\">best</span> <span style=\"background-color: rgba(100, 200, 255, 1.8339362384267588e-07);\">chocolate</span> <span style=\"background-color: rgba(100, 200, 255, 2.634715201565996e-07);\">chip</span> <span style=\"background-color: rgba(100, 200, 255, 1.3670018006450846e-08);\">cookies</span>"
      ],
      "text/plain": [
       "<IPython.core.display.Markdown object>"
      ]
     },
     "metadata": {},
     "output_type": "display_data"
    },
    {
     "data": {
      "text/markdown": [
       "<span style=\"background-color: rgba(100, 200, 255, 1.0);\">joey</span> <span style=\"background-color: rgba(100, 200, 255, 0.037646107375621796);\">we</span> <span style=\"background-color: rgba(100, 200, 255, 0.018553156405687332);\">know</span> <span style=\"background-color: rgba(100, 200, 255, 0.007379565387964249);\">that</span> <span style=\"background-color: rgba(100, 200, 255, 0.005389282945543528);\">you</span>"
      ],
      "text/plain": [
       "<IPython.core.display.Markdown object>"
      ]
     },
     "metadata": {},
     "output_type": "display_data"
    },
    {
     "data": {
      "text/markdown": [
       "<span style=\"background-color: rgba(100, 200, 255, 0.14927059412002563);\">what</span> <span style=\"background-color: rgba(100, 200, 255, 0.5992627739906311);\">were</span> <span style=\"background-color: rgba(100, 200, 255, 0.1602872610092163);\">we</span> <span style=\"background-color: rgba(100, 200, 255, 0.46317097544670105);\">thinking</span>"
      ],
      "text/plain": [
       "<IPython.core.display.Markdown object>"
      ]
     },
     "metadata": {},
     "output_type": "display_data"
    },
    {
     "data": {
      "text/markdown": [
       "<span style=\"background-color: rgba(100, 200, 255, 1.0);\">ross</span> <span style=\"background-color: rgba(100, 200, 255, 0.0003310469619464129);\">s</span> <span style=\"background-color: rgba(100, 200, 255, 0.00018673478916753083);\">parents</span> <span style=\"background-color: rgba(100, 200, 255, 4.6922585170250386e-05);\">are</span> <span style=\"background-color: rgba(100, 200, 255, 1.1498293133627158e-05);\">my</span> <span style=\"background-color: rgba(100, 200, 255, 8.732216520002112e-05);\">parents</span>"
      ],
      "text/plain": [
       "<IPython.core.display.Markdown object>"
      ]
     },
     "metadata": {},
     "output_type": "display_data"
    },
    {
     "data": {
      "text/markdown": [
       "<span style=\"background-color: rgba(100, 200, 255, 1.0);\">chandler</span> <span style=\"background-color: rgba(100, 200, 255, 0.00019884090579580516);\">you</span> <span style=\"background-color: rgba(100, 200, 255, 0.00022444577189162374);\">re</span> <span style=\"background-color: rgba(100, 200, 255, 3.595827001845464e-05);\">not</span> <span style=\"background-color: rgba(100, 200, 255, 0.0011052265763282776);\">fourteen</span> <span style=\"background-color: rgba(100, 200, 255, 2.8176233172416687e-05);\">anymore</span> <span style=\"background-color: rgba(100, 200, 255, 3.362151255714707e-05);\">okay</span> <span style=\"background-color: rgba(100, 200, 255, 5.3335868869908154e-05);\">maybe</span> <span style=\"background-color: rgba(100, 200, 255, 3.31113078573253e-05);\">it</span> <span style=\"background-color: rgba(100, 200, 255, 0.0004587535513564944);\">s</span> <span style=\"background-color: rgba(100, 200, 255, 0.00044009543489664793);\">time</span> <span style=\"background-color: rgba(100, 200, 255, 7.987427670741454e-05);\">that</span> <span style=\"background-color: rgba(100, 200, 255, 0.00016967700503300875);\">you</span> <span style=\"background-color: rgba(100, 200, 255, 0.00023578220861963928);\">let</span> <span style=\"background-color: rgba(100, 200, 255, 0.00030276045436039567);\">that</span> <span style=\"background-color: rgba(100, 200, 255, 0.0003479030274320394);\">stuff</span> <span style=\"background-color: rgba(100, 200, 255, 8.405622793361545e-05);\">go</span> <span style=\"background-color: rgba(100, 200, 255, 0.0001114149417844601);\">if</span> <span style=\"background-color: rgba(100, 200, 255, 6.573757127625868e-05);\">your</span> <span style=\"background-color: rgba(100, 200, 255, 2.9403221560642123e-05);\">father</span> <span style=\"background-color: rgba(100, 200, 255, 7.038474723231047e-05);\">s</span> <span style=\"background-color: rgba(100, 200, 255, 8.614070247858763e-05);\">not</span> <span style=\"background-color: rgba(100, 200, 255, 1.3401930118561722e-05);\">at</span> <span style=\"background-color: rgba(100, 200, 255, 0.0004476780304685235);\">your</span> <span style=\"background-color: rgba(100, 200, 255, 0.0005695261061191559);\">wedding</span> <span style=\"background-color: rgba(100, 200, 255, 0.0006654140306636691);\">you</span> <span style=\"background-color: rgba(100, 200, 255, 0.00042959960410371423);\">re</span> <span style=\"background-color: rgba(100, 200, 255, 0.000163358636200428);\">gonna</span> <span style=\"background-color: rgba(100, 200, 255, 0.000185493947356008);\">regret</span> <span style=\"background-color: rgba(100, 200, 255, 0.00010754431423265487);\">it</span> <span style=\"background-color: rgba(100, 200, 255, 2.7264166419627145e-05);\">for</span> <span style=\"background-color: rgba(100, 200, 255, 6.964147905819118e-05);\">the</span> <span style=\"color: red;\">|</span> <span style=\"background-color: rgba(100, 200, 255, 0);\">rest</span> <span style=\"background-color: rgba(100, 200, 255, 0);\">of</span> <span style=\"background-color: rgba(100, 200, 255, 0);\">your</span> <span style=\"background-color: rgba(100, 200, 255, 0);\">life</span>"
      ],
      "text/plain": [
       "<IPython.core.display.Markdown object>"
      ]
     },
     "metadata": {},
     "output_type": "display_data"
    },
    {
     "data": {
      "text/markdown": [
       "<span style=\"background-color: rgba(100, 200, 255, 0.19134554266929626);\">so</span> <span style=\"background-color: rgba(100, 200, 255, 0.7556546330451965);\">do</span> <span style=\"background-color: rgba(100, 200, 255, 0.08163727819919586);\">you</span> <span style=\"background-color: rgba(100, 200, 255, 1.0);\">guys</span> <span style=\"background-color: rgba(100, 200, 255, 0.21742209792137146);\">wanna</span> <span style=\"background-color: rgba(100, 200, 255, 0.00481563713401556);\">come</span> <span style=\"background-color: rgba(100, 200, 255, 0.0031493487767875195);\">and</span> <span style=\"background-color: rgba(100, 200, 255, 0.0024716185871511698);\">eat</span> <span style=\"background-color: rgba(100, 200, 255, 7.80737100285478e-05);\">dinner</span> <span style=\"background-color: rgba(100, 200, 255, 8.898958867575857e-07);\">at</span> <span style=\"background-color: rgba(100, 200, 255, 3.4383438105578534e-06);\">the</span> <span style=\"background-color: rgba(100, 200, 255, 5.870930544915609e-05);\">restaurant</span> <span style=\"background-color: rgba(100, 200, 255, 4.5613946895173285e-06);\">sometime</span> <span style=\"background-color: rgba(100, 200, 255, 8.668546797707677e-06);\">in</span> <span style=\"background-color: rgba(100, 200, 255, 4.4773882109439e-05);\">the</span> <span style=\"background-color: rgba(100, 200, 255, 0.00011339839693391696);\">next</span> <span style=\"background-color: rgba(100, 200, 255, 0.00041307610808871686);\">few</span> <span style=\"background-color: rgba(100, 200, 255, 0.00024131631653290242);\">weeks</span>"
      ],
      "text/plain": [
       "<IPython.core.display.Markdown object>"
      ]
     },
     "metadata": {},
     "output_type": "display_data"
    },
    {
     "data": {
      "text/markdown": [
       "<span style=\"background-color: rgba(100, 200, 255, 0.19461210072040558);\">hi</span> <span style=\"background-color: rgba(100, 200, 255, 1.0);\">chandler</span>"
      ],
      "text/plain": [
       "<IPython.core.display.Markdown object>"
      ]
     },
     "metadata": {},
     "output_type": "display_data"
    },
    {
     "data": {
      "text/markdown": [
       "<span style=\"background-color: rgba(100, 200, 255, 1.0);\">phoebe</span> <span style=\"background-color: rgba(100, 200, 255, 0.004585936665534973);\">i</span> <span style=\"background-color: rgba(100, 200, 255, 0.0007367966463789344);\">m</span> <span style=\"background-color: rgba(100, 200, 255, 2.0669509467552416e-05);\">engaged</span>"
      ],
      "text/plain": [
       "<IPython.core.display.Markdown object>"
      ]
     },
     "metadata": {},
     "output_type": "display_data"
    },
    {
     "data": {
      "text/markdown": [
       "<span style=\"background-color: rgba(100, 200, 255, 1.0);\">chandler</span> <span style=\"background-color: rgba(100, 200, 255, 4.925672328681685e-05);\">stop</span> <span style=\"background-color: rgba(100, 200, 255, 6.071888947190018e-06);\">it</span> <span style=\"background-color: rgba(100, 200, 255, 5.191402578930138e-06);\">is</span> <span style=\"background-color: rgba(100, 200, 255, 2.826185209414689e-06);\">not</span> <span style=\"background-color: rgba(100, 200, 255, 6.353588560159551e-06);\">going</span> <span style=\"background-color: rgba(100, 200, 255, 4.311275915824808e-06);\">to</span> <span style=\"background-color: rgba(100, 200, 255, 4.929088754579425e-05);\">pop</span> <span style=\"background-color: rgba(100, 200, 255, 4.272736987331882e-05);\">open</span>"
      ],
      "text/plain": [
       "<IPython.core.display.Markdown object>"
      ]
     },
     "metadata": {},
     "output_type": "display_data"
    },
    {
     "data": {
      "text/markdown": [
       "<span style=\"background-color: rgba(100, 200, 255, 0.5817010998725891);\">i</span> <span style=\"background-color: rgba(100, 200, 255, 1.0);\">got</span> <span style=\"background-color: rgba(100, 200, 255, 0.3874458372592926);\">offered</span> <span style=\"background-color: rgba(100, 200, 255, 0.023265212774276733);\">the</span> <span style=\"background-color: rgba(100, 200, 255, 0.22197581827640533);\">head</span> <span style=\"background-color: rgba(100, 200, 255, 0.995715856552124);\">chef</span> <span style=\"background-color: rgba(100, 200, 255, 0.001778096309863031);\">job</span> <span style=\"background-color: rgba(100, 200, 255, 0.00013422926713246852);\">at</span> <span style=\"background-color: rgba(100, 200, 255, 0.020504724234342575);\">allesandro</span> <span style=\"background-color: rgba(100, 200, 255, 9.029224747791886e-05);\">s</span>"
      ],
      "text/plain": [
       "<IPython.core.display.Markdown object>"
      ]
     },
     "metadata": {},
     "output_type": "display_data"
    },
    {
     "data": {
      "text/markdown": [
       "<span style=\"background-color: rgba(100, 200, 255, 0.008769562467932701);\">this</span> <span style=\"background-color: rgba(100, 200, 255, 0.005854722112417221);\">is</span> <span style=\"background-color: rgba(100, 200, 255, 0.0035835853777825832);\">so</span> <span style=\"background-color: rgba(100, 200, 255, 0.01754411868751049);\">much</span> <span style=\"background-color: rgba(100, 200, 255, 0.35256776213645935);\">fun</span>"
      ],
      "text/plain": [
       "<IPython.core.display.Markdown object>"
      ]
     },
     "metadata": {},
     "output_type": "display_data"
    },
    {
     "data": {
      "text/markdown": [
       "<span style=\"background-color: rgba(100, 200, 255, 1.0);\">it</span> <span style=\"background-color: rgba(100, 200, 255, 0.5197655558586121);\">s</span> <span style=\"background-color: rgba(100, 200, 255, 0.9953787326812744);\">umm</span> <span style=\"background-color: rgba(100, 200, 255, 0.21496960520744324);\">it</span> <span style=\"background-color: rgba(100, 200, 255, 0.5924436450004578);\">has</span> <span style=\"background-color: rgba(100, 200, 255, 0.021314987912774086);\">something</span> <span style=\"background-color: rgba(100, 200, 255, 0.01049639843404293);\">to</span> <span style=\"background-color: rgba(100, 200, 255, 0.02839374542236328);\">do</span> <span style=\"background-color: rgba(100, 200, 255, 0.04701454937458038);\">with</span> <span style=\"background-color: rgba(100, 200, 255, 0.17666853964328766);\">transponding</span>"
      ],
      "text/plain": [
       "<IPython.core.display.Markdown object>"
      ]
     },
     "metadata": {},
     "output_type": "display_data"
    },
    {
     "data": {
      "text/markdown": [
       "<span style=\"background-color: rgba(100, 200, 255, 0.05079538747668266);\">that</span> <span style=\"background-color: rgba(100, 200, 255, 0.05458061397075653);\">s</span> <span style=\"background-color: rgba(100, 200, 255, 0.02532498724758625);\">not</span> <span style=\"background-color: rgba(100, 200, 255, 0.046505171805620193);\">true</span> <span style=\"background-color: rgba(100, 200, 255, 0.05412251129746437);\">you</span> <span style=\"background-color: rgba(100, 200, 255, 0.10535328090190887);\">don</span> <span style=\"background-color: rgba(100, 200, 255, 0.03923112526535988);\">t</span> <span style=\"background-color: rgba(100, 200, 255, 0.03162185475230217);\">have</span> <span style=\"background-color: rgba(100, 200, 255, 0.0006775083602406085);\">a</span> <span style=\"background-color: rgba(100, 200, 255, 1.0);\">moustache</span>"
      ],
      "text/plain": [
       "<IPython.core.display.Markdown object>"
      ]
     },
     "metadata": {},
     "output_type": "display_data"
    },
    {
     "data": {
      "text/markdown": [
       "<span style=\"background-color: rgba(100, 200, 255, 0.20528708398342133);\">okay</span> <span style=\"background-color: rgba(100, 200, 255, 0.061619650572538376);\">you</span> <span style=\"background-color: rgba(100, 200, 255, 0.07798615097999573);\">get</span> <span style=\"background-color: rgba(100, 200, 255, 0.006788287777453661);\">the</span> <span style=\"background-color: rgba(100, 200, 255, 0.39055928587913513);\">vacuum</span> <span style=\"background-color: rgba(100, 200, 255, 1.0);\">cleaner</span> <span style=\"background-color: rgba(100, 200, 255, 0.023293785750865936);\">and</span> <span style=\"background-color: rgba(100, 200, 255, 0.0005328718689270318);\">i</span> <span style=\"background-color: rgba(100, 200, 255, 2.123813465004787e-05);\">ll</span> <span style=\"background-color: rgba(100, 200, 255, 3.35822073793679e-06);\">get</span> <span style=\"background-color: rgba(100, 200, 255, 4.615733359969454e-07);\">the</span> <span style=\"background-color: rgba(100, 200, 255, 6.170378128445009e-06);\">furniture</span> <span style=\"background-color: rgba(100, 200, 255, 1.316473458246037e-06);\">polish</span>"
      ],
      "text/plain": [
       "<IPython.core.display.Markdown object>"
      ]
     },
     "metadata": {},
     "output_type": "display_data"
    },
    {
     "data": {
      "text/markdown": [
       "<span style=\"background-color: rgba(100, 200, 255, 1.0);\">boy</span> <span style=\"background-color: rgba(100, 200, 255, 0.14472441375255585);\">do</span> <span style=\"background-color: rgba(100, 200, 255, 0.016117770224809647);\">i</span> <span style=\"background-color: rgba(100, 200, 255, 0.01941188983619213);\">have</span> <span style=\"background-color: rgba(100, 200, 255, 0.0005679363384842873);\">a</span> <span style=\"background-color: rgba(100, 200, 255, 0.029017332941293716);\">surprise</span> <span style=\"background-color: rgba(100, 200, 255, 0.02207307517528534);\">for</span> <span style=\"background-color: rgba(100, 200, 255, 0.0144181028008461);\">you</span>"
      ],
      "text/plain": [
       "<IPython.core.display.Markdown object>"
      ]
     },
     "metadata": {},
     "output_type": "display_data"
    },
    {
     "data": {
      "text/markdown": [
       "<span style=\"background-color: rgba(100, 200, 255, 0.00126760418061167);\">hey</span> <span style=\"background-color: rgba(100, 200, 255, 1.0);\">hon</span> <span style=\"background-color: rgba(100, 200, 255, 0.12912508845329285);\">could</span> <span style=\"background-color: rgba(100, 200, 255, 0.0023689190857112408);\">you</span> <span style=\"background-color: rgba(100, 200, 255, 0.0015437786933034658);\">help</span> <span style=\"background-color: rgba(100, 200, 255, 0.00023649023205507547);\">me</span> <span style=\"background-color: rgba(100, 200, 255, 0.0001065913456841372);\">get</span> <span style=\"background-color: rgba(100, 200, 255, 1.657482425798662e-05);\">the</span> <span style=\"background-color: rgba(100, 200, 255, 0.001039823517203331);\">plates</span> <span style=\"background-color: rgba(100, 200, 255, 2.463161581545137e-05);\">down</span>"
      ],
      "text/plain": [
       "<IPython.core.display.Markdown object>"
      ]
     },
     "metadata": {},
     "output_type": "display_data"
    },
    {
     "data": {
      "text/markdown": [
       "## Joey"
      ],
      "text/plain": [
       "<IPython.core.display.Markdown object>"
      ]
     },
     "metadata": {},
     "output_type": "display_data"
    },
    {
     "data": {
      "text/markdown": [
       "<span style=\"background-color: rgba(100, 200, 255, 0.3218574523925781);\">well</span> <span style=\"background-color: rgba(100, 200, 255, 0.137653186917305);\">how</span> <span style=\"background-color: rgba(100, 200, 255, 0.6255311965942383);\">long</span> <span style=\"background-color: rgba(100, 200, 255, 0.6976526379585266);\">do</span> <span style=\"background-color: rgba(100, 200, 255, 0.18209628760814667);\">you</span> <span style=\"background-color: rgba(100, 200, 255, 0.05924580991268158);\">think</span> <span style=\"background-color: rgba(100, 200, 255, 1.0);\">itll</span> <span style=\"background-color: rgba(100, 200, 255, 0.006382707506418228);\">be</span>"
      ],
      "text/plain": [
       "<IPython.core.display.Markdown object>"
      ]
     },
     "metadata": {},
     "output_type": "display_data"
    },
    {
     "data": {
      "text/markdown": [
       "<span style=\"background-color: rgba(100, 200, 255, 0.02005745843052864);\">oh</span> <span style=\"background-color: rgba(100, 200, 255, 0.014435969293117523);\">i</span> <span style=\"background-color: rgba(100, 200, 255, 0.017286542803049088);\">didnt</span> <span style=\"background-color: rgba(100, 200, 255, 1.0);\">go</span> <span style=\"background-color: rgba(100, 200, 255, 0.0230877548456192);\">to</span> <span style=\"background-color: rgba(100, 200, 255, 0.010509124025702477);\">college</span>"
      ],
      "text/plain": [
       "<IPython.core.display.Markdown object>"
      ]
     },
     "metadata": {},
     "output_type": "display_data"
    },
    {
     "data": {
      "text/markdown": [
       "<span style=\"background-color: rgba(100, 200, 255, 0.0001251237845281139);\">good</span> <span style=\"background-color: rgba(100, 200, 255, 0.0005368674173951149);\">good</span> <span style=\"background-color: rgba(100, 200, 255, 0.003841342171654105);\">yeah</span> <span style=\"background-color: rgba(100, 200, 255, 0.0058389087207615376);\">maybe</span> <span style=\"background-color: rgba(100, 200, 255, 0.028873851522803307);\">while</span> <span style=\"background-color: rgba(100, 200, 255, 0.0012559536844491959);\">we</span> <span style=\"background-color: rgba(100, 200, 255, 0.003422529436647892);\">re</span> <span style=\"background-color: rgba(100, 200, 255, 0.0001621682313270867);\">there</span> <span style=\"background-color: rgba(100, 200, 255, 0.0003027630446013063);\">they</span> <span style=\"background-color: rgba(100, 200, 255, 0.00012794218491762877);\">can</span> <span style=\"background-color: rgba(100, 200, 255, 0.0001961300295079127);\">check</span> <span style=\"background-color: rgba(100, 200, 255, 7.010526314843446e-05);\">your</span> <span style=\"background-color: rgba(100, 200, 255, 0.07499313354492188);\">reflexes</span> <span style=\"background-color: rgba(100, 200, 255, 1.0);\">oops</span>"
      ],
      "text/plain": [
       "<IPython.core.display.Markdown object>"
      ]
     },
     "metadata": {},
     "output_type": "display_data"
    },
    {
     "data": {
      "text/markdown": [
       "<span style=\"background-color: rgba(100, 200, 255, 0.04891502484679222);\">hey</span> <span style=\"background-color: rgba(100, 200, 255, 0.08143331855535507);\">now</span> <span style=\"background-color: rgba(100, 200, 255, 0.004933472722768784);\">i</span> <span style=\"background-color: rgba(100, 200, 255, 0.00311730126850307);\">ve</span> <span style=\"background-color: rgba(100, 200, 255, 0.002086144406348467);\">been</span> <span style=\"background-color: rgba(100, 200, 255, 0.005561524070799351);\">watching</span> <span style=\"background-color: rgba(100, 200, 255, 0.005152145400643349);\">some</span> <span style=\"background-color: rgba(100, 200, 255, 0.03162982687354088);\">tapes</span> <span style=\"background-color: rgba(100, 200, 255, 0.016000846400856972);\">how</span> <span style=\"background-color: rgba(100, 200, 255, 0.0033994419500231743);\">s</span> <span style=\"background-color: rgba(100, 200, 255, 0.0022657369263470173);\">this</span> <span style=\"background-color: rgba(100, 200, 255, 1.0);\">jessica</span> <span style=\"background-color: rgba(100, 200, 255, 0.004315052181482315);\">lockhart</span> <span style=\"background-color: rgba(100, 200, 255, 2.915903678513132e-06);\">will</span> <span style=\"background-color: rgba(100, 200, 255, 2.5410706712136744e-06);\">never</span> <span style=\"background-color: rgba(100, 200, 255, 1.2186122830826207e-06);\">step</span> <span style=\"background-color: rgba(100, 200, 255, 7.425190347021271e-07);\">foot</span> <span style=\"background-color: rgba(100, 200, 255, 2.0103200881749217e-07);\">in</span> <span style=\"background-color: rgba(100, 200, 255, 1.9275104534699494e-07);\">this</span> <span style=\"background-color: rgba(100, 200, 255, 8.511204327987798e-07);\">place</span> <span style=\"background-color: rgba(100, 200, 255, 2.1582503961781185e-07);\">again</span> <span style=\"background-color: rgba(100, 200, 255, 2.3802280679774412e-07);\">ever</span>"
      ],
      "text/plain": [
       "<IPython.core.display.Markdown object>"
      ]
     },
     "metadata": {},
     "output_type": "display_data"
    },
    {
     "data": {
      "text/markdown": [
       "<span style=\"background-color: rgba(100, 200, 255, 1.0);\">it</span> <span style=\"background-color: rgba(100, 200, 255, 0.0413602776825428);\">s</span> <span style=\"background-color: rgba(100, 200, 255, 0.1339094489812851);\">between</span> <span style=\"background-color: rgba(100, 200, 255, 0.013868988491594791);\">us</span> <span style=\"background-color: rgba(100, 200, 255, 0.037335459142923355);\">and</span> <span style=\"background-color: rgba(100, 200, 255, 0.0037243247497826815);\">the</span> <span style=\"background-color: rgba(100, 200, 255, 0.08832163363695145);\">sea</span> <span style=\"background-color: rgba(100, 200, 255, 0.3877626955509186);\">ross</span>"
      ],
      "text/plain": [
       "<IPython.core.display.Markdown object>"
      ]
     },
     "metadata": {},
     "output_type": "display_data"
    },
    {
     "data": {
      "text/markdown": [
       "<span style=\"background-color: rgba(100, 200, 255, 0.01172567531466484);\">oh</span> <span style=\"background-color: rgba(100, 200, 255, 0.039732757955789566);\">it</span> <span style=\"background-color: rgba(100, 200, 255, 0.073825404047966);\">s</span> <span style=\"background-color: rgba(100, 200, 255, 0.5614620447158813);\">great</span> <span style=\"background-color: rgba(100, 200, 255, 0.03419419750571251);\">it</span> <span style=\"background-color: rgba(100, 200, 255, 0.023700028657913208);\">s</span> <span style=\"background-color: rgba(100, 200, 255, 0.0028158212080597878);\">a</span> <span style=\"background-color: rgba(100, 200, 255, 0.07456517219543457);\">great</span> <span style=\"background-color: rgba(100, 200, 255, 1.0);\">place</span> <span style=\"background-color: rgba(100, 200, 255, 0.0015734899789094925);\">to</span> <span style=\"background-color: rgba(100, 200, 255, 0.0003221709921490401);\">just</span> <span style=\"background-color: rgba(100, 200, 255, 0.0013414851855486631);\">kinda</span> <span style=\"background-color: rgba(100, 200, 255, 0.0015534758567810059);\">sit</span> <span style=\"background-color: rgba(100, 200, 255, 0.009902261197566986);\">hang</span> <span style=\"background-color: rgba(100, 200, 255, 0.0002675066643860191);\">around</span> <span style=\"background-color: rgba(100, 200, 255, 0.0011008756700903177);\">drink</span> <span style=\"background-color: rgba(100, 200, 255, 5.091300408821553e-05);\">a</span> <span style=\"background-color: rgba(100, 200, 255, 0.0007855622679926455);\">few</span> <span style=\"background-color: rgba(100, 200, 255, 0.003420929191634059);\">beers</span> <span style=\"background-color: rgba(100, 200, 255, 0.0009155893349088728);\">eat</span> <span style=\"background-color: rgba(100, 200, 255, 0.000521101348567754);\">some</span> <span style=\"background-color: rgba(100, 200, 255, 0.00754555594176054);\">chips</span>"
      ],
      "text/plain": [
       "<IPython.core.display.Markdown object>"
      ]
     },
     "metadata": {},
     "output_type": "display_data"
    },
    {
     "data": {
      "text/markdown": [
       "<span style=\"background-color: rgba(100, 200, 255, 1.0);\">tom</span> <span style=\"background-color: rgba(100, 200, 255, 0.04451844468712807);\">cruise</span> <span style=\"background-color: rgba(100, 200, 255, 0.0037999178748577833);\">and</span> <span style=\"background-color: rgba(100, 200, 255, 0.007587729953229427);\">nicole</span> <span style=\"background-color: rgba(100, 200, 255, 8.297875319840387e-05);\">kidman</span>"
      ],
      "text/plain": [
       "<IPython.core.display.Markdown object>"
      ]
     },
     "metadata": {},
     "output_type": "display_data"
    },
    {
     "data": {
      "text/markdown": [
       "<span style=\"background-color: rgba(100, 200, 255, 1.0);\">look</span> <span style=\"background-color: rgba(100, 200, 255, 0.03939623385667801);\">my</span> <span style=\"background-color: rgba(100, 200, 255, 0.5074412822723389);\">agent</span> <span style=\"background-color: rgba(100, 200, 255, 0.02305472455918789);\">hooked</span> <span style=\"background-color: rgba(100, 200, 255, 2.5478422685409896e-05);\">me</span> <span style=\"background-color: rgba(100, 200, 255, 3.306876897113398e-05);\">up</span> <span style=\"background-color: rgba(100, 200, 255, 1.0655135156412143e-05);\">with</span> <span style=\"background-color: rgba(100, 200, 255, 5.441892426460981e-06);\">six</span> <span style=\"background-color: rgba(100, 200, 255, 8.335986763086112e-07);\">tickets</span> <span style=\"background-color: rgba(100, 200, 255, 2.044081170993195e-08);\">to</span> <span style=\"background-color: rgba(100, 200, 255, 4.107060469493717e-09);\">a</span> <span style=\"background-color: rgba(100, 200, 255, 4.7722789275894684e-08);\">great</span> <span style=\"background-color: rgba(100, 200, 255, 7.496176408494648e-07);\">play</span>"
      ],
      "text/plain": [
       "<IPython.core.display.Markdown object>"
      ]
     },
     "metadata": {},
     "output_type": "display_data"
    },
    {
     "data": {
      "text/markdown": [
       "<span style=\"background-color: rgba(100, 200, 255, 0.0071592628955841064);\">yeah</span> <span style=\"background-color: rgba(100, 200, 255, 0.0005724584334529936);\">that</span> <span style=\"background-color: rgba(100, 200, 255, 0.0019761770963668823);\">s</span> <span style=\"background-color: rgba(100, 200, 255, 0.0024889949709177017);\">what</span> <span style=\"background-color: rgba(100, 200, 255, 0.007061738986521959);\">i</span> <span style=\"background-color: rgba(100, 200, 255, 0.01048283837735653);\">was</span> <span style=\"background-color: rgba(100, 200, 255, 0.12549947202205658);\">afraid</span> <span style=\"background-color: rgba(100, 200, 255, 0.09630916267633438);\">of</span> <span style=\"background-color: rgba(100, 200, 255, 0.06013358011841774);\">okay</span> <span style=\"background-color: rgba(100, 200, 255, 1.0);\">uhh</span> <span style=\"background-color: rgba(100, 200, 255, 0.16615310311317444);\">look</span> <span style=\"background-color: rgba(100, 200, 255, 0.0962504893541336);\">janine</span> <span style=\"background-color: rgba(100, 200, 255, 2.139959406122216e-06);\">i</span> <span style=\"background-color: rgba(100, 200, 255, 7.399381729555898e-07);\">really</span> <span style=\"background-color: rgba(100, 200, 255, 5.888251166652481e-07);\">want</span> <span style=\"background-color: rgba(100, 200, 255, 8.803066009477334e-08);\">you</span> <span style=\"background-color: rgba(100, 200, 255, 7.036444316099733e-08);\">to</span> <span style=\"background-color: rgba(100, 200, 255, 2.404701859859415e-08);\">feel</span> <span style=\"background-color: rgba(100, 200, 255, 7.409556079807089e-09);\">at</span> <span style=\"background-color: rgba(100, 200, 255, 1.4871248232850576e-08);\">home</span> <span style=\"background-color: rgba(100, 200, 255, 2.5941866432788174e-09);\">here</span> <span style=\"background-color: rgba(100, 200, 255, 4.5290315942025927e-10);\">but</span> <span style=\"background-color: rgba(100, 200, 255, 4.4967876644541604e-10);\">some</span> <span style=\"background-color: rgba(100, 200, 255, 2.5927901492472927e-10);\">of</span> <span style=\"background-color: rgba(100, 200, 255, 1.0997006777424545e-10);\">this</span> <span style=\"background-color: rgba(100, 200, 255, 1.4523721114656496e-10);\">new</span> <span style=\"background-color: rgba(100, 200, 255, 5.829251525923951e-10);\">stuff</span> <span style=\"background-color: rgba(100, 200, 255, 1.7637707960815874e-10);\">it</span> <span style=\"background-color: rgba(100, 200, 255, 8.682672636428634e-11);\">s</span> <span style=\"background-color: rgba(100, 200, 255, 1.8501911114299219e-09);\">too</span> <span style=\"background-color: rgba(100, 200, 255, 3.316989793944458e-09);\">girly</span>"
      ],
      "text/plain": [
       "<IPython.core.display.Markdown object>"
      ]
     },
     "metadata": {},
     "output_type": "display_data"
    },
    {
     "data": {
      "text/markdown": [
       "<span style=\"background-color: rgba(100, 200, 255, 0.012222891673445702);\">what</span> <span style=\"background-color: rgba(100, 200, 255, 0.01099005900323391);\">what</span> <span style=\"background-color: rgba(100, 200, 255, 0.1206459105014801);\">good</span> <span style=\"background-color: rgba(100, 200, 255, 0.09415274858474731);\">is</span> <span style=\"background-color: rgba(100, 200, 255, 0.024655336514115334);\">that</span> <span style=\"background-color: rgba(100, 200, 255, 0.37132585048675537);\">gonna</span> <span style=\"background-color: rgba(100, 200, 255, 0.17409224808216095);\">do</span> <span style=\"background-color: rgba(100, 200, 255, 0.14121416211128235);\">anybody</span>"
      ],
      "text/plain": [
       "<IPython.core.display.Markdown object>"
      ]
     },
     "metadata": {},
     "output_type": "display_data"
    },
    {
     "data": {
      "text/markdown": [
       "<span style=\"background-color: rgba(100, 200, 255, 0.015092997811734676);\">hey</span> <span style=\"background-color: rgba(100, 200, 255, 1.0);\">pheebs</span>"
      ],
      "text/plain": [
       "<IPython.core.display.Markdown object>"
      ]
     },
     "metadata": {},
     "output_type": "display_data"
    },
    {
     "data": {
      "text/markdown": [
       "<span style=\"background-color: rgba(100, 200, 255, 0.29108014702796936);\">hey</span> <span style=\"background-color: rgba(100, 200, 255, 1.0);\">monica</span> <span style=\"background-color: rgba(100, 200, 255, 0.0028347682673484087);\">i</span> <span style=\"background-color: rgba(100, 200, 255, 0.0013942888472229242);\">got</span> <span style=\"background-color: rgba(100, 200, 255, 4.259709385223687e-05);\">a</span> <span style=\"background-color: rgba(100, 200, 255, 2.9060776796541177e-05);\">question</span> <span style=\"background-color: rgba(100, 200, 255, 1.6845613117766334e-06);\">i</span> <span style=\"background-color: rgba(100, 200, 255, 9.331278079116601e-07);\">dont</span> <span style=\"background-color: rgba(100, 200, 255, 3.1984234283299884e-07);\">see</span> <span style=\"background-color: rgba(100, 200, 255, 1.7055501757567981e-06);\">any</span> <span style=\"background-color: rgba(100, 200, 255, 0.008239055052399635);\">tater</span> <span style=\"background-color: rgba(100, 200, 255, 2.103579208778683e-05);\">tots</span>"
      ],
      "text/plain": [
       "<IPython.core.display.Markdown object>"
      ]
     },
     "metadata": {},
     "output_type": "display_data"
    },
    {
     "data": {
      "text/markdown": [
       "<span style=\"background-color: rgba(100, 200, 255, 0.1006280705332756);\">uhh</span> <span style=\"background-color: rgba(100, 200, 255, 0.0037454250268638134);\">i</span> <span style=\"background-color: rgba(100, 200, 255, 0.009352411143481731);\">don</span> <span style=\"background-color: rgba(100, 200, 255, 0.014353286474943161);\">t</span> <span style=\"background-color: rgba(100, 200, 255, 0.0023893711622804403);\">believe</span> <span style=\"background-color: rgba(100, 200, 255, 0.00299814366735518);\">in</span> <span style=\"background-color: rgba(100, 200, 255, 0.0015720231458544731);\">these</span> <span style=\"background-color: rgba(100, 200, 255, 0.03728201612830162);\">crazy</span> <span style=\"background-color: rgba(100, 200, 255, 1.0);\">diets</span> <span style=\"background-color: rgba(100, 200, 255, 0.2699214816093445);\">y</span> <span style=\"background-color: rgba(100, 200, 255, 0.002125002909451723);\">know</span> <span style=\"background-color: rgba(100, 200, 255, 0.0007667883182875812);\">just</span> <span style=\"background-color: rgba(100, 200, 255, 0.0012366564478725195);\">everything</span> <span style=\"background-color: rgba(100, 200, 255, 0.0009826967725530267);\">in</span> <span style=\"background-color: rgba(100, 200, 255, 0.018561260774731636);\">moderation</span>"
      ],
      "text/plain": [
       "<IPython.core.display.Markdown object>"
      ]
     },
     "metadata": {},
     "output_type": "display_data"
    },
    {
     "data": {
      "text/markdown": [
       "<span style=\"background-color: rgba(100, 200, 255, 0.01399838738143444);\">nope</span> <span style=\"background-color: rgba(100, 200, 255, 1.0);\">man</span> <span style=\"background-color: rgba(100, 200, 255, 0.10770963132381439);\">look</span> <span style=\"background-color: rgba(100, 200, 255, 0.014662995003163815);\">at</span> <span style=\"background-color: rgba(100, 200, 255, 0.0009318162337876856);\">this</span> <span style=\"background-color: rgba(100, 200, 255, 0.8472131490707397);\">ross</span> <span style=\"background-color: rgba(100, 200, 255, 6.150528975013003e-07);\">i</span> <span style=\"background-color: rgba(100, 200, 255, 1.6218918119648151e-07);\">can</span> <span style=\"background-color: rgba(100, 200, 255, 1.324017091519636e-07);\">t</span> <span style=\"background-color: rgba(100, 200, 255, 4.81038746613649e-08);\">believe</span> <span style=\"background-color: rgba(100, 200, 255, 8.677503871012959e-08);\">you</span> <span style=\"background-color: rgba(100, 200, 255, 2.0842908554641326e-07);\">said</span> <span style=\"background-color: rgba(100, 200, 255, 9.843464710002081e-08);\">you</span> <span style=\"background-color: rgba(100, 200, 255, 4.105842492663214e-07);\">d</span> <span style=\"background-color: rgba(100, 200, 255, 6.956341280783818e-07);\">play</span> <span style=\"background-color: rgba(100, 200, 255, 2.8666204343608115e-06);\">rugby</span> <span style=\"background-color: rgba(100, 200, 255, 3.37445555942395e-08);\">i</span> <span style=\"background-color: rgba(100, 200, 255, 1.7194514256857474e-08);\">mean</span> <span style=\"background-color: rgba(100, 200, 255, 1.0087448210072125e-08);\">look</span> <span style=\"background-color: rgba(100, 200, 255, 4.4981622870921e-09);\">how</span> <span style=\"background-color: rgba(100, 200, 255, 2.118953679186575e-09);\">brutal</span> <span style=\"background-color: rgba(100, 200, 255, 1.4996484054563552e-09);\">this</span> <span style=\"background-color: rgba(100, 200, 255, 9.7367947038407e-10);\">is</span>"
      ],
      "text/plain": [
       "<IPython.core.display.Markdown object>"
      ]
     },
     "metadata": {},
     "output_type": "display_data"
    },
    {
     "data": {
      "text/markdown": [
       "<span style=\"background-color: rgba(100, 200, 255, 1.0);\">okay</span> <span style=\"background-color: rgba(100, 200, 255, 0.44727224111557007);\">it</span> <span style=\"background-color: rgba(100, 200, 255, 0.07132229208946228);\">a</span> <span style=\"background-color: rgba(100, 200, 255, 0.09577679634094238);\">typical</span> <span style=\"background-color: rgba(100, 200, 255, 0.01958397775888443);\">new</span> <span style=\"background-color: rgba(100, 200, 255, 0.015096215531229973);\">york</span> <span style=\"background-color: rgba(100, 200, 255, 0.042992424219846725);\">city</span> <span style=\"background-color: rgba(100, 200, 255, 0.0025886709336191416);\">apartment</span> <span style=\"background-color: rgba(100, 200, 255, 0.0023839904461055994);\">two</span> <span style=\"background-color: rgba(100, 200, 255, 0.0002048503520200029);\">girls</span> <span style=\"background-color: rgba(100, 200, 255, 0.00025279627880081534);\">are</span> <span style=\"background-color: rgba(100, 200, 255, 7.595064380438998e-05);\">just</span> <span style=\"background-color: rgba(100, 200, 255, 0.0013839035527780652);\">hanging</span> <span style=\"background-color: rgba(100, 200, 255, 0.0002698172174859792);\">out</span>"
      ],
      "text/plain": [
       "<IPython.core.display.Markdown object>"
      ]
     },
     "metadata": {},
     "output_type": "display_data"
    },
    {
     "data": {
      "text/markdown": [
       "<span style=\"background-color: rgba(100, 200, 255, 0.7562713623046875);\">anyway</span> <span style=\"background-color: rgba(100, 200, 255, 0.18777531385421753);\">it</span> <span style=\"background-color: rgba(100, 200, 255, 0.5640158653259277);\">wasn</span> <span style=\"background-color: rgba(100, 200, 255, 0.5130708813667297);\">t</span> <span style=\"background-color: rgba(100, 200, 255, 0.06715123355388641);\">the</span> <span style=\"background-color: rgba(100, 200, 255, 1.0);\">robot</span> <span style=\"background-color: rgba(100, 200, 255, 0.005275452043861151);\">it</span> <span style=\"background-color: rgba(100, 200, 255, 0.001385033130645752);\">was</span> <span style=\"background-color: rgba(100, 200, 255, 0.003049708204343915);\">the</span> <span style=\"background-color: rgba(100, 200, 255, 0.03661680221557617);\">guy</span> <span style=\"background-color: rgba(100, 200, 255, 0.06097212806344032);\">who</span> <span style=\"background-color: rgba(100, 200, 255, 0.01626809686422348);\">controls</span> <span style=\"background-color: rgba(100, 200, 255, 0.010208888910710812);\">him</span> <span style=\"background-color: rgba(100, 200, 255, 0.034699101001024246);\">yeah</span> <span style=\"background-color: rgba(100, 200, 255, 0.004367547109723091);\">he</span> <span style=\"background-color: rgba(100, 200, 255, 0.007400126662105322);\">doesn</span> <span style=\"background-color: rgba(100, 200, 255, 0.007610849104821682);\">t</span> <span style=\"background-color: rgba(100, 200, 255, 0.012305688112974167);\">like</span> <span style=\"background-color: rgba(100, 200, 255, 0.00827972311526537);\">me</span> <span style=\"background-color: rgba(100, 200, 255, 0.02684273198246956);\">he</span> <span style=\"background-color: rgba(100, 200, 255, 0.05437864735722542);\">had</span> <span style=\"background-color: rgba(100, 200, 255, 0.06290122866630554);\">c</span> <span style=\"background-color: rgba(100, 200, 255, 0.0011735123116523027);\">h</span> <span style=\"background-color: rgba(100, 200, 255, 2.661459075170569e-05);\">e</span> <span style=\"background-color: rgba(100, 200, 255, 5.726595873056795e-07);\">e</span> <span style=\"background-color: rgba(100, 200, 255, 2.2980513492143473e-08);\">s</span> <span style=\"background-color: rgba(100, 200, 255, 1.812365368891733e-08);\">e</span> <span style=\"background-color: rgba(100, 200, 255, 3.2372364788813e-09);\">knock</span> <span style=\"background-color: rgba(100, 200, 255, 3.6984577622689585e-09);\">over</span> <span style=\"background-color: rgba(100, 200, 255, 3.2123135262907e-09);\">the</span> <span style=\"background-color: rgba(100, 200, 255, 2.9049205707565307e-08);\">sandwich</span> <span style=\"background-color: rgba(100, 200, 255, 1.72180037338876e-07);\">right</span> <span style=\"color: red;\">|</span> <span style=\"background-color: rgba(100, 200, 255, 0);\">when</span> <span style=\"background-color: rgba(100, 200, 255, 0);\">i</span> <span style=\"background-color: rgba(100, 200, 255, 0);\">was</span> <span style=\"background-color: rgba(100, 200, 255, 0);\">reaching</span> <span style=\"background-color: rgba(100, 200, 255, 0);\">for</span> <span style=\"background-color: rgba(100, 200, 255, 0);\">one</span> <span style=\"background-color: rgba(100, 200, 255, 0);\">ohh</span>"
      ],
      "text/plain": [
       "<IPython.core.display.Markdown object>"
      ]
     },
     "metadata": {},
     "output_type": "display_data"
    },
    {
     "data": {
      "text/markdown": [
       "<span style=\"background-color: rgba(100, 200, 255, 0.26485374569892883);\">well</span> <span style=\"background-color: rgba(100, 200, 255, 0.1961165964603424);\">uh</span> <span style=\"background-color: rgba(100, 200, 255, 0.01468502078205347);\">i</span> <span style=\"background-color: rgba(100, 200, 255, 0.10062188655138016);\">went</span> <span style=\"background-color: rgba(100, 200, 255, 0.02630789950489998);\">down</span> <span style=\"background-color: rgba(100, 200, 255, 0.1102493554353714);\">there</span> <span style=\"background-color: rgba(100, 200, 255, 1.0);\">and</span> <span style=\"background-color: rgba(100, 200, 255, 0.1095619648694992);\">told</span> <span style=\"background-color: rgba(100, 200, 255, 0.1312168687582016);\">him</span> <span style=\"background-color: rgba(100, 200, 255, 0.011976423673331738);\">that</span> <span style=\"background-color: rgba(100, 200, 255, 0.020930949598550797);\">no</span> <span style=\"background-color: rgba(100, 200, 255, 0.18245761096477509);\">one</span> <span style=\"background-color: rgba(100, 200, 255, 0.7814396023750305);\">treats</span> <span style=\"background-color: rgba(100, 200, 255, 0.01201107632368803);\">my</span> <span style=\"background-color: rgba(100, 200, 255, 0.052049726247787476);\">friends</span> <span style=\"background-color: rgba(100, 200, 255, 0.008046966046094894);\">like</span> <span style=\"background-color: rgba(100, 200, 255, 0.0006163177313283086);\">that</span> <span style=\"background-color: rgba(100, 200, 255, 0.0008468475425615907);\">and</span> <span style=\"background-color: rgba(100, 200, 255, 1.944765608641319e-05);\">that</span> <span style=\"background-color: rgba(100, 200, 255, 2.5558196284691803e-05);\">he</span> <span style=\"background-color: rgba(100, 200, 255, 2.670646608748939e-06);\">d</span> <span style=\"background-color: rgba(100, 200, 255, 1.6036819943110459e-06);\">better</span> <span style=\"background-color: rgba(100, 200, 255, 6.7630180637934245e-06);\">come</span> <span style=\"background-color: rgba(100, 200, 255, 1.1092104614363052e-05);\">up</span> <span style=\"background-color: rgba(100, 200, 255, 6.351835327222943e-05);\">here</span> <span style=\"background-color: rgba(100, 200, 255, 0.00031070169643498957);\">and</span> <span style=\"background-color: rgba(100, 200, 255, 0.00064564443891868);\">apologize</span> <span style=\"background-color: rgba(100, 200, 255, 0.0003938184236176312);\">i</span> <span style=\"background-color: rgba(100, 200, 255, 0.0002403149992460385);\">ll</span> <span style=\"background-color: rgba(100, 200, 255, 0.0014173353556543589);\">see</span> <span style=\"background-color: rgba(100, 200, 255, 0.00039352860767394304);\">you</span> <span style=\"background-color: rgba(100, 200, 255, 0.005402549635618925);\">later</span> <span style=\"color: red;\">|</span>"
      ],
      "text/plain": [
       "<IPython.core.display.Markdown object>"
      ]
     },
     "metadata": {},
     "output_type": "display_data"
    },
    {
     "data": {
      "text/markdown": [
       "<span style=\"background-color: rgba(100, 200, 255, 0.00011805621034000069);\">oh</span> <span style=\"background-color: rgba(100, 200, 255, 0.00429953308776021);\">oh</span> <span style=\"background-color: rgba(100, 200, 255, 0.10202159732580185);\">oh</span> <span style=\"background-color: rgba(100, 200, 255, 1.0);\">oh</span> <span style=\"background-color: rgba(100, 200, 255, 0.014204124920070171);\">how</span> <span style=\"background-color: rgba(100, 200, 255, 0.004066653549671173);\">i</span> <span style=\"background-color: rgba(100, 200, 255, 0.012114860117435455);\">do</span> <span style=\"background-color: rgba(100, 200, 255, 0.00044298850116319954);\">it</span> <span style=\"background-color: rgba(100, 200, 255, 0.0002368992572883144);\">is</span> <span style=\"background-color: rgba(100, 200, 255, 0.0007339738076552749);\">i</span> <span style=\"background-color: rgba(100, 200, 255, 0.0008808139245957136);\">look</span> <span style=\"background-color: rgba(100, 200, 255, 5.075094668427482e-05);\">a</span> <span style=\"background-color: rgba(100, 200, 255, 0.0005973761435598135);\">woman</span> <span style=\"background-color: rgba(100, 200, 255, 1.3146473975211848e-05);\">up</span> <span style=\"background-color: rgba(100, 200, 255, 7.5525822467170656e-06);\">and</span> <span style=\"background-color: rgba(100, 200, 255, 3.2796112918731524e-06);\">down</span> <span style=\"background-color: rgba(100, 200, 255, 8.508383871230762e-06);\">and</span> <span style=\"background-color: rgba(100, 200, 255, 5.819528610118141e-07);\">say</span> <span style=\"background-color: rgba(100, 200, 255, 7.217876714094018e-07);\">hey</span> <span style=\"background-color: rgba(100, 200, 255, 2.7716459953808226e-06);\">how</span> <span style=\"background-color: rgba(100, 200, 255, 3.26498729918967e-06);\">you</span> <span style=\"background-color: rgba(100, 200, 255, 0.016713589429855347);\">doin</span>"
      ],
      "text/plain": [
       "<IPython.core.display.Markdown object>"
      ]
     },
     "metadata": {},
     "output_type": "display_data"
    },
    {
     "data": {
      "text/markdown": [
       "<span style=\"background-color: rgba(100, 200, 255, 0.01869732327759266);\">i</span> <span style=\"background-color: rgba(100, 200, 255, 1.0);\">gotta</span> <span style=\"background-color: rgba(100, 200, 255, 0.1484166532754898);\">say</span> <span style=\"background-color: rgba(100, 200, 255, 0.01889333687722683);\">i</span> <span style=\"background-color: rgba(100, 200, 255, 0.039842959493398666);\">never</span> <span style=\"background-color: rgba(100, 200, 255, 0.17137213051319122);\">knew</span> <span style=\"background-color: rgba(100, 200, 255, 0.007702223490923643);\">i</span> <span style=\"background-color: rgba(100, 200, 255, 0.0041373115964233875);\">could</span> <span style=\"background-color: rgba(100, 200, 255, 0.015357580967247486);\">enjoy</span> <span style=\"background-color: rgba(100, 200, 255, 5.379931826610118e-05);\">the</span> <span style=\"background-color: rgba(100, 200, 255, 0.0001422468776581809);\">non</span> <span style=\"background-color: rgba(100, 200, 255, 9.457395208301023e-05);\">sex</span> <span style=\"background-color: rgba(100, 200, 255, 3.236384600313613e-07);\">part</span> <span style=\"background-color: rgba(100, 200, 255, 8.434349041408495e-08);\">of</span> <span style=\"background-color: rgba(100, 200, 255, 5.651958190355799e-08);\">the</span> <span style=\"background-color: rgba(100, 200, 255, 5.5732968462507415e-08);\">date</span> <span style=\"background-color: rgba(100, 200, 255, 6.368596672245985e-08);\">so</span> <span style=\"background-color: rgba(100, 200, 255, 5.462873176043104e-08);\">much</span>"
      ],
      "text/plain": [
       "<IPython.core.display.Markdown object>"
      ]
     },
     "metadata": {},
     "output_type": "display_data"
    },
    {
     "data": {
      "text/markdown": [
       "<span style=\"background-color: rgba(100, 200, 255, 0.00026902122772298753);\">yeah</span> <span style=\"background-color: rgba(100, 200, 255, 0.00018593105778563768);\">what</span> <span style=\"background-color: rgba(100, 200, 255, 0.0035145741421729326);\">did</span> <span style=\"background-color: rgba(100, 200, 255, 1.0);\">ya</span> <span style=\"background-color: rgba(100, 200, 255, 0.001213083160109818);\">have</span>"
      ],
      "text/plain": [
       "<IPython.core.display.Markdown object>"
      ]
     },
     "metadata": {},
     "output_type": "display_data"
    },
    {
     "data": {
      "text/markdown": [
       "<span style=\"background-color: rgba(100, 200, 255, 0.0060794539749622345);\">there</span> <span style=\"background-color: rgba(100, 200, 255, 0.008237739093601704);\">s</span> <span style=\"background-color: rgba(100, 200, 255, 0.004685379099100828);\">a</span> <span style=\"background-color: rgba(100, 200, 255, 0.027262622490525246);\">part</span> <span style=\"background-color: rgba(100, 200, 255, 0.007975512184202671);\">in</span> <span style=\"background-color: rgba(100, 200, 255, 0.024666301906108856);\">a</span> <span style=\"background-color: rgba(100, 200, 255, 1.0);\">tv</span> <span style=\"background-color: rgba(100, 200, 255, 0.7066130042076111);\">movie</span> <span style=\"background-color: rgba(100, 200, 255, 0.0007226914167404175);\">that</span> <span style=\"background-color: rgba(100, 200, 255, 0.0004931663279421628);\">i</span> <span style=\"background-color: rgba(100, 200, 255, 0.003288303967565298);\">would</span> <span style=\"background-color: rgba(100, 200, 255, 0.012369690462946892);\">be</span> <span style=\"background-color: rgba(100, 200, 255, 0.04065684601664543);\">perfect</span> <span style=\"background-color: rgba(100, 200, 255, 0.013102754950523376);\">for</span> <span style=\"background-color: rgba(100, 200, 255, 0.03875989839434624);\">and</span> <span style=\"background-color: rgba(100, 200, 255, 0.00042174445115961134);\">i</span> <span style=\"background-color: rgba(100, 200, 255, 0.00028800228028558195);\">didn</span> <span style=\"background-color: rgba(100, 200, 255, 9.069284715224057e-05);\">t</span> <span style=\"background-color: rgba(100, 200, 255, 0.00018344323325436562);\">even</span> <span style=\"background-color: rgba(100, 200, 255, 7.409939280478284e-05);\">be</span> <span style=\"background-color: rgba(100, 200, 255, 8.783372322795913e-05);\">put</span> <span style=\"background-color: rgba(100, 200, 255, 0.0001653479557717219);\">up</span> <span style=\"background-color: rgba(100, 200, 255, 0.0005263150087557733);\">for</span> <span style=\"background-color: rgba(100, 200, 255, 0.00010052300785901025);\">it</span> <span style=\"background-color: rgba(100, 200, 255, 0.0005882265977561474);\">she</span> <span style=\"background-color: rgba(100, 200, 255, 0.00011797157640103251);\">d</span> <span style=\"background-color: rgba(100, 200, 255, 8.464176062261686e-05);\">better</span> <span style=\"background-color: rgba(100, 200, 255, 0.0001467135880375281);\">have</span> <span style=\"background-color: rgba(100, 200, 255, 5.321801381796831e-06);\">a</span> <span style=\"background-color: rgba(100, 200, 255, 2.4492546799592674e-05);\">good</span> <span style=\"background-color: rgba(100, 200, 255, 8.431884634774178e-05);\">reason</span>"
      ],
      "text/plain": [
       "<IPython.core.display.Markdown object>"
      ]
     },
     "metadata": {},
     "output_type": "display_data"
    },
    {
     "data": {
      "text/markdown": [
       "<span style=\"background-color: rgba(100, 200, 255, 0.00011029148299712688);\">i</span> <span style=\"background-color: rgba(100, 200, 255, 0.00010949290299322456);\">d</span> <span style=\"background-color: rgba(100, 200, 255, 0.00018974383419845253);\">love</span> <span style=\"background-color: rgba(100, 200, 255, 6.279654189711437e-05);\">to</span> <span style=\"background-color: rgba(100, 200, 255, 0.0005579902790486813);\">show</span> <span style=\"background-color: rgba(100, 200, 255, 1.0);\">ya</span> <span style=\"background-color: rgba(100, 200, 255, 0.0007966891280375421);\">but</span> <span style=\"background-color: rgba(100, 200, 255, 0.0003921734751202166);\">i</span> <span style=\"background-color: rgba(100, 200, 255, 0.0001606201403774321);\">just</span> <span style=\"background-color: rgba(100, 200, 255, 0.00017562531866133213);\">tucked</span> <span style=\"background-color: rgba(100, 200, 255, 5.270983365335269e-06);\">her</span> <span style=\"background-color: rgba(100, 200, 255, 5.539717221836327e-06);\">in</span> <span style=\"background-color: rgba(100, 200, 255, 6.3109418988460675e-06);\">she</span> <span style=\"background-color: rgba(100, 200, 255, 2.013648327192641e-06);\">s</span> <span style=\"background-color: rgba(100, 200, 255, 3.1368042527901707e-06);\">sleeping</span> <span style=\"background-color: rgba(100, 200, 255, 1.5673540474381298e-05);\">hey</span> <span style=\"background-color: rgba(100, 200, 255, 0.00040491422987543046);\">uh</span> <span style=\"background-color: rgba(100, 200, 255, 2.8302838472882286e-05);\">would</span> <span style=\"background-color: rgba(100, 200, 255, 5.607025377685204e-05);\">you</span> <span style=\"background-color: rgba(100, 200, 255, 6.08670488873031e-05);\">two</span> <span style=\"background-color: rgba(100, 200, 255, 2.685312574612908e-05);\">girls</span> <span style=\"background-color: rgba(100, 200, 255, 5.829827500747342e-07);\">like</span> <span style=\"background-color: rgba(100, 200, 255, 8.883505131507263e-08);\">to</span> <span style=\"background-color: rgba(100, 200, 255, 4.0342673202076185e-08);\">go</span> <span style=\"background-color: rgba(100, 200, 255, 1.0490426305409528e-08);\">for</span> <span style=\"background-color: rgba(100, 200, 255, 6.144929454166004e-09);\">a</span> <span style=\"background-color: rgba(100, 200, 255, 2.372645901971282e-08);\">drink</span>"
      ],
      "text/plain": [
       "<IPython.core.display.Markdown object>"
      ]
     },
     "metadata": {},
     "output_type": "display_data"
    },
    {
     "data": {
      "text/markdown": [
       "<span style=\"background-color: rgba(100, 200, 255, 0.014655753038823605);\">yeah</span> <span style=\"background-color: rgba(100, 200, 255, 0.46447718143463135);\">well</span> <span style=\"background-color: rgba(100, 200, 255, 1.0);\">now</span> <span style=\"background-color: rgba(100, 200, 255, 0.10345421731472015);\">that</span> <span style=\"background-color: rgba(100, 200, 255, 0.05390666052699089);\">you</span> <span style=\"background-color: rgba(100, 200, 255, 0.5871155261993408);\">brought</span> <span style=\"background-color: rgba(100, 200, 255, 0.0012560399482026696);\">it</span> <span style=\"background-color: rgba(100, 200, 255, 0.004471436142921448);\">up</span> <span style=\"background-color: rgba(100, 200, 255, 0.0006407403852790594);\">our</span> <span style=\"background-color: rgba(100, 200, 255, 0.046510882675647736);\">fridge</span> <span style=\"background-color: rgba(100, 200, 255, 2.0098927052458748e-05);\">is</span> <span style=\"background-color: rgba(100, 200, 255, 0.0004983915714547038);\">broken</span> <span style=\"background-color: rgba(100, 200, 255, 2.5218550945282914e-05);\">we</span> <span style=\"background-color: rgba(100, 200, 255, 4.7021807404235005e-05);\">have</span> <span style=\"background-color: rgba(100, 200, 255, 4.826763324672356e-05);\">to</span> <span style=\"background-color: rgba(100, 200, 255, 0.0001696985273156315);\">get</span> <span style=\"background-color: rgba(100, 200, 255, 7.041449134703726e-05);\">a</span> <span style=\"background-color: rgba(100, 200, 255, 0.0021031140349805355);\">new</span> <span style=\"background-color: rgba(100, 200, 255, 0.0023047151044011116);\">one</span> <span style=\"background-color: rgba(100, 200, 255, 0.010556958615779877);\">now</span> <span style=\"background-color: rgba(100, 200, 255, 0.013095352798700333);\">i</span> <span style=\"background-color: rgba(100, 200, 255, 0.012956161051988602);\">checked</span> <span style=\"background-color: rgba(100, 200, 255, 0.0015568032395094633);\">around</span> <span style=\"background-color: rgba(100, 200, 255, 0.02019592560827732);\">and</span> <span style=\"background-color: rgba(100, 200, 255, 0.014470393769443035);\">your</span> <span style=\"background-color: rgba(100, 200, 255, 0.005836754105985165);\">half</span> <span style=\"background-color: rgba(100, 200, 255, 0.005864470265805721);\">is</span> <span style=\"background-color: rgba(100, 200, 255, 0.0031933339778333902);\">400</span> <span style=\"background-color: rgba(100, 200, 255, 0.0024318161886185408);\">thanks</span> <span style=\"background-color: rgba(100, 200, 255, 0.0013784720795229077);\">a</span> <span style=\"background-color: rgba(100, 200, 255, 0.01360616646707058);\">lot</span>"
      ],
      "text/plain": [
       "<IPython.core.display.Markdown object>"
      ]
     },
     "metadata": {},
     "output_type": "display_data"
    },
    {
     "data": {
      "text/markdown": [
       "<span style=\"background-color: rgba(100, 200, 255, 0.8861333131790161);\">well</span> <span style=\"background-color: rgba(100, 200, 255, 0.6270265579223633);\">then</span> <span style=\"background-color: rgba(100, 200, 255, 1.0);\">help</span> <span style=\"background-color: rgba(100, 200, 255, 0.03260459005832672);\">me</span> <span style=\"background-color: rgba(100, 200, 255, 0.23148973286151886);\">get</span> <span style=\"background-color: rgba(100, 200, 255, 0.007054997608065605);\">it</span> <span style=\"background-color: rgba(100, 200, 255, 0.18413203954696655);\">off</span> <span style=\"background-color: rgba(100, 200, 255, 0.3711272180080414);\">plus</span> <span style=\"background-color: rgba(100, 200, 255, 0.0051023950800299644);\">it</span> <span style=\"background-color: rgba(100, 200, 255, 0.0036138673312962055);\">smells</span> <span style=\"background-color: rgba(100, 200, 255, 0.00029309981619007885);\">really</span> <span style=\"background-color: rgba(100, 200, 255, 0.00014991246280260384);\">bad</span> <span style=\"background-color: rgba(100, 200, 255, 0.00016431832045782357);\">in</span> <span style=\"background-color: rgba(100, 200, 255, 0.0009436592808924615);\">here</span>"
      ],
      "text/plain": [
       "<IPython.core.display.Markdown object>"
      ]
     },
     "metadata": {},
     "output_type": "display_data"
    },
    {
     "data": {
      "text/markdown": [
       "<span style=\"background-color: rgba(100, 200, 255, 0.4090881049633026);\">i</span> <span style=\"background-color: rgba(100, 200, 255, 0.07397241145372391);\">think</span> <span style=\"background-color: rgba(100, 200, 255, 1.0);\">face</span> <span style=\"background-color: rgba(100, 200, 255, 0.15018534660339355);\">to</span> <span style=\"background-color: rgba(100, 200, 255, 0.8367211222648621);\">face</span>"
      ],
      "text/plain": [
       "<IPython.core.display.Markdown object>"
      ]
     },
     "metadata": {},
     "output_type": "display_data"
    },
    {
     "data": {
      "text/markdown": [
       "<span style=\"background-color: rgba(100, 200, 255, 0.0006886046612635255);\">the</span> <span style=\"background-color: rgba(100, 200, 255, 0.0028800037689507008);\">question</span> <span style=\"background-color: rgba(100, 200, 255, 0.00023104807769414037);\">should</span> <span style=\"background-color: rgba(100, 200, 255, 2.0752921045641415e-05);\">be</span> <span style=\"background-color: rgba(100, 200, 255, 0.0015732056926935911);\">rach</span> <span style=\"background-color: rgba(100, 200, 255, 0.0006137641612440348);\">what</span> <span style=\"background-color: rgba(100, 200, 255, 4.005551818409003e-05);\">is</span> <span style=\"background-color: rgba(100, 200, 255, 2.5033455131051596e-06);\">not</span> <span style=\"background-color: rgba(100, 200, 255, 1.6086694358818932e-06);\">so</span> <span style=\"background-color: rgba(100, 200, 255, 9.70789983512077e-07);\">great</span> <span style=\"background-color: rgba(100, 200, 255, 4.237321718392195e-06);\">about</span> <span style=\"background-color: rgba(100, 200, 255, 7.410702528432012e-05);\">the</span> <span style=\"background-color: rgba(100, 200, 255, 0.020086435601115227);\">shining</span> <span style=\"background-color: rgba(100, 200, 255, 0.00025561865186318755);\">okay</span> <span style=\"background-color: rgba(100, 200, 255, 0.0016542177181690931);\">and</span> <span style=\"background-color: rgba(100, 200, 255, 0.0004335542907938361);\">the</span> <span style=\"background-color: rgba(100, 200, 255, 0.0025940213818103075);\">answer</span> <span style=\"background-color: rgba(100, 200, 255, 0.00036470702616497874);\">would</span> <span style=\"background-color: rgba(100, 200, 255, 0.0002996158436872065);\">be</span> <span style=\"background-color: rgba(100, 200, 255, 0.0001117293577408418);\">nothing</span> <span style=\"background-color: rgba(100, 200, 255, 0.001851910026744008);\">all</span> <span style=\"background-color: rgba(100, 200, 255, 0.1127491220831871);\">right</span> <span style=\"background-color: rgba(100, 200, 255, 0.003359944559633732);\">this</span> <span style=\"background-color: rgba(100, 200, 255, 0.0029325862415134907);\">is</span> <span style=\"background-color: rgba(100, 200, 255, 0.0025828820653259754);\">like</span> <span style=\"background-color: rgba(100, 200, 255, 0.0023265022318810225);\">the</span> <span style=\"background-color: rgba(100, 200, 255, 0.4660060703754425);\">scariest</span> <span style=\"background-color: rgba(100, 200, 255, 0.10428450256586075);\">book</span> <span style=\"background-color: rgba(100, 200, 255, 0.028874946758151054);\">ever</span> <span style=\"background-color: rgba(100, 200, 255, 0.023323649540543556);\">i</span> <span style=\"background-color: rgba(100, 200, 255, 1.0);\">bet</span> <span style=\"background-color: rgba(100, 200, 255, 0.020682811737060547);\">it</span> <span style=\"color: red;\">|</span> <span style=\"background-color: rgba(100, 200, 255, 0);\">s</span> <span style=\"background-color: rgba(100, 200, 255, 0);\">way</span> <span style=\"background-color: rgba(100, 200, 255, 0);\">better</span> <span style=\"background-color: rgba(100, 200, 255, 0);\">than</span> <span style=\"background-color: rgba(100, 200, 255, 0);\">that</span> <span style=\"background-color: rgba(100, 200, 255, 0);\">classic</span> <span style=\"background-color: rgba(100, 200, 255, 0);\">of</span> <span style=\"background-color: rgba(100, 200, 255, 0);\">yours</span>"
      ],
      "text/plain": [
       "<IPython.core.display.Markdown object>"
      ]
     },
     "metadata": {},
     "output_type": "display_data"
    },
    {
     "data": {
      "text/markdown": [
       "<span style=\"background-color: rgba(100, 200, 255, 0.011169437319040298);\">no</span> <span style=\"background-color: rgba(100, 200, 255, 0.024938223883509636);\">no</span> <span style=\"background-color: rgba(100, 200, 255, 0.10723324120044708);\">no</span> <span style=\"background-color: rgba(100, 200, 255, 0.3052530288696289);\">don</span> <span style=\"background-color: rgba(100, 200, 255, 0.3604917824268341);\">t</span> <span style=\"background-color: rgba(100, 200, 255, 0.40459638833999634);\">get</span> <span style=\"background-color: rgba(100, 200, 255, 0.14283140003681183);\">up</span> <span style=\"background-color: rgba(100, 200, 255, 0.01614362932741642);\">i</span> <span style=\"background-color: rgba(100, 200, 255, 0.044364385306835175);\">got</span> <span style=\"background-color: rgba(100, 200, 255, 0.0010437224991619587);\">a</span> <span style=\"background-color: rgba(100, 200, 255, 1.0);\">cooler</span> <span style=\"background-color: rgba(100, 200, 255, 0.29269617795944214);\">right</span> <span style=\"background-color: rgba(100, 200, 255, 0.05251026526093483);\">here</span>"
      ],
      "text/plain": [
       "<IPython.core.display.Markdown object>"
      ]
     },
     "metadata": {},
     "output_type": "display_data"
    },
    {
     "data": {
      "text/markdown": [
       "<span style=\"background-color: rgba(100, 200, 255, 0.08030692487955093);\">london</span> <span style=\"background-color: rgba(100, 200, 255, 0.30978894233703613);\">baby</span>"
      ],
      "text/plain": [
       "<IPython.core.display.Markdown object>"
      ]
     },
     "metadata": {},
     "output_type": "display_data"
    },
    {
     "data": {
      "text/markdown": [
       "<span style=\"background-color: rgba(100, 200, 255, 0.0026233000680804253);\">dad</span> <span style=\"background-color: rgba(100, 200, 255, 1.0);\">ronni</span> <span style=\"background-color: rgba(100, 200, 255, 3.9126584283621924e-07);\">here</span>"
      ],
      "text/plain": [
       "<IPython.core.display.Markdown object>"
      ]
     },
     "metadata": {},
     "output_type": "display_data"
    },
    {
     "data": {
      "text/markdown": [
       "<span style=\"background-color: rgba(100, 200, 255, 1.0);\">dude</span> <span style=\"background-color: rgba(100, 200, 255, 0.0001175791330751963);\">what</span> <span style=\"background-color: rgba(100, 200, 255, 9.608928667148575e-05);\">the</span> <span style=\"background-color: rgba(100, 200, 255, 0.012586737982928753);\">hell</span> <span style=\"background-color: rgba(100, 200, 255, 0.0008826983976177871);\">are</span> <span style=\"background-color: rgba(100, 200, 255, 5.756723112426698e-05);\">you</span> <span style=\"background-color: rgba(100, 200, 255, 0.00029933193582110107);\">doing</span> <span style=\"background-color: rgba(100, 200, 255, 0.00385452713817358);\">god</span>"
      ],
      "text/plain": [
       "<IPython.core.display.Markdown object>"
      ]
     },
     "metadata": {},
     "output_type": "display_data"
    },
    {
     "data": {
      "text/markdown": [
       "<span style=\"background-color: rgba(100, 200, 255, 0.9014119505882263);\">who</span> <span style=\"background-color: rgba(100, 200, 255, 0.8575698137283325);\">cares</span> <span style=\"background-color: rgba(100, 200, 255, 0.06998242437839508);\">i</span> <span style=\"background-color: rgba(100, 200, 255, 0.04706978797912598);\">i</span> <span style=\"background-color: rgba(100, 200, 255, 0.06981495767831802);\">ll</span> <span style=\"background-color: rgba(100, 200, 255, 0.09309562295675278);\">make</span> <span style=\"background-color: rgba(100, 200, 255, 1.0);\">payments</span> <span style=\"background-color: rgba(100, 200, 255, 0.0466739758849144);\">whatever</span> <span style=\"background-color: rgba(100, 200, 255, 0.00683070020750165);\">it</span> <span style=\"background-color: rgba(100, 200, 255, 0.19219107925891876);\">takes</span> <span style=\"background-color: rgba(100, 200, 255, 0.006252202671021223);\">i</span> <span style=\"background-color: rgba(100, 200, 255, 0.004418154247105122);\">want</span> <span style=\"background-color: rgba(100, 200, 255, 0.007545156870037317);\">the</span> <span style=\"background-color: rgba(100, 200, 255, 0.30256348848342896);\">mr</span> <span style=\"background-color: rgba(100, 200, 255, 0.15150398015975952);\">bowmont</span>"
      ],
      "text/plain": [
       "<IPython.core.display.Markdown object>"
      ]
     },
     "metadata": {},
     "output_type": "display_data"
    },
    {
     "data": {
      "text/markdown": [
       "<span style=\"background-color: rgba(100, 200, 255, 8.02573558758013e-05);\">that</span> <span style=\"background-color: rgba(100, 200, 255, 2.2982421796768904e-06);\">s</span> <span style=\"background-color: rgba(100, 200, 255, 2.0729539755848236e-05);\">great</span> <span style=\"background-color: rgba(100, 200, 255, 0.0010893739527091384);\">thanks</span> <span style=\"background-color: rgba(100, 200, 255, 1.0);\">rach</span>"
      ],
      "text/plain": [
       "<IPython.core.display.Markdown object>"
      ]
     },
     "metadata": {},
     "output_type": "display_data"
    },
    {
     "data": {
      "text/markdown": [
       "<span style=\"background-color: rgba(100, 200, 255, 0.00026591873029246926);\">uh</span> <span style=\"background-color: rgba(100, 200, 255, 0.0014712088741362095);\">yeah</span> <span style=\"background-color: rgba(100, 200, 255, 0.009811951778829098);\">but</span> <span style=\"background-color: rgba(100, 200, 255, 0.21379125118255615);\">uh</span> <span style=\"background-color: rgba(100, 200, 255, 0.004463511519134045);\">i</span> <span style=\"background-color: rgba(100, 200, 255, 0.2692943513393402);\">may</span> <span style=\"background-color: rgba(100, 200, 255, 0.10126298666000366);\">have</span> <span style=\"background-color: rgba(100, 200, 255, 0.30666211247444153);\">said</span> <span style=\"background-color: rgba(100, 200, 255, 0.2466459721326828);\">those</span> <span style=\"background-color: rgba(100, 200, 255, 0.7502550482749939);\">things</span> <span style=\"background-color: rgba(100, 200, 255, 1.0);\">before</span> <span style=\"background-color: rgba(100, 200, 255, 0.051048241555690765);\">but</span> <span style=\"background-color: rgba(100, 200, 255, 0.012030743062496185);\">i</span> <span style=\"background-color: rgba(100, 200, 255, 0.01621265709400177);\">never</span> <span style=\"background-color: rgba(100, 200, 255, 0.00680225295946002);\">truly</span> <span style=\"background-color: rgba(100, 200, 255, 0.0063042594119906425);\">meant</span> <span style=\"background-color: rgba(100, 200, 255, 0.0037001443561166525);\">them</span> <span style=\"background-color: rgba(100, 200, 255, 0.005012085195630789);\">until</span> <span style=\"background-color: rgba(100, 200, 255, 0.0008329618722200394);\">now</span>"
      ],
      "text/plain": [
       "<IPython.core.display.Markdown object>"
      ]
     },
     "metadata": {},
     "output_type": "display_data"
    },
    {
     "data": {
      "text/markdown": [
       "<span style=\"background-color: rgba(100, 200, 255, 0.04977382346987724);\">hey</span> <span style=\"background-color: rgba(100, 200, 255, 0.04938071221113205);\">youre</span> <span style=\"background-color: rgba(100, 200, 255, 0.5639322400093079);\">back</span> <span style=\"background-color: rgba(100, 200, 255, 0.531140148639679);\">too</span>"
      ],
      "text/plain": [
       "<IPython.core.display.Markdown object>"
      ]
     },
     "metadata": {},
     "output_type": "display_data"
    },
    {
     "data": {
      "text/markdown": [
       "<span style=\"background-color: rgba(100, 200, 255, 0.0009893841343000531);\">no</span> <span style=\"background-color: rgba(100, 200, 255, 0.0015187057433649898);\">no</span> <span style=\"background-color: rgba(100, 200, 255, 0.0020387540571391582);\">no</span> <span style=\"background-color: rgba(100, 200, 255, 0.0033818334341049194);\">no</span> <span style=\"background-color: rgba(100, 200, 255, 0.009404604323208332);\">no</span> <span style=\"background-color: rgba(100, 200, 255, 1.0);\">who</span> <span style=\"background-color: rgba(100, 200, 255, 0.33630383014678955);\">who</span> <span style=\"background-color: rgba(100, 200, 255, 0.01852058432996273);\">were</span> <span style=\"background-color: rgba(100, 200, 255, 0.002421960234642029);\">you</span> <span style=\"background-color: rgba(100, 200, 255, 0.004027400631457567);\">talking</span> <span style=\"background-color: rgba(100, 200, 255, 0.0011510482290759683);\">about</span>"
      ],
      "text/plain": [
       "<IPython.core.display.Markdown object>"
      ]
     },
     "metadata": {},
     "output_type": "display_data"
    },
    {
     "data": {
      "text/markdown": [
       "<span style=\"background-color: rgba(100, 200, 255, 1.0531139196245931e-05);\">i</span> <span style=\"background-color: rgba(100, 200, 255, 1.0043604561360553e-05);\">m</span> <span style=\"background-color: rgba(100, 200, 255, 4.06199433200527e-06);\">saying</span> <span style=\"background-color: rgba(100, 200, 255, 3.0795406473771436e-06);\">that</span> <span style=\"background-color: rgba(100, 200, 255, 1.6341581385859172e-06);\">this</span> <span style=\"background-color: rgba(100, 200, 255, 7.805167842889205e-05);\">isnt</span> <span style=\"background-color: rgba(100, 200, 255, 9.692922321846709e-05);\">working</span> <span style=\"background-color: rgba(100, 200, 255, 4.083196927240351e-06);\">for</span> <span style=\"background-color: rgba(100, 200, 255, 1.616225199541077e-05);\">me</span> <span style=\"background-color: rgba(100, 200, 255, 0.0001415955921402201);\">anymore</span> <span style=\"background-color: rgba(100, 200, 255, 0.0016732439398765564);\">ok</span> <span style=\"background-color: rgba(100, 200, 255, 1.0);\">estelle</span> <span style=\"background-color: rgba(100, 200, 255, 1.8226909332952346e-06);\">you</span> <span style=\"background-color: rgba(100, 200, 255, 2.4945646259766363e-07);\">re</span> <span style=\"background-color: rgba(100, 200, 255, 5.424133178166812e-07);\">fired</span> <span style=\"background-color: rgba(100, 200, 255, 6.725761068082647e-07);\">goodbye</span>"
      ],
      "text/plain": [
       "<IPython.core.display.Markdown object>"
      ]
     },
     "metadata": {},
     "output_type": "display_data"
    },
    {
     "data": {
      "text/markdown": [
       "<span style=\"background-color: rgba(100, 200, 255, 0.29460570216178894);\">wow</span> <span style=\"background-color: rgba(100, 200, 255, 1.0);\">look</span> <span style=\"background-color: rgba(100, 200, 255, 0.05687415972352028);\">at</span> <span style=\"background-color: rgba(100, 200, 255, 0.03471045196056366);\">this</span> <span style=\"background-color: rgba(100, 200, 255, 0.012879406102001667);\">he</span> <span style=\"background-color: rgba(100, 200, 255, 0.025852257385849953);\">wrote</span> <span style=\"background-color: rgba(100, 200, 255, 0.0013344634789973497);\">a</span> <span style=\"background-color: rgba(100, 200, 255, 0.0017348795663565397);\">check</span> <span style=\"background-color: rgba(100, 200, 255, 0.00019008431991096586);\">for</span> <span style=\"background-color: rgba(100, 200, 255, 0.00021721648226957768);\">50</span> <span style=\"background-color: rgba(100, 200, 255, 3.452872988418676e-05);\">000</span> <span style=\"background-color: rgba(100, 200, 255, 2.6554516807664186e-06);\">dollars</span> <span style=\"background-color: rgba(100, 200, 255, 8.184118627241332e-08);\">to</span> <span style=\"background-color: rgba(100, 200, 255, 7.45931814094547e-08);\">hugo</span> <span style=\"background-color: rgba(100, 200, 255, 3.1987343884765096e-09);\">ligrens</span> <span style=\"background-color: rgba(100, 200, 255, 1.2522816117410684e-09);\">ring</span> <span style=\"background-color: rgba(100, 200, 255, 3.3267014143412155e-10);\">design</span> <span style=\"background-color: rgba(100, 200, 255, 4.70686788156538e-11);\">oh</span> <span style=\"background-color: rgba(100, 200, 255, 1.0385814430691198e-10);\">sorry</span> <span style=\"background-color: rgba(100, 200, 255, 5.231470256994442e-10);\">what</span> <span style=\"background-color: rgba(100, 200, 255, 6.402229302260309e-10);\">do</span> <span style=\"background-color: rgba(100, 200, 255, 6.886166636910218e-10);\">you</span> <span style=\"background-color: rgba(100, 200, 255, 5.731701224753749e-10);\">think</span> <span style=\"background-color: rgba(100, 200, 255, 6.523186990570196e-10);\">the</span> <span style=\"background-color: rgba(100, 200, 255, 7.68522467886612e-10);\">good</span> <span style=\"background-color: rgba(100, 200, 255, 2.4832873535274302e-09);\">news</span> <span style=\"background-color: rgba(100, 200, 255, 1.1661867027612516e-09);\">is</span>"
      ],
      "text/plain": [
       "<IPython.core.display.Markdown object>"
      ]
     },
     "metadata": {},
     "output_type": "display_data"
    },
    {
     "data": {
      "text/markdown": [
       "<span style=\"background-color: rgba(100, 200, 255, 0.00011805621034000069);\">oh</span> <span style=\"background-color: rgba(100, 200, 255, 0.00429953308776021);\">oh</span> <span style=\"background-color: rgba(100, 200, 255, 0.10202159732580185);\">oh</span> <span style=\"background-color: rgba(100, 200, 255, 1.0);\">oh</span> <span style=\"background-color: rgba(100, 200, 255, 0.014204124920070171);\">how</span> <span style=\"background-color: rgba(100, 200, 255, 0.004066653549671173);\">i</span> <span style=\"background-color: rgba(100, 200, 255, 0.012114860117435455);\">do</span> <span style=\"background-color: rgba(100, 200, 255, 0.00044298850116319954);\">it</span> <span style=\"background-color: rgba(100, 200, 255, 0.0002368992572883144);\">is</span> <span style=\"background-color: rgba(100, 200, 255, 0.0007339738076552749);\">i</span> <span style=\"background-color: rgba(100, 200, 255, 0.0008808139245957136);\">look</span> <span style=\"background-color: rgba(100, 200, 255, 5.075094668427482e-05);\">a</span> <span style=\"background-color: rgba(100, 200, 255, 0.0005973761435598135);\">woman</span> <span style=\"background-color: rgba(100, 200, 255, 1.3146473975211848e-05);\">up</span> <span style=\"background-color: rgba(100, 200, 255, 7.5525822467170656e-06);\">and</span> <span style=\"background-color: rgba(100, 200, 255, 3.2796112918731524e-06);\">down</span> <span style=\"background-color: rgba(100, 200, 255, 8.508383871230762e-06);\">and</span> <span style=\"background-color: rgba(100, 200, 255, 5.819528610118141e-07);\">say</span> <span style=\"background-color: rgba(100, 200, 255, 7.217876714094018e-07);\">hey</span> <span style=\"background-color: rgba(100, 200, 255, 2.7716459953808226e-06);\">how</span> <span style=\"background-color: rgba(100, 200, 255, 3.26498729918967e-06);\">you</span> <span style=\"background-color: rgba(100, 200, 255, 0.016713589429855347);\">doin</span>"
      ],
      "text/plain": [
       "<IPython.core.display.Markdown object>"
      ]
     },
     "metadata": {},
     "output_type": "display_data"
    },
    {
     "data": {
      "text/markdown": [
       "<span style=\"background-color: rgba(100, 200, 255, 9.371669148094952e-05);\">okay</span> <span style=\"background-color: rgba(100, 200, 255, 0.0027616070583462715);\">hey</span> <span style=\"background-color: rgba(100, 200, 255, 1.0);\">timmy</span> <span style=\"background-color: rgba(100, 200, 255, 6.810551440139534e-06);\">i</span> <span style=\"background-color: rgba(100, 200, 255, 1.0427230563436751e-06);\">ve</span> <span style=\"background-color: rgba(100, 200, 255, 3.983620047165459e-07);\">got</span> <span style=\"background-color: rgba(100, 200, 255, 1.8218688779825243e-08);\">a</span> <span style=\"background-color: rgba(100, 200, 255, 1.1307624845358077e-06);\">surprise</span> <span style=\"background-color: rgba(100, 200, 255, 5.963651119600399e-07);\">for</span> <span style=\"background-color: rgba(100, 200, 255, 1.6119589645313681e-06);\">you</span>"
      ],
      "text/plain": [
       "<IPython.core.display.Markdown object>"
      ]
     },
     "metadata": {},
     "output_type": "display_data"
    },
    {
     "data": {
      "text/markdown": [
       "<span style=\"background-color: rgba(100, 200, 255, 0.4153251349925995);\">oh</span> <span style=\"background-color: rgba(100, 200, 255, 0.07648544013500214);\">i</span> <span style=\"background-color: rgba(100, 200, 255, 0.727588415145874);\">got</span> <span style=\"background-color: rgba(100, 200, 255, 0.026855483651161194);\">it</span> <span style=\"background-color: rgba(100, 200, 255, 1.0);\">ok</span> <span style=\"background-color: rgba(100, 200, 255, 0.037978436797857285);\">everyone</span> <span style=\"background-color: rgba(100, 200, 255, 0.21584637463092804);\">pick</span> <span style=\"background-color: rgba(100, 200, 255, 0.0014184381579980254);\">a</span> <span style=\"background-color: rgba(100, 200, 255, 0.0006675012409687042);\">number</span> <span style=\"background-color: rgba(100, 200, 255, 9.360638068756089e-05);\">from</span> <span style=\"background-color: rgba(100, 200, 255, 6.683101673843339e-05);\">one</span> <span style=\"background-color: rgba(100, 200, 255, 9.626846804167144e-06);\">to</span> <span style=\"background-color: rgba(100, 200, 255, 4.162555342190899e-06);\">ten</span> <span style=\"background-color: rgba(100, 200, 255, 2.3603304271091474e-06);\">alright</span> <span style=\"background-color: rgba(100, 200, 255, 5.106225671624998e-06);\">whoever</span> <span style=\"background-color: rgba(100, 200, 255, 3.485964498395333e-06);\">gets</span> <span style=\"background-color: rgba(100, 200, 255, 3.3876384009090543e-07);\">the</span> <span style=\"background-color: rgba(100, 200, 255, 4.5415472982313076e-07);\">highest</span> <span style=\"background-color: rgba(100, 200, 255, 1.3012463995210055e-08);\">number</span> <span style=\"background-color: rgba(100, 200, 255, 1.457454690267923e-08);\">gets</span> <span style=\"background-color: rgba(100, 200, 255, 3.98487731700925e-09);\">to</span> <span style=\"background-color: rgba(100, 200, 255, 1.008133221347407e-08);\">go</span> <span style=\"background-color: rgba(100, 200, 255, 8.657710104387206e-09);\">first</span>"
      ],
      "text/plain": [
       "<IPython.core.display.Markdown object>"
      ]
     },
     "metadata": {},
     "output_type": "display_data"
    },
    {
     "data": {
      "text/markdown": [
       "<span style=\"background-color: rgba(100, 200, 255, 1.0);\">oh</span> <span style=\"background-color: rgba(100, 200, 255, 0.2475094497203827);\">i</span> <span style=\"background-color: rgba(100, 200, 255, 0.1920035183429718);\">i</span> <span style=\"background-color: rgba(100, 200, 255, 0.08325566351413727);\">i</span> <span style=\"background-color: rgba(100, 200, 255, 0.03840656951069832);\">think</span> <span style=\"background-color: rgba(100, 200, 255, 0.009727098047733307);\">that</span> <span style=\"background-color: rgba(100, 200, 255, 0.019946616142988205);\">the</span> <span style=\"background-color: rgba(100, 200, 255, 0.05244160443544388);\">first</span> <span style=\"background-color: rgba(100, 200, 255, 0.030748743563890457);\">time</span> <span style=\"background-color: rgba(100, 200, 255, 0.0002540857531130314);\">i</span> <span style=\"background-color: rgba(100, 200, 255, 0.0007810987299308181);\">ever</span> <span style=\"background-color: rgba(100, 200, 255, 6.251623563002795e-05);\">missed</span> <span style=\"background-color: rgba(100, 200, 255, 5.754135145252803e-06);\">a</span> <span style=\"background-color: rgba(100, 200, 255, 0.0009693607571534812);\">meal</span> <span style=\"background-color: rgba(100, 200, 255, 1.532920759927947e-05);\">yeah</span> <span style=\"background-color: rgba(100, 200, 255, 7.373518656095257e-06);\">my</span> <span style=\"background-color: rgba(100, 200, 255, 0.001995703438296914);\">pants</span> <span style=\"background-color: rgba(100, 200, 255, 0.0003878189600072801);\">are</span> <span style=\"background-color: rgba(100, 200, 255, 1.214248641190352e-05);\">a</span> <span style=\"background-color: rgba(100, 200, 255, 9.183106885757297e-05);\">little</span> <span style=\"background-color: rgba(100, 200, 255, 0.017059797421097755);\">loose</span>"
      ],
      "text/plain": [
       "<IPython.core.display.Markdown object>"
      ]
     },
     "metadata": {},
     "output_type": "display_data"
    },
    {
     "data": {
      "text/markdown": [
       "<span style=\"background-color: rgba(100, 200, 255, 0.0008120244019664824);\">hey</span> <span style=\"background-color: rgba(100, 200, 255, 1.0);\">dude</span> <span style=\"background-color: rgba(100, 200, 255, 0.0004625094879884273);\">let</span> <span style=\"background-color: rgba(100, 200, 255, 1.7545364244142547e-05);\">me</span> <span style=\"background-color: rgba(100, 200, 255, 2.1499121430679224e-05);\">in</span> <span style=\"background-color: rgba(100, 200, 255, 7.396041382889962e-06);\">i</span> <span style=\"background-color: rgba(100, 200, 255, 3.2002769785322016e-06);\">got</span> <span style=\"background-color: rgba(100, 200, 255, 1.0991257681780553e-07);\">a</span> <span style=\"background-color: rgba(100, 200, 255, 1.1862603059853427e-06);\">girl</span> <span style=\"background-color: rgba(100, 200, 255, 6.434726174120442e-08);\">out</span> <span style=\"background-color: rgba(100, 200, 255, 2.1948966377749457e-07);\">here</span>"
      ],
      "text/plain": [
       "<IPython.core.display.Markdown object>"
      ]
     },
     "metadata": {},
     "output_type": "display_data"
    },
    {
     "data": {
      "text/markdown": [
       "<span style=\"background-color: rgba(100, 200, 255, 0.002688587410375476);\">all</span> <span style=\"background-color: rgba(100, 200, 255, 0.03782306984066963);\">right</span> <span style=\"background-color: rgba(100, 200, 255, 0.014664358459413052);\">just</span> <span style=\"background-color: rgba(100, 200, 255, 1.0);\">hurry</span> <span style=\"background-color: rgba(100, 200, 255, 0.04385607689619064);\">up</span>"
      ],
      "text/plain": [
       "<IPython.core.display.Markdown object>"
      ]
     },
     "metadata": {},
     "output_type": "display_data"
    },
    {
     "data": {
      "text/markdown": [
       "<span style=\"background-color: rgba(100, 200, 255, 0.004179196432232857);\">your</span> <span style=\"background-color: rgba(100, 200, 255, 0.029485246166586876);\">folks</span> <span style=\"background-color: rgba(100, 200, 255, 0.006786481477320194);\">are</span> <span style=\"background-color: rgba(100, 200, 255, 0.004709736444056034);\">really</span> <span style=\"background-color: rgba(100, 200, 255, 0.0014937928644940257);\">that</span> <span style=\"background-color: rgba(100, 200, 255, 0.002505428623408079);\">bad</span> <span style=\"background-color: rgba(100, 200, 255, 0.35688063502311707);\">huh</span>"
      ],
      "text/plain": [
       "<IPython.core.display.Markdown object>"
      ]
     },
     "metadata": {},
     "output_type": "display_data"
    },
    {
     "data": {
      "text/markdown": [
       "<span style=\"background-color: rgba(100, 200, 255, 0.001309121260419488);\">all</span> <span style=\"background-color: rgba(100, 200, 255, 0.020069919526576996);\">right</span> <span style=\"background-color: rgba(100, 200, 255, 1.0);\">uh</span> <span style=\"background-color: rgba(100, 200, 255, 0.0034082194324582815);\">we</span> <span style=\"background-color: rgba(100, 200, 255, 0.0041356272995471954);\">ve</span> <span style=\"background-color: rgba(100, 200, 255, 0.010109398514032364);\">got</span> <span style=\"background-color: rgba(100, 200, 255, 0.002065942157059908);\">a</span> <span style=\"background-color: rgba(100, 200, 255, 0.024664949625730515);\">little</span> <span style=\"background-color: rgba(100, 200, 255, 0.01971570774912834);\">bit</span> <span style=\"background-color: rgba(100, 200, 255, 0.0018484347965568304);\">of</span> <span style=\"background-color: rgba(100, 200, 255, 0.00010322412708774209);\">a</span> <span style=\"background-color: rgba(100, 200, 255, 1.437533319403883e-05);\">problem</span> <span style=\"background-color: rgba(100, 200, 255, 3.568366537365364e-06);\">here</span> <span style=\"background-color: rgba(100, 200, 255, 5.549509751290316e-06);\">these</span> <span style=\"background-color: rgba(100, 200, 255, 2.147971281374339e-05);\">people</span> <span style=\"background-color: rgba(100, 200, 255, 9.315069178228441e-07);\">are</span> <span style=\"background-color: rgba(100, 200, 255, 6.979086606406781e-07);\">my</span> <span style=\"background-color: rgba(100, 200, 255, 5.7328061302541755e-06);\">friends</span> <span style=\"background-color: rgba(100, 200, 255, 7.066288532087128e-08);\">you</span> <span style=\"background-color: rgba(100, 200, 255, 1.4966968819862814e-07);\">can</span> <span style=\"background-color: rgba(100, 200, 255, 8.866069833857182e-08);\">t</span> <span style=\"background-color: rgba(100, 200, 255, 1.9122926460113376e-06);\">treat</span> <span style=\"background-color: rgba(100, 200, 255, 3.670582771064801e-07);\">them</span> <span style=\"background-color: rgba(100, 200, 255, 5.26973337855452e-07);\">that</span> <span style=\"background-color: rgba(100, 200, 255, 1.8232645970783778e-06);\">way</span>"
      ],
      "text/plain": [
       "<IPython.core.display.Markdown object>"
      ]
     },
     "metadata": {},
     "output_type": "display_data"
    },
    {
     "data": {
      "text/markdown": [
       "## Phoebe"
      ],
      "text/plain": [
       "<IPython.core.display.Markdown object>"
      ]
     },
     "metadata": {},
     "output_type": "display_data"
    },
    {
     "data": {
      "text/markdown": [
       "<span style=\"background-color: rgba(100, 200, 255, 0.0049328249879181385);\">yes</span> <span style=\"background-color: rgba(100, 200, 255, 0.005069986451417208);\">good</span> <span style=\"background-color: rgba(100, 200, 255, 0.026568325236439705);\">ok</span>"
      ],
      "text/plain": [
       "<IPython.core.display.Markdown object>"
      ]
     },
     "metadata": {},
     "output_type": "display_data"
    },
    {
     "data": {
      "text/markdown": [
       "<span style=\"background-color: rgba(100, 200, 255, 0.2023787647485733);\">no</span> <span style=\"background-color: rgba(100, 200, 255, 1.0);\">just</span> <span style=\"background-color: rgba(100, 200, 255, 0.15024574100971222);\">a</span> <span style=\"background-color: rgba(100, 200, 255, 0.21492014825344086);\">regular</span> <span style=\"background-color: rgba(100, 200, 255, 0.05008253455162048);\">old</span> <span style=\"background-color: rgba(100, 200, 255, 0.010044774040579796);\">flying</span> <span style=\"background-color: rgba(100, 200, 255, 0.00025618288782425225);\">dwarf</span>"
      ],
      "text/plain": [
       "<IPython.core.display.Markdown object>"
      ]
     },
     "metadata": {},
     "output_type": "display_data"
    },
    {
     "data": {
      "text/markdown": [
       "<span style=\"background-color: rgba(100, 200, 255, 0.04256172105669975);\">oh</span> <span style=\"background-color: rgba(100, 200, 255, 0.15040652453899384);\">my</span> <span style=\"background-color: rgba(100, 200, 255, 0.7894771695137024);\">god</span> <span style=\"background-color: rgba(100, 200, 255, 0.10693427920341492);\">you</span> <span style=\"background-color: rgba(100, 200, 255, 0.11425086110830307);\">re</span> <span style=\"background-color: rgba(100, 200, 255, 0.2957632541656494);\">getting</span> <span style=\"background-color: rgba(100, 200, 255, 0.008794520981609821);\">a</span> <span style=\"background-color: rgba(100, 200, 255, 1.0);\">massage</span> <span style=\"background-color: rgba(100, 200, 255, 0.00019219187379349023);\">you</span> <span style=\"background-color: rgba(100, 200, 255, 0.000349051202647388);\">never</span> <span style=\"background-color: rgba(100, 200, 255, 5.043347118771635e-05);\">let</span> <span style=\"background-color: rgba(100, 200, 255, 7.813322736183181e-05);\">me</span> <span style=\"background-color: rgba(100, 200, 255, 0.04579542949795723);\">massage</span> <span style=\"background-color: rgba(100, 200, 255, 0.00022084829106461257);\">you</span>"
      ],
      "text/plain": [
       "<IPython.core.display.Markdown object>"
      ]
     },
     "metadata": {},
     "output_type": "display_data"
    },
    {
     "data": {
      "text/markdown": [
       "<span style=\"background-color: rgba(100, 200, 255, 0.007881635800004005);\">look</span> <span style=\"background-color: rgba(100, 200, 255, 1.0);\">david</span> <span style=\"background-color: rgba(100, 200, 255, 0.0012636090395972133);\">if</span> <span style=\"background-color: rgba(100, 200, 255, 0.0003366943565197289);\">if</span> <span style=\"background-color: rgba(100, 200, 255, 0.00019701280689332634);\">you</span> <span style=\"background-color: rgba(100, 200, 255, 9.10391318029724e-05);\">had</span> <span style=\"background-color: rgba(100, 200, 255, 0.00010711513459682465);\">never</span> <span style=\"background-color: rgba(100, 200, 255, 0.0012770473258569837);\">left</span> <span style=\"background-color: rgba(100, 200, 255, 0.000304703222354874);\">then</span> <span style=\"background-color: rgba(100, 200, 255, 0.0054632569663226604);\">yeah</span> <span style=\"background-color: rgba(100, 200, 255, 0.004631956573575735);\">wed</span> <span style=\"background-color: rgba(100, 200, 255, 0.0003011366643477231);\">probably</span> <span style=\"background-color: rgba(100, 200, 255, 0.00041685858741402626);\">still</span> <span style=\"background-color: rgba(100, 200, 255, 3.845509127131663e-05);\">be</span> <span style=\"background-color: rgba(100, 200, 255, 0.0001785731437848881);\">together</span> <span style=\"background-color: rgba(100, 200, 255, 0.0003072804829571396);\">right</span> <span style=\"background-color: rgba(100, 200, 255, 0.0001342720352113247);\">now</span> <span style=\"background-color: rgba(100, 200, 255, 0.00031443071202374995);\">but</span> <span style=\"background-color: rgba(100, 200, 255, 0.00023865119146648794);\">you</span> <span style=\"background-color: rgba(100, 200, 255, 0.0004622982523869723);\">did</span> <span style=\"background-color: rgba(100, 200, 255, 0.0010302654700353742);\">leave</span> <span style=\"background-color: rgba(100, 200, 255, 0.00039516828837804496);\">and</span> <span style=\"background-color: rgba(100, 200, 255, 0.0001274142268812284);\">i</span> <span style=\"background-color: rgba(100, 200, 255, 0.00017003824177663773);\">im</span> <span style=\"background-color: rgba(100, 200, 255, 0.00015293470642063767);\">with</span> <span style=\"background-color: rgba(100, 200, 255, 0.09469285607337952);\">mike</span> <span style=\"background-color: rgba(100, 200, 255, 1.476724719395861e-06);\">and</span> <span style=\"background-color: rgba(100, 200, 255, 3.6567502093021176e-07);\">i</span> <span style=\"background-color: rgba(100, 200, 255, 3.782223245707428e-07);\">really</span> <span style=\"background-color: rgba(100, 200, 255, 4.35896436101757e-06);\">care</span> <span style=\"background-color: rgba(100, 200, 255, 8.855017341602434e-08);\">about</span> <span style=\"background-color: rgba(100, 200, 255, 1.4026856831605983e-07);\">him</span> <span style=\"color: red;\">|</span>"
      ],
      "text/plain": [
       "<IPython.core.display.Markdown object>"
      ]
     },
     "metadata": {},
     "output_type": "display_data"
    },
    {
     "data": {
      "text/markdown": [
       "<span style=\"background-color: rgba(100, 200, 255, 0.4474948048591614);\">okay</span> <span style=\"background-color: rgba(100, 200, 255, 1.0);\">listen</span> <span style=\"background-color: rgba(100, 200, 255, 0.30112364888191223);\">i</span> <span style=\"background-color: rgba(100, 200, 255, 0.42499998211860657);\">m</span> <span style=\"background-color: rgba(100, 200, 255, 0.06665311008691788);\">sorry</span> <span style=\"background-color: rgba(100, 200, 255, 0.20222367346286774);\">about</span> <span style=\"background-color: rgba(100, 200, 255, 0.4498691260814667);\">before</span> <span style=\"background-color: rgba(100, 200, 255, 0.0589444637298584);\">do</span> <span style=\"background-color: rgba(100, 200, 255, 0.014798080548644066);\">you</span> <span style=\"background-color: rgba(100, 200, 255, 0.00613720528781414);\">have</span> <span style=\"background-color: rgba(100, 200, 255, 0.001871884916909039);\">anything</span> <span style=\"background-color: rgba(100, 200, 255, 0.0006907429196871817);\">her</span> <span style=\"background-color: rgba(100, 200, 255, 0.0007634467328898609);\">for</span> <span style=\"background-color: rgba(100, 200, 255, 0.004433752503246069);\">10</span>"
      ],
      "text/plain": [
       "<IPython.core.display.Markdown object>"
      ]
     },
     "metadata": {},
     "output_type": "display_data"
    },
    {
     "data": {
      "text/markdown": [
       "<span style=\"background-color: rgba(100, 200, 255, 0.0029262262396514416);\">although</span> <span style=\"background-color: rgba(100, 200, 255, 0.0011065227445214987);\">it</span> <span style=\"background-color: rgba(100, 200, 255, 0.0017330292612314224);\">also</span> <span style=\"background-color: rgba(100, 200, 255, 0.0001742938329698518);\">about</span> <span style=\"background-color: rgba(100, 200, 255, 5.7602377637522295e-05);\">the</span> <span style=\"background-color: rgba(100, 200, 255, 0.011091280728578568);\">wedding</span> <span style=\"background-color: rgba(100, 200, 255, 0.023942984640598297);\">ugh</span> <span style=\"background-color: rgba(100, 200, 255, 0.03041127510368824);\">alright</span> <span style=\"background-color: rgba(100, 200, 255, 0.053155213594436646);\">here</span> <span style=\"background-color: rgba(100, 200, 255, 0.08919326215982437);\">no</span> <span style=\"background-color: rgba(100, 200, 255, 0.32461315393447876);\">oh</span> <span style=\"background-color: rgba(100, 200, 255, 0.6404105424880981);\">god</span> <span style=\"background-color: rgba(100, 200, 255, 0.5571680068969727);\">oh</span>"
      ],
      "text/plain": [
       "<IPython.core.display.Markdown object>"
      ]
     },
     "metadata": {},
     "output_type": "display_data"
    },
    {
     "data": {
      "text/markdown": [
       "<span style=\"background-color: rgba(100, 200, 255, 0.07964371889829636);\">that</span> <span style=\"background-color: rgba(100, 200, 255, 0.0021439131814986467);\">s</span> <span style=\"background-color: rgba(100, 200, 255, 0.02793123759329319);\">right</span> <span style=\"background-color: rgba(100, 200, 255, 0.12693455815315247);\">ive</span> <span style=\"background-color: rgba(100, 200, 255, 0.5182519555091858);\">prepared</span> <span style=\"background-color: rgba(100, 200, 255, 0.10299111157655716);\">a</span> <span style=\"background-color: rgba(100, 200, 255, 1.0);\">song</span> <span style=\"background-color: rgba(100, 200, 255, 0.3383120894432068);\">for</span> <span style=\"background-color: rgba(100, 200, 255, 0.6139413118362427);\">emma</span> <span style=\"background-color: rgba(100, 200, 255, 0.005404852796345949);\">from</span> <span style=\"background-color: rgba(100, 200, 255, 0.002372796880081296);\">my</span> <span style=\"background-color: rgba(100, 200, 255, 0.00011214355617994443);\">heart</span> <span style=\"background-color: rgba(100, 200, 255, 0.0009796565864235163);\">to</span> <span style=\"background-color: rgba(100, 200, 255, 7.255774107761681e-05);\">hers</span> <span style=\"background-color: rgba(100, 200, 255, 0.00022492746938951313);\">for</span> <span style=\"background-color: rgba(100, 200, 255, 0.0008156093535944819);\">there</span> <span style=\"background-color: rgba(100, 200, 255, 2.7503014280227944e-05);\">s</span> <span style=\"background-color: rgba(100, 200, 255, 2.4114893676596694e-05);\">no</span> <span style=\"background-color: rgba(100, 200, 255, 1.6036798115237616e-05);\">greater</span> <span style=\"background-color: rgba(100, 200, 255, 4.334101959102554e-06);\">gift</span> <span style=\"background-color: rgba(100, 200, 255, 1.1454005743871676e-06);\">than</span> <span style=\"background-color: rgba(100, 200, 255, 7.981016096891835e-07);\">the</span> <span style=\"background-color: rgba(100, 200, 255, 1.5404467603730154e-06);\">gift</span> <span style=\"background-color: rgba(100, 200, 255, 2.393170325376559e-05);\">of</span> <span style=\"background-color: rgba(100, 200, 255, 6.121084152255207e-05);\">music</span> <span style=\"background-color: rgba(100, 200, 255, 8.17803738755174e-05);\">emma</span> <span style=\"background-color: rgba(100, 200, 255, 8.488551429763902e-06);\">your</span> <span style=\"background-color: rgba(100, 200, 255, 6.985116669966374e-06);\">name</span> <span style=\"background-color: rgba(100, 200, 255, 1.941740993061103e-05);\">poses</span> <span style=\"background-color: rgba(100, 200, 255, 3.7030513340141624e-06);\">a</span> <span style=\"background-color: rgba(100, 200, 255, 0.0001645133743295446);\">dilemma</span> <span style=\"background-color: rgba(100, 200, 255, 6.022276465955656e-06);\">cause</span> <span style=\"color: red;\">|</span> <span style=\"background-color: rgba(100, 200, 255, 0);\">not</span> <span style=\"background-color: rgba(100, 200, 255, 0);\">much</span> <span style=\"background-color: rgba(100, 200, 255, 0);\">else</span> <span style=\"background-color: rgba(100, 200, 255, 0);\">rhymes</span> <span style=\"background-color: rgba(100, 200, 255, 0);\">with</span> <span style=\"background-color: rgba(100, 200, 255, 0);\">emma</span> <span style=\"background-color: rgba(100, 200, 255, 0);\">maybe</span> <span style=\"background-color: rgba(100, 200, 255, 0);\">the</span> <span style=\"background-color: rgba(100, 200, 255, 0);\">actor</span> <span style=\"background-color: rgba(100, 200, 255, 0);\">richard</span> <span style=\"background-color: rgba(100, 200, 255, 0);\">crenna</span> <span style=\"background-color: rgba(100, 200, 255, 0);\">he</span> <span style=\"background-color: rgba(100, 200, 255, 0);\">played</span> <span style=\"background-color: rgba(100, 200, 255, 0);\">the</span> <span style=\"background-color: rgba(100, 200, 255, 0);\">commanding</span> <span style=\"background-color: rgba(100, 200, 255, 0);\">officer</span> <span style=\"background-color: rgba(100, 200, 255, 0);\">in</span> <span style=\"background-color: rgba(100, 200, 255, 0);\">rambo</span> <span style=\"background-color: rgba(100, 200, 255, 0);\">happy</span> <span style=\"background-color: rgba(100, 200, 255, 0);\">birthday</span> <span style=\"background-color: rgba(100, 200, 255, 0);\">emma</span>"
      ],
      "text/plain": [
       "<IPython.core.display.Markdown object>"
      ]
     },
     "metadata": {},
     "output_type": "display_data"
    },
    {
     "data": {
      "text/markdown": [
       "<span style=\"background-color: rgba(100, 200, 255, 1.0);\">oh</span> <span style=\"background-color: rgba(100, 200, 255, 0.21242167055606842);\">i</span> <span style=\"background-color: rgba(100, 200, 255, 0.19242416322231293);\">wasn</span> <span style=\"background-color: rgba(100, 200, 255, 0.5154451131820679);\">t</span> <span style=\"background-color: rgba(100, 200, 255, 0.27525439858436584);\">talking</span> <span style=\"background-color: rgba(100, 200, 255, 0.007403349503874779);\">about</span> <span style=\"background-color: rgba(100, 200, 255, 0.0006132065900601447);\">his</span> <span style=\"background-color: rgba(100, 200, 255, 0.004508900456130505);\">karma</span>"
      ],
      "text/plain": [
       "<IPython.core.display.Markdown object>"
      ]
     },
     "metadata": {},
     "output_type": "display_data"
    },
    {
     "data": {
      "text/markdown": [
       "<span style=\"background-color: rgba(100, 200, 255, 0.017749959602952003);\">no</span> <span style=\"background-color: rgba(100, 200, 255, 0.006059902720153332);\">i</span> <span style=\"background-color: rgba(100, 200, 255, 0.01136147789657116);\">m</span> <span style=\"background-color: rgba(100, 200, 255, 0.0027455384843051434);\">not</span> <span style=\"background-color: rgba(100, 200, 255, 0.017932167276740074);\">okay</span> <span style=\"background-color: rgba(100, 200, 255, 0.029575098305940628);\">the</span> <span style=\"background-color: rgba(100, 200, 255, 0.008639933541417122);\">only</span> <span style=\"background-color: rgba(100, 200, 255, 0.36686602234840393);\">guy</span> <span style=\"background-color: rgba(100, 200, 255, 0.008208636194467545);\">i</span> <span style=\"background-color: rgba(100, 200, 255, 0.03940208628773689);\">ve</span> <span style=\"background-color: rgba(100, 200, 255, 0.10877285897731781);\">ever</span> <span style=\"background-color: rgba(100, 200, 255, 0.037019457668066025);\">been</span> <span style=\"background-color: rgba(100, 200, 255, 1.0);\">crazy</span> <span style=\"background-color: rgba(100, 200, 255, 0.10519720613956451);\">about</span> <span style=\"background-color: rgba(100, 200, 255, 0.04720597341656685);\">has</span> <span style=\"background-color: rgba(100, 200, 255, 0.993815541267395);\">gone</span> <span style=\"background-color: rgba(100, 200, 255, 0.0012250753352418542);\">to</span> <span style=\"background-color: rgba(100, 200, 255, 0.009950948879122734);\">minsk</span> <span style=\"background-color: rgba(100, 200, 255, 0.002108875196427107);\">and</span> <span style=\"background-color: rgba(100, 200, 255, 0.00016868827515281737);\">i</span> <span style=\"background-color: rgba(100, 200, 255, 0.0005530859343707561);\">may</span> <span style=\"background-color: rgba(100, 200, 255, 0.0003974624560214579);\">never</span> <span style=\"background-color: rgba(100, 200, 255, 0.00015486765187233686);\">i</span> <span style=\"background-color: rgba(100, 200, 255, 0.00026659085415303707);\">may</span> <span style=\"background-color: rgba(100, 200, 255, 0.00011729096877388656);\">never</span> <span style=\"background-color: rgba(100, 200, 255, 4.367426299722865e-05);\">see</span> <span style=\"background-color: rgba(100, 200, 255, 1.3642155863635708e-05);\">him</span> <span style=\"background-color: rgba(100, 200, 255, 3.225138789275661e-05);\">again</span>"
      ],
      "text/plain": [
       "<IPython.core.display.Markdown object>"
      ]
     },
     "metadata": {},
     "output_type": "display_data"
    },
    {
     "data": {
      "text/markdown": [
       "<span style=\"background-color: rgba(100, 200, 255, 1.0);\">wait</span> <span style=\"background-color: rgba(100, 200, 255, 0.6671239137649536);\">wait</span> <span style=\"background-color: rgba(100, 200, 255, 0.09831033647060394);\">remember</span> <span style=\"background-color: rgba(100, 200, 255, 0.03539838641881943);\">when</span> <span style=\"background-color: rgba(100, 200, 255, 0.003627065336331725);\">my</span> <span style=\"background-color: rgba(100, 200, 255, 0.014797980897128582);\">water</span> <span style=\"background-color: rgba(100, 200, 255, 0.012463301420211792);\">broke</span>"
      ],
      "text/plain": [
       "<IPython.core.display.Markdown object>"
      ]
     },
     "metadata": {},
     "output_type": "display_data"
    },
    {
     "data": {
      "text/markdown": [
       "<span style=\"background-color: rgba(100, 200, 255, 0.24702179431915283);\">thank</span> <span style=\"background-color: rgba(100, 200, 255, 0.17741379141807556);\">you</span> <span style=\"background-color: rgba(100, 200, 255, 1.0);\">rachel</span> <span style=\"background-color: rgba(100, 200, 255, 1.6944406524999067e-05);\">but</span> <span style=\"background-color: rgba(100, 200, 255, 1.540364451102505e-06);\">look</span> <span style=\"background-color: rgba(100, 200, 255, 3.680313227505394e-07);\">at</span> <span style=\"background-color: rgba(100, 200, 255, 0.0001746142515912652);\">monica</span>"
      ],
      "text/plain": [
       "<IPython.core.display.Markdown object>"
      ]
     },
     "metadata": {},
     "output_type": "display_data"
    },
    {
     "data": {
      "text/markdown": [
       "<span style=\"background-color: rgba(100, 200, 255, 0.0012125581270083785);\">yeah</span> <span style=\"background-color: rgba(100, 200, 255, 0.00011451941827544942);\">the</span> <span style=\"background-color: rgba(100, 200, 255, 0.006981068290770054);\">material</span> <span style=\"background-color: rgba(100, 200, 255, 0.011652686633169651);\">feels</span> <span style=\"background-color: rgba(100, 200, 255, 0.06145555526018143);\">so</span> <span style=\"background-color: rgba(100, 200, 255, 0.30342283844947815);\">soft</span> <span style=\"background-color: rgba(100, 200, 255, 1.0);\">hello</span> <span style=\"background-color: rgba(100, 200, 255, 0.44089826941490173);\">mr</span> <span style=\"background-color: rgba(100, 200, 255, 0.05377354845404625);\">bicep</span> <span style=\"background-color: rgba(100, 200, 255, 2.3978639092092635e-06);\">have</span> <span style=\"background-color: rgba(100, 200, 255, 1.9280216179140552e-07);\">you</span> <span style=\"background-color: rgba(100, 200, 255, 1.5522006435730873e-07);\">been</span> <span style=\"background-color: rgba(100, 200, 255, 9.750966256660831e-08);\">working</span> <span style=\"background-color: rgba(100, 200, 255, 2.563516261488985e-07);\">out</span>"
      ],
      "text/plain": [
       "<IPython.core.display.Markdown object>"
      ]
     },
     "metadata": {},
     "output_type": "display_data"
    },
    {
     "data": {
      "text/markdown": [
       "<span style=\"background-color: rgba(100, 200, 255, 0.0007891443674452603);\">right</span> <span style=\"background-color: rgba(100, 200, 255, 0.0025134540628641844);\">okay</span> <span style=\"background-color: rgba(100, 200, 255, 0.7789980173110962);\">um</span> <span style=\"background-color: rgba(100, 200, 255, 1.0);\">mm</span>"
      ],
      "text/plain": [
       "<IPython.core.display.Markdown object>"
      ]
     },
     "metadata": {},
     "output_type": "display_data"
    },
    {
     "data": {
      "text/markdown": [
       "<span style=\"background-color: rgba(100, 200, 255, 0.0003574575821403414);\">yeah</span> <span style=\"background-color: rgba(100, 200, 255, 0.0003842087462544441);\">i</span> <span style=\"background-color: rgba(100, 200, 255, 0.002074039774015546);\">like</span> <span style=\"background-color: rgba(100, 200, 255, 1.0);\">vince</span> <span style=\"background-color: rgba(100, 200, 255, 2.355548713239841e-05);\">a</span> <span style=\"background-color: rgba(100, 200, 255, 1.4628793906013016e-05);\">lot</span> <span style=\"background-color: rgba(100, 200, 255, 1.0496091817913111e-06);\">yknow</span> <span style=\"background-color: rgba(100, 200, 255, 3.368585907992383e-07);\">but</span> <span style=\"background-color: rgba(100, 200, 255, 3.550885026015749e-07);\">it</span> <span style=\"background-color: rgba(100, 200, 255, 9.246307968169276e-07);\">s</span> <span style=\"background-color: rgba(100, 200, 255, 5.160637783774291e-07);\">just</span> <span style=\"background-color: rgba(100, 200, 255, 1.1458916560513899e-05);\">jason</span> <span style=\"background-color: rgba(100, 200, 255, 9.657084909520108e-09);\">s</span> <span style=\"background-color: rgba(100, 200, 255, 3.4699754181133358e-09);\">so</span> <span style=\"background-color: rgba(100, 200, 255, 1.7085608483569104e-09);\">sensitive</span> <span style=\"background-color: rgba(100, 200, 255, 8.3051503452225e-09);\">yknow</span> <span style=\"background-color: rgba(100, 200, 255, 7.728592876787843e-09);\">and</span> <span style=\"background-color: rgba(100, 200, 255, 1.879746802657678e-09);\">in</span> <span style=\"background-color: rgba(100, 200, 255, 4.244461671021327e-09);\">the</span> <span style=\"background-color: rgba(100, 200, 255, 3.5207445847618146e-08);\">long</span> <span style=\"background-color: rgba(100, 200, 255, 2.3207050503515347e-08);\">run</span> <span style=\"background-color: rgba(100, 200, 255, 3.171191087503189e-09);\">i</span> <span style=\"background-color: rgba(100, 200, 255, 1.15388476551459e-09);\">think</span> <span style=\"background-color: rgba(100, 200, 255, 8.300189424659266e-10);\">sensitive</span> <span style=\"background-color: rgba(100, 200, 255, 1.7113004346924754e-09);\">it</span> <span style=\"background-color: rgba(100, 200, 255, 1.5032259881309074e-08);\">s</span> <span style=\"background-color: rgba(100, 200, 255, 3.545528315385127e-09);\">just</span> <span style=\"background-color: rgba(100, 200, 255, 1.4704021111811016e-08);\">better</span> <span style=\"background-color: rgba(100, 200, 255, 5.751306542123302e-09);\">than</span> <span style=\"background-color: rgba(100, 200, 255, 2.2637614449649845e-08);\">having</span> <span style=\"background-color: rgba(100, 200, 255, 5.90882232032186e-09);\">just</span> <span style=\"background-color: rgba(100, 200, 255, 4.580682055888019e-09);\">like</span> <span style=\"color: red;\">|</span> <span style=\"background-color: rgba(100, 200, 255, 0);\">a</span> <span style=\"background-color: rgba(100, 200, 255, 0);\">really</span> <span style=\"background-color: rgba(100, 200, 255, 0);\">really</span> <span style=\"background-color: rgba(100, 200, 255, 0);\">really</span> <span style=\"background-color: rgba(100, 200, 255, 0);\">nice</span> <span style=\"background-color: rgba(100, 200, 255, 0);\">butt</span> <span style=\"background-color: rgba(100, 200, 255, 0);\">jason</span> <span style=\"background-color: rgba(100, 200, 255, 0);\">definitely</span> <span style=\"background-color: rgba(100, 200, 255, 0);\">jason</span> <span style=\"background-color: rgba(100, 200, 255, 0);\">okay</span> <span style=\"background-color: rgba(100, 200, 255, 0);\">wish</span> <span style=\"background-color: rgba(100, 200, 255, 0);\">me</span> <span style=\"background-color: rgba(100, 200, 255, 0);\">luck</span>"
      ],
      "text/plain": [
       "<IPython.core.display.Markdown object>"
      ]
     },
     "metadata": {},
     "output_type": "display_data"
    },
    {
     "data": {
      "text/markdown": [
       "<span style=\"background-color: rgba(100, 200, 255, 0.003251768881455064);\">is</span> <span style=\"background-color: rgba(100, 200, 255, 0.0016146569978445768);\">it</span> <span style=\"background-color: rgba(100, 200, 255, 0.013017158024013042);\">okay</span> <span style=\"background-color: rgba(100, 200, 255, 0.0160318985581398);\">if</span> <span style=\"background-color: rgba(100, 200, 255, 0.00918582733720541);\">i</span> <span style=\"background-color: rgba(100, 200, 255, 0.05032365769147873);\">leave</span> <span style=\"background-color: rgba(100, 200, 255, 0.002327234484255314);\">this</span> <span style=\"background-color: rgba(100, 200, 255, 0.08258458226919174);\">stuff</span> <span style=\"background-color: rgba(100, 200, 255, 0.007617083378136158);\">here</span> <span style=\"background-color: rgba(100, 200, 255, 1.0);\">til</span> <span style=\"background-color: rgba(100, 200, 255, 0.06275398284196854);\">rachel</span> <span style=\"background-color: rgba(100, 200, 255, 3.078093186559272e-06);\">birthday</span> <span style=\"background-color: rgba(100, 200, 255, 3.5826963085128227e-07);\">party</span>"
      ],
      "text/plain": [
       "<IPython.core.display.Markdown object>"
      ]
     },
     "metadata": {},
     "output_type": "display_data"
    },
    {
     "data": {
      "text/markdown": [
       "<span style=\"background-color: rgba(100, 200, 255, 1.0);\">that</span> <span style=\"background-color: rgba(100, 200, 255, 0.2770523428916931);\">it</span> <span style=\"background-color: rgba(100, 200, 255, 0.02582954801619053);\">s</span> <span style=\"background-color: rgba(100, 200, 255, 0.009709545411169529);\">not</span> <span style=\"background-color: rgba(100, 200, 255, 0.011250059120357037);\">the</span> <span style=\"background-color: rgba(100, 200, 255, 0.07047516107559204);\">same</span> <span style=\"background-color: rgba(100, 200, 255, 0.016466030851006508);\">thing</span> <span style=\"background-color: rgba(100, 200, 255, 0.0034670254681259394);\">this</span> <span style=\"background-color: rgba(100, 200, 255, 0.0025308094918727875);\">is</span> <span style=\"background-color: rgba(100, 200, 255, 0.0030954277608543634);\">totally</span> <span style=\"background-color: rgba(100, 200, 255, 0.03325973451137543);\">different</span> <span style=\"background-color: rgba(100, 200, 255, 0.0020039500668644905);\">this</span> <span style=\"background-color: rgba(100, 200, 255, 0.0020982467103749514);\">is</span> <span style=\"background-color: rgba(100, 200, 255, 0.032673731446266174);\">with</span> <span style=\"background-color: rgba(100, 200, 255, 0.9462741613388062);\">david</span> <span style=\"background-color: rgba(100, 200, 255, 0.0008514871005900204);\">remember</span> <span style=\"background-color: rgba(100, 200, 255, 0.01329880952835083);\">david</span> <span style=\"background-color: rgba(100, 200, 255, 2.330120150872972e-05);\">the</span> <span style=\"background-color: rgba(100, 200, 255, 1.5478843124583364e-05);\">scientist</span> <span style=\"background-color: rgba(100, 200, 255, 2.894658109653392e-06);\">guy</span> <span style=\"background-color: rgba(100, 200, 255, 1.8746635532806977e-06);\">okay</span> <span style=\"background-color: rgba(100, 200, 255, 5.135317223903257e-06);\">he</span> <span style=\"background-color: rgba(100, 200, 255, 3.0924854854674777e-07);\">s</span> <span style=\"background-color: rgba(100, 200, 255, 1.659717412394457e-07);\">very</span> <span style=\"background-color: rgba(100, 200, 255, 1.434640140018928e-08);\">special</span> <span style=\"background-color: rgba(100, 200, 255, 1.172331387522263e-08);\">to</span> <span style=\"background-color: rgba(100, 200, 255, 2.4371487938879e-08);\">me</span>"
      ],
      "text/plain": [
       "<IPython.core.display.Markdown object>"
      ]
     },
     "metadata": {},
     "output_type": "display_data"
    },
    {
     "data": {
      "text/markdown": [
       "<span style=\"background-color: rgba(100, 200, 255, 0.00788157619535923);\">umm</span> <span style=\"background-color: rgba(100, 200, 255, 0.04226629063487053);\">okay</span> <span style=\"background-color: rgba(100, 200, 255, 0.1458793431520462);\">okay</span> <span style=\"background-color: rgba(100, 200, 255, 1.0);\">look</span> <span style=\"background-color: rgba(100, 200, 255, 0.2569785416126251);\">i</span> <span style=\"background-color: rgba(100, 200, 255, 0.10761423408985138);\">took</span> <span style=\"background-color: rgba(100, 200, 255, 0.001557784155011177);\">this</span> <span style=\"background-color: rgba(100, 200, 255, 0.016114257276058197);\">picture</span> <span style=\"background-color: rgba(100, 200, 255, 0.006924016866832972);\">from</span> <span style=\"background-color: rgba(100, 200, 255, 0.0032295219134539366);\">your</span> <span style=\"background-color: rgba(100, 200, 255, 0.05697798728942871);\">fridge</span> <span style=\"background-color: rgba(100, 200, 255, 0.009910480119287968);\">okay</span> <span style=\"background-color: rgba(100, 200, 255, 0.008472486399114132);\">because</span> <span style=\"background-color: rgba(100, 200, 255, 0.00731693347916007);\">i</span> <span style=\"background-color: rgba(100, 200, 255, 0.009312956593930721);\">know</span> <span style=\"background-color: rgba(100, 200, 255, 0.003433715784922242);\">that</span> <span style=\"background-color: rgba(100, 200, 255, 0.00047129468293860555);\">this</span> <span style=\"background-color: rgba(100, 200, 255, 0.00042388177826069295);\">is</span> <span style=\"background-color: rgba(100, 200, 255, 0.0008734865114092827);\">my</span> <span style=\"background-color: rgba(100, 200, 255, 5.740594133385457e-05);\">father</span> <span style=\"background-color: rgba(100, 200, 255, 0.0006074958946555853);\">yeah</span> <span style=\"background-color: rgba(100, 200, 255, 3.757065860554576e-05);\">this</span> <span style=\"background-color: rgba(100, 200, 255, 1.867190258053597e-05);\">is</span> <span style=\"background-color: rgba(100, 200, 255, 0.00026341312332078815);\">frank</span> <span style=\"background-color: rgba(100, 200, 255, 8.329919154448362e-08);\">buffay</span> <span style=\"background-color: rgba(100, 200, 255, 3.3176292824066422e-09);\">and</span> <span style=\"background-color: rgba(100, 200, 255, 3.0468658152038586e-10);\">you</span> <span style=\"background-color: rgba(100, 200, 255, 7.621772546428929e-09);\">are</span> <span style=\"background-color: rgba(100, 200, 255, 4.9213827679750466e-08);\">standing</span> <span style=\"background-color: rgba(100, 200, 255, 1.5295663047254493e-07);\">right</span> <span style=\"background-color: rgba(100, 200, 255, 1.4001162895738162e-08);\">there</span> <span style=\"background-color: rgba(100, 200, 255, 6.764194981911942e-09);\">next</span> <span style=\"color: red;\">|</span> <span style=\"background-color: rgba(100, 200, 255, 0);\">to</span> <span style=\"background-color: rgba(100, 200, 255, 0);\">him</span> <span style=\"background-color: rgba(100, 200, 255, 0);\">now</span> <span style=\"background-color: rgba(100, 200, 255, 0);\">look</span> <span style=\"background-color: rgba(100, 200, 255, 0);\">i</span> <span style=\"background-color: rgba(100, 200, 255, 0);\">deserve</span> <span style=\"background-color: rgba(100, 200, 255, 0);\">to</span> <span style=\"background-color: rgba(100, 200, 255, 0);\">know</span> <span style=\"background-color: rgba(100, 200, 255, 0);\">where</span> <span style=\"background-color: rgba(100, 200, 255, 0);\">i</span> <span style=\"background-color: rgba(100, 200, 255, 0);\">came</span> <span style=\"background-color: rgba(100, 200, 255, 0);\">from</span> <span style=\"background-color: rgba(100, 200, 255, 0);\">all</span> <span style=\"background-color: rgba(100, 200, 255, 0);\">right</span> <span style=\"background-color: rgba(100, 200, 255, 0);\">so</span> <span style=\"background-color: rgba(100, 200, 255, 0);\">if</span> <span style=\"background-color: rgba(100, 200, 255, 0);\">you</span> <span style=\"background-color: rgba(100, 200, 255, 0);\">can</span> <span style=\"background-color: rgba(100, 200, 255, 0);\">help</span> <span style=\"background-color: rgba(100, 200, 255, 0);\">me</span> <span style=\"background-color: rgba(100, 200, 255, 0);\">find</span> <span style=\"background-color: rgba(100, 200, 255, 0);\">my</span> <span style=\"background-color: rgba(100, 200, 255, 0);\">father</span> <span style=\"background-color: rgba(100, 200, 255, 0);\">then</span> <span style=\"background-color: rgba(100, 200, 255, 0);\">you</span> <span style=\"background-color: rgba(100, 200, 255, 0);\">should</span> <span style=\"background-color: rgba(100, 200, 255, 0);\">otherwise</span> <span style=\"background-color: rgba(100, 200, 255, 0);\">you</span> <span style=\"background-color: rgba(100, 200, 255, 0);\">re</span> <span style=\"background-color: rgba(100, 200, 255, 0);\">just</span> <span style=\"background-color: rgba(100, 200, 255, 0);\">mean</span> <span style=\"background-color: rgba(100, 200, 255, 0);\">so</span> <span style=\"background-color: rgba(100, 200, 255, 0);\">just</span> <span style=\"background-color: rgba(100, 200, 255, 0);\">tell</span> <span style=\"background-color: rgba(100, 200, 255, 0);\">me</span> <span style=\"background-color: rgba(100, 200, 255, 0);\">the</span> <span style=\"background-color: rgba(100, 200, 255, 0);\">truth</span>"
      ],
      "text/plain": [
       "<IPython.core.display.Markdown object>"
      ]
     },
     "metadata": {},
     "output_type": "display_data"
    },
    {
     "data": {
      "text/markdown": [
       "<span style=\"background-color: rgba(100, 200, 255, 1.0);\">joey</span> <span style=\"background-color: rgba(100, 200, 255, 0.021658219397068024);\">s</span>"
      ],
      "text/plain": [
       "<IPython.core.display.Markdown object>"
      ]
     },
     "metadata": {},
     "output_type": "display_data"
    },
    {
     "data": {
      "text/markdown": [
       "<span style=\"background-color: rgba(100, 200, 255, 0.08746127784252167);\">okay</span> <span style=\"background-color: rgba(100, 200, 255, 0.11962167173624039);\">cancel</span> <span style=\"background-color: rgba(100, 200, 255, 1.0);\">backup</span> <span style=\"background-color: rgba(100, 200, 255, 0.0023959747049957514);\">cancel</span> <span style=\"background-color: rgba(100, 200, 255, 0.029941976070404053);\">backup</span>"
      ],
      "text/plain": [
       "<IPython.core.display.Markdown object>"
      ]
     },
     "metadata": {},
     "output_type": "display_data"
    },
    {
     "data": {
      "text/markdown": [
       "<span style=\"background-color: rgba(100, 200, 255, 0.0026266283821314573);\">i</span> <span style=\"background-color: rgba(100, 200, 255, 0.00472404807806015);\">don</span> <span style=\"background-color: rgba(100, 200, 255, 0.009067768231034279);\">t</span> <span style=\"background-color: rgba(100, 200, 255, 0.01785258948802948);\">believe</span> <span style=\"background-color: rgba(100, 200, 255, 0.03834431618452072);\">you</span> <span style=\"background-color: rgba(100, 200, 255, 0.016271138563752174);\">that</span> <span style=\"background-color: rgba(100, 200, 255, 0.006947339046746492);\">is</span> <span style=\"background-color: rgba(100, 200, 255, 0.010871182195842266);\">brilliant</span> <span style=\"background-color: rgba(100, 200, 255, 0.004971423652023077);\">and</span> <span style=\"background-color: rgba(100, 200, 255, 1.0);\">monica</span> <span style=\"background-color: rgba(100, 200, 255, 0.00012482832244131714);\">has</span> <span style=\"background-color: rgba(100, 200, 255, 1.1984735465375707e-05);\">no</span> <span style=\"background-color: rgba(100, 200, 255, 5.985105872241547e-06);\">idea</span>"
      ],
      "text/plain": [
       "<IPython.core.display.Markdown object>"
      ]
     },
     "metadata": {},
     "output_type": "display_data"
    },
    {
     "data": {
      "text/markdown": [
       "<span style=\"background-color: rgba(100, 200, 255, 1.0);\">ya</span> <span style=\"background-color: rgba(100, 200, 255, 0.043519288301467896);\">you</span> <span style=\"background-color: rgba(100, 200, 255, 0.14234758913516998);\">know</span> <span style=\"background-color: rgba(100, 200, 255, 0.4976891279220581);\">rachel</span> <span style=\"background-color: rgba(100, 200, 255, 4.44910210717353e-06);\">she</span> <span style=\"background-color: rgba(100, 200, 255, 5.119051706969913e-07);\">ll</span> <span style=\"background-color: rgba(100, 200, 255, 2.6098934995388845e-06);\">do</span> <span style=\"background-color: rgba(100, 200, 255, 1.5870095012360252e-05);\">whatever</span> <span style=\"background-color: rgba(100, 200, 255, 2.5165923034364823e-06);\">you</span> <span style=\"background-color: rgba(100, 200, 255, 9.364803190692328e-06);\">want</span> <span style=\"background-color: rgba(100, 200, 255, 0.0006656929617747664);\">y</span> <span style=\"background-color: rgba(100, 200, 255, 3.206801557098515e-05);\">know</span> <span style=\"background-color: rgba(100, 200, 255, 2.2643047486781143e-05);\">you</span> <span style=\"background-color: rgba(100, 200, 255, 1.7792064681998454e-05);\">can</span> <span style=\"background-color: rgba(100, 200, 255, 2.295406738994643e-05);\">just</span> <span style=\"background-color: rgba(100, 200, 255, 0.0003534433781169355);\">walk</span> <span style=\"background-color: rgba(100, 200, 255, 7.17411057848949e-06);\">all</span> <span style=\"background-color: rgba(100, 200, 255, 2.124358252331149e-05);\">over</span> <span style=\"background-color: rgba(100, 200, 255, 6.400755955837667e-05);\">her</span>"
      ],
      "text/plain": [
       "<IPython.core.display.Markdown object>"
      ]
     },
     "metadata": {},
     "output_type": "display_data"
    },
    {
     "data": {
      "text/markdown": [
       "<span style=\"background-color: rgba(100, 200, 255, 0.0020999072585254908);\">okay</span> <span style=\"background-color: rgba(100, 200, 255, 0.531078040599823);\">thanks</span> <span style=\"background-color: rgba(100, 200, 255, 1.0);\">yeah</span> <span style=\"background-color: rgba(100, 200, 255, 0.971396267414093);\">ill</span> <span style=\"background-color: rgba(100, 200, 255, 0.06013341248035431);\">try</span> <span style=\"background-color: rgba(100, 200, 255, 0.004712897352874279);\">that</span>"
      ],
      "text/plain": [
       "<IPython.core.display.Markdown object>"
      ]
     },
     "metadata": {},
     "output_type": "display_data"
    },
    {
     "data": {
      "text/markdown": [
       "<span style=\"background-color: rgba(100, 200, 255, 1.0);\">undo</span> <span style=\"background-color: rgba(100, 200, 255, 0.18279698491096497);\">it</span> <span style=\"background-color: rgba(100, 200, 255, 0.32807019352912903);\">undo</span> <span style=\"background-color: rgba(100, 200, 255, 0.014786449261009693);\">it</span> <span style=\"background-color: rgba(100, 200, 255, 0.032790832221508026);\">undo</span> <span style=\"background-color: rgba(100, 200, 255, 0.0008899142267182469);\">it</span>"
      ],
      "text/plain": [
       "<IPython.core.display.Markdown object>"
      ]
     },
     "metadata": {},
     "output_type": "display_data"
    },
    {
     "data": {
      "text/markdown": [
       "<span style=\"background-color: rgba(100, 200, 255, 0.010585549287497997);\">no</span> <span style=\"background-color: rgba(100, 200, 255, 1.0);\">coins</span> <span style=\"background-color: rgba(100, 200, 255, 0.009112538769841194);\">hate</span> <span style=\"background-color: rgba(100, 200, 255, 0.01204316969960928);\">me</span>"
      ],
      "text/plain": [
       "<IPython.core.display.Markdown object>"
      ]
     },
     "metadata": {},
     "output_type": "display_data"
    },
    {
     "data": {
      "text/markdown": [
       "<span style=\"background-color: rgba(100, 200, 255, 1.0);\">ohh</span> <span style=\"background-color: rgba(100, 200, 255, 0.02874743565917015);\">you</span> <span style=\"background-color: rgba(100, 200, 255, 0.007445996627211571);\">made</span> <span style=\"background-color: rgba(100, 200, 255, 0.009306333027780056);\">up</span>"
      ],
      "text/plain": [
       "<IPython.core.display.Markdown object>"
      ]
     },
     "metadata": {},
     "output_type": "display_data"
    },
    {
     "data": {
      "text/markdown": [
       "<span style=\"background-color: rgba(100, 200, 255, 1.0);\">shhh</span> <span style=\"background-color: rgba(100, 200, 255, 0.05446212738752365);\">this</span> <span style=\"background-color: rgba(100, 200, 255, 0.014367022551596165);\">is</span> <span style=\"background-color: rgba(100, 200, 255, 0.0006480002193711698);\">the</span> <span style=\"background-color: rgba(100, 200, 255, 0.003988549113273621);\">listening</span> <span style=\"background-color: rgba(100, 200, 255, 0.10935129970312119);\">side</span> <span style=\"background-color: rgba(100, 200, 255, 0.10151728987693787);\">of</span> <span style=\"background-color: rgba(100, 200, 255, 0.005134753882884979);\">the</span> <span style=\"background-color: rgba(100, 200, 255, 0.020251601934432983);\">wall</span>"
      ],
      "text/plain": [
       "<IPython.core.display.Markdown object>"
      ]
     },
     "metadata": {},
     "output_type": "display_data"
    },
    {
     "data": {
      "text/markdown": [
       "<span style=\"background-color: rgba(100, 200, 255, 1.0);\">oh</span> <span style=\"background-color: rgba(100, 200, 255, 0.9049746990203857);\">no</span> <span style=\"background-color: rgba(100, 200, 255, 0.8924874663352966);\">dont</span> <span style=\"background-color: rgba(100, 200, 255, 0.17415693402290344);\">hate</span> <span style=\"background-color: rgba(100, 200, 255, 0.005581244360655546);\">you</span> <span style=\"background-color: rgba(100, 200, 255, 0.008630619384348392);\">dont</span> <span style=\"background-color: rgba(100, 200, 255, 0.0002133990201400593);\">want</span> <span style=\"background-color: rgba(100, 200, 255, 3.788577305385843e-05);\">to</span> <span style=\"background-color: rgba(100, 200, 255, 4.979373625246808e-05);\">put</span> <span style=\"background-color: rgba(100, 200, 255, 7.195735179266194e-06);\">that</span> <span style=\"background-color: rgba(100, 200, 255, 1.9053251889999956e-05);\">out</span> <span style=\"background-color: rgba(100, 200, 255, 3.797157114604488e-05);\">into</span> <span style=\"background-color: rgba(100, 200, 255, 3.78270706278272e-05);\">the</span> <span style=\"background-color: rgba(100, 200, 255, 0.0007982315146364272);\">universe</span>"
      ],
      "text/plain": [
       "<IPython.core.display.Markdown object>"
      ]
     },
     "metadata": {},
     "output_type": "display_data"
    },
    {
     "data": {
      "text/markdown": [
       "<span style=\"background-color: rgba(100, 200, 255, 0.016441496089100838);\">yeah</span> <span style=\"background-color: rgba(100, 200, 255, 0.010295411571860313);\">it</span> <span style=\"background-color: rgba(100, 200, 255, 0.024730905890464783);\">s</span> <span style=\"background-color: rgba(100, 200, 255, 0.13374097645282745);\">just</span> <span style=\"background-color: rgba(100, 200, 255, 0.17055991291999817);\">you</span> <span style=\"background-color: rgba(100, 200, 255, 1.0);\">know</span> <span style=\"background-color: rgba(100, 200, 255, 0.029970258474349976);\">it</span> <span style=\"background-color: rgba(100, 200, 255, 0.05748845636844635);\">s</span> <span style=\"background-color: rgba(100, 200, 255, 0.005188455805182457);\">this</span> <span style=\"background-color: rgba(100, 200, 255, 0.05400138348340988);\">whole</span> <span style=\"background-color: rgba(100, 200, 255, 0.032634083181619644);\">stupid</span> <span style=\"background-color: rgba(100, 200, 255, 0.0711066946387291);\">ursula</span> <span style=\"background-color: rgba(100, 200, 255, 8.387976777157746e-06);\">thing</span> <span style=\"background-color: rgba(100, 200, 255, 6.49950038678071e-07);\">it</span> <span style=\"background-color: rgba(100, 200, 255, 1.069433821498933e-07);\">s</span>"
      ],
      "text/plain": [
       "<IPython.core.display.Markdown object>"
      ]
     },
     "metadata": {},
     "output_type": "display_data"
    },
    {
     "data": {
      "text/markdown": [
       "<span style=\"background-color: rgba(100, 200, 255, 0.001192638766951859);\">oh</span> <span style=\"background-color: rgba(100, 200, 255, 1.0);\">oop</span>"
      ],
      "text/plain": [
       "<IPython.core.display.Markdown object>"
      ]
     },
     "metadata": {},
     "output_type": "display_data"
    },
    {
     "data": {
      "text/markdown": [
       "<span style=\"background-color: rgba(100, 200, 255, 0.0011893614428117871);\">it</span> <span style=\"background-color: rgba(100, 200, 255, 0.00014713589916937053);\">s</span> <span style=\"background-color: rgba(100, 200, 255, 0.0007471272838301957);\">so</span> <span style=\"background-color: rgba(100, 200, 255, 0.00129535305313766);\">good</span> <span style=\"background-color: rgba(100, 200, 255, 0.00888995174318552);\">oh</span> <span style=\"background-color: rgba(100, 200, 255, 0.42542436718940735);\">thanks</span>"
      ],
      "text/plain": [
       "<IPython.core.display.Markdown object>"
      ]
     },
     "metadata": {},
     "output_type": "display_data"
    },
    {
     "data": {
      "text/markdown": [
       "<span style=\"background-color: rgba(100, 200, 255, 0.0008108775364235044);\">yay</span> <span style=\"background-color: rgba(100, 200, 255, 0.00043865127372555435);\">oh</span> <span style=\"background-color: rgba(100, 200, 255, 1.0);\">yay</span> <span style=\"background-color: rgba(100, 200, 255, 0.0509951077401638);\">okay</span> <span style=\"background-color: rgba(100, 200, 255, 0.005971762351691723);\">i</span> <span style=\"background-color: rgba(100, 200, 255, 0.03746602311730385);\">gotta</span> <span style=\"background-color: rgba(100, 200, 255, 0.01080244593322277);\">go</span> <span style=\"background-color: rgba(100, 200, 255, 0.0002087056782329455);\">tell</span> <span style=\"background-color: rgba(100, 200, 255, 0.000705269630998373);\">frank</span> <span style=\"background-color: rgba(100, 200, 255, 1.6357789434096048e-07);\">and</span> <span style=\"background-color: rgba(100, 200, 255, 2.095714712879726e-08);\">alice</span> <span style=\"background-color: rgba(100, 200, 255, 2.1857786691725778e-09);\">right</span> <span style=\"background-color: rgba(100, 200, 255, 1.2703850194029087e-09);\">now</span>"
      ],
      "text/plain": [
       "<IPython.core.display.Markdown object>"
      ]
     },
     "metadata": {},
     "output_type": "display_data"
    },
    {
     "data": {
      "text/markdown": [
       "<span style=\"background-color: rgba(100, 200, 255, 1.0);\">monica</span> <span style=\"background-color: rgba(100, 200, 255, 0.0076636685989797115);\">she</span> <span style=\"background-color: rgba(100, 200, 255, 0.0011606216430664062);\">will</span> <span style=\"background-color: rgba(100, 200, 255, 0.0008094485965557396);\">kill</span> <span style=\"background-color: rgba(100, 200, 255, 0.00013519356434699148);\">you</span> <span style=\"background-color: rgba(100, 200, 255, 0.0005571753717958927);\">she</span> <span style=\"background-color: rgba(100, 200, 255, 5.131011857884005e-05);\">will</span> <span style=\"background-color: rgba(100, 200, 255, 3.473505057627335e-05);\">kill</span> <span style=\"background-color: rgba(100, 200, 255, 4.3144902406311303e-07);\">you</span> <span style=\"background-color: rgba(100, 200, 255, 1.7163034726763726e-07);\">like</span> <span style=\"background-color: rgba(100, 200, 255, 3.770017187321173e-08);\">a</span> <span style=\"background-color: rgba(100, 200, 255, 5.655691666106577e-07);\">dog</span> <span style=\"background-color: rgba(100, 200, 255, 7.11139378495318e-08);\">in</span> <span style=\"background-color: rgba(100, 200, 255, 1.5009921128239512e-07);\">the</span> <span style=\"background-color: rgba(100, 200, 255, 3.8584249750783783e-07);\">street</span>"
      ],
      "text/plain": [
       "<IPython.core.display.Markdown object>"
      ]
     },
     "metadata": {},
     "output_type": "display_data"
    },
    {
     "data": {
      "text/markdown": [
       "<span style=\"background-color: rgba(100, 200, 255, 0.011730742640793324);\">oh</span> <span style=\"background-color: rgba(100, 200, 255, 0.11434473842382431);\">yeah</span> <span style=\"background-color: rgba(100, 200, 255, 1.0);\">like</span> <span style=\"background-color: rgba(100, 200, 255, 0.07251575589179993);\">you</span> <span style=\"background-color: rgba(100, 200, 255, 0.041148748248815536);\">never</span> <span style=\"background-color: rgba(100, 200, 255, 0.01733635924756527);\">called</span>"
      ],
      "text/plain": [
       "<IPython.core.display.Markdown object>"
      ]
     },
     "metadata": {},
     "output_type": "display_data"
    },
    {
     "data": {
      "text/markdown": [
       "<span style=\"background-color: rgba(100, 200, 255, 0.05158960446715355);\">oh</span> <span style=\"background-color: rgba(100, 200, 255, 0.011277343146502972);\">my</span> <span style=\"background-color: rgba(100, 200, 255, 0.2215314507484436);\">eyes</span> <span style=\"background-color: rgba(100, 200, 255, 0.02593868039548397);\">my</span> <span style=\"background-color: rgba(100, 200, 255, 0.42727798223495483);\">eyes</span>"
      ],
      "text/plain": [
       "<IPython.core.display.Markdown object>"
      ]
     },
     "metadata": {},
     "output_type": "display_data"
    },
    {
     "data": {
      "text/markdown": [
       "<span style=\"background-color: rgba(100, 200, 255, 1.0);\">ameri</span> <span style=\"background-color: rgba(100, 200, 255, 0.003114321967586875);\">can</span> <span style=\"background-color: rgba(100, 200, 255, 0.005078290123492479);\">yknow</span> <span style=\"background-color: rgba(100, 200, 255, 0.00011469352466519922);\">it</span> <span style=\"background-color: rgba(100, 200, 255, 1.9792927560047247e-05);\">s</span> <span style=\"background-color: rgba(100, 200, 255, 7.996344493221841e-07);\">a</span> <span style=\"background-color: rgba(100, 200, 255, 2.0087054508621804e-06);\">very</span> <span style=\"background-color: rgba(100, 200, 255, 1.8823015125235543e-05);\">hard</span> <span style=\"background-color: rgba(100, 200, 255, 0.0021856832318007946);\">language</span> <span style=\"background-color: rgba(100, 200, 255, 0.00026844791136682034);\">let</span> <span style=\"background-color: rgba(100, 200, 255, 0.0011822188971564174);\">s</span> <span style=\"background-color: rgba(100, 200, 255, 0.0011805627727881074);\">do</span> <span style=\"background-color: rgba(100, 200, 255, 0.001057162182405591);\">it</span> <span style=\"background-color: rgba(100, 200, 255, 0.006134833209216595);\">again</span>"
      ],
      "text/plain": [
       "<IPython.core.display.Markdown object>"
      ]
     },
     "metadata": {},
     "output_type": "display_data"
    },
    {
     "data": {
      "text/markdown": [
       "<span style=\"background-color: rgba(100, 200, 255, 0.2971797287464142);\">so</span> <span style=\"background-color: rgba(100, 200, 255, 1.0);\">do</span> <span style=\"background-color: rgba(100, 200, 255, 0.08936474472284317);\">you</span> <span style=\"background-color: rgba(100, 200, 255, 0.017772767692804337);\">want</span> <span style=\"background-color: rgba(100, 200, 255, 0.0014593986561521888);\">to</span> <span style=\"background-color: rgba(100, 200, 255, 0.02564757503569126);\">hang</span> <span style=\"background-color: rgba(100, 200, 255, 0.0006628172704949975);\">out</span> <span style=\"background-color: rgba(100, 200, 255, 0.0023526111617684364);\">or</span> <span style=\"background-color: rgba(100, 200, 255, 0.0007060162606649101);\">something</span>"
      ],
      "text/plain": [
       "<IPython.core.display.Markdown object>"
      ]
     },
     "metadata": {},
     "output_type": "display_data"
    },
    {
     "data": {
      "text/markdown": [
       "<span style=\"background-color: rgba(100, 200, 255, 1.0);\">oh</span> <span style=\"background-color: rgba(100, 200, 255, 0.5665858387947083);\">he</span> <span style=\"background-color: rgba(100, 200, 255, 0.2356543242931366);\">having</span> <span style=\"background-color: rgba(100, 200, 255, 0.006790825631469488);\">an</span> <span style=\"background-color: rgba(100, 200, 255, 0.3566999137401581);\">affair</span>"
      ],
      "text/plain": [
       "<IPython.core.display.Markdown object>"
      ]
     },
     "metadata": {},
     "output_type": "display_data"
    },
    {
     "data": {
      "text/markdown": [
       "<span style=\"background-color: rgba(100, 200, 255, 3.124350041616708e-05);\">uh</span> <span style=\"background-color: rgba(100, 200, 255, 0.004170124884694815);\">huh</span>"
      ],
      "text/plain": [
       "<IPython.core.display.Markdown object>"
      ]
     },
     "metadata": {},
     "output_type": "display_data"
    },
    {
     "data": {
      "text/markdown": [
       "<span style=\"background-color: rgba(100, 200, 255, 0.37609055638313293);\">god</span> <span style=\"background-color: rgba(100, 200, 255, 0.16714075207710266);\">i</span> <span style=\"background-color: rgba(100, 200, 255, 0.393821656703949);\">hope</span> <span style=\"background-color: rgba(100, 200, 255, 0.046102434396743774);\">they</span> <span style=\"background-color: rgba(100, 200, 255, 1.0);\">kick</span> <span style=\"background-color: rgba(100, 200, 255, 0.00094586395425722);\">his</span> <span style=\"background-color: rgba(100, 200, 255, 0.4776510000228882);\">ass</span>"
      ],
      "text/plain": [
       "<IPython.core.display.Markdown object>"
      ]
     },
     "metadata": {},
     "output_type": "display_data"
    },
    {
     "data": {
      "text/markdown": [
       "<span style=\"background-color: rgba(100, 200, 255, 0.3908710479736328);\">we</span> <span style=\"background-color: rgba(100, 200, 255, 0.7276945114135742);\">found</span> <span style=\"background-color: rgba(100, 200, 255, 0.10471929609775543);\">your</span> <span style=\"background-color: rgba(100, 200, 255, 0.5806954503059387);\">test</span> <span style=\"background-color: rgba(100, 200, 255, 0.028274493291974068);\">in</span> <span style=\"background-color: rgba(100, 200, 255, 0.053378328680992126);\">the</span> <span style=\"background-color: rgba(100, 200, 255, 1.0);\">trash</span> <span style=\"background-color: rgba(100, 200, 255, 0.026990622282028198);\">if</span> <span style=\"background-color: rgba(100, 200, 255, 0.017216240987181664);\">you</span> <span style=\"background-color: rgba(100, 200, 255, 0.07664252072572708);\">re</span> <span style=\"background-color: rgba(100, 200, 255, 0.009776047430932522);\">not</span> <span style=\"background-color: rgba(100, 200, 255, 0.1261475831270218);\">pregnant</span> <span style=\"background-color: rgba(100, 200, 255, 0.0011789706768468022);\">it</span> <span style=\"background-color: rgba(100, 200, 255, 0.002347585279494524);\">s</span> <span style=\"background-color: rgba(100, 200, 255, 0.002070395741611719);\">because</span> <span style=\"background-color: rgba(100, 200, 255, 0.002084201667457819);\">i</span> <span style=\"background-color: rgba(100, 200, 255, 0.001440893393009901);\">am</span>"
      ],
      "text/plain": [
       "<IPython.core.display.Markdown object>"
      ]
     },
     "metadata": {},
     "output_type": "display_data"
    },
    {
     "data": {
      "text/markdown": [
       "<span style=\"background-color: rgba(100, 200, 255, 0.05756232514977455);\">okay</span> <span style=\"background-color: rgba(100, 200, 255, 0.09421350806951523);\">but</span> <span style=\"background-color: rgba(100, 200, 255, 1.0);\">well</span> <span style=\"background-color: rgba(100, 200, 255, 0.34356388449668884);\">before</span> <span style=\"background-color: rgba(100, 200, 255, 0.3485970199108124);\">you</span> <span style=\"background-color: rgba(100, 200, 255, 0.313291072845459);\">say</span> <span style=\"background-color: rgba(100, 200, 255, 0.026787353679537773);\">no</span> <span style=\"background-color: rgba(100, 200, 255, 0.011659505777060986);\">my</span> <span style=\"background-color: rgba(100, 200, 255, 0.008982245810329914);\">friend</span> <span style=\"background-color: rgba(100, 200, 255, 0.0034709672909229994);\">susanne</span> <span style=\"background-color: rgba(100, 200, 255, 2.6634037908479513e-07);\">is</span> <span style=\"background-color: rgba(100, 200, 255, 6.633860039073625e-08);\">entering</span> <span style=\"background-color: rgba(100, 200, 255, 2.3228561474297749e-07);\">her</span> <span style=\"background-color: rgba(100, 200, 255, 1.3473097624228103e-06);\">kid</span> <span style=\"background-color: rgba(100, 200, 255, 2.0676642975558934e-07);\">and</span> <span style=\"background-color: rgba(100, 200, 255, 2.8661980877586757e-07);\">compared</span> <span style=\"background-color: rgba(100, 200, 255, 4.157241448865534e-07);\">to</span> <span style=\"background-color: rgba(100, 200, 255, 1.1696546380335349e-06);\">emma</span> <span style=\"background-color: rgba(100, 200, 255, 1.8107543242606994e-09);\">she</span> <span style=\"background-color: rgba(100, 200, 255, 3.082834265644152e-10);\">a</span> <span style=\"background-color: rgba(100, 200, 255, 2.268982113307061e-09);\">real</span> <span style=\"background-color: rgba(100, 200, 255, 3.6042415718640086e-09);\">dog</span>"
      ],
      "text/plain": [
       "<IPython.core.display.Markdown object>"
      ]
     },
     "metadata": {},
     "output_type": "display_data"
    },
    {
     "data": {
      "text/markdown": [
       "<span style=\"background-color: rgba(100, 200, 255, 0.5683330297470093);\">shhh</span> <span style=\"background-color: rgba(100, 200, 255, 0.555750846862793);\">shhhh</span> <span style=\"background-color: rgba(100, 200, 255, 1.0);\">joey</span> <span style=\"background-color: rgba(100, 200, 255, 0.005440513137727976);\">s</span> <span style=\"background-color: rgba(100, 200, 255, 0.00022663496201857924);\">asleep</span>"
      ],
      "text/plain": [
       "<IPython.core.display.Markdown object>"
      ]
     },
     "metadata": {},
     "output_type": "display_data"
    },
    {
     "data": {
      "text/markdown": [
       "<span style=\"background-color: rgba(100, 200, 255, 0.48550987243652344);\">okay</span> <span style=\"background-color: rgba(100, 200, 255, 1.0);\">okay</span> <span style=\"background-color: rgba(100, 200, 255, 0.27495908737182617);\">if</span> <span style=\"background-color: rgba(100, 200, 255, 0.2775156497955322);\">i</span> <span style=\"background-color: rgba(100, 200, 255, 0.31187865138053894);\">were</span> <span style=\"background-color: rgba(100, 200, 255, 0.4213603436946869);\">omnipotent</span> <span style=\"background-color: rgba(100, 200, 255, 0.039258476346731186);\">for</span> <span style=\"background-color: rgba(100, 200, 255, 0.011842072010040283);\">a</span> <span style=\"background-color: rgba(100, 200, 255, 0.04029524326324463);\">day</span> <span style=\"background-color: rgba(100, 200, 255, 0.013911715708673);\">i</span> <span style=\"background-color: rgba(100, 200, 255, 0.02823917381465435);\">would</span> <span style=\"background-color: rgba(100, 200, 255, 0.034600626677274704);\">want</span> <span style=\"background-color: rgba(100, 200, 255, 0.6398623585700989);\">um</span> <span style=\"background-color: rgba(100, 200, 255, 0.011271332390606403);\">world</span> <span style=\"background-color: rgba(100, 200, 255, 0.00048172901733778417);\">peace</span> <span style=\"background-color: rgba(100, 200, 255, 4.657763565774076e-05);\">no</span> <span style=\"background-color: rgba(100, 200, 255, 4.279145287000574e-06);\">more</span> <span style=\"background-color: rgba(100, 200, 255, 5.446752311399905e-06);\">hunger</span> <span style=\"background-color: rgba(100, 200, 255, 1.9435917408827663e-07);\">good</span> <span style=\"background-color: rgba(100, 200, 255, 1.7156979481569579e-07);\">things</span> <span style=\"background-color: rgba(100, 200, 255, 1.1430407198531611e-07);\">for</span> <span style=\"background-color: rgba(100, 200, 255, 1.362392652026756e-07);\">the</span> <span style=\"background-color: rgba(100, 200, 255, 1.3534513527702074e-06);\">rain</span> <span style=\"background-color: rgba(100, 200, 255, 3.2433197247883072e-06);\">forest</span> <span style=\"background-color: rgba(100, 200, 255, 7.772495337121654e-06);\">and</span> <span style=\"background-color: rgba(100, 200, 255, 1.0949086572509259e-05);\">bigger</span> <span style=\"background-color: rgba(100, 200, 255, 0.0010276449611410499);\">boobs</span>"
      ],
      "text/plain": [
       "<IPython.core.display.Markdown object>"
      ]
     },
     "metadata": {},
     "output_type": "display_data"
    },
    {
     "data": {
      "text/markdown": [
       "<span style=\"background-color: rgba(100, 200, 255, 0.42653656005859375);\">you</span> <span style=\"background-color: rgba(100, 200, 255, 0.20074452459812164);\">re</span> <span style=\"background-color: rgba(100, 200, 255, 0.9836974740028381);\">thinking</span> <span style=\"background-color: rgba(100, 200, 255, 1.0);\">about</span> <span style=\"background-color: rgba(100, 200, 255, 0.05961332097649574);\">this</span> <span style=\"background-color: rgba(100, 200, 255, 0.4417304992675781);\">way</span> <span style=\"background-color: rgba(100, 200, 255, 0.6397468447685242);\">too</span> <span style=\"background-color: rgba(100, 200, 255, 0.9594505429267883);\">much</span> <span style=\"background-color: rgba(100, 200, 255, 0.19544988870620728);\">just</span> <span style=\"background-color: rgba(100, 200, 255, 0.16693629324436188);\">tell</span> <span style=\"background-color: rgba(100, 200, 255, 0.20969536900520325);\">him</span> <span style=\"background-color: rgba(100, 200, 255, 0.18185782432556152);\">and</span> <span style=\"background-color: rgba(100, 200, 255, 0.10003013908863068);\">get</span> <span style=\"background-color: rgba(100, 200, 255, 0.011757414788007736);\">it</span> <span style=\"background-color: rgba(100, 200, 255, 0.1220240518450737);\">over</span> <span style=\"background-color: rgba(100, 200, 255, 0.0545504204928875);\">with</span> <span style=\"background-color: rgba(100, 200, 255, 0.005019449628889561);\">it</span> <span style=\"background-color: rgba(100, 200, 255, 0.00030277259065769613);\">s</span> <span style=\"background-color: rgba(100, 200, 255, 0.0006295628845691681);\">like</span> <span style=\"background-color: rgba(100, 200, 255, 0.0005637359572574496);\">it</span> <span style=\"background-color: rgba(100, 200, 255, 0.00014761474449187517);\">s</span> <span style=\"background-color: rgba(100, 200, 255, 0.0018744715489447117);\">like</span> <span style=\"background-color: rgba(100, 200, 255, 0.18312641978263855);\">ripping</span> <span style=\"background-color: rgba(100, 200, 255, 0.02554497681558132);\">off</span> <span style=\"background-color: rgba(100, 200, 255, 0.01319093257188797);\">this</span> <span style=\"background-color: rgba(100, 200, 255, 0.057765647768974304);\">band</span> <span style=\"background-color: rgba(100, 200, 255, 0.001962124602869153);\">aid</span> <span style=\"background-color: rgba(100, 200, 255, 0.001838123076595366);\">quick</span> <span style=\"background-color: rgba(100, 200, 255, 0.0006602946086786687);\">and</span> <span style=\"background-color: rgba(100, 200, 255, 0.0017798140179365873);\">painless</span> <span style=\"background-color: rgba(100, 200, 255, 0.00012853226508013904);\">watch</span> <span style=\"background-color: rgba(100, 200, 255, 0.0004273434169590473);\">oh</span> <span style=\"color: red;\">|</span> <span style=\"background-color: rgba(100, 200, 255, 0);\">mother</span> <span style=\"background-color: rgba(100, 200, 255, 0);\">of</span> <span style=\"background-color: rgba(100, 200, 255, 0);\">see</span>"
      ],
      "text/plain": [
       "<IPython.core.display.Markdown object>"
      ]
     },
     "metadata": {},
     "output_type": "display_data"
    },
    {
     "data": {
      "text/markdown": [
       "<span style=\"background-color: rgba(100, 200, 255, 1.0);\">oh</span> <span style=\"background-color: rgba(100, 200, 255, 0.09189297258853912);\">do</span> <span style=\"background-color: rgba(100, 200, 255, 0.03145619481801987);\">i</span> <span style=\"background-color: rgba(100, 200, 255, 0.009490988217294216);\">have</span> <span style=\"background-color: rgba(100, 200, 255, 0.003430499928072095);\">a</span> <span style=\"background-color: rgba(100, 200, 255, 0.008332526311278343);\">middle</span> <span style=\"background-color: rgba(100, 200, 255, 0.004659801255911589);\">name</span> <span style=\"background-color: rgba(100, 200, 255, 2.010494608839508e-05);\">all</span> <span style=\"background-color: rgba(100, 200, 255, 1.3304231288202573e-05);\">right</span> <span style=\"background-color: rgba(100, 200, 255, 0.0003069697704631835);\">monica</span> <span style=\"background-color: rgba(100, 200, 255, 4.5395381675916724e-07);\">velula</span> <span style=\"background-color: rgba(100, 200, 255, 6.318605301203206e-07);\">geller</span> <span style=\"background-color: rgba(100, 200, 255, 3.248648461351422e-09);\">it</span> <span style=\"background-color: rgba(100, 200, 255, 8.362799897021489e-10);\">s</span> <span style=\"background-color: rgba(100, 200, 255, 1.8126444789601237e-09);\">that</span> <span style=\"background-color: rgba(100, 200, 255, 2.4149044985932733e-09);\">bedroom</span> <span style=\"background-color: rgba(100, 200, 255, 1.9468660017452066e-09);\">there</span>"
      ],
      "text/plain": [
       "<IPython.core.display.Markdown object>"
      ]
     },
     "metadata": {},
     "output_type": "display_data"
    },
    {
     "data": {
      "text/markdown": [
       "<span style=\"background-color: rgba(100, 200, 255, 1.0);\">ohh</span> <span style=\"background-color: rgba(100, 200, 255, 0.07534611970186234);\">no</span>"
      ],
      "text/plain": [
       "<IPython.core.display.Markdown object>"
      ]
     },
     "metadata": {},
     "output_type": "display_data"
    },
    {
     "data": {
      "text/markdown": [
       "<span style=\"background-color: rgba(100, 200, 255, 0.28421568870544434);\">yeah</span> <span style=\"background-color: rgba(100, 200, 255, 0.36222487688064575);\">but</span> <span style=\"background-color: rgba(100, 200, 255, 1.0);\">sergei</span> <span style=\"background-color: rgba(100, 200, 255, 0.041895996779203415);\">said</span> <span style=\"background-color: rgba(100, 200, 255, 0.017410820350050926);\">it</span> <span style=\"background-color: rgba(100, 200, 255, 0.3412530720233917);\">took</span> <span style=\"background-color: rgba(100, 200, 255, 0.019161570817232132);\">the</span> <span style=\"background-color: rgba(100, 200, 255, 0.061148013919591904);\">germans</span> <span style=\"background-color: rgba(100, 200, 255, 0.002018874743953347);\">six</span> <span style=\"background-color: rgba(100, 200, 255, 0.0003275991475675255);\">weeks</span> <span style=\"background-color: rgba(100, 200, 255, 5.7186089179595e-06);\">to</span> <span style=\"background-color: rgba(100, 200, 255, 4.019309926661663e-06);\">get</span> <span style=\"background-color: rgba(100, 200, 255, 4.670117505156668e-06);\">all</span> <span style=\"background-color: rgba(100, 200, 255, 2.630884864629479e-06);\">the</span> <span style=\"background-color: rgba(100, 200, 255, 4.708772758021951e-05);\">way</span> <span style=\"background-color: rgba(100, 200, 255, 0.0003042246971745044);\">across</span> <span style=\"background-color: rgba(100, 200, 255, 0.00012102861364837736);\">it</span>"
      ],
      "text/plain": [
       "<IPython.core.display.Markdown object>"
      ]
     },
     "metadata": {},
     "output_type": "display_data"
    },
    {
     "data": {
      "text/markdown": [
       "<span style=\"background-color: rgba(100, 200, 255, 0.38091138005256653);\">thanks</span> <span style=\"background-color: rgba(100, 200, 255, 0.29966914653778076);\">so</span> <span style=\"background-color: rgba(100, 200, 255, 1.0);\">are</span> <span style=\"background-color: rgba(100, 200, 255, 0.3917785882949829);\">you</span>"
      ],
      "text/plain": [
       "<IPython.core.display.Markdown object>"
      ]
     },
     "metadata": {},
     "output_type": "display_data"
    },
    {
     "data": {
      "text/markdown": [
       "<span style=\"background-color: rgba(100, 200, 255, 0.16649878025054932);\">yeah</span> <span style=\"background-color: rgba(100, 200, 255, 1.0);\">but</span> <span style=\"background-color: rgba(100, 200, 255, 0.261930912733078);\">why</span> <span style=\"background-color: rgba(100, 200, 255, 0.6145273447036743);\">didnt</span> <span style=\"background-color: rgba(100, 200, 255, 0.30859923362731934);\">you</span> <span style=\"background-color: rgba(100, 200, 255, 0.5863059759140015);\">just</span> <span style=\"background-color: rgba(100, 200, 255, 0.16668131947517395);\">say</span> <span style=\"background-color: rgba(100, 200, 255, 0.03115314617753029);\">that</span> <span style=\"background-color: rgba(100, 200, 255, 0.009325692430138588);\">you</span> <span style=\"background-color: rgba(100, 200, 255, 0.002867021132260561);\">didnt</span> <span style=\"background-color: rgba(100, 200, 255, 0.001778043806552887);\">read</span> <span style=\"background-color: rgba(100, 200, 255, 0.001485100481659174);\">the</span> <span style=\"background-color: rgba(100, 200, 255, 0.06925545632839203);\">book</span>"
      ],
      "text/plain": [
       "<IPython.core.display.Markdown object>"
      ]
     },
     "metadata": {},
     "output_type": "display_data"
    },
    {
     "data": {
      "text/markdown": [
       "<span style=\"background-color: rgba(100, 200, 255, 1.0);\">ooh</span> <span style=\"background-color: rgba(100, 200, 255, 0.11188355088233948);\">is</span> <span style=\"background-color: rgba(100, 200, 255, 0.02856176160275936);\">that</span> <span style=\"background-color: rgba(100, 200, 255, 0.5510134100914001);\">spelled</span> <span style=\"background-color: rgba(100, 200, 255, 0.005394937004894018);\">with</span> <span style=\"background-color: rgba(100, 200, 255, 0.0004448050167411566);\">a</span> <span style=\"background-color: rgba(100, 200, 255, 0.0020034685730934143);\">c</span> <span style=\"background-color: rgba(100, 200, 255, 0.00032052345341071486);\">or</span> <span style=\"background-color: rgba(100, 200, 255, 4.209548205835745e-05);\">a</span> <span style=\"background-color: rgba(100, 200, 255, 0.0011456945212557912);\">k</span> <span style=\"background-color: rgba(100, 200, 255, 6.805075099691749e-05);\">oh</span> <span style=\"background-color: rgba(100, 200, 255, 0.0006443284219130874);\">my</span> <span style=\"background-color: rgba(100, 200, 255, 0.022169439122080803);\">god</span> <span style=\"background-color: rgba(100, 200, 255, 0.008390282280743122);\">it</span> <span style=\"background-color: rgba(100, 200, 255, 0.05280609056353569);\">doesn</span> <span style=\"background-color: rgba(100, 200, 255, 0.10736051201820374);\">t</span> <span style=\"background-color: rgba(100, 200, 255, 0.05670284107327461);\">matter</span> <span style=\"background-color: rgba(100, 200, 255, 0.008259797468781471);\">they</span> <span style=\"background-color: rgba(100, 200, 255, 0.0018185960361734033);\">re</span> <span style=\"background-color: rgba(100, 200, 255, 0.0027080029249191284);\">both</span> <span style=\"background-color: rgba(100, 200, 255, 0.014234106987714767);\">great</span>"
      ],
      "text/plain": [
       "<IPython.core.display.Markdown object>"
      ]
     },
     "metadata": {},
     "output_type": "display_data"
    }
   ],
   "source": [
    "utterances_to_plot = []\n",
    "attentions_to_plot = []\n",
    "original_indices = []\n",
    "\n",
    "for i in range(num_major_characters):\n",
    "    display(Markdown(\"## \" + major_characters[i]))\n",
    "    correct_predictions_i = np.where(np.logical_and(test_y_cnn == i, rnn_test_predictions == i))\n",
    "    for j in correct_predictions_i[0][:50]:\n",
    "        sentence = test_x_cnn[j].split(\" \")\n",
    "        if len(sentence) > 1:\n",
    "            visualize_attention(sentence, rnn_test_attn[j], max_len=max_seq_len)"
   ]
  },
  {
   "cell_type": "code",
   "execution_count": null,
   "metadata": {},
   "outputs": [],
   "source": []
  }
 ],
 "metadata": {
  "kernelspec": {
   "display_name": "conda_tensorflow_p36",
   "language": "python",
   "name": "conda_tensorflow_p36"
  },
  "language_info": {
   "codemirror_mode": {
    "name": "ipython",
    "version": 3
   },
   "file_extension": ".py",
   "mimetype": "text/x-python",
   "name": "python",
   "nbconvert_exporter": "python",
   "pygments_lexer": "ipython3",
   "version": "3.6.5"
  }
 },
 "nbformat": 4,
 "nbformat_minor": 2
}
