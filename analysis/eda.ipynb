{
 "cells": [
  {
   "cell_type": "code",
   "execution_count": 1,
   "metadata": {},
   "outputs": [],
   "source": [
    "import os, sys\n",
    "from pathlib import Path\n",
    "import urllib.request\n",
    "from collections import Counter, defaultdict\n",
    "import string\n",
    "import re\n",
    "\n",
    "import numpy as np\n",
    "import pandas as pd\n",
    "from gensim.models import KeyedVectors\n",
    "import nltk\n",
    "from nltk.corpus import stopwords\n",
    "from nltk.stem import PorterStemmer\n",
    "from sklearn.linear_model import LogisticRegression\n",
    "from matplotlib import pyplot as plt\n",
    "import tensorflow as tf\n",
    "%matplotlib inline"
   ]
  },
  {
   "cell_type": "code",
   "execution_count": 2,
   "metadata": {},
   "outputs": [],
   "source": [
    "tv_show = \"friends\""
   ]
  },
  {
   "cell_type": "code",
   "execution_count": 3,
   "metadata": {},
   "outputs": [
    {
     "name": "stdout",
     "output_type": "stream",
     "text": [
      "[nltk_data] Downloading package punkt to /Users/andy/nltk_data...\n",
      "[nltk_data]   Package punkt is already up-to-date!\n",
      "[nltk_data] Downloading package stopwords to /Users/andy/nltk_data...\n",
      "[nltk_data]   Package stopwords is already up-to-date!\n"
     ]
    }
   ],
   "source": [
    "nltk.download('punkt')\n",
    "nltk.download('stopwords')\n",
    "\n",
    "root_path = Path().resolve().joinpath(\"..\")\n",
    "show_data_path = root_path.joinpath(\"scrape\", \"data\", tv_show, \"parsed\")\n",
    "embeddings_path = root_path.joinpath(\"embeddings\", \"newscrawl.300d.W.pos.vectors.gz\")\n",
    "embeddings_url = \"https://www.dropbox.com/s/kguufyc2xcdi8yk/lexvec.enwiki%2Bnewscrawl.300d.W.pos.vectors.gz?dl=1\"\n",
    "\n",
    "stop_words = set(stopwords.words('english'))"
   ]
  },
  {
   "cell_type": "code",
   "execution_count": 4,
   "metadata": {},
   "outputs": [
    {
     "name": "stdout",
     "output_type": "stream",
     "text": [
      "/Users/andy/Documents/projects/w266-final/analysis/../embeddings/newscrawl.300d.W.pos.vectors already exists -- do you wish to overwrite (y or n)? ^C\n"
     ]
    }
   ],
   "source": [
    "if not os.path.isfile(embeddings_path):\n",
    "    print(\"downloading embeddings...\")\n",
    "    urllib.request.urlretrieve(embeddings_url, embeddings_path)\n",
    "\n",
    "!gunzip {str(embeddings_path)}"
   ]
  },
  {
   "cell_type": "markdown",
   "metadata": {},
   "source": [
    "## Load the Training Data"
   ]
  },
  {
   "cell_type": "code",
   "execution_count": 4,
   "metadata": {},
   "outputs": [],
   "source": [
    "dialog_datas = []\n",
    "\n",
    "for filename in os.listdir(show_data_path):\n",
    "    dialog_data = pd.read_csv(show_data_path.joinpath(filename), header=None, names=(\"speaker\", \"utterance\"))\n",
    "    dialog_data[\"episode\"] = filename.split(\".\")[0]\n",
    "    dialog_datas.append(dialog_data)\n",
    "    \n",
    "all_dialog_data = pd.concat(dialog_datas).dropna().reset_index(drop=True)"
   ]
  },
  {
   "cell_type": "code",
   "execution_count": 5,
   "metadata": {},
   "outputs": [
    {
     "name": "stdout",
     "output_type": "stream",
     "text": [
      "speaker      55025\n",
      "utterance    55025\n",
      "episode      55025\n",
      "dtype: int64\n"
     ]
    },
    {
     "data": {
      "text/html": [
       "<div>\n",
       "<style scoped>\n",
       "    .dataframe tbody tr th:only-of-type {\n",
       "        vertical-align: middle;\n",
       "    }\n",
       "\n",
       "    .dataframe tbody tr th {\n",
       "        vertical-align: top;\n",
       "    }\n",
       "\n",
       "    .dataframe thead th {\n",
       "        text-align: right;\n",
       "    }\n",
       "</style>\n",
       "<table border=\"1\" class=\"dataframe\">\n",
       "  <thead>\n",
       "    <tr style=\"text-align: right;\">\n",
       "      <th></th>\n",
       "      <th>speaker</th>\n",
       "      <th>utterance</th>\n",
       "      <th>episode</th>\n",
       "    </tr>\n",
       "  </thead>\n",
       "  <tbody>\n",
       "    <tr>\n",
       "      <th>0</th>\n",
       "      <td>Phoebe</td>\n",
       "      <td>Oh, hey Joey.</td>\n",
       "      <td>1012</td>\n",
       "    </tr>\n",
       "    <tr>\n",
       "      <th>1</th>\n",
       "      <td>Joey</td>\n",
       "      <td>Uh, hey.</td>\n",
       "      <td>1012</td>\n",
       "    </tr>\n",
       "    <tr>\n",
       "      <th>2</th>\n",
       "      <td>Phoebe</td>\n",
       "      <td>Listen, I need to ask you something. Ok, you k...</td>\n",
       "      <td>1012</td>\n",
       "    </tr>\n",
       "    <tr>\n",
       "      <th>3</th>\n",
       "      <td>Joey</td>\n",
       "      <td>Yeah.</td>\n",
       "      <td>1012</td>\n",
       "    </tr>\n",
       "    <tr>\n",
       "      <th>4</th>\n",
       "      <td>Phoebe</td>\n",
       "      <td>Yeah. Well, uhm... listen he was supposed to g...</td>\n",
       "      <td>1012</td>\n",
       "    </tr>\n",
       "  </tbody>\n",
       "</table>\n",
       "</div>"
      ],
      "text/plain": [
       "  speaker                                          utterance episode\n",
       "0  Phoebe                                      Oh, hey Joey.    1012\n",
       "1    Joey                                           Uh, hey.    1012\n",
       "2  Phoebe  Listen, I need to ask you something. Ok, you k...    1012\n",
       "3    Joey                                              Yeah.    1012\n",
       "4  Phoebe  Yeah. Well, uhm... listen he was supposed to g...    1012"
      ]
     },
     "execution_count": 5,
     "metadata": {},
     "output_type": "execute_result"
    }
   ],
   "source": [
    "print(all_dialog_data.count())\n",
    "all_dialog_data.head()"
   ]
  },
  {
   "cell_type": "markdown",
   "metadata": {},
   "source": [
    "## Data Pre-processing and Minor Analysis"
   ]
  },
  {
   "cell_type": "code",
   "execution_count": 6,
   "metadata": {},
   "outputs": [
    {
     "data": {
      "image/png": "[encoded data removed]",
      "text/plain": [
       "<Figure size 432x288 with 1 Axes>"
      ]
     },
     "metadata": {
      "needs_background": "light"
     },
     "output_type": "display_data"
    }
   ],
   "source": [
    "speaker_value_counts = all_dialog_data.speaker.value_counts()\n",
    "major_speaker_value_counts = speaker_value_counts[speaker_value_counts > 40]\n",
    "x, y = major_speaker_value_counts.index, major_speaker_value_counts.values\n",
    "plt.bar(x, y)\n",
    "plt.xticks(x, x, rotation=\"vertical\")\n",
    "plt.title(\"Number of Utterances per Character\")\n",
    "plt.show()"
   ]
  },
  {
   "cell_type": "code",
   "execution_count": 7,
   "metadata": {},
   "outputs": [],
   "source": [
    "num_major_characters = 6\n",
    "major_characters = x[:num_major_characters]\n",
    "major_characters_set = set(major_characters)"
   ]
  },
  {
   "cell_type": "code",
   "execution_count": 8,
   "metadata": {},
   "outputs": [
    {
     "data": {
      "text/plain": [
       "{'Rachel': 0, 'Ross': 1, 'Chandler': 2, 'Monica': 3, 'Joey': 4, 'Phoebe': 5}"
      ]
     },
     "execution_count": 8,
     "metadata": {},
     "output_type": "execute_result"
    }
   ],
   "source": [
    "labels_to_ids = {}\n",
    "ids_to_labels = {}\n",
    "for i, major_character in enumerate(major_characters):\n",
    "    labels_to_ids[major_character] = i\n",
    "    ids_to_labels[i] = major_character\n",
    "labels_to_ids"
   ]
  },
  {
   "cell_type": "code",
   "execution_count": 9,
   "metadata": {},
   "outputs": [
    {
     "name": "stdout",
     "output_type": "stream",
     "text": [
      "speaker      46079\n",
      "utterance    46079\n",
      "episode      46079\n",
      "dtype: int64\n"
     ]
    }
   ],
   "source": [
    "major_dialog_data = all_dialog_data[all_dialog_data.speaker.isin(major_characters_set)]\n",
    "print(major_dialog_data.count())"
   ]
  },
  {
   "cell_type": "code",
   "execution_count": 10,
   "metadata": {},
   "outputs": [],
   "source": [
    "tokenizer = nltk.tokenize.TreebankWordTokenizer()\n",
    "\n",
    "labels = major_dialog_data.speaker\n",
    "\n",
    "#utterances = list(map(lambda utter: tokenizer.tokenize(utter.lower()), major_dialog_data.utterance))\n",
    "utterances = [tokenizer.tokenize(utter.lower()) for utter in major_dialog_data.utterance]\n",
    "embeddings = KeyedVectors.load_word2vec_format(root_path.joinpath(\"embeddings\", \"newscrawl.300d.W.pos.vectors\"), binary=False)"
   ]
  },
  {
   "cell_type": "code",
   "execution_count": 11,
   "metadata": {},
   "outputs": [
    {
     "data": {
      "text/plain": [
       "Text(0.5, 1.0, 'Histogram of Utterance lengths')"
      ]
     },
     "execution_count": 11,
     "metadata": {},
     "output_type": "execute_result"
    },
    {
     "data": {
      "image/png": "[encoded data removed]",
      "text/plain": [
       "<Figure size 432x288 with 1 Axes>"
      ]
     },
     "metadata": {
      "needs_background": "light"
     },
     "output_type": "display_data"
    }
   ],
   "source": [
    "plt.hist([len(words) for words in utterances], bins=60)\n",
    "plt.title(\"Histogram of Utterance lengths\")"
   ]
  },
  {
   "cell_type": "markdown",
   "metadata": {},
   "source": [
    "## Baseline Model - Always predict the most common class"
   ]
  },
  {
   "cell_type": "code",
   "execution_count": 12,
   "metadata": {},
   "outputs": [
    {
     "data": {
      "text/plain": [
       "0.1832939082879403"
      ]
     },
     "execution_count": 12,
     "metadata": {},
     "output_type": "execute_result"
    }
   ],
   "source": [
    "np.mean(labels == major_characters[0])"
   ]
  },
  {
   "cell_type": "code",
   "execution_count": 13,
   "metadata": {},
   "outputs": [],
   "source": [
    "def shuffle(x, y):\n",
    "    m = x.shape[0]\n",
    "    rand_perm = np.random.permutation(m)\n",
    "    x = x[rand_perm]\n",
    "    y = y[rand_perm]\n",
    "    return x, y\n",
    "\n",
    "def batch_iter(x, y, batch_size):\n",
    "    num_batches = int(np.ceil(x.shape[0] / batch_size))\n",
    "    for i in range(num_batches):\n",
    "        start = i * batch_size\n",
    "        end = start + batch_size\n",
    "        yield i, x[start:end], y[start:end]"
   ]
  },
  {
   "cell_type": "markdown",
   "metadata": {},
   "source": [
    "## Baseline Model - Logistic Regression over CBOW\n",
    "\n",
    "Pretty much the simplest model we could use. This will serve as a good baseline. It just uses pre-trained Word2Vec and its vocabulary."
   ]
  },
  {
   "cell_type": "code",
   "execution_count": 14,
   "metadata": {},
   "outputs": [
    {
     "name": "stdout",
     "output_type": "stream",
     "text": [
      "(39168, 300) (4216, 300)\n"
     ]
    }
   ],
   "source": [
    "non_empty_utterances = []\n",
    "non_empty_utterance_labels = []\n",
    "\n",
    "for i, utterance in enumerate(utterances):\n",
    "    words = [word for word in utterance if word in embeddings.vocab and word not in stop_words]\n",
    "    if len(words) > 0:\n",
    "        non_empty_utterances.append(words)\n",
    "        non_empty_utterance_labels.append(labels.iloc[i])\n",
    "\n",
    "bags = np.zeros((len(non_empty_utterances), embeddings.vector_size))\n",
    "\n",
    "for i, utterance in enumerate(non_empty_utterances):\n",
    "    #bag = np.sum(embeddings.word_vec(word) for word in utterance if word in embeddings.vocab)\n",
    "    words = [word for word in utterance if word in embeddings.vocab]\n",
    "    vectors = np.zeros((len(words), embeddings.vector_size))\n",
    "    for j, word in enumerate(words):\n",
    "        vectors[j, :] = embeddings.word_vec(word)\n",
    "    bag = np.mean(vectors, axis=0)\n",
    "    bags[i, :] = bag\n",
    "\n",
    "train_cut = math.ceil(major_dialog_data.utterance.count() * 0.85)\n",
    "train_x = bags[0:train_cut]\n",
    "train_y = non_empty_utterance_labels[0:train_cut]\n",
    "test_x = bags[train_cut:]\n",
    "test_y = non_empty_utterance_labels[train_cut:]\n",
    "\n",
    "print(train_x.shape, test_x.shape)"
   ]
  },
  {
   "cell_type": "code",
   "execution_count": 15,
   "metadata": {},
   "outputs": [
    {
     "name": "stderr",
     "output_type": "stream",
     "text": [
      "/Users/andy/miniconda3/envs/noble/lib/python3.6/site-packages/sklearn/linear_model/logistic.py:432: FutureWarning: Default solver will be changed to 'lbfgs' in 0.22. Specify a solver to silence this warning.\n",
      "  FutureWarning)\n"
     ]
    },
    {
     "name": "stdout",
     "output_type": "stream",
     "text": [
      "0.2796415441176471\n",
      "0.2333965844402277\n"
     ]
    }
   ],
   "source": [
    "model = LogisticRegression(multi_class=\"ovr\")\n",
    "model.fit(train_x, train_y)\n",
    "print(model.score(train_x, train_y))\n",
    "print(model.score(test_x, test_y))"
   ]
  },
  {
   "cell_type": "markdown",
   "metadata": {},
   "source": [
    "## Model - Facebook Fasttext\n",
    "[https://arxiv.org/abs/1607.01759](https://arxiv.org/abs/1607.01759)"
   ]
  },
  {
   "cell_type": "code",
   "execution_count": 16,
   "metadata": {},
   "outputs": [],
   "source": [
    "counter = Counter()\n",
    "stemmer = PorterStemmer()\n",
    "\n",
    "custom_tokenized = []\n",
    "for utterance in major_dialog_data.utterance:\n",
    "    words = re.findall(r\"[a-z0-9']+\", utterance.lower())\n",
    "    # remove dangling apostrophes and 's at the end of words\n",
    "    words = [re.sub(r\"'s?$\", \"\", stemmer.stem(word)) for word in words]\n",
    "    custom_tokenized.append(words)\n",
    "    \n",
    "for utterance in custom_tokenized:\n",
    "    counter.update(word for word in utterance if word not in string.punctuation)\n",
    "    \n",
    "vocab = [k for k, v in counter.most_common() if v > 2]\n",
    "\n",
    "vocab_word_to_id = defaultdict(lambda: -1)\n",
    "vocab_id_to_word = {}\n",
    "for i, word in enumerate(vocab):\n",
    "    vocab_id_to_word[i] = word\n",
    "    vocab_word_to_id[word] = i"
   ]
  },
  {
   "cell_type": "code",
   "execution_count": 17,
   "metadata": {},
   "outputs": [],
   "source": [
    "label_ids = np.array([labels_to_ids[label] for label in labels])\n",
    "train_x_fasttext = custom_tokenized[:train_cut]\n",
    "train_y_fasttext = label_ids[:train_cut]\n",
    "test_x_fasttext = custom_tokenized[train_cut:]\n",
    "test_y_fasttext = label_ids[train_cut:]\n",
    "\n",
    "train_x_fasttext = np.array([\" \".join(words) for words in train_x_fasttext])\n",
    "test_x_fasttext = np.array([\" \".join(words) for words in test_x_fasttext])"
   ]
  },
  {
   "cell_type": "code",
   "execution_count": 19,
   "metadata": {},
   "outputs": [],
   "source": [
    "tf.reset_default_graph()\n",
    "\n",
    "X = tf.placeholder(dtype=tf.string, name=\"X\", shape=[None])\n",
    "Y = tf.placeholder(dtype=tf.int32, name=\"Y\", shape=[None])\n",
    "\n",
    "\n",
    "sparse_text = tf.string_split(X, delimiter=\" \")\n",
    "\n",
    "table = tf.contrib.lookup.index_table_from_tensor(mapping=tf.constant(vocab), num_oov_buckets=1)\n",
    "ids = table.lookup(sparse_text)\n",
    "\n",
    "text_embedding_w = tf.Variable(\n",
    "    tf.random_uniform([len(vocab) + 1, 10], -0.1, 0.1),\n",
    "    name=\"embedding\")\n",
    "\n",
    "text_embedding = tf.nn.embedding_lookup_sparse(text_embedding_w, ids, sp_weights=None, combiner=\"mean\")\n",
    "\n",
    "logits = tf.layers.dense(\n",
    "    inputs=text_embedding, units=num_major_characters,\n",
    "    activation=None)\n",
    "\n",
    "regularization_penalty = tf.contrib.layers.apply_regularization(\n",
    "    tf.contrib.layers.l2_regularizer(scale=0.01),\n",
    "    tf.trainable_variables(scope=\"dense/\"))\n",
    "\n",
    "predictions = tf.cast(tf.argmax(logits, axis=-1), tf.int32)\n",
    "probs = tf.nn.softmax(logits)\n",
    "\n",
    "loss = tf.reduce_mean(tf.nn.sparse_softmax_cross_entropy_with_logits(labels=Y, logits=logits))\n",
    "loss = loss + regularization_penalty\n",
    "tf.summary.scalar(\"loss\", loss)\n",
    "\n",
    "opt = tf.train.AdamOptimizer(0.001)\n",
    "\n",
    "train_op = opt.minimize(loss, global_step=tf.train.get_global_step())\n",
    "\n",
    "accuracy = tf.reduce_mean(tf.cast(tf.equal(Y, predictions), tf.float32))\n",
    "tf.summary.scalar(\"training_accuracy\", accuracy)\n",
    "\n",
    "merged_summary = tf.summary.merge_all()\n",
    "train_writer = tf.summary.FileWriter(\"./fasttext-board/train\")\n",
    "test_writer = tf.summary.FileWriter(\"./fasttext-board/test\")\n",
    "saver = tf.train.Saver()"
   ]
  },
  {
   "cell_type": "code",
   "execution_count": null,
   "metadata": {},
   "outputs": [
    {
     "name": "stdout",
     "output_type": "stream",
     "text": [
      "2018-11-06 23:57:01.257655 epoch number: 1\n",
      "test accuracy = 0.1888\n",
      "2018-11-06 23:57:02.740986 epoch number: 2\n",
      "test accuracy = 0.1898\n",
      "2018-11-06 23:57:03.944179 epoch number: 3\n",
      "test accuracy = 0.1935\n",
      "2018-11-06 23:57:05.129805 epoch number: 4\n",
      "test accuracy = 0.2124\n",
      "2018-11-06 23:57:06.314677 epoch number: 5\n",
      "test accuracy = 0.2254\n",
      "2018-11-06 23:57:07.501709 epoch number: 6\n",
      "test accuracy = 0.2298\n",
      "2018-11-06 23:57:08.792190 epoch number: 7\n",
      "test accuracy = 0.2348\n",
      "2018-11-06 23:57:10.100465 epoch number: 8\n",
      "test accuracy = 0.2330\n",
      "2018-11-06 23:57:11.521660 epoch number: 9\n",
      "test accuracy = 0.2374\n",
      "2018-11-06 23:57:12.805589 epoch number: 10\n"
     ]
    }
   ],
   "source": [
    "display_step = 20\n",
    "num_epochs = 40\n",
    "\n",
    "with tf.Session() as sess:\n",
    "    sess.run(tf.global_variables_initializer())\n",
    "    sess.run(tf.tables_initializer())\n",
    "    train_writer.add_graph(sess.graph)\n",
    "    \n",
    "    global_step = 0\n",
    "\n",
    "    for epoch in range(num_epochs):\n",
    "        print(\"{} epoch number: {}\".format(datetime.now(), epoch + 1))\n",
    "        train_x_fasttext, train_y_fasttext = shuffle(train_x_fasttext, train_y_fasttext)\n",
    "        \n",
    "        for step, x_batch, y_batch in batch_iter(train_x_fasttext, train_y_fasttext, 128):\n",
    "            global_step += 1\n",
    "            sess.run(train_op, feed_dict={ X: x_batch, Y: y_batch })\n",
    "\n",
    "            # every so often, report the progress of our loss and training accuracy\n",
    "            if step % display_step == 0:\n",
    "                summ = sess.run(merged_summary, feed_dict={ X: x_batch, Y: y_batch })\n",
    "                train_writer.add_summary(summ, global_step=global_step)\n",
    "                train_writer.flush()\n",
    "\n",
    "        test_acc = sess.run(accuracy, feed_dict={ X: test_x_fasttext, Y: test_y_fasttext })\n",
    "        summ = sess.run(merged_summary, feed_dict={ X: test_x_fasttext, Y: test_y_fasttext })\n",
    "        test_writer.add_summary(summ, global_step=global_step)\n",
    "        test_writer.flush()\n",
    "        print(\"test accuracy = {:.4f}\".format(test_acc))\n",
    "    \n",
    "    # save the model to disk so we can load it up later for use by `./eval.py`\n",
    "    saver.save(sess, \"./fasttext-ckpt/model.ckpt\")"
   ]
  },
  {
   "cell_type": "code",
   "execution_count": null,
   "metadata": {},
   "outputs": [],
   "source": []
  }
 ],
 "metadata": {
  "kernelspec": {
   "display_name": "Python 3",
   "language": "python",
   "name": "python3"
  },
  "language_info": {
   "codemirror_mode": {
    "name": "ipython",
    "version": 3
   },
   "file_extension": ".py",
   "mimetype": "text/x-python",
   "name": "python",
   "nbconvert_exporter": "python",
   "pygments_lexer": "ipython3",
   "version": "3.6.7"
  }
 },
 "nbformat": 4,
 "nbformat_minor": 2
}
