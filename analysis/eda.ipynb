{
 "cells": [
  {
   "cell_type": "code",
   "execution_count": 95,
   "metadata": {},
   "outputs": [],
   "source": [
    "import os, sys\n",
    "from pathlib import Path\n",
    "import urllib.request\n",
    "from collections import Counter, defaultdict\n",
    "import string\n",
    "import re\n",
    "from importlib import reload\n",
    "\n",
    "import numpy as np\n",
    "import pandas as pd\n",
    "from gensim.models import KeyedVectors\n",
    "import nltk\n",
    "from nltk.corpus import stopwords\n",
    "from nltk.stem import PorterStemmer\n",
    "from sklearn.linear_model import LogisticRegression\n",
    "from matplotlib import pyplot as plt\n",
    "import tensorflow as tf\n",
    "%matplotlib inline\n",
    "\n",
    "import models.fasttext as fasttext\n",
    "import models.cnn as cnn\n",
    "reload(fasttext)\n",
    "reload(cnn);"
   ]
  },
  {
   "cell_type": "code",
   "execution_count": 2,
   "metadata": {},
   "outputs": [],
   "source": [
    "tv_show = \"friends\""
   ]
  },
  {
   "cell_type": "code",
   "execution_count": 3,
   "metadata": {},
   "outputs": [
    {
     "name": "stdout",
     "output_type": "stream",
     "text": [
      "[nltk_data] Downloading package punkt to /Users/andy/nltk_data...\n",
      "[nltk_data]   Package punkt is already up-to-date!\n",
      "[nltk_data] Downloading package stopwords to /Users/andy/nltk_data...\n",
      "[nltk_data]   Package stopwords is already up-to-date!\n"
     ]
    }
   ],
   "source": [
    "nltk.download('punkt')\n",
    "nltk.download('stopwords')\n",
    "\n",
    "root_path = Path().resolve().joinpath(\"..\")\n",
    "show_data_path = root_path.joinpath(\"scrape\", \"data\", tv_show, \"parsed\")\n",
    "embeddings_path = root_path.joinpath(\"embeddings\", \"newscrawl.300d.W.pos.vectors.gz\")\n",
    "embeddings_url = \"https://www.dropbox.com/s/kguufyc2xcdi8yk/lexvec.enwiki%2Bnewscrawl.300d.W.pos.vectors.gz?dl=1\"\n",
    "\n",
    "stop_words = set(stopwords.words('english'))"
   ]
  },
  {
   "cell_type": "code",
   "execution_count": 4,
   "metadata": {},
   "outputs": [
    {
     "name": "stdout",
     "output_type": "stream",
     "text": [
      "/Users/andy/Documents/projects/w266-final/analysis/../embeddings/newscrawl.300d.W.pos.vectors already exists -- do you wish to overwrite (y or n)? ^C\n"
     ]
    }
   ],
   "source": [
    "if not os.path.isfile(embeddings_path):\n",
    "    print(\"downloading embeddings...\")\n",
    "    urllib.request.urlretrieve(embeddings_url, embeddings_path)\n",
    "\n",
    "!gunzip {str(embeddings_path)}"
   ]
  },
  {
   "cell_type": "markdown",
   "metadata": {},
   "source": [
    "## Load the Training Data"
   ]
  },
  {
   "cell_type": "code",
   "execution_count": 4,
   "metadata": {},
   "outputs": [],
   "source": [
    "dialog_datas = []\n",
    "\n",
    "for filename in os.listdir(show_data_path):\n",
    "    dialog_data = pd.read_csv(show_data_path.joinpath(filename), header=None, names=(\"speaker\", \"utterance\"))\n",
    "    dialog_data[\"episode\"] = filename.split(\".\")[0]\n",
    "    dialog_datas.append(dialog_data)\n",
    "    \n",
    "all_dialog_data = pd.concat(dialog_datas).dropna().reset_index(drop=True)"
   ]
  },
  {
   "cell_type": "code",
   "execution_count": 5,
   "metadata": {},
   "outputs": [
    {
     "name": "stdout",
     "output_type": "stream",
     "text": [
      "speaker      55025\n",
      "utterance    55025\n",
      "episode      55025\n",
      "dtype: int64\n"
     ]
    },
    {
     "data": {
      "text/html": [
       "<div>\n",
       "<style scoped>\n",
       "    .dataframe tbody tr th:only-of-type {\n",
       "        vertical-align: middle;\n",
       "    }\n",
       "\n",
       "    .dataframe tbody tr th {\n",
       "        vertical-align: top;\n",
       "    }\n",
       "\n",
       "    .dataframe thead th {\n",
       "        text-align: right;\n",
       "    }\n",
       "</style>\n",
       "<table border=\"1\" class=\"dataframe\">\n",
       "  <thead>\n",
       "    <tr style=\"text-align: right;\">\n",
       "      <th></th>\n",
       "      <th>speaker</th>\n",
       "      <th>utterance</th>\n",
       "      <th>episode</th>\n",
       "    </tr>\n",
       "  </thead>\n",
       "  <tbody>\n",
       "    <tr>\n",
       "      <th>0</th>\n",
       "      <td>Phoebe</td>\n",
       "      <td>Oh, hey Joey.</td>\n",
       "      <td>1012</td>\n",
       "    </tr>\n",
       "    <tr>\n",
       "      <th>1</th>\n",
       "      <td>Joey</td>\n",
       "      <td>Uh, hey.</td>\n",
       "      <td>1012</td>\n",
       "    </tr>\n",
       "    <tr>\n",
       "      <th>2</th>\n",
       "      <td>Phoebe</td>\n",
       "      <td>Listen, I need to ask you something. Ok, you k...</td>\n",
       "      <td>1012</td>\n",
       "    </tr>\n",
       "    <tr>\n",
       "      <th>3</th>\n",
       "      <td>Joey</td>\n",
       "      <td>Yeah.</td>\n",
       "      <td>1012</td>\n",
       "    </tr>\n",
       "    <tr>\n",
       "      <th>4</th>\n",
       "      <td>Phoebe</td>\n",
       "      <td>Yeah. Well, uhm... listen he was supposed to g...</td>\n",
       "      <td>1012</td>\n",
       "    </tr>\n",
       "  </tbody>\n",
       "</table>\n",
       "</div>"
      ],
      "text/plain": [
       "  speaker                                          utterance episode\n",
       "0  Phoebe                                      Oh, hey Joey.    1012\n",
       "1    Joey                                           Uh, hey.    1012\n",
       "2  Phoebe  Listen, I need to ask you something. Ok, you k...    1012\n",
       "3    Joey                                              Yeah.    1012\n",
       "4  Phoebe  Yeah. Well, uhm... listen he was supposed to g...    1012"
      ]
     },
     "execution_count": 5,
     "metadata": {},
     "output_type": "execute_result"
    }
   ],
   "source": [
    "print(all_dialog_data.count())\n",
    "all_dialog_data.head()"
   ]
  },
  {
   "cell_type": "markdown",
   "metadata": {},
   "source": [
    "## Data Pre-processing and Minor Analysis"
   ]
  },
  {
   "cell_type": "code",
   "execution_count": 6,
   "metadata": {},
   "outputs": [
    {
     "data": {
      "image/png": "[encoded data removed]",
      "text/plain": [
       "<Figure size 1080x360 with 1 Axes>"
      ]
     },
     "metadata": {
      "needs_background": "light"
     },
     "output_type": "display_data"
    }
   ],
   "source": [
    "speaker_value_counts = all_dialog_data.speaker.value_counts()\n",
    "major_speaker_value_counts = speaker_value_counts[speaker_value_counts > 40]\n",
    "x, y = major_speaker_value_counts.index, major_speaker_value_counts.values\n",
    "\n",
    "fig = plt.figure(figsize=(15, 5))\n",
    "sub = fig.add_subplot(111)\n",
    "sub.bar(x, y)\n",
    "for tick in sub.get_xticklabels():\n",
    "    tick.set_rotation(90)\n",
    "plt.title(\"Number of Utterances per Character\")\n",
    "plt.show()"
   ]
  },
  {
   "cell_type": "code",
   "execution_count": 7,
   "metadata": {},
   "outputs": [],
   "source": [
    "num_major_characters = 6\n",
    "major_characters = x[:num_major_characters]\n",
    "major_characters_set = set(major_characters)"
   ]
  },
  {
   "cell_type": "code",
   "execution_count": 8,
   "metadata": {},
   "outputs": [
    {
     "data": {
      "text/plain": [
       "{'Rachel': 0, 'Ross': 1, 'Chandler': 2, 'Monica': 3, 'Joey': 4, 'Phoebe': 5}"
      ]
     },
     "execution_count": 8,
     "metadata": {},
     "output_type": "execute_result"
    }
   ],
   "source": [
    "labels_to_ids = {}\n",
    "ids_to_labels = {}\n",
    "for i, major_character in enumerate(major_characters):\n",
    "    labels_to_ids[major_character] = i\n",
    "    ids_to_labels[i] = major_character\n",
    "labels_to_ids"
   ]
  },
  {
   "cell_type": "code",
   "execution_count": 9,
   "metadata": {},
   "outputs": [
    {
     "name": "stdout",
     "output_type": "stream",
     "text": [
      "speaker      46079\n",
      "utterance    46079\n",
      "episode      46079\n",
      "dtype: int64\n"
     ]
    }
   ],
   "source": [
    "major_dialog_data = all_dialog_data[all_dialog_data.speaker.isin(major_characters_set)]\n",
    "print(major_dialog_data.count())"
   ]
  },
  {
   "cell_type": "code",
   "execution_count": 10,
   "metadata": {},
   "outputs": [],
   "source": [
    "tokenizer = nltk.tokenize.TreebankWordTokenizer()\n",
    "\n",
    "labels = major_dialog_data.speaker\n",
    "\n",
    "#utterances = list(map(lambda utter: tokenizer.tokenize(utter.lower()), major_dialog_data.utterance))\n",
    "utterances = [tokenizer.tokenize(utter.lower()) for utter in major_dialog_data.utterance]\n",
    "embeddings = KeyedVectors.load_word2vec_format(root_path.joinpath(\"embeddings\", \"newscrawl.300d.W.pos.vectors\"), binary=False)"
   ]
  },
  {
   "cell_type": "code",
   "execution_count": 11,
   "metadata": {},
   "outputs": [
    {
     "data": {
      "text/plain": [
       "Text(0.5, 1.0, 'Histogram of Utterance lengths')"
      ]
     },
     "execution_count": 11,
     "metadata": {},
     "output_type": "execute_result"
    },
    {
     "data": {
      "image/png": "[encoded data removed]",
      "text/plain": [
       "<Figure size 432x288 with 1 Axes>"
      ]
     },
     "metadata": {
      "needs_background": "light"
     },
     "output_type": "display_data"
    }
   ],
   "source": [
    "plt.hist([len(words) for words in utterances], bins=60)\n",
    "plt.title(\"Histogram of Utterance lengths\")"
   ]
  },
  {
   "cell_type": "markdown",
   "metadata": {},
   "source": [
    "## Baseline Model - Always predict the most common class"
   ]
  },
  {
   "cell_type": "code",
   "execution_count": 12,
   "metadata": {},
   "outputs": [
    {
     "data": {
      "text/plain": [
       "0.1832939082879403"
      ]
     },
     "execution_count": 12,
     "metadata": {},
     "output_type": "execute_result"
    }
   ],
   "source": [
    "np.mean(labels == major_characters[0])"
   ]
  },
  {
   "cell_type": "code",
   "execution_count": 13,
   "metadata": {},
   "outputs": [],
   "source": [
    "def shuffle(x, y):\n",
    "    m = x.shape[0]\n",
    "    rand_perm = np.random.permutation(m)\n",
    "    x = x[rand_perm]\n",
    "    y = y[rand_perm]\n",
    "    return x, y\n",
    "\n",
    "def batch_iter(x, y, batch_size):\n",
    "    num_batches = int(np.ceil(x.shape[0] / batch_size))\n",
    "    for i in range(num_batches):\n",
    "        start = i * batch_size\n",
    "        end = start + batch_size\n",
    "        yield i, x[start:end], y[start:end]"
   ]
  },
  {
   "cell_type": "markdown",
   "metadata": {},
   "source": [
    "## Baseline Model - Logistic Regression over CBOW\n",
    "\n",
    "Pretty much the simplest model we could use. This will serve as a good baseline. It just uses pre-trained Word2Vec and its vocabulary."
   ]
  },
  {
   "cell_type": "code",
   "execution_count": 14,
   "metadata": {},
   "outputs": [
    {
     "name": "stdout",
     "output_type": "stream",
     "text": [
      "(39168, 300) (4216, 300)\n"
     ]
    }
   ],
   "source": [
    "non_empty_utterances = []\n",
    "non_empty_utterance_labels = []\n",
    "\n",
    "for i, utterance in enumerate(utterances):\n",
    "    words = [word for word in utterance if word in embeddings.vocab and word not in stop_words]\n",
    "    if len(words) > 0:\n",
    "        non_empty_utterances.append(words)\n",
    "        non_empty_utterance_labels.append(labels.iloc[i])\n",
    "\n",
    "bags = np.zeros((len(non_empty_utterances), embeddings.vector_size))\n",
    "\n",
    "for i, utterance in enumerate(non_empty_utterances):\n",
    "    words = [word for word in utterance if word in embeddings.vocab]\n",
    "    vectors = np.zeros((len(words), embeddings.vector_size))\n",
    "    for j, word in enumerate(words):\n",
    "        vectors[j, :] = embeddings.word_vec(word)\n",
    "    bag = np.mean(vectors, axis=0)\n",
    "    bags[i, :] = bag\n",
    "\n",
    "train_cut = math.ceil(major_dialog_data.utterance.count() * 0.85)\n",
    "train_x = bags[0:train_cut]\n",
    "train_y = non_empty_utterance_labels[0:train_cut]\n",
    "test_x = bags[train_cut:]\n",
    "test_y = non_empty_utterance_labels[train_cut:]\n",
    "\n",
    "print(train_x.shape, test_x.shape)"
   ]
  },
  {
   "cell_type": "code",
   "execution_count": 15,
   "metadata": {},
   "outputs": [
    {
     "name": "stderr",
     "output_type": "stream",
     "text": [
      "/Users/andy/miniconda3/envs/noble/lib/python3.6/site-packages/sklearn/linear_model/logistic.py:432: FutureWarning: Default solver will be changed to 'lbfgs' in 0.22. Specify a solver to silence this warning.\n",
      "  FutureWarning)\n"
     ]
    },
    {
     "name": "stdout",
     "output_type": "stream",
     "text": [
      "0.2796415441176471\n",
      "0.2333965844402277\n"
     ]
    }
   ],
   "source": [
    "model = LogisticRegression(multi_class=\"ovr\")\n",
    "model.fit(train_x, train_y)\n",
    "print(model.score(train_x, train_y))\n",
    "print(model.score(test_x, test_y))"
   ]
  },
  {
   "cell_type": "markdown",
   "metadata": {},
   "source": [
    "## Model - Facebook Fasttext\n",
    "[https://arxiv.org/abs/1607.01759](https://arxiv.org/abs/1607.01759)"
   ]
  },
  {
   "cell_type": "code",
   "execution_count": 16,
   "metadata": {},
   "outputs": [],
   "source": [
    "counter = Counter()\n",
    "stemmer = PorterStemmer()\n",
    "\n",
    "custom_tokenized = []\n",
    "for utterance in major_dialog_data.utterance:\n",
    "    words = re.findall(r\"[a-z0-9']+\", utterance.lower())\n",
    "    # remove dangling apostrophes and 's at the end of words\n",
    "    words = [re.sub(r\"'s?$\", \"\", stemmer.stem(word)) for word in words]\n",
    "    custom_tokenized.append(words)\n",
    "    \n",
    "for utterance in custom_tokenized:\n",
    "    counter.update(word for word in utterance if word not in string.punctuation)\n",
    "    \n",
    "vocab = [k for k, v in counter.most_common() if v > 2]\n",
    "\n",
    "vocab_word_to_id = defaultdict(lambda: -1)\n",
    "vocab_id_to_word = {}\n",
    "for i, word in enumerate(vocab):\n",
    "    vocab_id_to_word[i] = word\n",
    "    vocab_word_to_id[word] = i"
   ]
  },
  {
   "cell_type": "code",
   "execution_count": 17,
   "metadata": {},
   "outputs": [],
   "source": [
    "label_ids = np.array([labels_to_ids[label] for label in labels])\n",
    "train_x_fasttext = custom_tokenized[:train_cut]\n",
    "train_y_fasttext = label_ids[:train_cut]\n",
    "test_x_fasttext = custom_tokenized[train_cut:]\n",
    "test_y_fasttext = label_ids[train_cut:]\n",
    "\n",
    "train_x_fasttext = np.array([\" \".join(words) for words in train_x_fasttext])\n",
    "test_x_fasttext = np.array([\" \".join(words) for words in test_x_fasttext])"
   ]
  },
  {
   "cell_type": "code",
   "execution_count": 42,
   "metadata": {},
   "outputs": [],
   "source": [
    "tf.reset_default_graph()\n",
    "fasttext_model = fasttext.FastText(vocab, num_major_characters, regularize_coef=0.1)"
   ]
  },
  {
   "cell_type": "code",
   "execution_count": 43,
   "metadata": {},
   "outputs": [
    {
     "name": "stdout",
     "output_type": "stream",
     "text": [
      "2018-11-07 09:54:54.936106 epoch number: 1\n",
      "test accuracy = 0.1962\n",
      "2018-11-07 09:54:56.435248 epoch number: 2\n",
      "test accuracy = 0.1839\n",
      "2018-11-07 09:54:57.651634 epoch number: 3\n",
      "test accuracy = 0.1820\n",
      "2018-11-07 09:54:58.958759 epoch number: 4\n",
      "test accuracy = 0.1817\n",
      "2018-11-07 09:55:00.196494 epoch number: 5\n",
      "test accuracy = 0.1819\n",
      "2018-11-07 09:55:01.424704 epoch number: 6\n",
      "test accuracy = 0.1820\n",
      "2018-11-07 09:55:02.609493 epoch number: 7\n",
      "test accuracy = 0.1823\n",
      "2018-11-07 09:55:03.940126 epoch number: 8\n",
      "test accuracy = 0.1952\n",
      "2018-11-07 09:55:05.405701 epoch number: 9\n",
      "test accuracy = 0.1919\n",
      "2018-11-07 09:55:06.710256 epoch number: 10\n",
      "test accuracy = 0.2072\n",
      "2018-11-07 09:55:08.005280 epoch number: 11\n",
      "test accuracy = 0.2021\n",
      "2018-11-07 09:55:09.302799 epoch number: 12\n",
      "test accuracy = 0.2191\n",
      "2018-11-07 09:55:10.538514 epoch number: 13\n",
      "test accuracy = 0.2196\n",
      "2018-11-07 09:55:11.756162 epoch number: 14\n",
      "test accuracy = 0.2243\n",
      "2018-11-07 09:55:13.014628 epoch number: 15\n",
      "test accuracy = 0.2251\n",
      "2018-11-07 09:55:14.381723 epoch number: 16\n",
      "test accuracy = 0.2227\n",
      "2018-11-07 09:55:15.592477 epoch number: 17\n",
      "test accuracy = 0.2265\n",
      "2018-11-07 09:55:16.892256 epoch number: 18\n",
      "test accuracy = 0.2327\n",
      "2018-11-07 09:55:18.238903 epoch number: 19\n",
      "test accuracy = 0.2296\n",
      "2018-11-07 09:55:19.642915 epoch number: 20\n",
      "test accuracy = 0.2298\n",
      "2018-11-07 09:55:20.931139 epoch number: 21\n",
      "test accuracy = 0.2322\n",
      "2018-11-07 09:55:22.124959 epoch number: 22\n",
      "test accuracy = 0.2337\n",
      "2018-11-07 09:55:23.310275 epoch number: 23\n",
      "test accuracy = 0.2280\n",
      "2018-11-07 09:55:24.493219 epoch number: 24\n",
      "test accuracy = 0.2335\n",
      "2018-11-07 09:55:25.672781 epoch number: 25\n",
      "test accuracy = 0.2347\n",
      "2018-11-07 09:55:26.878107 epoch number: 26\n",
      "test accuracy = 0.2343\n",
      "2018-11-07 09:55:28.057513 epoch number: 27\n",
      "test accuracy = 0.2350\n",
      "2018-11-07 09:55:29.235311 epoch number: 28\n",
      "test accuracy = 0.2360\n",
      "2018-11-07 09:55:30.439801 epoch number: 29\n",
      "test accuracy = 0.2343\n",
      "2018-11-07 09:55:31.628951 epoch number: 30\n",
      "test accuracy = 0.2341\n",
      "2018-11-07 09:55:32.815339 epoch number: 31\n",
      "test accuracy = 0.2361\n",
      "2018-11-07 09:55:33.988354 epoch number: 32\n",
      "test accuracy = 0.2335\n",
      "2018-11-07 09:55:35.183516 epoch number: 33\n",
      "test accuracy = 0.2366\n",
      "2018-11-07 09:55:36.369510 epoch number: 34\n",
      "test accuracy = 0.2363\n",
      "2018-11-07 09:55:37.541227 epoch number: 35\n",
      "test accuracy = 0.2372\n",
      "2018-11-07 09:55:38.732447 epoch number: 36\n",
      "test accuracy = 0.2364\n",
      "2018-11-07 09:55:39.907901 epoch number: 37\n",
      "test accuracy = 0.2364\n",
      "2018-11-07 09:55:41.109438 epoch number: 38\n",
      "test accuracy = 0.2364\n",
      "2018-11-07 09:55:42.305475 epoch number: 39\n",
      "test accuracy = 0.2350\n",
      "2018-11-07 09:55:43.506238 epoch number: 40\n",
      "test accuracy = 0.2373\n"
     ]
    }
   ],
   "source": [
    "display_step = 20\n",
    "num_epochs = 40\n",
    "batch_size = 128\n",
    "\n",
    "train_writer = tf.summary.FileWriter(\"./fasttext-board/train\")\n",
    "test_writer = tf.summary.FileWriter(\"./fasttext-board/test\")\n",
    "saver = tf.train.Saver()\n",
    "\n",
    "with tf.Session() as sess:\n",
    "    sess.run(tf.global_variables_initializer())\n",
    "    sess.run(tf.tables_initializer())\n",
    "    train_writer.add_graph(sess.graph)\n",
    "    \n",
    "    global_step = 0\n",
    "    X = fasttext_model.X\n",
    "    Y = fasttext_model.Y\n",
    "\n",
    "    for epoch in range(num_epochs):\n",
    "        print(\"{} epoch number: {}\".format(datetime.now(), epoch + 1))\n",
    "        train_x_fasttext, train_y_fasttext = shuffle(train_x_fasttext, train_y_fasttext)\n",
    "        \n",
    "        for step, x_batch, y_batch in batch_iter(train_x_fasttext, train_y_fasttext, batch_size):\n",
    "            global_step += 1\n",
    "            sess.run(fasttext_model.train_op, feed_dict={ X: x_batch, Y: y_batch })\n",
    "\n",
    "            # every so often, report the progress of our loss and training accuracy\n",
    "            if step % display_step == 0:\n",
    "                summ = sess.run(fasttext_model.merged_summary, feed_dict={ X: x_batch, Y: y_batch })\n",
    "                train_writer.add_summary(summ, global_step=global_step)\n",
    "                train_writer.flush()\n",
    "\n",
    "        test_acc, summ = sess.run([fasttext_model.accuracy, fasttext_model.merged_summary], feed_dict={ X: test_x_fasttext, Y: test_y_fasttext })\n",
    "        test_writer.add_summary(summ, global_step=global_step)\n",
    "        test_writer.flush()\n",
    "        print(\"test accuracy = {:.4f}\".format(test_acc))\n",
    "    \n",
    "    # save the model to disk so we can load it up later for use by `./eval.py`\n",
    "    saver.save(sess, \"./fasttext-ckpt/model.ckpt\")"
   ]
  },
  {
   "cell_type": "markdown",
   "metadata": {},
   "source": [
    "## Model - CNN"
   ]
  },
  {
   "cell_type": "code",
   "execution_count": 96,
   "metadata": {},
   "outputs": [],
   "source": [
    "cnn_tokenized = []\n",
    "for utterance in major_dialog_data.utterance:\n",
    "    words = re.findall(r\"[a-z0-9']+\", utterance.lower())\n",
    "    # remove dangling apostrophes and 's at the end of words\n",
    "    words = [re.sub(r\"'s?$\", \"\", word) for word in words]\n",
    "    words = [re.sub(r\"'\", \"\", word) for word in words]\n",
    "    cnn_tokenized.append(words)\n",
    "\n",
    "train_x_cnn = cnn_tokenized[:train_cut]\n",
    "train_y_cnn = label_ids[:train_cut]\n",
    "test_x_cnn = cnn_tokenized[train_cut:]\n",
    "test_y_cnn = label_ids[train_cut:]\n",
    "\n",
    "train_x_cnn = np.array([\" \".join(words) for words in train_x_cnn])\n",
    "test_x_cnn = np.array([\" \".join(words) for words in test_x_cnn])"
   ]
  },
  {
   "cell_type": "code",
   "execution_count": 97,
   "metadata": {},
   "outputs": [],
   "source": [
    "tf.reset_default_graph()\n",
    "\n",
    "cnn_model = cnn.CNN(embeddings, num_major_characters)"
   ]
  },
  {
   "cell_type": "code",
   "execution_count": 98,
   "metadata": {},
   "outputs": [
    {
     "name": "stdout",
     "output_type": "stream",
     "text": [
      "2018-11-07 17:13:05.286214 epoch number: 1\n",
      "test accuracy = 0.2098\n",
      "2018-11-07 17:13:54.229724 epoch number: 2\n",
      "test accuracy = 0.2182\n",
      "2018-11-07 17:14:38.413171 epoch number: 3\n",
      "test accuracy = 0.2233\n",
      "2018-11-07 17:15:23.243731 epoch number: 4\n",
      "test accuracy = 0.2299\n",
      "2018-11-07 17:16:05.689683 epoch number: 5\n",
      "test accuracy = 0.2361\n",
      "2018-11-07 17:16:45.977273 epoch number: 6\n",
      "test accuracy = 0.2403\n",
      "2018-11-07 17:17:26.352935 epoch number: 7\n",
      "test accuracy = 0.2389\n",
      "2018-11-07 17:18:06.832641 epoch number: 8\n",
      "test accuracy = 0.2418\n",
      "2018-11-07 18:14:48.318515 epoch number: 9\n",
      "test accuracy = 0.2437\n",
      "2018-11-07 19:49:26.920552 epoch number: 10\n",
      "test accuracy = 0.2445\n",
      "2018-11-07 20:30:49.583055 epoch number: 11\n",
      "test accuracy = 0.2453\n",
      "2018-11-08 00:30:10.608902 epoch number: 12\n",
      "test accuracy = 0.2425\n",
      "2018-11-08 08:27:17.016753 epoch number: 13\n",
      "test accuracy = 0.2429\n",
      "2018-11-08 08:27:56.440570 epoch number: 14\n",
      "test accuracy = 0.2409\n",
      "2018-11-08 08:28:35.339968 epoch number: 15\n",
      "test accuracy = 0.2484\n"
     ]
    }
   ],
   "source": [
    "display_step = 20\n",
    "num_epochs = 15\n",
    "batch_size = 128\n",
    "\n",
    "train_writer = tf.summary.FileWriter(\"./cnn-board/train\")\n",
    "test_writer = tf.summary.FileWriter(\"./cnn-board/test\")\n",
    "saver = tf.train.Saver()\n",
    "\n",
    "with tf.Session() as sess:\n",
    "    sess.run(tf.global_variables_initializer())\n",
    "    sess.run(tf.tables_initializer())\n",
    "    train_writer.add_graph(sess.graph)\n",
    "    \n",
    "    global_step = 0\n",
    "    X = cnn_model.X\n",
    "    Y = cnn_model.Y\n",
    "\n",
    "    for epoch in range(num_epochs):\n",
    "        print(\"{} epoch number: {}\".format(datetime.now(), epoch + 1))\n",
    "        train_x_cnn, train_y_cnn = shuffle(train_x_cnn, train_y_cnn)\n",
    "        \n",
    "        for step, x_batch, y_batch in batch_iter(train_x_cnn, train_y_cnn, batch_size):\n",
    "            global_step += 1\n",
    "            sess.run(cnn_model.train_op, feed_dict={ X: x_batch, Y: y_batch })\n",
    "\n",
    "            # every so often, report the progress of our loss and training accuracy\n",
    "            if step % display_step == 0:\n",
    "                summ = sess.run(cnn_model.merged_summary, feed_dict={ X: x_batch, Y: y_batch })\n",
    "                train_writer.add_summary(summ, global_step=global_step)\n",
    "                train_writer.flush()\n",
    "\n",
    "        test_acc, summ = sess.run([cnn_model.accuracy, cnn_model.merged_summary], feed_dict={ X: test_x_cnn, Y: test_y_cnn })\n",
    "        test_writer.add_summary(summ, global_step=global_step)\n",
    "        test_writer.flush()\n",
    "        print(\"test accuracy = {:.4f}\".format(test_acc))\n",
    "    \n",
    "    # save the model to disk so we can load it up later for use by `./eval.py`\n",
    "    saver.save(sess, \"./cnn-ckpt/model.ckpt\")"
   ]
  },
  {
   "cell_type": "code",
   "execution_count": 48,
   "metadata": {},
   "outputs": [],
   "source": [
    "# tf.reset_default_graph()\n",
    "# sess and sess.close()\n",
    "# sess = tf.InteractiveSession()\n",
    "\n",
    "# sents = tf.constant([\"hello you are fackragareg okay\", \"what the bar\"])\n",
    "# sparse_text = tf.string_split(sents, \" \")\n",
    "\n",
    "# table = tf.contrib.lookup.index_table_from_tensor(mapping=tf.constant(list(embeddings.vocab.keys())), num_oov_buckets=1)\n",
    "# ids_sparse = table.lookup(sparse_text)\n",
    "# ids = tf.sparse_tensor_to_dense(ids_sparse, default_value=len(embeddings.vocab))\n",
    "\n",
    "# embedding = tf.Variable(np.vstack((embeddings.vectors, np.zeros(embeddings.vector_size))), trainable=False)\n",
    "# #embedded = tf.nn.embedding_lookup_sparse(embedding, ids, sp_weights=None)\n",
    "# embedded = tf.nn.embedding_lookup(embedding, ids)\n",
    "\n",
    "# sess.run(tf.global_variables_initializer())\n",
    "# sess.run(tf.tables_initializer())\n",
    "# res = embedded.eval()\n",
    "# sess.close()"
   ]
  },
  {
   "cell_type": "code",
   "execution_count": null,
   "metadata": {},
   "outputs": [],
   "source": []
  }
 ],
 "metadata": {
  "kernelspec": {
   "display_name": "Python 3",
   "language": "python",
   "name": "python3"
  },
  "language_info": {
   "codemirror_mode": {
    "name": "ipython",
    "version": 3
   },
   "file_extension": ".py",
   "mimetype": "text/x-python",
   "name": "python",
   "nbconvert_exporter": "python",
   "pygments_lexer": "ipython3",
   "version": "3.6.7"
  }
 },
 "nbformat": 4,
 "nbformat_minor": 2
}
