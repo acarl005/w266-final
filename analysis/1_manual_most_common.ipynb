{
 "cells": [
  {
   "cell_type": "markdown",
   "metadata": {},
   "source": [
    "# 1) Manually Guessing Output, Pick Most Common Class"
   ]
  },
  {
   "cell_type": "markdown",
   "metadata": {},
   "source": [
    "## Load Dataset and Variables"
   ]
  },
  {
   "cell_type": "code",
   "execution_count": 1,
   "metadata": {},
   "outputs": [],
   "source": [
    "import pandas as pd"
   ]
  },
  {
   "cell_type": "code",
   "execution_count": 2,
   "metadata": {},
   "outputs": [
    {
     "data": {
      "text/plain": [
       "{'Rachel': 0, 'Ross': 1, 'Chandler': 2, 'Monica': 3, 'Joey': 4, 'Phoebe': 5}"
      ]
     },
     "execution_count": 2,
     "metadata": {},
     "output_type": "execute_result"
    }
   ],
   "source": [
    "major_dialog_data = pd.read_pickle(\"./datasets/major_dialog_data.pkl\")\n",
    "all_dialog_data = pd.read_pickle(\"./datasets/all_dialog_data.pkl\")\n",
    "\n",
    "labels = major_dialog_data.speaker\n",
    "\n",
    "speaker_value_counts = all_dialog_data.speaker.value_counts()\n",
    "major_speaker_value_counts = speaker_value_counts[speaker_value_counts > 40]\n",
    "x, y = major_speaker_value_counts.index, major_speaker_value_counts.values\n",
    "\n",
    "num_major_characters = 6\n",
    "\n",
    "# a list of the top characters names\n",
    "major_characters = x[:num_major_characters]\n",
    "# a set of those same names\n",
    "major_characters_set = set(major_characters)\n",
    "\n",
    "# finally, dicts to and from class Ids and their respective names\n",
    "labels_to_ids = {}\n",
    "ids_to_labels = {}\n",
    "for i, major_character in enumerate(major_characters):\n",
    "    labels_to_ids[major_character] = i\n",
    "    ids_to_labels[i] = major_character\n",
    "labels_to_ids"
   ]
  },
  {
   "cell_type": "markdown",
   "metadata": {},
   "source": [
    "## Baseline Model - Always predict the most common class\n",
    "\n",
    "This is the absolute simplest thing one can do. We definitely need to beat this score."
   ]
  },
  {
   "cell_type": "code",
   "execution_count": 3,
   "metadata": {},
   "outputs": [],
   "source": [
    "import numpy as np\n",
    "\n",
    "from collections import defaultdict, Counter\n",
    "from nltk import word_tokenize\n",
    "from w266_common import utils, vocabulary"
   ]
  },
  {
   "cell_type": "code",
   "execution_count": 4,
   "metadata": {},
   "outputs": [
    {
     "data": {
      "text/plain": [
       "0.18329390828794029"
      ]
     },
     "execution_count": 4,
     "metadata": {},
     "output_type": "execute_result"
    }
   ],
   "source": [
    "np.mean(labels == major_characters[0])"
   ]
  },
  {
   "cell_type": "markdown",
   "metadata": {},
   "source": [
    "## Manually Guessing - Humans trying to predict who said what\n",
    "\n",
    "This would give us another baseline metric on how possible it is to guess a character given a line of text."
   ]
  },
  {
   "cell_type": "code",
   "execution_count": 5,
   "metadata": {},
   "outputs": [],
   "source": [
    "utterance_tokenized = [word_tokenize(sentence) for sentence in major_dialog_data.utterance]\n",
    "vocab = vocabulary.Vocabulary(utils.canonicalize_word(w) for w in utils.flatten(utterance_tokenized))"
   ]
  },
  {
   "cell_type": "code",
   "execution_count": 6,
   "metadata": {},
   "outputs": [],
   "source": [
    "human_check_df = pd.DataFrame()\n",
    "human_check_df['utterance'] = major_dialog_data.utterance\n",
    "human_check_df['utterance_tokenized'] = utterance_tokenized\n",
    "human_check_df['speaker'] = major_dialog_data.speaker"
   ]
  },
  {
   "cell_type": "markdown",
   "metadata": {},
   "source": [
    "### Sample dataset and try to manually guess"
   ]
  },
  {
   "cell_type": "code",
   "execution_count": 9,
   "metadata": {},
   "outputs": [
    {
     "data": {
      "text/html": [
       "<div>\n",
       "<style scoped>\n",
       "    .dataframe tbody tr th:only-of-type {\n",
       "        vertical-align: middle;\n",
       "    }\n",
       "\n",
       "    .dataframe tbody tr th {\n",
       "        vertical-align: top;\n",
       "    }\n",
       "\n",
       "    .dataframe thead th {\n",
       "        text-align: right;\n",
       "    }\n",
       "</style>\n",
       "<table border=\"1\" class=\"dataframe\">\n",
       "  <thead>\n",
       "    <tr style=\"text-align: right;\">\n",
       "      <th></th>\n",
       "      <th>utterance</th>\n",
       "      <th>utterance_tokenized</th>\n",
       "    </tr>\n",
       "  </thead>\n",
       "  <tbody>\n",
       "    <tr>\n",
       "      <th>18855</th>\n",
       "      <td>So, what happens to the old guys?</td>\n",
       "      <td>[So, ,, what, happens, to, the, old, guys, ?]</td>\n",
       "    </tr>\n",
       "    <tr>\n",
       "      <th>31085</th>\n",
       "      <td>All right, he likes you back! Huh? Told ya, you should go for it!</td>\n",
       "      <td>[All, right, ,, he, likes, you, back, !, Huh, ?, Told, ya, ,, you, should, go, for, it, !]</td>\n",
       "    </tr>\n",
       "    <tr>\n",
       "      <th>974</th>\n",
       "      <td>Okay, a couple months late on the lecture, Ross.</td>\n",
       "      <td>[Okay, ,, a, couple, months, late, on, the, lecture, ,, Ross, .]</td>\n",
       "    </tr>\n",
       "    <tr>\n",
       "      <th>14753</th>\n",
       "      <td>The ones that got me the Porsche! Will you keep up!  But I figured, if-if people keep seeing me just standing there, they’re gonna start to think that I don’t own it. So I figured I’ll wash it. Right? Monica, you got a bucket and some soap I can borrow?</td>\n",
       "      <td>[The, ones, that, got, me, the, Porsche, !, Will, you, keep, up, !, But, I, figured, ,, if-if, people, keep, seeing, me, just, standing, there, ,, they, ’, re, gon, na, start, to, think, that, I, don, ’, t, own, it, ., So, I, figured, I, ’, ll, wash, it, ., Right, ?, Monica, ,, you, got, a, bucket, and, some, soap, I, can, borrow, ?]</td>\n",
       "    </tr>\n",
       "    <tr>\n",
       "      <th>11</th>\n",
       "      <td>Monica had lunch with Richard.</td>\n",
       "      <td>[Monica, had, lunch, with, Richard, .]</td>\n",
       "    </tr>\n",
       "    <tr>\n",
       "      <th>47705</th>\n",
       "      <td>I'm not getting you a muffin!</td>\n",
       "      <td>[I, 'm, not, getting, you, a, muffin, !]</td>\n",
       "    </tr>\n",
       "    <tr>\n",
       "      <th>23855</th>\n",
       "      <td>They don’t really talk to us about that kind of stuff. I can get you some free white out though.</td>\n",
       "      <td>[They, don, ’, t, really, talk, to, us, about, that, kind, of, stuff, ., I, can, get, you, some, free, white, out, though, .]</td>\n",
       "    </tr>\n",
       "    <tr>\n",
       "      <th>43922</th>\n",
       "      <td>Na-uh, no, we are all responsible for our own babies.</td>\n",
       "      <td>[Na-uh, ,, no, ,, we, are, all, responsible, for, our, own, babies, .]</td>\n",
       "    </tr>\n",
       "    <tr>\n",
       "      <th>32332</th>\n",
       "      <td>Sweetie, you gotta relax. Everything’s gonna be great, okay? Come on. Come on.</td>\n",
       "      <td>[Sweetie, ,, you, got, ta, relax, ., Everything, ’, s, gon, na, be, great, ,, okay, ?, Come, on, ., Come, on, .]</td>\n",
       "    </tr>\n",
       "    <tr>\n",
       "      <th>47572</th>\n",
       "      <td>Hi!</td>\n",
       "      <td>[Hi, !]</td>\n",
       "    </tr>\n",
       "  </tbody>\n",
       "</table>\n",
       "</div>"
      ],
      "text/plain": [
       "                                                                                                                                                                                                                                                           utterance  \\\n",
       "18855                                                                                                                                                                                                                              So, what happens to the old guys?   \n",
       "31085                                                                                                                                                                                              All right, he likes you back! Huh? Told ya, you should go for it!   \n",
       "974                                                                                                                                                                                                                 Okay, a couple months late on the lecture, Ross.   \n",
       "14753  The ones that got me the Porsche! Will you keep up!  But I figured, if-if people keep seeing me just standing there, they’re gonna start to think that I don’t own it. So I figured I’ll wash it. Right? Monica, you got a bucket and some soap I can borrow?   \n",
       "11                                                                                                                                                                                                                                    Monica had lunch with Richard.   \n",
       "47705                                                                                                                                                                                                                                  I'm not getting you a muffin!   \n",
       "23855                                                                                                                                                               They don’t really talk to us about that kind of stuff. I can get you some free white out though.   \n",
       "43922                                                                                                                                                                                                          Na-uh, no, we are all responsible for our own babies.   \n",
       "32332                                                                                                                                                                                 Sweetie, you gotta relax. Everything’s gonna be great, okay? Come on. Come on.   \n",
       "47572                                                                                                                                                                                                                                                            Hi!   \n",
       "\n",
       "                                                                                                                                                                                                                                                                                                                                   utterance_tokenized  \n",
       "18855                                                                                                                                                                                                                                                                                                    [So, ,, what, happens, to, the, old, guys, ?]  \n",
       "31085                                                                                                                                                                                                                                                       [All, right, ,, he, likes, you, back, !, Huh, ?, Told, ya, ,, you, should, go, for, it, !]  \n",
       "974                                                                                                                                                                                                                                                                                   [Okay, ,, a, couple, months, late, on, the, lecture, ,, Ross, .]  \n",
       "14753  [The, ones, that, got, me, the, Porsche, !, Will, you, keep, up, !, But, I, figured, ,, if-if, people, keep, seeing, me, just, standing, there, ,, they, ’, re, gon, na, start, to, think, that, I, don, ’, t, own, it, ., So, I, figured, I, ’, ll, wash, it, ., Right, ?, Monica, ,, you, got, a, bucket, and, some, soap, I, can, borrow, ?]  \n",
       "11                                                                                                                                                                                                                                                                                                              [Monica, had, lunch, with, Richard, .]  \n",
       "47705                                                                                                                                                                                                                                                                                                         [I, 'm, not, getting, you, a, muffin, !]  \n",
       "23855                                                                                                                                                                                                                    [They, don, ’, t, really, talk, to, us, about, that, kind, of, stuff, ., I, can, get, you, some, free, white, out, though, .]  \n",
       "43922                                                                                                                                                                                                                                                                           [Na-uh, ,, no, ,, we, are, all, responsible, for, our, own, babies, .]  \n",
       "32332                                                                                                                                                                                                                                 [Sweetie, ,, you, got, ta, relax, ., Everything, ’, s, gon, na, be, great, ,, okay, ?, Come, on, ., Come, on, .]  \n",
       "47572                                                                                                                                                                                                                                                                                                                                          [Hi, !]  "
      ]
     },
     "execution_count": 9,
     "metadata": {},
     "output_type": "execute_result"
    }
   ],
   "source": [
    "sample_n = 10\n",
    "\n",
    "pd.options.display.max_colwidth = 1000\n",
    "\n",
    "human_check_df_sample = human_check_df.sample(sample_n)\n",
    "\n",
    "human_check_df_sample[['utterance', 'utterance_tokenized']]\n",
    "\n",
    "# If need to save to csv\n",
    "# human_check_df_sample[['utterance', 'utterance_tokenized']].to_csv('./manual-guess/questions.csv')"
   ]
  },
  {
   "cell_type": "markdown",
   "metadata": {},
   "source": [
    "### Answers for the sample dataset"
   ]
  },
  {
   "cell_type": "code",
   "execution_count": 10,
   "metadata": {},
   "outputs": [
    {
     "data": {
      "text/html": [
       "<div>\n",
       "<style scoped>\n",
       "    .dataframe tbody tr th:only-of-type {\n",
       "        vertical-align: middle;\n",
       "    }\n",
       "\n",
       "    .dataframe tbody tr th {\n",
       "        vertical-align: top;\n",
       "    }\n",
       "\n",
       "    .dataframe thead th {\n",
       "        text-align: right;\n",
       "    }\n",
       "</style>\n",
       "<table border=\"1\" class=\"dataframe\">\n",
       "  <thead>\n",
       "    <tr style=\"text-align: right;\">\n",
       "      <th></th>\n",
       "      <th>utterance</th>\n",
       "      <th>utterance_tokenized</th>\n",
       "      <th>speaker</th>\n",
       "    </tr>\n",
       "  </thead>\n",
       "  <tbody>\n",
       "    <tr>\n",
       "      <th>18855</th>\n",
       "      <td>So, what happens to the old guys?</td>\n",
       "      <td>[So, ,, what, happens, to, the, old, guys, ?]</td>\n",
       "      <td>Phoebe</td>\n",
       "    </tr>\n",
       "    <tr>\n",
       "      <th>31085</th>\n",
       "      <td>All right, he likes you back! Huh? Told ya, you should go for it!</td>\n",
       "      <td>[All, right, ,, he, likes, you, back, !, Huh, ?, Told, ya, ,, you, should, go, for, it, !]</td>\n",
       "      <td>Joey</td>\n",
       "    </tr>\n",
       "    <tr>\n",
       "      <th>974</th>\n",
       "      <td>Okay, a couple months late on the lecture, Ross.</td>\n",
       "      <td>[Okay, ,, a, couple, months, late, on, the, lecture, ,, Ross, .]</td>\n",
       "      <td>Rachel</td>\n",
       "    </tr>\n",
       "    <tr>\n",
       "      <th>14753</th>\n",
       "      <td>The ones that got me the Porsche! Will you keep up!  But I figured, if-if people keep seeing me just standing there, they’re gonna start to think that I don’t own it. So I figured I’ll wash it. Right? Monica, you got a bucket and some soap I can borrow?</td>\n",
       "      <td>[The, ones, that, got, me, the, Porsche, !, Will, you, keep, up, !, But, I, figured, ,, if-if, people, keep, seeing, me, just, standing, there, ,, they, ’, re, gon, na, start, to, think, that, I, don, ’, t, own, it, ., So, I, figured, I, ’, ll, wash, it, ., Right, ?, Monica, ,, you, got, a, bucket, and, some, soap, I, can, borrow, ?]</td>\n",
       "      <td>Joey</td>\n",
       "    </tr>\n",
       "    <tr>\n",
       "      <th>11</th>\n",
       "      <td>Monica had lunch with Richard.</td>\n",
       "      <td>[Monica, had, lunch, with, Richard, .]</td>\n",
       "      <td>Phoebe</td>\n",
       "    </tr>\n",
       "    <tr>\n",
       "      <th>47705</th>\n",
       "      <td>I'm not getting you a muffin!</td>\n",
       "      <td>[I, 'm, not, getting, you, a, muffin, !]</td>\n",
       "      <td>Ross</td>\n",
       "    </tr>\n",
       "    <tr>\n",
       "      <th>23855</th>\n",
       "      <td>They don’t really talk to us about that kind of stuff. I can get you some free white out though.</td>\n",
       "      <td>[They, don, ’, t, really, talk, to, us, about, that, kind, of, stuff, ., I, can, get, you, some, free, white, out, though, .]</td>\n",
       "      <td>Chandler</td>\n",
       "    </tr>\n",
       "    <tr>\n",
       "      <th>43922</th>\n",
       "      <td>Na-uh, no, we are all responsible for our own babies.</td>\n",
       "      <td>[Na-uh, ,, no, ,, we, are, all, responsible, for, our, own, babies, .]</td>\n",
       "      <td>Phoebe</td>\n",
       "    </tr>\n",
       "    <tr>\n",
       "      <th>32332</th>\n",
       "      <td>Sweetie, you gotta relax. Everything’s gonna be great, okay? Come on. Come on.</td>\n",
       "      <td>[Sweetie, ,, you, got, ta, relax, ., Everything, ’, s, gon, na, be, great, ,, okay, ?, Come, on, ., Come, on, .]</td>\n",
       "      <td>Ross</td>\n",
       "    </tr>\n",
       "    <tr>\n",
       "      <th>47572</th>\n",
       "      <td>Hi!</td>\n",
       "      <td>[Hi, !]</td>\n",
       "      <td>Rachel</td>\n",
       "    </tr>\n",
       "  </tbody>\n",
       "</table>\n",
       "</div>"
      ],
      "text/plain": [
       "                                                                                                                                                                                                                                                           utterance  \\\n",
       "18855                                                                                                                                                                                                                              So, what happens to the old guys?   \n",
       "31085                                                                                                                                                                                              All right, he likes you back! Huh? Told ya, you should go for it!   \n",
       "974                                                                                                                                                                                                                 Okay, a couple months late on the lecture, Ross.   \n",
       "14753  The ones that got me the Porsche! Will you keep up!  But I figured, if-if people keep seeing me just standing there, they’re gonna start to think that I don’t own it. So I figured I’ll wash it. Right? Monica, you got a bucket and some soap I can borrow?   \n",
       "11                                                                                                                                                                                                                                    Monica had lunch with Richard.   \n",
       "47705                                                                                                                                                                                                                                  I'm not getting you a muffin!   \n",
       "23855                                                                                                                                                               They don’t really talk to us about that kind of stuff. I can get you some free white out though.   \n",
       "43922                                                                                                                                                                                                          Na-uh, no, we are all responsible for our own babies.   \n",
       "32332                                                                                                                                                                                 Sweetie, you gotta relax. Everything’s gonna be great, okay? Come on. Come on.   \n",
       "47572                                                                                                                                                                                                                                                            Hi!   \n",
       "\n",
       "                                                                                                                                                                                                                                                                                                                                   utterance_tokenized  \\\n",
       "18855                                                                                                                                                                                                                                                                                                    [So, ,, what, happens, to, the, old, guys, ?]   \n",
       "31085                                                                                                                                                                                                                                                       [All, right, ,, he, likes, you, back, !, Huh, ?, Told, ya, ,, you, should, go, for, it, !]   \n",
       "974                                                                                                                                                                                                                                                                                   [Okay, ,, a, couple, months, late, on, the, lecture, ,, Ross, .]   \n",
       "14753  [The, ones, that, got, me, the, Porsche, !, Will, you, keep, up, !, But, I, figured, ,, if-if, people, keep, seeing, me, just, standing, there, ,, they, ’, re, gon, na, start, to, think, that, I, don, ’, t, own, it, ., So, I, figured, I, ’, ll, wash, it, ., Right, ?, Monica, ,, you, got, a, bucket, and, some, soap, I, can, borrow, ?]   \n",
       "11                                                                                                                                                                                                                                                                                                              [Monica, had, lunch, with, Richard, .]   \n",
       "47705                                                                                                                                                                                                                                                                                                         [I, 'm, not, getting, you, a, muffin, !]   \n",
       "23855                                                                                                                                                                                                                    [They, don, ’, t, really, talk, to, us, about, that, kind, of, stuff, ., I, can, get, you, some, free, white, out, though, .]   \n",
       "43922                                                                                                                                                                                                                                                                           [Na-uh, ,, no, ,, we, are, all, responsible, for, our, own, babies, .]   \n",
       "32332                                                                                                                                                                                                                                 [Sweetie, ,, you, got, ta, relax, ., Everything, ’, s, gon, na, be, great, ,, okay, ?, Come, on, ., Come, on, .]   \n",
       "47572                                                                                                                                                                                                                                                                                                                                          [Hi, !]   \n",
       "\n",
       "        speaker  \n",
       "18855    Phoebe  \n",
       "31085      Joey  \n",
       "974      Rachel  \n",
       "14753      Joey  \n",
       "11       Phoebe  \n",
       "47705      Ross  \n",
       "23855  Chandler  \n",
       "43922    Phoebe  \n",
       "32332      Ross  \n",
       "47572    Rachel  "
      ]
     },
     "execution_count": 10,
     "metadata": {},
     "output_type": "execute_result"
    }
   ],
   "source": [
    "human_check_df_sample[['utterance', 'utterance_tokenized', 'speaker']]\n",
    "\n",
    "# If need to save to csv\n",
    "# human_check_df_sample[['utterance', 'utterance_tokenized', 'speaker']].to_csv('./manual-guess/answers.csv')"
   ]
  },
  {
   "cell_type": "markdown",
   "metadata": {},
   "source": [
    "Manually guessed 100 entries, correctly answered 24 of the answers (24% accuracy)\n",
    "\n",
    "* Was hard to guess one word lines\n",
    "* Easiest to guess were lines that was memorable from the tv show (domain knowledge)"
   ]
  },
  {
   "cell_type": "code",
   "execution_count": null,
   "metadata": {},
   "outputs": [],
   "source": []
  }
 ],
 "metadata": {
  "kernelspec": {
   "display_name": "Python 3",
   "language": "python",
   "name": "python3"
  },
  "language_info": {
   "codemirror_mode": {
    "name": "ipython",
    "version": 3
   },
   "file_extension": ".py",
   "mimetype": "text/x-python",
   "name": "python",
   "nbconvert_exporter": "python",
   "pygments_lexer": "ipython3",
   "version": "3.6.5"
  }
 },
 "nbformat": 4,
 "nbformat_minor": 2
}
